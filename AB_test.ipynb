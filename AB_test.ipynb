{
 "cells": [
  {
   "cell_type": "markdown",
   "metadata": {},
   "source": [
    "# Приоритизация гипотез и анализ A/B-теста"
   ]
  },
  {
   "cell_type": "markdown",
   "metadata": {},
   "source": [
    "В данном проекте будут рассмотрены:\n",
    "1. Приоритизация гипотез методами ICE и RICE, описаны различия результатов.\n",
    "2. Анализ A/B-теста. В его ходе будут проведены:\n",
    "   - анализ кумулятивной выручки;\n",
    "   - анализ кумулятивного среднего чека;\n",
    "   - анализ относительного изменения кумулятивного среднего чека;\n",
    "   - анализ кумулятивной конверсии;\n",
    "   - анализ относительного изменения кумулятивной конверсии;\n",
    "   - анализ количества заказов по пользователям;\n",
    "   - анализ стоимости заказов;\n",
    "   - анализ статистической значимости разницы конверсии по \"сырым\" и \"очищенным\" данным;\n",
    "   - анализ статистической значимости разницы среднего чека по \"сырым\" и \"очищенным\" данным;\n",
    "   - сформулированы выводы;\n",
    "   - принято решение об остановке или продолжении теста."
   ]
  },
  {
   "cell_type": "markdown",
   "metadata": {},
   "source": [
    "Импорт библиотек:"
   ]
  },
  {
   "cell_type": "code",
   "execution_count": 1,
   "metadata": {},
   "outputs": [],
   "source": [
    "import pandas as pd\n",
    "import numpy as np\n",
    "import matplotlib.pyplot as plt\n",
    "import numpy as np\n",
    "import scipy.stats as stats"
   ]
  },
  {
   "cell_type": "markdown",
   "metadata": {},
   "source": [
    "## Приоритизация гипотез"
   ]
  },
  {
   "cell_type": "markdown",
   "metadata": {},
   "source": [
    "В данной части проекта будут рассмотрены имеющиеся гипотезы для выявления наиболее приоритетной из них для тестирования. Гипотезы будут оценены двумя способами: ICE и RICE."
   ]
  },
  {
   "cell_type": "markdown",
   "metadata": {},
   "source": [
    "### Предобработка данных"
   ]
  },
  {
   "cell_type": "markdown",
   "metadata": {},
   "source": [
    "Откроем файл с гипотезами и их параметрами:"
   ]
  },
  {
   "cell_type": "code",
   "execution_count": 2,
   "metadata": {
    "scrolled": true
   },
   "outputs": [
    {
     "data": {
      "text/html": [
       "<div>\n",
       "<style scoped>\n",
       "    .dataframe tbody tr th:only-of-type {\n",
       "        vertical-align: middle;\n",
       "    }\n",
       "\n",
       "    .dataframe tbody tr th {\n",
       "        vertical-align: top;\n",
       "    }\n",
       "\n",
       "    .dataframe thead th {\n",
       "        text-align: right;\n",
       "    }\n",
       "</style>\n",
       "<table border=\"1\" class=\"dataframe\">\n",
       "  <thead>\n",
       "    <tr style=\"text-align: right;\">\n",
       "      <th></th>\n",
       "      <th>Hypothesis</th>\n",
       "      <th>Reach</th>\n",
       "      <th>Impact</th>\n",
       "      <th>Confidence</th>\n",
       "      <th>Efforts</th>\n",
       "    </tr>\n",
       "  </thead>\n",
       "  <tbody>\n",
       "    <tr>\n",
       "      <th>0</th>\n",
       "      <td>Добавить два новых канала привлечения трафика, что позволит привлекать на 30% больше пользователей</td>\n",
       "      <td>3</td>\n",
       "      <td>10</td>\n",
       "      <td>8</td>\n",
       "      <td>6</td>\n",
       "    </tr>\n",
       "    <tr>\n",
       "      <th>1</th>\n",
       "      <td>Запустить собственную службу доставки, что сократит срок доставки заказов</td>\n",
       "      <td>2</td>\n",
       "      <td>5</td>\n",
       "      <td>4</td>\n",
       "      <td>10</td>\n",
       "    </tr>\n",
       "    <tr>\n",
       "      <th>2</th>\n",
       "      <td>Добавить блоки рекомендаций товаров на сайт интернет магазина, чтобы повысить конверсию и средний чек заказа</td>\n",
       "      <td>8</td>\n",
       "      <td>3</td>\n",
       "      <td>7</td>\n",
       "      <td>3</td>\n",
       "    </tr>\n",
       "    <tr>\n",
       "      <th>3</th>\n",
       "      <td>Изменить структура категорий, что увеличит конверсию, т.к. пользователи быстрее найдут нужный товар</td>\n",
       "      <td>8</td>\n",
       "      <td>3</td>\n",
       "      <td>3</td>\n",
       "      <td>8</td>\n",
       "    </tr>\n",
       "    <tr>\n",
       "      <th>4</th>\n",
       "      <td>Изменить цвет фона главной страницы, чтобы увеличить вовлеченность пользователей</td>\n",
       "      <td>3</td>\n",
       "      <td>1</td>\n",
       "      <td>1</td>\n",
       "      <td>1</td>\n",
       "    </tr>\n",
       "    <tr>\n",
       "      <th>5</th>\n",
       "      <td>Добавить страницу отзывов клиентов о магазине, что позволит увеличить количество заказов</td>\n",
       "      <td>3</td>\n",
       "      <td>2</td>\n",
       "      <td>2</td>\n",
       "      <td>3</td>\n",
       "    </tr>\n",
       "    <tr>\n",
       "      <th>6</th>\n",
       "      <td>Показать на главной странице баннеры с актуальными акциями и распродажами, чтобы увеличить конверсию</td>\n",
       "      <td>5</td>\n",
       "      <td>3</td>\n",
       "      <td>8</td>\n",
       "      <td>3</td>\n",
       "    </tr>\n",
       "    <tr>\n",
       "      <th>7</th>\n",
       "      <td>Добавить форму подписки на все основные страницы, чтобы собрать базу клиентов для email-рассылок</td>\n",
       "      <td>10</td>\n",
       "      <td>7</td>\n",
       "      <td>8</td>\n",
       "      <td>5</td>\n",
       "    </tr>\n",
       "    <tr>\n",
       "      <th>8</th>\n",
       "      <td>Запустить акцию, дающую скидку на товар в день рождения</td>\n",
       "      <td>1</td>\n",
       "      <td>9</td>\n",
       "      <td>9</td>\n",
       "      <td>5</td>\n",
       "    </tr>\n",
       "  </tbody>\n",
       "</table>\n",
       "</div>"
      ],
      "text/plain": [
       "                                                                                                     Hypothesis  \\\n",
       "0            Добавить два новых канала привлечения трафика, что позволит привлекать на 30% больше пользователей   \n",
       "1                                     Запустить собственную службу доставки, что сократит срок доставки заказов   \n",
       "2  Добавить блоки рекомендаций товаров на сайт интернет магазина, чтобы повысить конверсию и средний чек заказа   \n",
       "3           Изменить структура категорий, что увеличит конверсию, т.к. пользователи быстрее найдут нужный товар   \n",
       "4                              Изменить цвет фона главной страницы, чтобы увеличить вовлеченность пользователей   \n",
       "5                      Добавить страницу отзывов клиентов о магазине, что позволит увеличить количество заказов   \n",
       "6          Показать на главной странице баннеры с актуальными акциями и распродажами, чтобы увеличить конверсию   \n",
       "7              Добавить форму подписки на все основные страницы, чтобы собрать базу клиентов для email-рассылок   \n",
       "8                                                       Запустить акцию, дающую скидку на товар в день рождения   \n",
       "\n",
       "   Reach  Impact  Confidence  Efforts  \n",
       "0      3      10           8        6  \n",
       "1      2       5           4       10  \n",
       "2      8       3           7        3  \n",
       "3      8       3           3        8  \n",
       "4      3       1           1        1  \n",
       "5      3       2           2        3  \n",
       "6      5       3           8        3  \n",
       "7     10       7           8        5  \n",
       "8      1       9           9        5  "
      ]
     },
     "execution_count": 2,
     "metadata": {},
     "output_type": "execute_result"
    }
   ],
   "source": [
    "pd.set_option('display.max_colwidth', None)\n",
    "hypothesis"
   ]
  },
  {
   "cell_type": "markdown",
   "metadata": {},
   "source": [
    "Приведём названия столбцов к snake_case:"
   ]
  },
  {
   "cell_type": "code",
   "execution_count": 3,
   "metadata": {},
   "outputs": [],
   "source": [
    "hypothesis.columns = hypothesis.columns.str.lower()"
   ]
  },
  {
   "cell_type": "markdown",
   "metadata": {},
   "source": [
    "### Приоритизация фреймворком ICE"
   ]
  },
  {
   "cell_type": "markdown",
   "metadata": {},
   "source": [
    "Оценим приоритет гипотез путём применения фреймворка ICE. Для расчёта использем формулу:"
   ]
  },
  {
   "cell_type": "markdown",
   "metadata": {},
   "source": [
    "$$ICE = \\frac{Impact * Confidence}{Efforts},$$"
   ]
  },
  {
   "cell_type": "markdown",
   "metadata": {},
   "source": [
    "где:\n",
    "- *Impact* - насколько сильно изменение повлияет на пользователей, их опыт и удовлетворение от продукта;\n",
    "- *Confidence* — насколько мы уверены, что это изменение повлияет на пользователей именно так;\n",
    "- *Efforts* — сколько стоит протестировать эту гипотезу."
   ]
  },
  {
   "cell_type": "code",
   "execution_count": 4,
   "metadata": {},
   "outputs": [],
   "source": [
    "hypothesis['ice'] = round((hypothesis['impact'] * hypothesis['confidence']) / hypothesis['efforts'], 3)"
   ]
  },
  {
   "cell_type": "code",
   "execution_count": 5,
   "metadata": {
    "scrolled": true
   },
   "outputs": [
    {
     "data": {
      "text/html": [
       "<div>\n",
       "<style scoped>\n",
       "    .dataframe tbody tr th:only-of-type {\n",
       "        vertical-align: middle;\n",
       "    }\n",
       "\n",
       "    .dataframe tbody tr th {\n",
       "        vertical-align: top;\n",
       "    }\n",
       "\n",
       "    .dataframe thead th {\n",
       "        text-align: right;\n",
       "    }\n",
       "</style>\n",
       "<table border=\"1\" class=\"dataframe\">\n",
       "  <thead>\n",
       "    <tr style=\"text-align: right;\">\n",
       "      <th></th>\n",
       "      <th>hypothesis</th>\n",
       "      <th>ice</th>\n",
       "    </tr>\n",
       "  </thead>\n",
       "  <tbody>\n",
       "    <tr>\n",
       "      <th>8</th>\n",
       "      <td>Запустить акцию, дающую скидку на товар в день рождения</td>\n",
       "      <td>16.200</td>\n",
       "    </tr>\n",
       "    <tr>\n",
       "      <th>0</th>\n",
       "      <td>Добавить два новых канала привлечения трафика, что позволит привлекать на 30% больше пользователей</td>\n",
       "      <td>13.333</td>\n",
       "    </tr>\n",
       "    <tr>\n",
       "      <th>7</th>\n",
       "      <td>Добавить форму подписки на все основные страницы, чтобы собрать базу клиентов для email-рассылок</td>\n",
       "      <td>11.200</td>\n",
       "    </tr>\n",
       "    <tr>\n",
       "      <th>6</th>\n",
       "      <td>Показать на главной странице баннеры с актуальными акциями и распродажами, чтобы увеличить конверсию</td>\n",
       "      <td>8.000</td>\n",
       "    </tr>\n",
       "    <tr>\n",
       "      <th>2</th>\n",
       "      <td>Добавить блоки рекомендаций товаров на сайт интернет магазина, чтобы повысить конверсию и средний чек заказа</td>\n",
       "      <td>7.000</td>\n",
       "    </tr>\n",
       "    <tr>\n",
       "      <th>1</th>\n",
       "      <td>Запустить собственную службу доставки, что сократит срок доставки заказов</td>\n",
       "      <td>2.000</td>\n",
       "    </tr>\n",
       "    <tr>\n",
       "      <th>5</th>\n",
       "      <td>Добавить страницу отзывов клиентов о магазине, что позволит увеличить количество заказов</td>\n",
       "      <td>1.333</td>\n",
       "    </tr>\n",
       "    <tr>\n",
       "      <th>3</th>\n",
       "      <td>Изменить структура категорий, что увеличит конверсию, т.к. пользователи быстрее найдут нужный товар</td>\n",
       "      <td>1.125</td>\n",
       "    </tr>\n",
       "    <tr>\n",
       "      <th>4</th>\n",
       "      <td>Изменить цвет фона главной страницы, чтобы увеличить вовлеченность пользователей</td>\n",
       "      <td>1.000</td>\n",
       "    </tr>\n",
       "  </tbody>\n",
       "</table>\n",
       "</div>"
      ],
      "text/plain": [
       "                                                                                                     hypothesis  \\\n",
       "8                                                       Запустить акцию, дающую скидку на товар в день рождения   \n",
       "0            Добавить два новых канала привлечения трафика, что позволит привлекать на 30% больше пользователей   \n",
       "7              Добавить форму подписки на все основные страницы, чтобы собрать базу клиентов для email-рассылок   \n",
       "6          Показать на главной странице баннеры с актуальными акциями и распродажами, чтобы увеличить конверсию   \n",
       "2  Добавить блоки рекомендаций товаров на сайт интернет магазина, чтобы повысить конверсию и средний чек заказа   \n",
       "1                                     Запустить собственную службу доставки, что сократит срок доставки заказов   \n",
       "5                      Добавить страницу отзывов клиентов о магазине, что позволит увеличить количество заказов   \n",
       "3           Изменить структура категорий, что увеличит конверсию, т.к. пользователи быстрее найдут нужный товар   \n",
       "4                              Изменить цвет фона главной страницы, чтобы увеличить вовлеченность пользователей   \n",
       "\n",
       "      ice  \n",
       "8  16.200  \n",
       "0  13.333  \n",
       "7  11.200  \n",
       "6   8.000  \n",
       "2   7.000  \n",
       "1   2.000  \n",
       "5   1.333  \n",
       "3   1.125  \n",
       "4   1.000  "
      ]
     },
     "execution_count": 5,
     "metadata": {},
     "output_type": "execute_result"
    }
   ],
   "source": [
    "hypothesis[['hypothesis', 'ice']].sort_values(by = 'ice', ascending = False)"
   ]
  },
  {
   "cell_type": "markdown",
   "metadata": {},
   "source": [
    "В результате применения фреймворка получили следующий топ-3 приоритетных гипотез:\n",
    "\n",
    "1. Запустить акцию, дающую скидку на товар в день рождения;\n",
    "2. Добавить два новых канала привлечения трафика, что позволит привлекать на 30% больше пользователей;\n",
    "3. Добавить форму подписки на все основные страницы, чтобы собрать базу клиентов для email-рассылок."
   ]
  },
  {
   "cell_type": "markdown",
   "metadata": {},
   "source": [
    "### Приоритизация фреймворком RICE"
   ]
  },
  {
   "cell_type": "markdown",
   "metadata": {},
   "source": [
    "Для расчёта данного показателя будем использовать следующую формулу:"
   ]
  },
  {
   "cell_type": "markdown",
   "metadata": {},
   "source": [
    "$$RICE = \\frac{Reach * Impact * Confidence}{Efforts},$$"
   ]
  },
  {
   "cell_type": "markdown",
   "metadata": {},
   "source": [
    "где *Reach* - скольких пользователей затронет изменение, которое мы хотим внести."
   ]
  },
  {
   "cell_type": "code",
   "execution_count": 6,
   "metadata": {},
   "outputs": [],
   "source": [
    "hypothesis['rice'] = hypothesis['ice'] * hypothesis['reach']"
   ]
  },
  {
   "cell_type": "code",
   "execution_count": 7,
   "metadata": {},
   "outputs": [
    {
     "data": {
      "text/html": [
       "<div>\n",
       "<style scoped>\n",
       "    .dataframe tbody tr th:only-of-type {\n",
       "        vertical-align: middle;\n",
       "    }\n",
       "\n",
       "    .dataframe tbody tr th {\n",
       "        vertical-align: top;\n",
       "    }\n",
       "\n",
       "    .dataframe thead th {\n",
       "        text-align: right;\n",
       "    }\n",
       "</style>\n",
       "<table border=\"1\" class=\"dataframe\">\n",
       "  <thead>\n",
       "    <tr style=\"text-align: right;\">\n",
       "      <th></th>\n",
       "      <th>hypothesis</th>\n",
       "      <th>rice</th>\n",
       "    </tr>\n",
       "  </thead>\n",
       "  <tbody>\n",
       "    <tr>\n",
       "      <th>7</th>\n",
       "      <td>Добавить форму подписки на все основные страницы, чтобы собрать базу клиентов для email-рассылок</td>\n",
       "      <td>112.000</td>\n",
       "    </tr>\n",
       "    <tr>\n",
       "      <th>2</th>\n",
       "      <td>Добавить блоки рекомендаций товаров на сайт интернет магазина, чтобы повысить конверсию и средний чек заказа</td>\n",
       "      <td>56.000</td>\n",
       "    </tr>\n",
       "    <tr>\n",
       "      <th>6</th>\n",
       "      <td>Показать на главной странице баннеры с актуальными акциями и распродажами, чтобы увеличить конверсию</td>\n",
       "      <td>40.000</td>\n",
       "    </tr>\n",
       "    <tr>\n",
       "      <th>0</th>\n",
       "      <td>Добавить два новых канала привлечения трафика, что позволит привлекать на 30% больше пользователей</td>\n",
       "      <td>39.999</td>\n",
       "    </tr>\n",
       "    <tr>\n",
       "      <th>8</th>\n",
       "      <td>Запустить акцию, дающую скидку на товар в день рождения</td>\n",
       "      <td>16.200</td>\n",
       "    </tr>\n",
       "    <tr>\n",
       "      <th>3</th>\n",
       "      <td>Изменить структура категорий, что увеличит конверсию, т.к. пользователи быстрее найдут нужный товар</td>\n",
       "      <td>9.000</td>\n",
       "    </tr>\n",
       "    <tr>\n",
       "      <th>1</th>\n",
       "      <td>Запустить собственную службу доставки, что сократит срок доставки заказов</td>\n",
       "      <td>4.000</td>\n",
       "    </tr>\n",
       "    <tr>\n",
       "      <th>5</th>\n",
       "      <td>Добавить страницу отзывов клиентов о магазине, что позволит увеличить количество заказов</td>\n",
       "      <td>3.999</td>\n",
       "    </tr>\n",
       "    <tr>\n",
       "      <th>4</th>\n",
       "      <td>Изменить цвет фона главной страницы, чтобы увеличить вовлеченность пользователей</td>\n",
       "      <td>3.000</td>\n",
       "    </tr>\n",
       "  </tbody>\n",
       "</table>\n",
       "</div>"
      ],
      "text/plain": [
       "                                                                                                     hypothesis  \\\n",
       "7              Добавить форму подписки на все основные страницы, чтобы собрать базу клиентов для email-рассылок   \n",
       "2  Добавить блоки рекомендаций товаров на сайт интернет магазина, чтобы повысить конверсию и средний чек заказа   \n",
       "6          Показать на главной странице баннеры с актуальными акциями и распродажами, чтобы увеличить конверсию   \n",
       "0            Добавить два новых канала привлечения трафика, что позволит привлекать на 30% больше пользователей   \n",
       "8                                                       Запустить акцию, дающую скидку на товар в день рождения   \n",
       "3           Изменить структура категорий, что увеличит конверсию, т.к. пользователи быстрее найдут нужный товар   \n",
       "1                                     Запустить собственную службу доставки, что сократит срок доставки заказов   \n",
       "5                      Добавить страницу отзывов клиентов о магазине, что позволит увеличить количество заказов   \n",
       "4                              Изменить цвет фона главной страницы, чтобы увеличить вовлеченность пользователей   \n",
       "\n",
       "      rice  \n",
       "7  112.000  \n",
       "2   56.000  \n",
       "6   40.000  \n",
       "0   39.999  \n",
       "8   16.200  \n",
       "3    9.000  \n",
       "1    4.000  \n",
       "5    3.999  \n",
       "4    3.000  "
      ]
     },
     "execution_count": 7,
     "metadata": {},
     "output_type": "execute_result"
    }
   ],
   "source": [
    "hypothesis[['hypothesis', 'rice']].sort_values(by = 'rice', ascending = False)"
   ]
  },
  {
   "cell_type": "markdown",
   "metadata": {},
   "source": [
    "При использовании фреймворка RICE мы получили следующий топ-3 гипотез:\n",
    "\n",
    "1. Добавить форму подписки на все основные страницы, чтобы собрать базу клиентов для email-рассылок;\n",
    "2. Добавить блоки рекомендаций товаров на сайт интернет магазина, чтобы повысить конверсию и средний чек заказа;\n",
    "3. Добавить два новых канала привлечения трафика, что позволит привлекать на 30% больше пользователей."
   ]
  },
  {
   "cell_type": "markdown",
   "metadata": {},
   "source": [
    "### Сравнение приоритетных гипотез, выявленных методами ICE и RICE"
   ]
  },
  {
   "cell_type": "markdown",
   "metadata": {},
   "source": [
    "Посмотрим внимательнее на топ-3 гипотез, выявленных обоими способами:"
   ]
  },
  {
   "cell_type": "markdown",
   "metadata": {},
   "source": [
    "Топ-3 гипотез, оценённых **ICE**:\n",
    "\n",
    "1. Запустить акцию, дающую скидку на товар в день рождения;\n",
    "2. Добавить два новых канала привлечения трафика, что позволит привлекать на 30% больше пользователей;\n",
    "3. Добавить форму подписки на все основные страницы, чтобы собрать базу клиентов для email-рассылок."
   ]
  },
  {
   "cell_type": "markdown",
   "metadata": {},
   "source": [
    " "
   ]
  },
  {
   "cell_type": "markdown",
   "metadata": {},
   "source": [
    " "
   ]
  },
  {
   "cell_type": "markdown",
   "metadata": {},
   "source": [
    "Топ-3 гипотез, оценённых **RICE**:\n",
    "\n",
    "1. Добавить форму подписки на все основные страницы, чтобы собрать базу клиентов для email-рассылок;\n",
    "2. Добавить блоки рекомендаций товаров на сайт интернет магазина, чтобы повысить конверсию и средний чек заказа;\n",
    "3. Добавить два новых канала привлечения трафика, что позволит привлекать на 30% больше пользователей."
   ]
  },
  {
   "cell_type": "markdown",
   "metadata": {},
   "source": [
    " "
   ]
  },
  {
   "cell_type": "markdown",
   "metadata": {},
   "source": [
    "  "
   ]
  },
  {
   "cell_type": "markdown",
   "metadata": {},
   "source": [
    "При оценке способом **RICE** вместо **ICE** из топа пропал вариант скидки на товар в день рождения, а добавление формы подписки на все основные страницы поднялось на первое место. Дело в том, что при использовании фреймворка **RICE** мы дополнительно оцениваем количество пользователей, на которых повлияет вносимое изменение. В период проверки гипотезы о скидке в день рождения будет затронуто меньшее количество пользователей-именинников, нежели при проверке гипотезы о добавлении формы подписки, которая, в свою очередь, затронет в тот же период всех посетителей сайта."
   ]
  },
  {
   "cell_type": "markdown",
   "metadata": {},
   "source": [
    "## Анализ A/B-теста"
   ]
  },
  {
   "cell_type": "markdown",
   "metadata": {},
   "source": [
    "В этой части проекта мы исследуем данные, полученные в результате A/B-тестирования, и на основе выводов примем решение, останавливать или продолжать тест."
   ]
  },
  {
   "cell_type": "markdown",
   "metadata": {},
   "source": [
    "### Предобработка данных"
   ]
  },
  {
   "cell_type": "markdown",
   "metadata": {},
   "source": [
    "Откроем файл, содержащий информацию о заказах:"
   ]
  },
  {
   "cell_type": "code",
   "execution_count": 8,
   "metadata": {},
   "outputs": [
    {
     "data": {
      "text/html": [
       "<div>\n",
       "<style scoped>\n",
       "    .dataframe tbody tr th:only-of-type {\n",
       "        vertical-align: middle;\n",
       "    }\n",
       "\n",
       "    .dataframe tbody tr th {\n",
       "        vertical-align: top;\n",
       "    }\n",
       "\n",
       "    .dataframe thead th {\n",
       "        text-align: right;\n",
       "    }\n",
       "</style>\n",
       "<table border=\"1\" class=\"dataframe\">\n",
       "  <thead>\n",
       "    <tr style=\"text-align: right;\">\n",
       "      <th></th>\n",
       "      <th>transactionId</th>\n",
       "      <th>visitorId</th>\n",
       "      <th>date</th>\n",
       "      <th>revenue</th>\n",
       "      <th>group</th>\n",
       "    </tr>\n",
       "  </thead>\n",
       "  <tbody>\n",
       "    <tr>\n",
       "      <th>0</th>\n",
       "      <td>3667963787</td>\n",
       "      <td>3312258926</td>\n",
       "      <td>2019-08-15</td>\n",
       "      <td>1650</td>\n",
       "      <td>B</td>\n",
       "    </tr>\n",
       "    <tr>\n",
       "      <th>1</th>\n",
       "      <td>2804400009</td>\n",
       "      <td>3642806036</td>\n",
       "      <td>2019-08-15</td>\n",
       "      <td>730</td>\n",
       "      <td>B</td>\n",
       "    </tr>\n",
       "    <tr>\n",
       "      <th>2</th>\n",
       "      <td>2961555356</td>\n",
       "      <td>4069496402</td>\n",
       "      <td>2019-08-15</td>\n",
       "      <td>400</td>\n",
       "      <td>A</td>\n",
       "    </tr>\n",
       "    <tr>\n",
       "      <th>3</th>\n",
       "      <td>3797467345</td>\n",
       "      <td>1196621759</td>\n",
       "      <td>2019-08-15</td>\n",
       "      <td>9759</td>\n",
       "      <td>B</td>\n",
       "    </tr>\n",
       "    <tr>\n",
       "      <th>4</th>\n",
       "      <td>2282983706</td>\n",
       "      <td>2322279887</td>\n",
       "      <td>2019-08-15</td>\n",
       "      <td>2308</td>\n",
       "      <td>B</td>\n",
       "    </tr>\n",
       "    <tr>\n",
       "      <th>5</th>\n",
       "      <td>182168103</td>\n",
       "      <td>935554773</td>\n",
       "      <td>2019-08-15</td>\n",
       "      <td>2210</td>\n",
       "      <td>B</td>\n",
       "    </tr>\n",
       "    <tr>\n",
       "      <th>6</th>\n",
       "      <td>398296753</td>\n",
       "      <td>2900797465</td>\n",
       "      <td>2019-08-15</td>\n",
       "      <td>1860</td>\n",
       "      <td>B</td>\n",
       "    </tr>\n",
       "    <tr>\n",
       "      <th>7</th>\n",
       "      <td>2626614568</td>\n",
       "      <td>78758296</td>\n",
       "      <td>2019-08-15</td>\n",
       "      <td>1044</td>\n",
       "      <td>A</td>\n",
       "    </tr>\n",
       "    <tr>\n",
       "      <th>8</th>\n",
       "      <td>1576988021</td>\n",
       "      <td>295230930</td>\n",
       "      <td>2019-08-15</td>\n",
       "      <td>13710</td>\n",
       "      <td>A</td>\n",
       "    </tr>\n",
       "    <tr>\n",
       "      <th>9</th>\n",
       "      <td>1506739906</td>\n",
       "      <td>1882260405</td>\n",
       "      <td>2019-08-15</td>\n",
       "      <td>1855</td>\n",
       "      <td>B</td>\n",
       "    </tr>\n",
       "  </tbody>\n",
       "</table>\n",
       "</div>"
      ],
      "text/plain": [
       "   transactionId   visitorId        date  revenue group\n",
       "0     3667963787  3312258926  2019-08-15     1650     B\n",
       "1     2804400009  3642806036  2019-08-15      730     B\n",
       "2     2961555356  4069496402  2019-08-15      400     A\n",
       "3     3797467345  1196621759  2019-08-15     9759     B\n",
       "4     2282983706  2322279887  2019-08-15     2308     B\n",
       "5      182168103   935554773  2019-08-15     2210     B\n",
       "6      398296753  2900797465  2019-08-15     1860     B\n",
       "7     2626614568    78758296  2019-08-15     1044     A\n",
       "8     1576988021   295230930  2019-08-15    13710     A\n",
       "9     1506739906  1882260405  2019-08-15     1855     B"
      ]
     },
     "execution_count": 8,
     "metadata": {},
     "output_type": "execute_result"
    }
   ],
   "source": [
    "orders.head(10)"
   ]
  },
  {
   "cell_type": "code",
   "execution_count": 9,
   "metadata": {},
   "outputs": [
    {
     "name": "stdout",
     "output_type": "stream",
     "text": [
      "<class 'pandas.core.frame.DataFrame'>\n",
      "RangeIndex: 1197 entries, 0 to 1196\n",
      "Data columns (total 5 columns):\n",
      " #   Column         Non-Null Count  Dtype \n",
      "---  ------         --------------  ----- \n",
      " 0   transactionId  1197 non-null   int64 \n",
      " 1   visitorId      1197 non-null   int64 \n",
      " 2   date           1197 non-null   object\n",
      " 3   revenue        1197 non-null   int64 \n",
      " 4   group          1197 non-null   object\n",
      "dtypes: int64(3), object(2)\n",
      "memory usage: 46.9+ KB\n"
     ]
    }
   ],
   "source": [
    "orders.info()"
   ]
  },
  {
   "cell_type": "markdown",
   "metadata": {},
   "source": [
    "Приведём названия столбцов к snake_case и изменим тип данных в столбце 'date':"
   ]
  },
  {
   "cell_type": "code",
   "execution_count": 10,
   "metadata": {},
   "outputs": [],
   "source": [
    "orders = orders.rename(columns = {'transactionId': 'transaction_id', 'visitorId': 'visitor_id'})\n",
    "orders['date'] = pd.to_datetime(orders['date'], format = '%Y-%m-%d')"
   ]
  },
  {
   "cell_type": "markdown",
   "metadata": {},
   "source": [
    "Проверим внесение изменений:"
   ]
  },
  {
   "cell_type": "code",
   "execution_count": 11,
   "metadata": {},
   "outputs": [
    {
     "name": "stdout",
     "output_type": "stream",
     "text": [
      "<class 'pandas.core.frame.DataFrame'>\n",
      "RangeIndex: 1197 entries, 0 to 1196\n",
      "Data columns (total 5 columns):\n",
      " #   Column          Non-Null Count  Dtype         \n",
      "---  ------          --------------  -----         \n",
      " 0   transaction_id  1197 non-null   int64         \n",
      " 1   visitor_id      1197 non-null   int64         \n",
      " 2   date            1197 non-null   datetime64[ns]\n",
      " 3   revenue         1197 non-null   int64         \n",
      " 4   group           1197 non-null   object        \n",
      "dtypes: datetime64[ns](1), int64(3), object(1)\n",
      "memory usage: 46.9+ KB\n"
     ]
    }
   ],
   "source": [
    "orders.info()"
   ]
  },
  {
   "cell_type": "markdown",
   "metadata": {},
   "source": [
    "Проверим датасет на наличие дубликатов:"
   ]
  },
  {
   "cell_type": "code",
   "execution_count": 12,
   "metadata": {},
   "outputs": [
    {
     "data": {
      "text/plain": [
       "0"
      ]
     },
     "execution_count": 12,
     "metadata": {},
     "output_type": "execute_result"
    }
   ],
   "source": [
    "orders.duplicated().sum()"
   ]
  },
  {
   "cell_type": "markdown",
   "metadata": {},
   "source": [
    " "
   ]
  },
  {
   "cell_type": "markdown",
   "metadata": {},
   "source": [
    " "
   ]
  },
  {
   "cell_type": "markdown",
   "metadata": {},
   "source": [
    "Также откроем файл, содержащий информацию о посетителях сайта:"
   ]
  },
  {
   "cell_type": "code",
   "execution_count": 13,
   "metadata": {},
   "outputs": [
    {
     "data": {
      "text/html": [
       "<div>\n",
       "<style scoped>\n",
       "    .dataframe tbody tr th:only-of-type {\n",
       "        vertical-align: middle;\n",
       "    }\n",
       "\n",
       "    .dataframe tbody tr th {\n",
       "        vertical-align: top;\n",
       "    }\n",
       "\n",
       "    .dataframe thead th {\n",
       "        text-align: right;\n",
       "    }\n",
       "</style>\n",
       "<table border=\"1\" class=\"dataframe\">\n",
       "  <thead>\n",
       "    <tr style=\"text-align: right;\">\n",
       "      <th></th>\n",
       "      <th>date</th>\n",
       "      <th>group</th>\n",
       "      <th>visitors</th>\n",
       "    </tr>\n",
       "  </thead>\n",
       "  <tbody>\n",
       "    <tr>\n",
       "      <th>0</th>\n",
       "      <td>2019-08-01</td>\n",
       "      <td>A</td>\n",
       "      <td>719</td>\n",
       "    </tr>\n",
       "    <tr>\n",
       "      <th>1</th>\n",
       "      <td>2019-08-02</td>\n",
       "      <td>A</td>\n",
       "      <td>619</td>\n",
       "    </tr>\n",
       "    <tr>\n",
       "      <th>2</th>\n",
       "      <td>2019-08-03</td>\n",
       "      <td>A</td>\n",
       "      <td>507</td>\n",
       "    </tr>\n",
       "    <tr>\n",
       "      <th>3</th>\n",
       "      <td>2019-08-04</td>\n",
       "      <td>A</td>\n",
       "      <td>717</td>\n",
       "    </tr>\n",
       "    <tr>\n",
       "      <th>4</th>\n",
       "      <td>2019-08-05</td>\n",
       "      <td>A</td>\n",
       "      <td>756</td>\n",
       "    </tr>\n",
       "    <tr>\n",
       "      <th>5</th>\n",
       "      <td>2019-08-06</td>\n",
       "      <td>A</td>\n",
       "      <td>667</td>\n",
       "    </tr>\n",
       "    <tr>\n",
       "      <th>6</th>\n",
       "      <td>2019-08-07</td>\n",
       "      <td>A</td>\n",
       "      <td>644</td>\n",
       "    </tr>\n",
       "    <tr>\n",
       "      <th>7</th>\n",
       "      <td>2019-08-08</td>\n",
       "      <td>A</td>\n",
       "      <td>610</td>\n",
       "    </tr>\n",
       "    <tr>\n",
       "      <th>8</th>\n",
       "      <td>2019-08-09</td>\n",
       "      <td>A</td>\n",
       "      <td>617</td>\n",
       "    </tr>\n",
       "    <tr>\n",
       "      <th>9</th>\n",
       "      <td>2019-08-10</td>\n",
       "      <td>A</td>\n",
       "      <td>406</td>\n",
       "    </tr>\n",
       "  </tbody>\n",
       "</table>\n",
       "</div>"
      ],
      "text/plain": [
       "         date group  visitors\n",
       "0  2019-08-01     A       719\n",
       "1  2019-08-02     A       619\n",
       "2  2019-08-03     A       507\n",
       "3  2019-08-04     A       717\n",
       "4  2019-08-05     A       756\n",
       "5  2019-08-06     A       667\n",
       "6  2019-08-07     A       644\n",
       "7  2019-08-08     A       610\n",
       "8  2019-08-09     A       617\n",
       "9  2019-08-10     A       406"
      ]
     },
     "execution_count": 13,
     "metadata": {},
     "output_type": "execute_result"
    }
   ],
   "source": [
    "visitors.head(10)"
   ]
  },
  {
   "cell_type": "code",
   "execution_count": 14,
   "metadata": {},
   "outputs": [
    {
     "name": "stdout",
     "output_type": "stream",
     "text": [
      "<class 'pandas.core.frame.DataFrame'>\n",
      "RangeIndex: 62 entries, 0 to 61\n",
      "Data columns (total 3 columns):\n",
      " #   Column    Non-Null Count  Dtype \n",
      "---  ------    --------------  ----- \n",
      " 0   date      62 non-null     object\n",
      " 1   group     62 non-null     object\n",
      " 2   visitors  62 non-null     int64 \n",
      "dtypes: int64(1), object(2)\n",
      "memory usage: 1.6+ KB\n"
     ]
    }
   ],
   "source": [
    "visitors.info()"
   ]
  },
  {
   "cell_type": "markdown",
   "metadata": {},
   "source": [
    "Для данного файла произведём изменение типа данных в столбце 'date':"
   ]
  },
  {
   "cell_type": "code",
   "execution_count": 15,
   "metadata": {},
   "outputs": [],
   "source": [
    "visitors['date'] = pd.to_datetime(visitors['date'], format = '%Y-%m-%d')"
   ]
  },
  {
   "cell_type": "markdown",
   "metadata": {},
   "source": [
    "И проверим внесение изменений:"
   ]
  },
  {
   "cell_type": "code",
   "execution_count": 16,
   "metadata": {},
   "outputs": [
    {
     "name": "stdout",
     "output_type": "stream",
     "text": [
      "<class 'pandas.core.frame.DataFrame'>\n",
      "RangeIndex: 62 entries, 0 to 61\n",
      "Data columns (total 3 columns):\n",
      " #   Column    Non-Null Count  Dtype         \n",
      "---  ------    --------------  -----         \n",
      " 0   date      62 non-null     datetime64[ns]\n",
      " 1   group     62 non-null     object        \n",
      " 2   visitors  62 non-null     int64         \n",
      "dtypes: datetime64[ns](1), int64(1), object(1)\n",
      "memory usage: 1.6+ KB\n"
     ]
    }
   ],
   "source": [
    "visitors.info()"
   ]
  },
  {
   "cell_type": "markdown",
   "metadata": {},
   "source": [
    "Также проверим на наличие дубликатов:"
   ]
  },
  {
   "cell_type": "code",
   "execution_count": 17,
   "metadata": {},
   "outputs": [
    {
     "data": {
      "text/plain": [
       "0"
      ]
     },
     "execution_count": 17,
     "metadata": {},
     "output_type": "execute_result"
    }
   ],
   "source": [
    "visitors.duplicated().sum()"
   ]
  },
  {
   "cell_type": "markdown",
   "metadata": {},
   "source": [
    " "
   ]
  },
  {
   "cell_type": "markdown",
   "metadata": {},
   "source": [
    " "
   ]
  },
  {
   "cell_type": "markdown",
   "metadata": {},
   "source": [
    "Также проверим, на каком количестве групп был проведён A/B-тест:"
   ]
  },
  {
   "cell_type": "code",
   "execution_count": 18,
   "metadata": {},
   "outputs": [
    {
     "data": {
      "text/plain": [
       "2"
      ]
     },
     "metadata": {},
     "output_type": "display_data"
    },
    {
     "data": {
      "text/plain": [
       "2"
      ]
     },
     "metadata": {},
     "output_type": "display_data"
    }
   ],
   "source": [
    "display(orders['group'].nunique())\n",
    "display(visitors['group'].nunique())"
   ]
  },
  {
   "cell_type": "markdown",
   "metadata": {},
   "source": [
    "Из этого можем сделать вывод, что тестирование проводилось только на двух группах: контрольной и одной тестовой. Учитывать групповые ошибки вероятности нет необходимости."
   ]
  },
  {
   "cell_type": "markdown",
   "metadata": {},
   "source": [
    "Проверим, оказался ли кто-то из пользователей в обеих группах. Для этого рассчитаем количество уникальных пользователей в каждой из групп и суммируем результаты:"
   ]
  },
  {
   "cell_type": "code",
   "execution_count": 19,
   "metadata": {},
   "outputs": [
    {
     "data": {
      "text/plain": [
       "visitor_id    1089\n",
       "dtype: int64"
      ]
     },
     "execution_count": 19,
     "metadata": {},
     "output_type": "execute_result"
    }
   ],
   "source": [
    "orders.groupby('group').agg({'visitor_id': 'nunique'}).sum()"
   ]
  },
  {
   "cell_type": "markdown",
   "metadata": {},
   "source": [
    "И посчитаем количество уникальных пользователей без разделения на группы:"
   ]
  },
  {
   "cell_type": "code",
   "execution_count": 20,
   "metadata": {},
   "outputs": [
    {
     "data": {
      "text/plain": [
       "1031"
      ]
     },
     "execution_count": 20,
     "metadata": {},
     "output_type": "execute_result"
    }
   ],
   "source": [
    "orders['visitor_id'].nunique()"
   ]
  },
  {
   "cell_type": "markdown",
   "metadata": {},
   "source": [
    "Получили разницу в 58 пользователей, т.е. 58 пользователей попали в обе группы теста. Это составляет около 5% от общего количества пользователей, поэтому исключать их на данном этапе не будем. В случае, если эти пользователи в процессе анализа будут признаны аномальными, они будут исключены далее в ходе анализа."
   ]
  },
  {
   "cell_type": "markdown",
   "metadata": {},
   "source": [
    "### Анализ кумулятивной выручки"
   ]
  },
  {
   "cell_type": "markdown",
   "metadata": {},
   "source": [
    "Рассчитаем кумулятивную выручку по группам. Для этого пошагово:\n",
    "\n",
    "Сформируем массив уникальных значений дат и групп:"
   ]
  },
  {
   "cell_type": "code",
   "execution_count": 21,
   "metadata": {},
   "outputs": [],
   "source": [
    "date_group = orders[['date', 'group']].drop_duplicates()"
   ]
  },
  {
   "cell_type": "markdown",
   "metadata": {},
   "source": [
    "Сформируем датафрейм, который содержит в себе следующие данные:\n",
    "\n",
    "- дата;\n",
    "- группа;\n",
    "- количество уникальных заказов в группе по указанную дату включительно;\n",
    "- количество уникальных пользователей, совершивших заказы, по указанную дату включительно;\n",
    "- кумулятивная выручка в группе на указанную дату включительно."
   ]
  },
  {
   "cell_type": "code",
   "execution_count": 22,
   "metadata": {},
   "outputs": [],
   "source": [
    "transactions_agg = date_group.apply(lambda x: orders[np.logical_and(orders['date'] <= x['date'],\\\n",
    "                                                                    orders['group'] == x['group'])]\n",
    "                              .agg({'date': 'max', \n",
    "                                    'group': 'max', \n",
    "                                    'transaction_id': 'nunique', \n",
    "                                    'visitor_id': 'nunique', \n",
    "                                    'revenue': 'sum'}), axis = 1).sort_values(by = ['date', 'group'])"
   ]
  },
  {
   "cell_type": "markdown",
   "metadata": {},
   "source": [
    "Также сформируем датафрейм, который будет содержать следующие данные:\n",
    "\n",
    "- дата;\n",
    "- группа;\n",
    "- кумулятивное количество уникальных пользователей на указанную дату включительно."
   ]
  },
  {
   "cell_type": "code",
   "execution_count": 23,
   "metadata": {},
   "outputs": [],
   "source": [
    "visitors_agg = date_group.apply(lambda x: visitors[np.logical_and(visitors['date'] <= x['date'],\\\n",
    "                                                                  visitors['group'] == x['group'])]\n",
    "                                .agg({'date': 'max', \n",
    "                                      'group': 'max', \n",
    "                                      'visitors': 'sum'}), axis = 1).sort_values(by = ['date', 'group'])"
   ]
  },
  {
   "cell_type": "markdown",
   "metadata": {},
   "source": [
    "И объединим эти датафреймы:"
   ]
  },
  {
   "cell_type": "code",
   "execution_count": 24,
   "metadata": {},
   "outputs": [
    {
     "data": {
      "text/html": [
       "<div>\n",
       "<style scoped>\n",
       "    .dataframe tbody tr th:only-of-type {\n",
       "        vertical-align: middle;\n",
       "    }\n",
       "\n",
       "    .dataframe tbody tr th {\n",
       "        vertical-align: top;\n",
       "    }\n",
       "\n",
       "    .dataframe thead th {\n",
       "        text-align: right;\n",
       "    }\n",
       "</style>\n",
       "<table border=\"1\" class=\"dataframe\">\n",
       "  <thead>\n",
       "    <tr style=\"text-align: right;\">\n",
       "      <th></th>\n",
       "      <th>date</th>\n",
       "      <th>group</th>\n",
       "      <th>transactions</th>\n",
       "      <th>buyers</th>\n",
       "      <th>revenue</th>\n",
       "      <th>visitors</th>\n",
       "    </tr>\n",
       "  </thead>\n",
       "  <tbody>\n",
       "    <tr>\n",
       "      <th>0</th>\n",
       "      <td>2019-08-01</td>\n",
       "      <td>A</td>\n",
       "      <td>24</td>\n",
       "      <td>20</td>\n",
       "      <td>148579</td>\n",
       "      <td>719</td>\n",
       "    </tr>\n",
       "    <tr>\n",
       "      <th>1</th>\n",
       "      <td>2019-08-01</td>\n",
       "      <td>B</td>\n",
       "      <td>21</td>\n",
       "      <td>20</td>\n",
       "      <td>101217</td>\n",
       "      <td>713</td>\n",
       "    </tr>\n",
       "    <tr>\n",
       "      <th>2</th>\n",
       "      <td>2019-08-02</td>\n",
       "      <td>A</td>\n",
       "      <td>44</td>\n",
       "      <td>38</td>\n",
       "      <td>242401</td>\n",
       "      <td>1338</td>\n",
       "    </tr>\n",
       "    <tr>\n",
       "      <th>3</th>\n",
       "      <td>2019-08-02</td>\n",
       "      <td>B</td>\n",
       "      <td>45</td>\n",
       "      <td>43</td>\n",
       "      <td>266748</td>\n",
       "      <td>1294</td>\n",
       "    </tr>\n",
       "    <tr>\n",
       "      <th>4</th>\n",
       "      <td>2019-08-03</td>\n",
       "      <td>A</td>\n",
       "      <td>68</td>\n",
       "      <td>62</td>\n",
       "      <td>354874</td>\n",
       "      <td>1845</td>\n",
       "    </tr>\n",
       "  </tbody>\n",
       "</table>\n",
       "</div>"
      ],
      "text/plain": [
       "        date group  transactions  buyers  revenue  visitors\n",
       "0 2019-08-01     A            24      20   148579       719\n",
       "1 2019-08-01     B            21      20   101217       713\n",
       "2 2019-08-02     A            44      38   242401      1338\n",
       "3 2019-08-02     B            45      43   266748      1294\n",
       "4 2019-08-03     A            68      62   354874      1845"
      ]
     },
     "execution_count": 24,
     "metadata": {},
     "output_type": "execute_result"
    }
   ],
   "source": [
    "cumul_data = transactions_agg.merge(visitors_agg, left_on = ['date', 'group'],\n",
    "                                    right_on = ['date', 'group'])\n",
    "cumul_data = cumul_data.rename(columns = {'transaction_id': 'transactions',\n",
    "                                         'visitor_id': 'buyers'})\n",
    "cumul_data.head()"
   ]
  },
  {
   "cell_type": "markdown",
   "metadata": {},
   "source": [
    "Разделим данные о выручке и заказах по отдельным группам на две разных таблицы:"
   ]
  },
  {
   "cell_type": "code",
   "execution_count": 25,
   "metadata": {},
   "outputs": [],
   "source": [
    "group_a = cumul_data[cumul_data['group'] == 'A'][['date', 'revenue', 'transactions']]\n",
    "group_b = cumul_data[cumul_data['group'] == 'B'][['date', 'revenue', 'transactions']]"
   ]
  },
  {
   "cell_type": "markdown",
   "metadata": {},
   "source": [
    "По данным двух таблиц построим график кумулятивной выручки по группам. Зададим функцию, которая будет принимать следющие параметры:\n",
    "- size - размер графика;\n",
    "- a_xdata - данные для оси X группы А;\n",
    "- a_ydata - данные для оси Y группы А;\n",
    "- b_xdata - данные для оси X группы Б;\n",
    "- b_ydata - данные для оси Y группы Б;\n",
    "- title - название графика;\n",
    "- xlabel - подпись оси X;\n",
    "- ylabel - подпись оси Y."
   ]
  },
  {
   "cell_type": "code",
   "execution_count": 26,
   "metadata": {},
   "outputs": [],
   "source": [
    "def group_plot(size, a_xdata, a_ydata, b_xdata, b_ydata, title, xlabel, ylabel):\n",
    "    plt.figure(figsize = size)\n",
    "    plt.plot(a_xdata, a_ydata, label = 'A')\n",
    "    plt.plot(b_xdata, b_ydata, label = 'B')\n",
    "    plt.legend()\n",
    "    plt.title(title)\n",
    "    plt.xlabel(xlabel)\n",
    "    plt.ylabel(ylabel);"
   ]
  },
  {
   "cell_type": "code",
   "execution_count": 27,
   "metadata": {
    "scrolled": true
   },
   "outputs": [
    {
     "data": {
      "image/png": "[encoded data removed]",
      "text/plain": [
       "<Figure size 864x360 with 1 Axes>"
      ]
     },
     "metadata": {
      "needs_background": "light"
     },
     "output_type": "display_data"
    }
   ],
   "source": [
    "group_plot(size = (12, 5),\n",
    "    a_xdata = group_a['date'],\n",
    "    a_ydata = group_a['revenue'],\n",
    "    b_xdata = group_b['date'],\n",
    "    b_ydata = group_b['revenue'],\n",
    "    title = 'График кумулятивной выручки по группам',\n",
    "    xlabel = 'Дата',\n",
    "    ylabel = 'Кумулятивная выручка в млн. руб.')"
   ]
  },
  {
   "cell_type": "markdown",
   "metadata": {},
   "source": [
    "График показывает, что кумулятивная выручка группы Б стабильно выше выручки группы А начиная с 19.08.2019 почти на 2 млн. руб. Веротно, это обусловлено тем, что для видимых изменений необходимо было, чтобы прошло некоторое время (например, если мы исследовали гипотезу, приоритизированную ранее методом RICE, с момента добавления на страницы сайта формы для e-mail рассылок до момента первой рассылки могло пройти некоторое время: добавили форму на сайт и начали проведение теста 01.08, а первую рассылку по собранной базе запустили 19.08)."
   ]
  },
  {
   "cell_type": "markdown",
   "metadata": {},
   "source": [
    "### Анализ кумулятивного среднего чека"
   ]
  },
  {
   "cell_type": "markdown",
   "metadata": {},
   "source": [
    "Построим по данным созданных ранее таблиц график кумулятивного среднего чека:"
   ]
  },
  {
   "cell_type": "code",
   "execution_count": 28,
   "metadata": {
    "scrolled": true
   },
   "outputs": [
    {
     "data": {
      "image/png": "[encoded data removed]",
      "text/plain": [
       "<Figure size 864x360 with 1 Axes>"
      ]
     },
     "metadata": {
      "needs_background": "light"
     },
     "output_type": "display_data"
    }
   ],
   "source": [
    "group_plot(size = (12, 5),\n",
    "          a_xdata = group_a['date'],\n",
    "          a_ydata = group_a['revenue'] / group_a['transactions'],\n",
    "          b_xdata = group_b['date'],\n",
    "          b_ydata = group_b['revenue'] / group_b['transactions'],\n",
    "          title = 'График кумулятивного среднего чека по группам',\n",
    "          xlabel = 'Дата',\n",
    "          ylabel = 'Кумулятивный средний чек в руб.')"
   ]
  },
  {
   "cell_type": "markdown",
   "metadata": {},
   "source": [
    "Кумулятивный средний чек группы Б после колебаний также стал резко выше с 19.08 почти на 3 000 руб., но постепенно снижается. И это снова, вероятнее всего, обусловлено необходимостью прохождения определённого количества времени с начала эксперимента, или же крупными заказами на старте рассылки."
   ]
  },
  {
   "cell_type": "markdown",
   "metadata": {},
   "source": [
    "### Анализ относительного изменения кумулятивного среднего чека"
   ]
  },
  {
   "cell_type": "markdown",
   "metadata": {},
   "source": [
    "Для построения графика соберём отдельный датафрейм, который будет содержать:\n",
    "\n",
    "- дату;\n",
    "- кумулятивную выручку группы А;\n",
    "- кумулятивную выручку группы Б;\n",
    "- количество уникальных заказов группы А;\n",
    "- количество уникальных заказов группы Б."
   ]
  },
  {
   "cell_type": "code",
   "execution_count": 29,
   "metadata": {},
   "outputs": [
    {
     "data": {
      "text/html": [
       "<div>\n",
       "<style scoped>\n",
       "    .dataframe tbody tr th:only-of-type {\n",
       "        vertical-align: middle;\n",
       "    }\n",
       "\n",
       "    .dataframe tbody tr th {\n",
       "        vertical-align: top;\n",
       "    }\n",
       "\n",
       "    .dataframe thead th {\n",
       "        text-align: right;\n",
       "    }\n",
       "</style>\n",
       "<table border=\"1\" class=\"dataframe\">\n",
       "  <thead>\n",
       "    <tr style=\"text-align: right;\">\n",
       "      <th></th>\n",
       "      <th>date</th>\n",
       "      <th>revenue_a</th>\n",
       "      <th>transactions_a</th>\n",
       "      <th>revenue_b</th>\n",
       "      <th>transactions_b</th>\n",
       "    </tr>\n",
       "  </thead>\n",
       "  <tbody>\n",
       "    <tr>\n",
       "      <th>0</th>\n",
       "      <td>2019-08-01</td>\n",
       "      <td>148579</td>\n",
       "      <td>24</td>\n",
       "      <td>101217</td>\n",
       "      <td>21</td>\n",
       "    </tr>\n",
       "    <tr>\n",
       "      <th>1</th>\n",
       "      <td>2019-08-02</td>\n",
       "      <td>242401</td>\n",
       "      <td>44</td>\n",
       "      <td>266748</td>\n",
       "      <td>45</td>\n",
       "    </tr>\n",
       "    <tr>\n",
       "      <th>2</th>\n",
       "      <td>2019-08-03</td>\n",
       "      <td>354874</td>\n",
       "      <td>68</td>\n",
       "      <td>380996</td>\n",
       "      <td>61</td>\n",
       "    </tr>\n",
       "    <tr>\n",
       "      <th>3</th>\n",
       "      <td>2019-08-04</td>\n",
       "      <td>425699</td>\n",
       "      <td>84</td>\n",
       "      <td>489567</td>\n",
       "      <td>78</td>\n",
       "    </tr>\n",
       "    <tr>\n",
       "      <th>4</th>\n",
       "      <td>2019-08-05</td>\n",
       "      <td>549917</td>\n",
       "      <td>109</td>\n",
       "      <td>581995</td>\n",
       "      <td>101</td>\n",
       "    </tr>\n",
       "  </tbody>\n",
       "</table>\n",
       "</div>"
      ],
      "text/plain": [
       "        date  revenue_a  transactions_a  revenue_b  transactions_b\n",
       "0 2019-08-01     148579              24     101217              21\n",
       "1 2019-08-02     242401              44     266748              45\n",
       "2 2019-08-03     354874              68     380996              61\n",
       "3 2019-08-04     425699              84     489567              78\n",
       "4 2019-08-05     549917             109     581995             101"
      ]
     },
     "execution_count": 29,
     "metadata": {},
     "output_type": "execute_result"
    }
   ],
   "source": [
    "cumul_revenue = group_a.merge(group_b, \n",
    "                              left_on = 'date', \n",
    "                              right_on = 'date', \n",
    "                              how = 'left', \n",
    "                              suffixes = ['_a', '_b'])\n",
    "cumul_revenue.head()"
   ]
  },
  {
   "cell_type": "markdown",
   "metadata": {},
   "source": [
    "И по данным полученной таблицы построим график относительного изменения кумулятивного среднего чека:"
   ]
  },
  {
   "cell_type": "code",
   "execution_count": 30,
   "metadata": {},
   "outputs": [
    {
     "data": {
      "image/png": "[encoded data removed]",
      "text/plain": [
       "<Figure size 792x360 with 1 Axes>"
      ]
     },
     "metadata": {
      "needs_background": "light"
     },
     "output_type": "display_data"
    }
   ],
   "source": [
    "plt.figure(figsize = (11, 5))\n",
    "plt.plot(cumul_revenue['date'],\n",
    "        (cumul_revenue['revenue_b'] / cumul_revenue['transactions_b']) /\n",
    "        ((cumul_revenue['revenue_a'] / cumul_revenue['transactions_a']) - 1) * 100)\n",
    "plt.title('График относительного изменения кумулятивного среднего чека')\n",
    "plt.xlabel('Дата')\n",
    "plt.ylabel('Относительное изменение кумулятивного среднего чека, %')\n",
    "plt.axhline(y = 100,\n",
    "           color = 'black',\n",
    "           linestyle = '--');"
   ]
  },
  {
   "cell_type": "markdown",
   "metadata": {},
   "source": [
    "На графике заметны резкие увеличения и уменьшения разницы между группами. Это говорит о том, что в данных есть выбросы - особенно крупные заказы."
   ]
  },
  {
   "cell_type": "markdown",
   "metadata": {},
   "source": [
    "### Анализ кумулятивной конверсии"
   ]
  },
  {
   "cell_type": "markdown",
   "metadata": {},
   "source": [
    "Для анализа конверсии добавим соответствующие столбцы таблиц с данными по группам:"
   ]
  },
  {
   "cell_type": "code",
   "execution_count": 31,
   "metadata": {},
   "outputs": [],
   "source": [
    "group_a['conversion'] = (group_a['transactions'] / cumul_data[cumul_data['group'] == 'A']['visitors']) * 100\n",
    "group_b['conversion'] = (group_b['transactions'] / cumul_data[cumul_data['group'] == 'B']['visitors']) * 100"
   ]
  },
  {
   "cell_type": "markdown",
   "metadata": {},
   "source": [
    "И на основании этих данных построим соответствующий график:"
   ]
  },
  {
   "cell_type": "code",
   "execution_count": 32,
   "metadata": {},
   "outputs": [
    {
     "data": {
      "image/png": "[encoded data removed]",
      "text/plain": [
       "<Figure size 864x360 with 1 Axes>"
      ]
     },
     "metadata": {
      "needs_background": "light"
     },
     "output_type": "display_data"
    }
   ],
   "source": [
    "group_plot(size = (12, 5),\n",
    "          a_xdata = group_a['date'],\n",
    "          a_ydata = group_a['conversion'],\n",
    "          b_xdata = group_b['date'],\n",
    "          b_ydata = group_b['conversion'],\n",
    "          title = 'График кумулятивной конверсии',\n",
    "          xlabel = 'Дата',\n",
    "          ylabel = 'Кумулятивная конверсия, %')"
   ]
  },
  {
   "cell_type": "markdown",
   "metadata": {},
   "source": [
    "График показывает, что конверсия группы Б стабильно выше, начиная с конца первой недели проведения эксперимента. При этом с 19.08 конверсия группы Б стабилизируется, колеблется в пределах 0,1% показывая разницу с конверсией группы А примерно в 0,3%."
   ]
  },
  {
   "cell_type": "markdown",
   "metadata": {},
   "source": [
    "### Анализ относительного изменения кумулятивной конверсии"
   ]
  },
  {
   "cell_type": "markdown",
   "metadata": {},
   "source": [
    "Добавим столбцы с конверсией к таблице cumul_revenue:"
   ]
  },
  {
   "cell_type": "code",
   "execution_count": 33,
   "metadata": {},
   "outputs": [],
   "source": [
    "cumul_revenue = cumul_revenue.merge(group_a[['date', 'conversion']], \n",
    "                                    left_on = 'date', \n",
    "                                    right_on = 'date', \n",
    "                                    how = 'left').rename(columns = {'conversion': 'conversion_a'})\n",
    "cumul_revenue = cumul_revenue.merge(group_b[['date', 'conversion']], \n",
    "                                    left_on = 'date', \n",
    "                                    right_on = 'date', \n",
    "                                    how = 'left').rename(columns = {'conversion': 'conversion_b'})"
   ]
  },
  {
   "cell_type": "markdown",
   "metadata": {},
   "source": [
    "И построим соответствующий график:"
   ]
  },
  {
   "cell_type": "code",
   "execution_count": 34,
   "metadata": {
    "scrolled": true
   },
   "outputs": [
    {
     "data": {
      "image/png": "[encoded data removed]",
      "text/plain": [
       "<Figure size 792x360 with 1 Axes>"
      ]
     },
     "metadata": {
      "needs_background": "light"
     },
     "output_type": "display_data"
    }
   ],
   "source": [
    "plt.figure(figsize = (11, 5))\n",
    "plt.plot(cumul_revenue['date'],\n",
    "        ((cumul_revenue['conversion_b'] / cumul_revenue['conversion_a'] - 1)) * 100)\n",
    "plt.title('Относительное изменение кумулятивной конверсии')\n",
    "plt.xlabel('Дата')\n",
    "plt.ylabel('Разница конверсии в %')\n",
    "plt.axhline(y = 0, color = 'black', linestyle = '--');"
   ]
  },
  {
   "cell_type": "markdown",
   "metadata": {},
   "source": [
    "Относительная конверсия группы Б выше также с конца первой недели, притом стабильно выше более, чем на 10%."
   ]
  },
  {
   "cell_type": "markdown",
   "metadata": {},
   "source": [
    "### Анализ количества заказов по пользователям"
   ]
  },
  {
   "cell_type": "markdown",
   "metadata": {},
   "source": [
    "В целях анализа количества заказов по пользователям в первую очередь рассчитаем количество заказов для каждого из пользователей:"
   ]
  },
  {
   "cell_type": "code",
   "execution_count": 35,
   "metadata": {},
   "outputs": [
    {
     "data": {
      "text/html": [
       "<div>\n",
       "<style scoped>\n",
       "    .dataframe tbody tr th:only-of-type {\n",
       "        vertical-align: middle;\n",
       "    }\n",
       "\n",
       "    .dataframe tbody tr th {\n",
       "        vertical-align: top;\n",
       "    }\n",
       "\n",
       "    .dataframe thead th {\n",
       "        text-align: right;\n",
       "    }\n",
       "</style>\n",
       "<table border=\"1\" class=\"dataframe\">\n",
       "  <thead>\n",
       "    <tr style=\"text-align: right;\">\n",
       "      <th></th>\n",
       "      <th>visitor_id</th>\n",
       "      <th>transactions</th>\n",
       "    </tr>\n",
       "  </thead>\n",
       "  <tbody>\n",
       "    <tr>\n",
       "      <th>1023</th>\n",
       "      <td>4256040402</td>\n",
       "      <td>11</td>\n",
       "    </tr>\n",
       "    <tr>\n",
       "      <th>591</th>\n",
       "      <td>2458001652</td>\n",
       "      <td>11</td>\n",
       "    </tr>\n",
       "    <tr>\n",
       "      <th>569</th>\n",
       "      <td>2378935119</td>\n",
       "      <td>9</td>\n",
       "    </tr>\n",
       "    <tr>\n",
       "      <th>487</th>\n",
       "      <td>2038680547</td>\n",
       "      <td>8</td>\n",
       "    </tr>\n",
       "    <tr>\n",
       "      <th>44</th>\n",
       "      <td>199603092</td>\n",
       "      <td>5</td>\n",
       "    </tr>\n",
       "    <tr>\n",
       "      <th>...</th>\n",
       "      <td>...</td>\n",
       "      <td>...</td>\n",
       "    </tr>\n",
       "    <tr>\n",
       "      <th>359</th>\n",
       "      <td>1484903144</td>\n",
       "      <td>1</td>\n",
       "    </tr>\n",
       "    <tr>\n",
       "      <th>360</th>\n",
       "      <td>1485964287</td>\n",
       "      <td>1</td>\n",
       "    </tr>\n",
       "    <tr>\n",
       "      <th>361</th>\n",
       "      <td>1494664757</td>\n",
       "      <td>1</td>\n",
       "    </tr>\n",
       "    <tr>\n",
       "      <th>362</th>\n",
       "      <td>1495112755</td>\n",
       "      <td>1</td>\n",
       "    </tr>\n",
       "    <tr>\n",
       "      <th>1030</th>\n",
       "      <td>4283872382</td>\n",
       "      <td>1</td>\n",
       "    </tr>\n",
       "  </tbody>\n",
       "</table>\n",
       "<p>1031 rows × 2 columns</p>\n",
       "</div>"
      ],
      "text/plain": [
       "      visitor_id  transactions\n",
       "1023  4256040402            11\n",
       "591   2458001652            11\n",
       "569   2378935119             9\n",
       "487   2038680547             8\n",
       "44     199603092             5\n",
       "...          ...           ...\n",
       "359   1484903144             1\n",
       "360   1485964287             1\n",
       "361   1494664757             1\n",
       "362   1495112755             1\n",
       "1030  4283872382             1\n",
       "\n",
       "[1031 rows x 2 columns]"
      ]
     },
     "execution_count": 35,
     "metadata": {},
     "output_type": "execute_result"
    }
   ],
   "source": [
    "orders_by_users = orders.groupby('visitor_id')\\\n",
    ".agg({'transaction_id': 'nunique'})\\\n",
    ".reset_index()\\\n",
    ".rename(columns = {'transaction_id': 'transactions'})\\\n",
    ".sort_values(by = 'transactions', ascending = False)\n",
    "\n",
    "orders_by_users"
   ]
  },
  {
   "cell_type": "markdown",
   "metadata": {},
   "source": [
    "В получившейся таблице мы видим как пользователей с одним заказом, так и пользователей с >10 заказов. Построим гистограмму распределения:"
   ]
  },
  {
   "cell_type": "code",
   "execution_count": 36,
   "metadata": {},
   "outputs": [
    {
     "data": {
      "image/png": "[encoded data removed]",
      "text/plain": [
       "<Figure size 432x288 with 1 Axes>"
      ]
     },
     "metadata": {
      "needs_background": "light"
     },
     "output_type": "display_data"
    }
   ],
   "source": [
    "plt.hist(orders_by_users['transactions'])\n",
    "plt.title('Гистограмма распределения количества заказов по пользователям')\n",
    "plt.xlabel('Количество заказов')\n",
    "plt.ylabel('Количество пользователей');"
   ]
  },
  {
   "cell_type": "markdown",
   "metadata": {},
   "source": [
    "По данным гистограммы большая часть пользователей совершила только один заказ. Посмотрим также точечную диаграмму распределения:"
   ]
  },
  {
   "cell_type": "code",
   "execution_count": 37,
   "metadata": {},
   "outputs": [
    {
     "data": {
      "image/png": "[encoded data removed]",
      "text/plain": [
       "<Figure size 432x288 with 1 Axes>"
      ]
     },
     "metadata": {
      "needs_background": "light"
     },
     "output_type": "display_data"
    }
   ],
   "source": [
    "plt.scatter(range(0,len(orders_by_users)), orders_by_users['transactions'])\n",
    "plt.title('Диаграмма распределения количества заказов по пользователям')\n",
    "plt.xlabel('Количество пользователей')\n",
    "plt.ylabel('Количество заказов');"
   ]
  },
  {
   "cell_type": "markdown",
   "metadata": {},
   "source": [
    "Точечная диаграмма показывает те же результаты, что и гистограмма: абсолютное большинство пользователей совершили только один заказ, а свыше 3 заказов - практически единичные случаи.\n",
    "\n",
    "Рассчитаем 95 и 99 перцентили для определения границы аномальных пользователей:"
   ]
  },
  {
   "cell_type": "code",
   "execution_count": 38,
   "metadata": {},
   "outputs": [
    {
     "data": {
      "text/plain": [
       "array([2., 4.])"
      ]
     },
     "execution_count": 38,
     "metadata": {},
     "output_type": "execute_result"
    }
   ],
   "source": [
    "np.percentile(orders_by_users['transactions'], [95, 99])"
   ]
  },
  {
   "cell_type": "markdown",
   "metadata": {},
   "source": [
    "Всего 5% пользователей оформили более 2 заказов, а 1% пользователей - более 4. На основании графиков и перцентилей примем 2 заказа за верхнюю границу."
   ]
  },
  {
   "cell_type": "markdown",
   "metadata": {},
   "source": [
    "### Анализ стоимости заказов"
   ]
  },
  {
   "cell_type": "markdown",
   "metadata": {},
   "source": [
    "Произведём аналогичные действия для анализа стоимости заказов по пользователям:"
   ]
  },
  {
   "cell_type": "code",
   "execution_count": 39,
   "metadata": {},
   "outputs": [
    {
     "data": {
      "image/png": "[encoded data removed]",
      "text/plain": [
       "<Figure size 432x288 with 1 Axes>"
      ]
     },
     "metadata": {
      "needs_background": "light"
     },
     "output_type": "display_data"
    }
   ],
   "source": [
    "plt.hist(orders['revenue'])\n",
    "plt.title('Гистограмма распределения стоимости заказов')\n",
    "plt.xlabel('Стоимость заказов, млн. руб.')\n",
    "plt.ylabel('Количество заказов');"
   ]
  },
  {
   "cell_type": "markdown",
   "metadata": {},
   "source": [
    "Гистограмма показывает, что стоимость абсолютного большинства заказов находится в пределах 100 000 руб."
   ]
  },
  {
   "cell_type": "code",
   "execution_count": 40,
   "metadata": {},
   "outputs": [
    {
     "data": {
      "image/png": "[encoded data removed]",
      "text/plain": [
       "<Figure size 432x288 with 1 Axes>"
      ]
     },
     "metadata": {
      "needs_background": "light"
     },
     "output_type": "display_data"
    }
   ],
   "source": [
    "plt.scatter(range(0,len(orders)), orders['revenue'])\n",
    "plt.title('Диаграмма распределения стоимости заказов')\n",
    "plt.xlabel('Количество заказов')\n",
    "plt.ylabel('Стоимость заказов, млн. руб.');"
   ]
  },
  {
   "cell_type": "markdown",
   "metadata": {},
   "source": [
    "Диаграмма распределения также отражает большинство заказов в рамках 100 000 руб., а также единичные выбросы около 200 000 руб. и свыше 1 200 000 руб."
   ]
  },
  {
   "cell_type": "markdown",
   "metadata": {},
   "source": [
    "Также рассмотрим аналогичный график, но с ограничением по оси Y, отсекающим аномальные значения:"
   ]
  },
  {
   "cell_type": "code",
   "execution_count": 41,
   "metadata": {},
   "outputs": [
    {
     "data": {
      "image/png": "[encoded data removed]",
      "text/plain": [
       "<Figure size 432x288 with 1 Axes>"
      ]
     },
     "metadata": {
      "needs_background": "light"
     },
     "output_type": "display_data"
    }
   ],
   "source": [
    "plt.scatter(range(0,len(orders)), orders['revenue'])\n",
    "plt.title('Диаграмма распределения стоимости заказов')\n",
    "plt.xlabel('Количество заказов')\n",
    "plt.ylabel('Стоимость заказов, млн. руб.')\n",
    "plt.ylim(0, 200000);"
   ]
  },
  {
   "cell_type": "markdown",
   "metadata": {},
   "source": [
    "В таком масштабе видно, что стоимость большей части заказов - примерно до 25 000 руб."
   ]
  },
  {
   "cell_type": "code",
   "execution_count": 42,
   "metadata": {},
   "outputs": [
    {
     "data": {
      "text/plain": [
       "array([28000. , 58233.2])"
      ]
     },
     "execution_count": 42,
     "metadata": {},
     "output_type": "execute_result"
    }
   ],
   "source": [
    "np.percentile(orders['revenue'], [95, 99])"
   ]
  },
  {
   "cell_type": "markdown",
   "metadata": {},
   "source": [
    "Заказы на сумму свыше 28 000 руб. составляют только 5% от всех заказов, и 1% заказов - дороже 58 233 руб. На основании графиков и перцентилей примем 40 000 руб. за верхнюю границу стоимости заказов."
   ]
  },
  {
   "cell_type": "markdown",
   "metadata": {},
   "source": [
    "### Анализ статистической значимости разницы в конверсии"
   ]
  },
  {
   "cell_type": "markdown",
   "metadata": {},
   "source": [
    "Для анализа статистической значимости конверсии обратимся к таблице orders и выделим из неё две таблицы с разбиением по группам:"
   ]
  },
  {
   "cell_type": "code",
   "execution_count": 43,
   "metadata": {},
   "outputs": [],
   "source": [
    "orders_a = orders[orders['group'] == 'A']\\\n",
    ".groupby('visitor_id', as_index = False)\\\n",
    ".agg({'transaction_id': pd.Series.nunique})\\\n",
    ".rename(columns = {'transaction_id': 'transactions'})\n",
    "\n",
    "orders_b = orders[orders['group'] == 'B']\\\n",
    ".groupby('visitor_id', as_index = False)\\\n",
    ".agg({'transaction_id': pd.Series.nunique})\\\n",
    ".rename(columns = {'transaction_id': 'transactions'})"
   ]
  },
  {
   "cell_type": "markdown",
   "metadata": {},
   "source": [
    "Далее создадим списки с количеством заказов и нулями для пользователей, которые не заказали ничего:"
   ]
  },
  {
   "cell_type": "code",
   "execution_count": 44,
   "metadata": {},
   "outputs": [],
   "source": [
    "sample_a = pd.concat([orders_a['transactions'], \n",
    "                      pd.Series(0, index = np.arange(visitors[visitors['group'] == 'A']['visitors'].sum() \n",
    "                                                     - len(orders_a['transactions'])), \n",
    "                                name = 'transactions')], axis = 0)\n",
    "\n",
    "sample_b = pd.concat([orders_b['transactions'], \n",
    "                      pd.Series(0, index = np.arange(visitors[visitors['group'] == 'B']['visitors'].sum() \n",
    "                                                     - len(orders_b['transactions'])), \n",
    "                                name = 'transactions')], axis = 0)"
   ]
  },
  {
   "cell_type": "markdown",
   "metadata": {},
   "source": [
    "Теперь к этим спискам можно применить критерий Манна-Уитни для расчёта статистической значимости разницы. В качестве α примем значение 0,05. Нулевая гипотеза: \"Статистически значимых различий в конверсии группы А и конверсии группы Б нет\"."
   ]
  },
  {
   "cell_type": "code",
   "execution_count": 45,
   "metadata": {},
   "outputs": [
    {
     "data": {
      "text/plain": [
       "'0.017'"
      ]
     },
     "metadata": {},
     "output_type": "display_data"
    },
    {
     "data": {
      "text/plain": [
       "'0.138'"
      ]
     },
     "metadata": {},
     "output_type": "display_data"
    },
    {
     "data": {
      "text/plain": [
       "'Отвергаем гипотезу об отсутствии статистически значимых различий конверсии'"
      ]
     },
     "metadata": {},
     "output_type": "display_data"
    }
   ],
   "source": [
    "display(\"{0:.3f}\".format(stats.mannwhitneyu(sample_a, sample_b)[1]))\n",
    "display(\"{0:.3f}\".format(sample_b.mean() / sample_a.mean() - 1))\n",
    "if stats.mannwhitneyu(sample_a, sample_b)[1] < 0.05:\n",
    "    display('Отвергаем гипотезу об отсутствии статистически значимых различий конверсии')\n",
    "else:\n",
    "    display('Нет оснований отвергать гипотезу об отсутствии статистически значимых различий конверсии')"
   ]
  },
  {
   "cell_type": "markdown",
   "metadata": {},
   "source": [
    "В результате применения критерия Манна-Уитни мы получили p-value 0,017, что позволяет нам говорить о том, что статистическая разница конверсии групп имеет место. Относительная разница конверсии группы Б - 13,8%.\n",
    "\n",
    "Однако мы ещё не исключали из выборок аномальные заказы и пользователей с большим количеством покупок - это может изменить картину."
   ]
  },
  {
   "cell_type": "markdown",
   "metadata": {},
   "source": [
    "### Анализ статистической значимости разницы среднего чека"
   ]
  },
  {
   "cell_type": "markdown",
   "metadata": {},
   "source": [
    "Применим критерий Манна-Уитни для расчёта статистической значимости разницы. В качестве α примем значение 0,05. Нулевая гипотеза: \"Статистически значимых различий в среднем чеке группы А и среднем чеке группы Б нет\"."
   ]
  },
  {
   "cell_type": "code",
   "execution_count": 46,
   "metadata": {},
   "outputs": [
    {
     "data": {
      "text/plain": [
       "'0.729'"
      ]
     },
     "metadata": {},
     "output_type": "display_data"
    },
    {
     "data": {
      "text/plain": [
       "'0.259'"
      ]
     },
     "metadata": {},
     "output_type": "display_data"
    },
    {
     "data": {
      "text/plain": [
       "'Нет оснований отвергать гипотезу об отсутствии статистически значимых различий среднего чека'"
      ]
     },
     "metadata": {},
     "output_type": "display_data"
    }
   ],
   "source": [
    "display(\"{0:.3f}\".format(stats.mannwhitneyu(orders[orders['group'] == 'A']['revenue'], \n",
    "                                            orders[orders['group'] == 'B']['revenue'])[1]))\n",
    "display(\"{0:.3f}\".format(orders[orders['group'] == 'B']['revenue'].mean() \n",
    "                         / orders[orders['group'] == 'A']['revenue'].mean() - 1))\n",
    "if stats.mannwhitneyu(orders[orders['group'] == 'A']['revenue'], orders[orders['group'] == 'B']['revenue'])[1] < 0.05:\n",
    "    display('Отвергаем гипотезу об отсутствии статистически значимых различий среднего чека')\n",
    "else:\n",
    "    display('Нет оснований отвергать гипотезу об отсутствии статистически значимых различий среднего чека')"
   ]
  },
  {
   "cell_type": "markdown",
   "metadata": {},
   "source": [
    "Мы получили довольно высокое значение p-value, что говорит о том, что отвергнуть гипотезу отсутствии разницы среднего чека мы не можем. Однако относительная разница среднего чека группы Б - 25,9%. \n",
    "\n",
    "Опять же, после фильтрации данных от \"выбросов\" мы, возможно, увидим другие результаты."
   ]
  },
  {
   "cell_type": "markdown",
   "metadata": {},
   "source": [
    "### Анализ статистической значимости разницы в конверсии по \"очищенным\" данным"
   ]
  },
  {
   "cell_type": "markdown",
   "metadata": {},
   "source": [
    "Вернёмся к пунктам 2.7 и 2.8 проекта, где мы проводили анализ количества заказов по пользователям и анализ стоимости заказов. Тогда на основе получившихся графиков и перцентилей мы приняли верхние границы:\n",
    "- 2 заказа на пользователя;\n",
    "- 40 000 руб. для стоимости заказа.\n",
    "\n",
    "У нас уже есть таблицы с заказами пользователей по группам (orders_a и orders_b). На основе данных этих таблиц составим таблицу с пользователями, которые совершили более 2 заказов:"
   ]
  },
  {
   "cell_type": "code",
   "execution_count": 47,
   "metadata": {},
   "outputs": [],
   "source": [
    "users_wmany_orders = pd.concat([orders_a[orders_a['transactions'] > 2]['visitor_id'],\n",
    "                               orders_b[orders_b['transactions'] > 2]['visitor_id']],\n",
    "                              axis = 0)"
   ]
  },
  {
   "cell_type": "markdown",
   "metadata": {},
   "source": [
    "К получившейся таблице добавим пользователей с большими заказами и посмотрим, сколько пользователей мы будем отсекать в качестве аномальных:"
   ]
  },
  {
   "cell_type": "code",
   "execution_count": 48,
   "metadata": {},
   "outputs": [
    {
     "data": {
      "text/plain": [
       "45"
      ]
     },
     "execution_count": 48,
     "metadata": {},
     "output_type": "execute_result"
    }
   ],
   "source": [
    "abnorm_users = pd.concat([users_wmany_orders,\n",
    "                         orders[orders['revenue'] > 40000]['visitor_id']],\n",
    "                        axis = 0)\n",
    "abnorm_users.nunique()"
   ]
  },
  {
   "cell_type": "markdown",
   "metadata": {},
   "source": [
    "Это около 4% всех пользователей."
   ]
  },
  {
   "cell_type": "markdown",
   "metadata": {},
   "source": [
    "Мы получили таблицу с пользователями, чьи заказы мы считаем \"выбросами\". Теперь подготовим таблицы для применения критерия Манна-Уитни, исключив этих пользователей из данных:"
   ]
  },
  {
   "cell_type": "code",
   "execution_count": 49,
   "metadata": {},
   "outputs": [],
   "source": [
    "filt_sample_a = pd.concat([orders_a[np.logical_not(orders_a['visitor_id'].isin(abnorm_users))]['transactions'],\n",
    "                          pd.Series(0, index = np.arange(visitors[visitors['group'] == 'A']['visitors'].sum() \n",
    "                                                     - len(orders_a['transactions'])), name = 'transactions')],\n",
    "                         axis = 0)\n",
    "filt_sample_b = pd.concat([orders_b[np.logical_not(orders_b['visitor_id'].isin(abnorm_users))]['transactions'],\n",
    "                          pd.Series(0, index = np.arange(visitors[visitors['group'] == 'B']['visitors'].sum() \n",
    "                                                     - len(orders_b['transactions'])), name = 'transactions')],\n",
    "                         axis = 0)"
   ]
  },
  {
   "cell_type": "markdown",
   "metadata": {},
   "source": [
    "И применим критерий Манна-Уитни. В качестве α примем значение 0,05. Нулевая гипотеза: \"Статистически значимых различий в конверсии группы А и конверсии группы Б нет\"."
   ]
  },
  {
   "cell_type": "code",
   "execution_count": 50,
   "metadata": {},
   "outputs": [
    {
     "data": {
      "text/plain": [
       "'0.007'"
      ]
     },
     "metadata": {},
     "output_type": "display_data"
    },
    {
     "data": {
      "text/plain": [
       "'0.188'"
      ]
     },
     "metadata": {},
     "output_type": "display_data"
    },
    {
     "data": {
      "text/plain": [
       "'Отвергаем гипотезу об отсутствии статистически значимых различий конверсии'"
      ]
     },
     "metadata": {},
     "output_type": "display_data"
    }
   ],
   "source": [
    "display(\"{0:.3f}\".format(stats.mannwhitneyu(filt_sample_a, filt_sample_b)[1]))\n",
    "display(\"{0:.3f}\".format(filt_sample_b.mean() / filt_sample_a.mean() - 1))\n",
    "if stats.mannwhitneyu(filt_sample_a, filt_sample_b)[1] < 0.05:\n",
    "    display('Отвергаем гипотезу об отсутствии статистически значимых различий конверсии')\n",
    "else:\n",
    "    display('Нет оснований отвергать гипотезу об отсутствии статистически значимых различий конверсии')"
   ]
  },
  {
   "cell_type": "markdown",
   "metadata": {},
   "source": [
    "В результате применения критерия Манна-Уитни к \"очищенным\" данным мы получили p-value 0,007, что по-прежнему позволяет нам отвергнуть гипотезу об отсутствии разницы конверсий. Изменилась относительная разница конверсии группы Б - теперь она составляет 18,8%."
   ]
  },
  {
   "cell_type": "markdown",
   "metadata": {},
   "source": [
    "### Анализ статистической значимости разницы среднего чека по \"очищенным\" данным"
   ]
  },
  {
   "cell_type": "markdown",
   "metadata": {},
   "source": [
    "Применим критерий Манна-Уитни для расчёта статистической значимости разницы. В качестве α примем значение 0,05. Нулевая гипотеза: \"Статистически значимых различий в среднем чеке группы А и среднем чеке группы Б нет\"."
   ]
  },
  {
   "cell_type": "code",
   "execution_count": 51,
   "metadata": {},
   "outputs": [
    {
     "data": {
      "text/plain": [
       "'0.944'"
      ]
     },
     "metadata": {},
     "output_type": "display_data"
    },
    {
     "data": {
      "text/plain": [
       "'0.058'"
      ]
     },
     "metadata": {},
     "output_type": "display_data"
    },
    {
     "data": {
      "text/plain": [
       "'Нет оснований отвергать гипотезу об отсутствии статистически значимых различий среднего чека'"
      ]
     },
     "metadata": {},
     "output_type": "display_data"
    }
   ],
   "source": [
    "display(\"{0:.3f}\".format(stats.mannwhitneyu(\n",
    "    orders[np.logical_and(orders['group'] == 'A', \n",
    "                          np.logical_not(orders['visitor_id'].isin(abnorm_users)),)]['revenue'], \n",
    "orders[np.logical_and(orders['group'] == 'B', \n",
    "                          np.logical_not(orders['visitor_id'].isin(abnorm_users)),)]['revenue'])[1]))\n",
    "display(\"{0:.3f}\".format(orders[np.logical_and(orders['group'] == 'B', \n",
    "                          np.logical_not(orders['visitor_id'].isin(abnorm_users)),)]['revenue'].mean()\n",
    "                        / orders[np.logical_and(orders['group'] == 'A', \n",
    "                          np.logical_not(orders['visitor_id'].isin(abnorm_users)),)]['revenue'].mean()\n",
    "                        - 1))\n",
    "if stats.mannwhitneyu(orders[np.logical_and(orders['group'] == 'A',\n",
    "                                            np.logical_not(orders['visitor_id'].isin(abnorm_users)),)]['revenue'],\n",
    "                      orders[np.logical_and(orders['group'] == 'B',\n",
    "                                            np.logical_not(orders['visitor_id'].isin(abnorm_users)),)]['revenue'])[1] < 0.05:\n",
    "    display('Отвергаем гипотезу об отсутствии статистически значимых различий среднего чека')\n",
    "else:\n",
    "    display('Нет оснований отвергать гипотезу об отсутствии статистически значимых различий среднего чека')"
   ]
  },
  {
   "cell_type": "markdown",
   "metadata": {},
   "source": [
    "В данном случае после фильтрации данных мы получили ещё более высокий показатель p-value и, соответственно, меньшую относительную разницу среднего чека группы Б - теперь она составляет только 5,8%."
   ]
  },
  {
   "cell_type": "markdown",
   "metadata": {},
   "source": [
    "## Вывод"
   ]
  },
  {
   "cell_type": "markdown",
   "metadata": {},
   "source": [
    "Мы провели анализ данных A/B-теста. В ходе анализа выявлено:\n",
    "\n",
    "1. Кумулятивная выручка группы Б стабильно выше выручки группы А начиная с 19.08.2019 почти на 2 млн. руб. Веротно, это обусловлено тем, что для видимых изменений необходимо было, чтобы прошло некоторое время (например, если мы исследовали гипотезу, приоритизированную ранее методом RICE, с момента добавления на страницы сайта формы для e-mail рассылок до момента первой рассылки могло пройти некоторое время: добавили форму на сайт и начали проведение теста 01.08, а первую рассылку по собранной базе запустили 19.08);\n",
    "2. Кумулятивный средний чек группы Б после колебаний также стал резко выше с 19.08 почти на 3 000 руб., но постепенно снижается. И это снова, вероятнее всего, обусловлено необходимостью прохождения определённого количества времени с начала эксперимента, или же крупными заказами на старте рассылки;\n",
    "3. График относительного изменения кумулятивного среднего чека не стабилен, на графике заметны резкие увеличения и уменьшения разницы между группами. Это говорит о том, что в данных есть выбросы - особенно крупные заказы;\n",
    "4. Конверсия группы Б стабильно выше, начиная с конца первой недели проведения эксперимента. При этом с 19.08 конверсия группы Б стабилизируется, колеблется в пределах 0,1% показывая разницу с конверсией группы А примерно в 0,3%.\n",
    "5. Относительная конверсия группы Б выше также с конца первой недели, притом стабильно выше более, чем на 10%;\n",
    "6. Абсолютное большинство пользователей совершили только один заказ. Всего 5% пользователей оформили более 2 заказов, а 1% пользователей - более 4;\n",
    "7. Большинство заказов в рамках 100 000 руб. Заказы на сумму свыше 28 000 руб. составляют только 5% от всех заказов, и 1% заказов - дороже 58 233 руб.;\n",
    "8. Пользователи, совершившие более 2 заказов и заказы стоимостью более 40 000 руб. были признаны аномалиями;\n",
    "9. В результате применения критерия Манна-Уитни к \"сырым\" данным мы получили p-value 0,017, что позволяет нам говорить о том, что конверсии групп не равны друг другу. Относительная разница конверсии группы Б - 13,8%;\n",
    "10. Отвергнуть гипотезу о равенстве среднего чека на основании \"сырых\" данных не получилось. Однако относительная разница среднего чека группы Б - 25,9%;\n",
    "11. В результате применения критерия Манна-Уитни к \"очищенным\" данным мы получили p-value 0,007, что по-прежнему позволяет нам отвергнуть гипотезу о равенстве конверсий. Изменилась относительная разница конверсии группы Б - теперь она составляет 18,8%;\n",
    "12. Отвергнуть гипотезу о равенстве среднего чека на основании \"очищенных\" данных также не получилось. Однако мы получили меньшую относительную разницу среднего чека группы Б - теперь она составляет только 5,8%.\n",
    "\n",
    "Также была проведена приоритизация гипотез двумя методами: **ICE** и **RICE**. Поскольку при использовании фреймворка **RICE** мы дополнительно оцениваем количество пользователей, на которых повлияет вносимое изменение, приоритетные гипотезы оказались разными в результате применения разных методов. В отличие от приоритизированной методом **ICE** гипотезы, приоритизированная методом **RICE** затронет всех пользователей сайта на протяжении периода проведения теста."
   ]
  },
  {
   "cell_type": "markdown",
   "metadata": {},
   "source": [
    "## Вердикт"
   ]
  },
  {
   "cell_type": "markdown",
   "metadata": {},
   "source": [
    "Тест может быть остановлен, поскольку зафиксирована победа группы Б. Конверсия этой группы значительно выше при отстутсвии разницы в среднем чеке."
   ]
  }
 ],
 "metadata": {
  "ExecuteTimeLog": [
   {
    "duration": 89,
    "start_time": "2022-09-27T13:58:05.183Z"
   },
   {
    "duration": 375,
    "start_time": "2022-09-27T13:58:09.572Z"
   },
   {
    "duration": 77,
    "start_time": "2022-09-27T13:58:44.725Z"
   },
   {
    "duration": 30,
    "start_time": "2022-09-27T14:01:36.494Z"
   },
   {
    "duration": 3,
    "start_time": "2022-09-27T14:13:37.740Z"
   },
   {
    "duration": 7,
    "start_time": "2022-09-27T14:13:43.772Z"
   },
   {
    "duration": 6,
    "start_time": "2022-09-27T14:21:01.581Z"
   },
   {
    "duration": 9,
    "start_time": "2022-09-27T14:21:05.696Z"
   },
   {
    "duration": 4,
    "start_time": "2022-09-27T14:23:03.352Z"
   },
   {
    "duration": 5,
    "start_time": "2022-09-27T14:23:11.264Z"
   },
   {
    "duration": 58,
    "start_time": "2022-09-27T14:23:29.508Z"
   },
   {
    "duration": 8,
    "start_time": "2022-09-27T14:23:35.121Z"
   },
   {
    "duration": 8,
    "start_time": "2022-09-27T14:23:49.809Z"
   },
   {
    "duration": 8,
    "start_time": "2022-09-27T14:24:28.465Z"
   },
   {
    "duration": 334,
    "start_time": "2022-09-27T14:25:01.360Z"
   },
   {
    "duration": 36,
    "start_time": "2022-09-27T14:25:01.697Z"
   },
   {
    "duration": 3,
    "start_time": "2022-09-27T14:25:01.734Z"
   },
   {
    "duration": 7,
    "start_time": "2022-09-27T14:25:01.739Z"
   },
   {
    "duration": 11,
    "start_time": "2022-09-27T14:25:01.747Z"
   },
   {
    "duration": 57,
    "start_time": "2022-09-27T14:26:03.393Z"
   },
   {
    "duration": 3,
    "start_time": "2022-09-27T14:26:46.459Z"
   },
   {
    "duration": 6,
    "start_time": "2022-09-27T14:26:51.002Z"
   },
   {
    "duration": 8,
    "start_time": "2022-09-27T14:27:36.738Z"
   },
   {
    "duration": 9,
    "start_time": "2022-09-27T14:27:40.283Z"
   },
   {
    "duration": 42,
    "start_time": "2022-09-27T16:14:22.899Z"
   },
   {
    "duration": 387,
    "start_time": "2022-09-27T16:14:27.951Z"
   },
   {
    "duration": 96,
    "start_time": "2022-09-27T16:14:30.303Z"
   },
   {
    "duration": 36,
    "start_time": "2022-09-27T16:14:37.237Z"
   },
   {
    "duration": 3,
    "start_time": "2022-09-27T16:14:41.738Z"
   },
   {
    "duration": 5,
    "start_time": "2022-09-27T16:14:44.539Z"
   },
   {
    "duration": 9,
    "start_time": "2022-09-27T16:14:46.813Z"
   },
   {
    "duration": 4,
    "start_time": "2022-09-27T16:40:11.556Z"
   },
   {
    "duration": 3,
    "start_time": "2022-09-27T16:41:45.355Z"
   },
   {
    "duration": 11,
    "start_time": "2022-09-27T16:42:02.644Z"
   },
   {
    "duration": 4,
    "start_time": "2022-09-27T16:42:43.020Z"
   },
   {
    "duration": 10,
    "start_time": "2022-09-27T16:42:45.734Z"
   },
   {
    "duration": 81,
    "start_time": "2022-09-27T17:16:42.575Z"
   },
   {
    "duration": 52,
    "start_time": "2022-09-27T17:16:56.313Z"
   },
   {
    "duration": 11,
    "start_time": "2022-09-27T17:20:12.363Z"
   },
   {
    "duration": 13,
    "start_time": "2022-09-27T17:22:28.521Z"
   },
   {
    "duration": 7,
    "start_time": "2022-09-27T17:22:38.188Z"
   },
   {
    "duration": 3,
    "start_time": "2022-09-27T17:24:03.591Z"
   },
   {
    "duration": 13,
    "start_time": "2022-09-27T17:24:08.100Z"
   },
   {
    "duration": 12,
    "start_time": "2022-09-27T17:24:12.979Z"
   },
   {
    "duration": 11,
    "start_time": "2022-09-27T17:24:26.078Z"
   },
   {
    "duration": 9,
    "start_time": "2022-09-27T17:25:56.186Z"
   },
   {
    "duration": 8,
    "start_time": "2022-09-27T17:26:03.811Z"
   },
   {
    "duration": 7,
    "start_time": "2022-09-27T17:26:19.466Z"
   },
   {
    "duration": 10,
    "start_time": "2022-09-27T17:26:47.726Z"
   },
   {
    "duration": 72,
    "start_time": "2022-09-27T17:28:24.648Z"
   },
   {
    "duration": 13,
    "start_time": "2022-09-27T17:28:37.878Z"
   },
   {
    "duration": 683,
    "start_time": "2022-09-27T17:30:08.816Z"
   },
   {
    "duration": 11,
    "start_time": "2022-09-27T17:30:27.550Z"
   },
   {
    "duration": 6,
    "start_time": "2022-09-27T17:32:56.301Z"
   },
   {
    "duration": 3,
    "start_time": "2022-09-27T17:33:08.079Z"
   },
   {
    "duration": 10,
    "start_time": "2022-09-27T17:33:11.398Z"
   },
   {
    "duration": 7,
    "start_time": "2022-09-27T17:49:04.983Z"
   },
   {
    "duration": 5,
    "start_time": "2022-09-27T17:49:19.413Z"
   },
   {
    "duration": 6,
    "start_time": "2022-09-27T17:49:31.692Z"
   },
   {
    "duration": 6,
    "start_time": "2022-09-27T18:03:57.733Z"
   },
   {
    "duration": 6,
    "start_time": "2022-09-27T18:11:23.888Z"
   },
   {
    "duration": 126,
    "start_time": "2022-09-27T18:20:16.544Z"
   },
   {
    "duration": 16,
    "start_time": "2022-09-27T18:20:38.838Z"
   },
   {
    "duration": 3,
    "start_time": "2022-09-27T18:21:02.845Z"
   },
   {
    "duration": 904,
    "start_time": "2022-09-27T18:21:09.988Z"
   },
   {
    "duration": 401,
    "start_time": "2022-09-27T18:21:46.485Z"
   },
   {
    "duration": 36,
    "start_time": "2022-09-27T18:21:46.888Z"
   },
   {
    "duration": 4,
    "start_time": "2022-09-27T18:21:46.926Z"
   },
   {
    "duration": 7,
    "start_time": "2022-09-27T18:21:46.931Z"
   },
   {
    "duration": 8,
    "start_time": "2022-09-27T18:21:46.940Z"
   },
   {
    "duration": 4,
    "start_time": "2022-09-27T18:21:46.950Z"
   },
   {
    "duration": 10,
    "start_time": "2022-09-27T18:21:46.955Z"
   },
   {
    "duration": 44,
    "start_time": "2022-09-27T18:21:46.966Z"
   },
   {
    "duration": 9,
    "start_time": "2022-09-27T18:21:47.011Z"
   },
   {
    "duration": 6,
    "start_time": "2022-09-27T18:21:47.022Z"
   },
   {
    "duration": 13,
    "start_time": "2022-09-27T18:21:47.029Z"
   },
   {
    "duration": 21,
    "start_time": "2022-09-27T18:21:47.043Z"
   },
   {
    "duration": 9,
    "start_time": "2022-09-27T18:21:47.065Z"
   },
   {
    "duration": 5,
    "start_time": "2022-09-27T18:21:47.075Z"
   },
   {
    "duration": 24,
    "start_time": "2022-09-27T18:21:47.081Z"
   },
   {
    "duration": 5,
    "start_time": "2022-09-27T18:21:47.107Z"
   },
   {
    "duration": 6,
    "start_time": "2022-09-27T18:21:47.113Z"
   },
   {
    "duration": 1026,
    "start_time": "2022-09-27T18:21:47.121Z"
   },
   {
    "duration": 1078,
    "start_time": "2022-09-27T18:22:32.581Z"
   },
   {
    "duration": 1047,
    "start_time": "2022-09-27T18:24:06.088Z"
   },
   {
    "duration": 916,
    "start_time": "2022-09-27T18:26:28.912Z"
   },
   {
    "duration": 839,
    "start_time": "2022-09-27T18:27:18.363Z"
   },
   {
    "duration": 973,
    "start_time": "2022-09-27T18:27:53.415Z"
   },
   {
    "duration": 10,
    "start_time": "2022-09-27T18:28:24.537Z"
   },
   {
    "duration": 1005,
    "start_time": "2022-09-27T18:28:30.743Z"
   },
   {
    "duration": 874,
    "start_time": "2022-09-27T18:29:14.859Z"
   },
   {
    "duration": 394,
    "start_time": "2022-09-28T13:33:52.724Z"
   },
   {
    "duration": 85,
    "start_time": "2022-09-28T13:33:53.120Z"
   },
   {
    "duration": 4,
    "start_time": "2022-09-28T13:33:53.207Z"
   },
   {
    "duration": 7,
    "start_time": "2022-09-28T13:33:53.213Z"
   },
   {
    "duration": 12,
    "start_time": "2022-09-28T13:33:53.221Z"
   },
   {
    "duration": 7,
    "start_time": "2022-09-28T13:33:53.234Z"
   },
   {
    "duration": 12,
    "start_time": "2022-09-28T13:33:53.242Z"
   },
   {
    "duration": 82,
    "start_time": "2022-09-28T13:33:53.256Z"
   },
   {
    "duration": 11,
    "start_time": "2022-09-28T13:33:53.339Z"
   },
   {
    "duration": 7,
    "start_time": "2022-09-28T13:33:53.353Z"
   },
   {
    "duration": 14,
    "start_time": "2022-09-28T13:33:53.361Z"
   },
   {
    "duration": 65,
    "start_time": "2022-09-28T13:33:53.377Z"
   },
   {
    "duration": 9,
    "start_time": "2022-09-28T13:33:53.444Z"
   },
   {
    "duration": 7,
    "start_time": "2022-09-28T13:33:53.455Z"
   },
   {
    "duration": 12,
    "start_time": "2022-09-28T13:33:53.463Z"
   },
   {
    "duration": 9,
    "start_time": "2022-09-28T13:33:53.477Z"
   },
   {
    "duration": 6,
    "start_time": "2022-09-28T13:33:53.488Z"
   },
   {
    "duration": 1118,
    "start_time": "2022-09-28T13:33:53.496Z"
   },
   {
    "duration": 21,
    "start_time": "2022-09-28T13:37:17.200Z"
   },
   {
    "duration": 23,
    "start_time": "2022-09-28T13:37:42.803Z"
   },
   {
    "duration": 187,
    "start_time": "2022-09-28T13:38:54.482Z"
   },
   {
    "duration": 202,
    "start_time": "2022-09-28T13:39:28.636Z"
   },
   {
    "duration": 160,
    "start_time": "2022-09-28T13:39:36.927Z"
   },
   {
    "duration": 8,
    "start_time": "2022-09-28T13:41:12.206Z"
   },
   {
    "duration": 7,
    "start_time": "2022-09-28T14:03:04.955Z"
   },
   {
    "duration": 159,
    "start_time": "2022-09-28T14:03:07.836Z"
   },
   {
    "duration": 8,
    "start_time": "2022-09-28T14:03:09.358Z"
   },
   {
    "duration": 74,
    "start_time": "2022-09-28T14:38:18.300Z"
   },
   {
    "duration": 955,
    "start_time": "2022-09-28T14:38:25.288Z"
   },
   {
    "duration": 159,
    "start_time": "2022-09-28T14:39:13.291Z"
   },
   {
    "duration": 139,
    "start_time": "2022-09-28T14:40:41.069Z"
   },
   {
    "duration": 7,
    "start_time": "2022-09-28T14:45:04.137Z"
   },
   {
    "duration": 7,
    "start_time": "2022-09-28T15:41:15.589Z"
   },
   {
    "duration": 9,
    "start_time": "2022-09-28T15:41:27.329Z"
   },
   {
    "duration": 7,
    "start_time": "2022-09-28T15:44:09.511Z"
   },
   {
    "duration": 9,
    "start_time": "2022-09-28T15:44:11.323Z"
   },
   {
    "duration": 7,
    "start_time": "2022-09-28T15:45:19.117Z"
   },
   {
    "duration": 13,
    "start_time": "2022-09-28T15:46:21.427Z"
   },
   {
    "duration": 97,
    "start_time": "2022-09-28T15:47:25.722Z"
   },
   {
    "duration": 10,
    "start_time": "2022-09-28T15:47:46.079Z"
   },
   {
    "duration": 10,
    "start_time": "2022-09-28T15:47:51.221Z"
   },
   {
    "duration": 9,
    "start_time": "2022-09-28T15:47:57.595Z"
   },
   {
    "duration": 8,
    "start_time": "2022-09-28T15:48:01.750Z"
   },
   {
    "duration": 6,
    "start_time": "2022-09-28T15:48:34.009Z"
   },
   {
    "duration": 5,
    "start_time": "2022-09-28T15:51:05.266Z"
   },
   {
    "duration": 8,
    "start_time": "2022-09-28T15:53:16.047Z"
   },
   {
    "duration": 403,
    "start_time": "2022-09-28T15:53:43.366Z"
   },
   {
    "duration": 260,
    "start_time": "2022-09-28T15:53:49.652Z"
   },
   {
    "duration": 175,
    "start_time": "2022-09-28T15:53:56.525Z"
   },
   {
    "duration": 252,
    "start_time": "2022-09-28T15:54:32.760Z"
   },
   {
    "duration": 170,
    "start_time": "2022-09-28T15:54:45.069Z"
   },
   {
    "duration": 158,
    "start_time": "2022-09-28T15:58:41.516Z"
   },
   {
    "duration": 277,
    "start_time": "2022-09-28T16:01:27.698Z"
   },
   {
    "duration": 192,
    "start_time": "2022-09-28T16:01:39.188Z"
   },
   {
    "duration": 228,
    "start_time": "2022-09-28T16:01:44.384Z"
   },
   {
    "duration": 383,
    "start_time": "2022-09-28T16:01:52.875Z"
   },
   {
    "duration": 195,
    "start_time": "2022-09-28T16:01:57.740Z"
   },
   {
    "duration": 198,
    "start_time": "2022-09-28T16:03:43.932Z"
   },
   {
    "duration": 203,
    "start_time": "2022-09-28T16:04:51.135Z"
   },
   {
    "duration": 14,
    "start_time": "2022-09-28T16:04:59.498Z"
   },
   {
    "duration": 14,
    "start_time": "2022-09-28T16:05:09.892Z"
   },
   {
    "duration": 234,
    "start_time": "2022-09-28T16:06:54.449Z"
   },
   {
    "duration": 85,
    "start_time": "2022-09-28T16:23:45.902Z"
   },
   {
    "duration": 276,
    "start_time": "2022-09-28T16:26:18.362Z"
   },
   {
    "duration": 209,
    "start_time": "2022-09-28T16:26:26.664Z"
   },
   {
    "duration": 98,
    "start_time": "2022-09-28T16:30:35.708Z"
   },
   {
    "duration": 180,
    "start_time": "2022-09-28T16:32:37.901Z"
   },
   {
    "duration": 205,
    "start_time": "2022-09-28T16:33:12.212Z"
   },
   {
    "duration": 163,
    "start_time": "2022-09-28T16:39:31.053Z"
   },
   {
    "duration": 152,
    "start_time": "2022-09-28T16:39:56.041Z"
   },
   {
    "duration": 127,
    "start_time": "2022-09-28T16:40:04.218Z"
   },
   {
    "duration": 156,
    "start_time": "2022-09-28T16:45:13.756Z"
   },
   {
    "duration": 167,
    "start_time": "2022-09-28T17:05:14.249Z"
   },
   {
    "duration": 164,
    "start_time": "2022-09-28T17:05:36.661Z"
   },
   {
    "duration": 129,
    "start_time": "2022-09-28T17:06:04.539Z"
   },
   {
    "duration": 230,
    "start_time": "2022-09-28T17:19:33.307Z"
   },
   {
    "duration": 9,
    "start_time": "2022-09-28T17:25:41.041Z"
   },
   {
    "duration": 4,
    "start_time": "2022-09-28T17:25:57.167Z"
   },
   {
    "duration": 4,
    "start_time": "2022-09-28T17:26:33.699Z"
   },
   {
    "duration": 1411,
    "start_time": "2022-09-28T17:27:23.180Z"
   },
   {
    "duration": 19,
    "start_time": "2022-09-28T17:27:37.528Z"
   },
   {
    "duration": 4,
    "start_time": "2022-09-28T17:28:03.057Z"
   },
   {
    "duration": 8,
    "start_time": "2022-09-28T17:28:08.748Z"
   },
   {
    "duration": 7,
    "start_time": "2022-09-28T17:28:49.817Z"
   },
   {
    "duration": 13,
    "start_time": "2022-09-28T17:29:59.804Z"
   },
   {
    "duration": 12,
    "start_time": "2022-09-28T17:30:45.903Z"
   },
   {
    "duration": 12,
    "start_time": "2022-09-28T17:30:50.860Z"
   },
   {
    "duration": 12,
    "start_time": "2022-09-28T17:30:57.298Z"
   },
   {
    "duration": 11,
    "start_time": "2022-09-28T17:31:05.598Z"
   },
   {
    "duration": 9,
    "start_time": "2022-09-28T17:31:42.071Z"
   },
   {
    "duration": 77,
    "start_time": "2022-09-28T18:38:10.150Z"
   },
   {
    "duration": 35,
    "start_time": "2022-09-28T18:38:19.384Z"
   },
   {
    "duration": 7,
    "start_time": "2022-09-28T18:38:49.276Z"
   },
   {
    "duration": 14,
    "start_time": "2022-09-28T18:39:29.389Z"
   },
   {
    "duration": 13,
    "start_time": "2022-09-28T18:39:44.076Z"
   },
   {
    "duration": 15,
    "start_time": "2022-09-28T18:39:57.871Z"
   },
   {
    "duration": 19,
    "start_time": "2022-09-28T18:40:16.606Z"
   },
   {
    "duration": 3,
    "start_time": "2022-09-28T18:42:47.366Z"
   },
   {
    "duration": 6,
    "start_time": "2022-09-28T18:43:27.906Z"
   },
   {
    "duration": 15,
    "start_time": "2022-09-28T18:43:34.288Z"
   },
   {
    "duration": 15,
    "start_time": "2022-09-28T18:43:58.847Z"
   },
   {
    "duration": 104,
    "start_time": "2022-09-28T18:45:47.142Z"
   },
   {
    "duration": 13,
    "start_time": "2022-09-28T18:46:54.477Z"
   },
   {
    "duration": 7,
    "start_time": "2022-09-28T18:47:16.446Z"
   },
   {
    "duration": 197,
    "start_time": "2022-09-28T18:48:23.679Z"
   },
   {
    "duration": 198,
    "start_time": "2022-09-28T18:49:33.879Z"
   },
   {
    "duration": 6,
    "start_time": "2022-09-28T18:51:03.847Z"
   },
   {
    "duration": 13,
    "start_time": "2022-09-28T18:51:28.345Z"
   },
   {
    "duration": 13,
    "start_time": "2022-09-28T18:51:40.100Z"
   },
   {
    "duration": 6,
    "start_time": "2022-09-28T18:51:52.565Z"
   },
   {
    "duration": 12,
    "start_time": "2022-09-28T18:52:02.328Z"
   },
   {
    "duration": 200,
    "start_time": "2022-09-28T18:55:41.452Z"
   },
   {
    "duration": 321,
    "start_time": "2022-09-28T18:56:32.540Z"
   },
   {
    "duration": 12,
    "start_time": "2022-09-28T19:11:51.852Z"
   },
   {
    "duration": 8,
    "start_time": "2022-09-28T19:13:59.443Z"
   },
   {
    "duration": 14,
    "start_time": "2022-09-28T19:14:11.890Z"
   },
   {
    "duration": 7,
    "start_time": "2022-09-28T19:14:55.566Z"
   },
   {
    "duration": 203,
    "start_time": "2022-09-28T19:17:35.601Z"
   },
   {
    "duration": 16,
    "start_time": "2022-09-28T19:35:11.596Z"
   },
   {
    "duration": 15,
    "start_time": "2022-09-28T19:36:12.588Z"
   },
   {
    "duration": 13,
    "start_time": "2022-09-28T19:38:13.947Z"
   },
   {
    "duration": 170,
    "start_time": "2022-09-28T19:39:39.883Z"
   },
   {
    "duration": 130,
    "start_time": "2022-09-28T19:39:49.207Z"
   },
   {
    "duration": 156,
    "start_time": "2022-09-28T19:40:10.384Z"
   },
   {
    "duration": 117,
    "start_time": "2022-09-28T19:40:15.513Z"
   },
   {
    "duration": 13,
    "start_time": "2022-09-28T19:40:29.863Z"
   },
   {
    "duration": 7,
    "start_time": "2022-09-28T19:40:34.251Z"
   },
   {
    "duration": 209,
    "start_time": "2022-09-28T19:40:36.547Z"
   },
   {
    "duration": 195,
    "start_time": "2022-09-28T19:40:51.337Z"
   },
   {
    "duration": 12,
    "start_time": "2022-09-28T19:41:06.077Z"
   },
   {
    "duration": 285,
    "start_time": "2022-09-28T19:41:09.358Z"
   },
   {
    "duration": 15,
    "start_time": "2022-09-28T19:41:14.093Z"
   },
   {
    "duration": 6,
    "start_time": "2022-09-28T19:44:32.018Z"
   },
   {
    "duration": 1177,
    "start_time": "2022-09-28T19:44:50.904Z"
   },
   {
    "duration": 663,
    "start_time": "2022-09-28T19:45:04.027Z"
   },
   {
    "duration": 37,
    "start_time": "2022-09-28T19:45:04.692Z"
   },
   {
    "duration": 3,
    "start_time": "2022-09-28T19:45:04.731Z"
   },
   {
    "duration": 15,
    "start_time": "2022-09-28T19:45:04.736Z"
   },
   {
    "duration": 22,
    "start_time": "2022-09-28T19:45:04.753Z"
   },
   {
    "duration": 23,
    "start_time": "2022-09-28T19:45:04.777Z"
   },
   {
    "duration": 26,
    "start_time": "2022-09-28T19:45:04.802Z"
   },
   {
    "duration": 65,
    "start_time": "2022-09-28T19:45:04.830Z"
   },
   {
    "duration": 11,
    "start_time": "2022-09-28T19:45:04.897Z"
   },
   {
    "duration": 21,
    "start_time": "2022-09-28T19:45:04.911Z"
   },
   {
    "duration": 27,
    "start_time": "2022-09-28T19:45:04.933Z"
   },
   {
    "duration": 22,
    "start_time": "2022-09-28T19:45:04.962Z"
   },
   {
    "duration": 37,
    "start_time": "2022-09-28T19:45:04.985Z"
   },
   {
    "duration": 10,
    "start_time": "2022-09-28T19:45:05.024Z"
   },
   {
    "duration": 19,
    "start_time": "2022-09-28T19:45:05.036Z"
   },
   {
    "duration": 27,
    "start_time": "2022-09-28T19:45:05.056Z"
   },
   {
    "duration": 10,
    "start_time": "2022-09-28T19:45:05.084Z"
   },
   {
    "duration": 20,
    "start_time": "2022-09-28T19:45:05.096Z"
   },
   {
    "duration": 15,
    "start_time": "2022-09-28T19:45:05.118Z"
   },
   {
    "duration": 179,
    "start_time": "2022-09-28T19:45:05.135Z"
   },
   {
    "duration": 123,
    "start_time": "2022-09-28T19:45:05.315Z"
   },
   {
    "duration": 12,
    "start_time": "2022-09-28T19:45:05.440Z"
   },
   {
    "duration": 29,
    "start_time": "2022-09-28T19:45:05.454Z"
   },
   {
    "duration": 294,
    "start_time": "2022-09-28T19:45:05.484Z"
   },
   {
    "duration": 205,
    "start_time": "2022-09-28T19:45:05.779Z"
   },
   {
    "duration": 16,
    "start_time": "2022-09-28T19:45:05.986Z"
   },
   {
    "duration": 313,
    "start_time": "2022-09-28T19:45:06.004Z"
   },
   {
    "duration": 6,
    "start_time": "2022-09-28T19:45:06.321Z"
   },
   {
    "duration": 265,
    "start_time": "2022-09-28T19:45:06.329Z"
   },
   {
    "duration": 6,
    "start_time": "2022-09-28T19:46:49.934Z"
   },
   {
    "duration": 196,
    "start_time": "2022-09-28T19:46:53.642Z"
   },
   {
    "duration": 4,
    "start_time": "2022-09-28T19:53:22.789Z"
   },
   {
    "duration": 218,
    "start_time": "2022-09-28T19:54:36.215Z"
   },
   {
    "duration": 7,
    "start_time": "2022-09-28T19:58:08.334Z"
   },
   {
    "duration": 7,
    "start_time": "2022-09-28T19:58:33.923Z"
   },
   {
    "duration": 213,
    "start_time": "2022-09-28T19:58:35.819Z"
   },
   {
    "duration": 221,
    "start_time": "2022-09-28T20:00:05.372Z"
   },
   {
    "duration": 151,
    "start_time": "2022-09-28T20:00:18.710Z"
   },
   {
    "duration": 152,
    "start_time": "2022-09-28T20:00:25.950Z"
   },
   {
    "duration": 9,
    "start_time": "2022-09-28T20:04:07.683Z"
   },
   {
    "duration": 14,
    "start_time": "2022-09-28T20:04:33.419Z"
   },
   {
    "duration": 7,
    "start_time": "2022-09-28T20:04:53.549Z"
   },
   {
    "duration": 19,
    "start_time": "2022-09-28T20:05:00.379Z"
   },
   {
    "duration": 14,
    "start_time": "2022-09-28T20:05:16.722Z"
   },
   {
    "duration": 25,
    "start_time": "2022-09-28T20:05:51.226Z"
   },
   {
    "duration": 23,
    "start_time": "2022-09-28T20:06:03.925Z"
   },
   {
    "duration": 712,
    "start_time": "2022-09-28T20:06:12.380Z"
   },
   {
    "duration": 37,
    "start_time": "2022-09-28T20:06:13.094Z"
   },
   {
    "duration": 3,
    "start_time": "2022-09-28T20:06:13.133Z"
   },
   {
    "duration": 10,
    "start_time": "2022-09-28T20:06:13.138Z"
   },
   {
    "duration": 15,
    "start_time": "2022-09-28T20:06:13.149Z"
   },
   {
    "duration": 9,
    "start_time": "2022-09-28T20:06:13.165Z"
   },
   {
    "duration": 13,
    "start_time": "2022-09-28T20:06:13.175Z"
   },
   {
    "duration": 47,
    "start_time": "2022-09-28T20:06:13.190Z"
   },
   {
    "duration": 12,
    "start_time": "2022-09-28T20:06:13.238Z"
   },
   {
    "duration": 7,
    "start_time": "2022-09-28T20:06:13.253Z"
   },
   {
    "duration": 11,
    "start_time": "2022-09-28T20:06:13.262Z"
   },
   {
    "duration": 8,
    "start_time": "2022-09-28T20:06:13.275Z"
   },
   {
    "duration": 25,
    "start_time": "2022-09-28T20:06:13.284Z"
   },
   {
    "duration": 11,
    "start_time": "2022-09-28T20:06:13.310Z"
   },
   {
    "duration": 8,
    "start_time": "2022-09-28T20:06:13.322Z"
   },
   {
    "duration": 15,
    "start_time": "2022-09-28T20:06:13.332Z"
   },
   {
    "duration": 9,
    "start_time": "2022-09-28T20:06:13.349Z"
   },
   {
    "duration": 9,
    "start_time": "2022-09-28T20:06:13.360Z"
   },
   {
    "duration": 6,
    "start_time": "2022-09-28T20:06:13.370Z"
   },
   {
    "duration": 183,
    "start_time": "2022-09-28T20:06:13.377Z"
   },
   {
    "duration": 127,
    "start_time": "2022-09-28T20:06:13.562Z"
   },
   {
    "duration": 17,
    "start_time": "2022-09-28T20:06:13.691Z"
   },
   {
    "duration": 8,
    "start_time": "2022-09-28T20:06:13.710Z"
   },
   {
    "duration": 312,
    "start_time": "2022-09-28T20:06:13.720Z"
   },
   {
    "duration": 225,
    "start_time": "2022-09-28T20:06:14.034Z"
   },
   {
    "duration": 12,
    "start_time": "2022-09-28T20:06:14.261Z"
   },
   {
    "duration": 347,
    "start_time": "2022-09-28T20:06:14.275Z"
   },
   {
    "duration": 8,
    "start_time": "2022-09-28T20:06:14.625Z"
   },
   {
    "duration": 278,
    "start_time": "2022-09-28T20:06:14.635Z"
   },
   {
    "duration": 16,
    "start_time": "2022-09-28T20:06:14.915Z"
   },
   {
    "duration": 18,
    "start_time": "2022-09-28T20:07:35.904Z"
   },
   {
    "duration": 636,
    "start_time": "2022-09-28T20:07:43.701Z"
   },
   {
    "duration": 37,
    "start_time": "2022-09-28T20:07:44.339Z"
   },
   {
    "duration": 3,
    "start_time": "2022-09-28T20:07:44.378Z"
   },
   {
    "duration": 9,
    "start_time": "2022-09-28T20:07:44.383Z"
   },
   {
    "duration": 11,
    "start_time": "2022-09-28T20:07:44.394Z"
   },
   {
    "duration": 11,
    "start_time": "2022-09-28T20:07:44.407Z"
   },
   {
    "duration": 14,
    "start_time": "2022-09-28T20:07:44.419Z"
   },
   {
    "duration": 47,
    "start_time": "2022-09-28T20:07:44.434Z"
   },
   {
    "duration": 13,
    "start_time": "2022-09-28T20:07:44.483Z"
   },
   {
    "duration": 7,
    "start_time": "2022-09-28T20:07:44.498Z"
   },
   {
    "duration": 12,
    "start_time": "2022-09-28T20:07:44.507Z"
   },
   {
    "duration": 7,
    "start_time": "2022-09-28T20:07:44.520Z"
   },
   {
    "duration": 24,
    "start_time": "2022-09-28T20:07:44.528Z"
   },
   {
    "duration": 11,
    "start_time": "2022-09-28T20:07:44.553Z"
   },
   {
    "duration": 9,
    "start_time": "2022-09-28T20:07:44.565Z"
   },
   {
    "duration": 26,
    "start_time": "2022-09-28T20:07:44.575Z"
   },
   {
    "duration": 6,
    "start_time": "2022-09-28T20:07:44.603Z"
   },
   {
    "duration": 9,
    "start_time": "2022-09-28T20:07:44.610Z"
   },
   {
    "duration": 5,
    "start_time": "2022-09-28T20:07:44.621Z"
   },
   {
    "duration": 177,
    "start_time": "2022-09-28T20:07:44.628Z"
   },
   {
    "duration": 129,
    "start_time": "2022-09-28T20:07:44.807Z"
   },
   {
    "duration": 12,
    "start_time": "2022-09-28T20:07:44.938Z"
   },
   {
    "duration": 8,
    "start_time": "2022-09-28T20:07:44.952Z"
   },
   {
    "duration": 300,
    "start_time": "2022-09-28T20:07:44.962Z"
   },
   {
    "duration": 208,
    "start_time": "2022-09-28T20:07:45.264Z"
   },
   {
    "duration": 11,
    "start_time": "2022-09-28T20:07:45.474Z"
   },
   {
    "duration": 309,
    "start_time": "2022-09-28T20:07:45.497Z"
   },
   {
    "duration": 7,
    "start_time": "2022-09-28T20:07:45.809Z"
   },
   {
    "duration": 269,
    "start_time": "2022-09-28T20:07:45.817Z"
   },
   {
    "duration": 24,
    "start_time": "2022-09-28T20:07:46.087Z"
   },
   {
    "duration": 26,
    "start_time": "2022-09-28T20:08:18.579Z"
   },
   {
    "duration": 611,
    "start_time": "2022-09-28T20:08:26.633Z"
   },
   {
    "duration": 37,
    "start_time": "2022-09-28T20:08:27.246Z"
   },
   {
    "duration": 3,
    "start_time": "2022-09-28T20:08:27.285Z"
   },
   {
    "duration": 7,
    "start_time": "2022-09-28T20:08:27.290Z"
   },
   {
    "duration": 9,
    "start_time": "2022-09-28T20:08:27.299Z"
   },
   {
    "duration": 6,
    "start_time": "2022-09-28T20:08:27.310Z"
   },
   {
    "duration": 11,
    "start_time": "2022-09-28T20:08:27.317Z"
   },
   {
    "duration": 47,
    "start_time": "2022-09-28T20:08:27.330Z"
   },
   {
    "duration": 11,
    "start_time": "2022-09-28T20:08:27.378Z"
   },
   {
    "duration": 8,
    "start_time": "2022-09-28T20:08:27.391Z"
   },
   {
    "duration": 11,
    "start_time": "2022-09-28T20:08:27.400Z"
   },
   {
    "duration": 7,
    "start_time": "2022-09-28T20:08:27.412Z"
   },
   {
    "duration": 20,
    "start_time": "2022-09-28T20:08:27.420Z"
   },
   {
    "duration": 10,
    "start_time": "2022-09-28T20:08:27.442Z"
   },
   {
    "duration": 5,
    "start_time": "2022-09-28T20:08:27.454Z"
   },
   {
    "duration": 15,
    "start_time": "2022-09-28T20:08:27.461Z"
   },
   {
    "duration": 21,
    "start_time": "2022-09-28T20:08:27.478Z"
   },
   {
    "duration": 14,
    "start_time": "2022-09-28T20:08:27.500Z"
   },
   {
    "duration": 11,
    "start_time": "2022-09-28T20:08:27.516Z"
   },
   {
    "duration": 167,
    "start_time": "2022-09-28T20:08:27.529Z"
   },
   {
    "duration": 138,
    "start_time": "2022-09-28T20:08:27.698Z"
   },
   {
    "duration": 12,
    "start_time": "2022-09-28T20:08:27.838Z"
   },
   {
    "duration": 8,
    "start_time": "2022-09-28T20:08:27.851Z"
   },
   {
    "duration": 314,
    "start_time": "2022-09-28T20:08:27.860Z"
   },
   {
    "duration": 207,
    "start_time": "2022-09-28T20:08:28.176Z"
   },
   {
    "duration": 16,
    "start_time": "2022-09-28T20:08:28.385Z"
   },
   {
    "duration": 326,
    "start_time": "2022-09-28T20:08:28.403Z"
   },
   {
    "duration": 7,
    "start_time": "2022-09-28T20:08:28.732Z"
   },
   {
    "duration": 261,
    "start_time": "2022-09-28T20:08:28.741Z"
   },
   {
    "duration": 21,
    "start_time": "2022-09-28T20:08:29.004Z"
   },
   {
    "duration": 13,
    "start_time": "2022-09-28T20:08:41.156Z"
   },
   {
    "duration": 283,
    "start_time": "2022-09-28T20:12:07.947Z"
   },
   {
    "duration": 146,
    "start_time": "2022-09-28T20:46:55.158Z"
   },
   {
    "duration": 11,
    "start_time": "2022-09-28T20:47:07.499Z"
   },
   {
    "duration": 150,
    "start_time": "2022-09-28T20:47:09.962Z"
   },
   {
    "duration": 614,
    "start_time": "2022-09-28T20:47:57.740Z"
   },
   {
    "duration": 41,
    "start_time": "2022-09-28T20:47:58.356Z"
   },
   {
    "duration": 4,
    "start_time": "2022-09-28T20:47:58.398Z"
   },
   {
    "duration": 7,
    "start_time": "2022-09-28T20:47:58.404Z"
   },
   {
    "duration": 11,
    "start_time": "2022-09-28T20:47:58.412Z"
   },
   {
    "duration": 9,
    "start_time": "2022-09-28T20:47:58.424Z"
   },
   {
    "duration": 13,
    "start_time": "2022-09-28T20:47:58.434Z"
   },
   {
    "duration": 48,
    "start_time": "2022-09-28T20:47:58.448Z"
   },
   {
    "duration": 11,
    "start_time": "2022-09-28T20:47:58.497Z"
   },
   {
    "duration": 7,
    "start_time": "2022-09-28T20:47:58.510Z"
   },
   {
    "duration": 15,
    "start_time": "2022-09-28T20:47:58.518Z"
   },
   {
    "duration": 7,
    "start_time": "2022-09-28T20:47:58.535Z"
   },
   {
    "duration": 20,
    "start_time": "2022-09-28T20:47:58.544Z"
   },
   {
    "duration": 10,
    "start_time": "2022-09-28T20:47:58.566Z"
   },
   {
    "duration": 24,
    "start_time": "2022-09-28T20:47:58.577Z"
   },
   {
    "duration": 12,
    "start_time": "2022-09-28T20:47:58.602Z"
   },
   {
    "duration": 7,
    "start_time": "2022-09-28T20:47:58.615Z"
   },
   {
    "duration": 8,
    "start_time": "2022-09-28T20:47:58.623Z"
   },
   {
    "duration": 6,
    "start_time": "2022-09-28T20:47:58.633Z"
   },
   {
    "duration": 182,
    "start_time": "2022-09-28T20:47:58.641Z"
   },
   {
    "duration": 131,
    "start_time": "2022-09-28T20:47:58.824Z"
   },
   {
    "duration": 14,
    "start_time": "2022-09-28T20:47:58.956Z"
   },
   {
    "duration": 8,
    "start_time": "2022-09-28T20:47:58.971Z"
   },
   {
    "duration": 294,
    "start_time": "2022-09-28T20:47:58.981Z"
   },
   {
    "duration": 205,
    "start_time": "2022-09-28T20:47:59.277Z"
   },
   {
    "duration": 17,
    "start_time": "2022-09-28T20:47:59.484Z"
   },
   {
    "duration": 313,
    "start_time": "2022-09-28T20:47:59.503Z"
   },
   {
    "duration": 7,
    "start_time": "2022-09-28T20:47:59.819Z"
   },
   {
    "duration": 277,
    "start_time": "2022-09-28T20:47:59.828Z"
   },
   {
    "duration": 12,
    "start_time": "2022-09-28T20:48:00.107Z"
   },
   {
    "duration": 205,
    "start_time": "2022-09-28T20:48:00.121Z"
   },
   {
    "duration": 180,
    "start_time": "2022-09-28T20:48:20.555Z"
   },
   {
    "duration": 286,
    "start_time": "2022-09-28T20:49:26.729Z"
   },
   {
    "duration": 258,
    "start_time": "2022-09-28T20:51:14.543Z"
   },
   {
    "duration": 293,
    "start_time": "2022-09-28T20:51:44.570Z"
   },
   {
    "duration": 270,
    "start_time": "2022-09-28T20:52:28.238Z"
   },
   {
    "duration": 267,
    "start_time": "2022-09-28T20:52:38.351Z"
   },
   {
    "duration": 304,
    "start_time": "2022-09-28T20:52:56.558Z"
   },
   {
    "duration": 311,
    "start_time": "2022-09-28T20:53:13.096Z"
   },
   {
    "duration": 330,
    "start_time": "2022-09-28T20:54:08.406Z"
   },
   {
    "duration": 372,
    "start_time": "2022-09-28T20:54:36.333Z"
   },
   {
    "duration": 295,
    "start_time": "2022-09-28T20:54:58.294Z"
   },
   {
    "duration": 821,
    "start_time": "2022-09-29T06:48:13.546Z"
   },
   {
    "duration": 79,
    "start_time": "2022-09-29T06:48:14.369Z"
   },
   {
    "duration": 3,
    "start_time": "2022-09-29T06:48:14.450Z"
   },
   {
    "duration": 13,
    "start_time": "2022-09-29T06:48:14.455Z"
   },
   {
    "duration": 14,
    "start_time": "2022-09-29T06:48:14.470Z"
   },
   {
    "duration": 14,
    "start_time": "2022-09-29T06:48:14.486Z"
   },
   {
    "duration": 23,
    "start_time": "2022-09-29T06:48:14.502Z"
   },
   {
    "duration": 90,
    "start_time": "2022-09-29T06:48:14.527Z"
   },
   {
    "duration": 12,
    "start_time": "2022-09-29T06:48:14.619Z"
   },
   {
    "duration": 22,
    "start_time": "2022-09-29T06:48:14.635Z"
   },
   {
    "duration": 12,
    "start_time": "2022-09-29T06:48:14.659Z"
   },
   {
    "duration": 11,
    "start_time": "2022-09-29T06:48:14.673Z"
   },
   {
    "duration": 59,
    "start_time": "2022-09-29T06:48:14.686Z"
   },
   {
    "duration": 11,
    "start_time": "2022-09-29T06:48:14.747Z"
   },
   {
    "duration": 6,
    "start_time": "2022-09-29T06:48:14.760Z"
   },
   {
    "duration": 13,
    "start_time": "2022-09-29T06:48:14.767Z"
   },
   {
    "duration": 13,
    "start_time": "2022-09-29T06:48:14.782Z"
   },
   {
    "duration": 10,
    "start_time": "2022-09-29T06:48:14.796Z"
   },
   {
    "duration": 13,
    "start_time": "2022-09-29T06:48:14.808Z"
   },
   {
    "duration": 175,
    "start_time": "2022-09-29T06:48:14.823Z"
   },
   {
    "duration": 139,
    "start_time": "2022-09-29T06:48:14.999Z"
   },
   {
    "duration": 13,
    "start_time": "2022-09-29T06:48:15.140Z"
   },
   {
    "duration": 11,
    "start_time": "2022-09-29T06:48:15.155Z"
   },
   {
    "duration": 305,
    "start_time": "2022-09-29T06:48:15.168Z"
   },
   {
    "duration": 211,
    "start_time": "2022-09-29T06:48:15.475Z"
   },
   {
    "duration": 12,
    "start_time": "2022-09-29T06:48:15.687Z"
   },
   {
    "duration": 381,
    "start_time": "2022-09-29T06:48:15.701Z"
   },
   {
    "duration": 7,
    "start_time": "2022-09-29T06:48:16.085Z"
   },
   {
    "duration": 302,
    "start_time": "2022-09-29T06:48:16.094Z"
   },
   {
    "duration": 12,
    "start_time": "2022-09-29T06:48:16.397Z"
   },
   {
    "duration": 305,
    "start_time": "2022-09-29T06:48:16.420Z"
   },
   {
    "duration": 81,
    "start_time": "2022-09-29T07:40:55.223Z"
   },
   {
    "duration": 5,
    "start_time": "2022-09-29T07:41:15.479Z"
   },
   {
    "duration": 11,
    "start_time": "2022-09-29T07:41:22.366Z"
   },
   {
    "duration": 18,
    "start_time": "2022-09-29T07:42:16.061Z"
   },
   {
    "duration": 14,
    "start_time": "2022-09-29T07:42:56.254Z"
   },
   {
    "duration": 194,
    "start_time": "2022-09-29T07:47:37.315Z"
   },
   {
    "duration": 14,
    "start_time": "2022-09-29T07:47:44.740Z"
   },
   {
    "duration": 119,
    "start_time": "2022-09-29T07:47:55.147Z"
   },
   {
    "duration": 148,
    "start_time": "2022-09-29T07:48:29.499Z"
   },
   {
    "duration": 139,
    "start_time": "2022-09-29T07:48:33.819Z"
   },
   {
    "duration": 136,
    "start_time": "2022-09-29T07:50:02.368Z"
   },
   {
    "duration": 124,
    "start_time": "2022-09-29T07:59:02.232Z"
   },
   {
    "duration": 178,
    "start_time": "2022-09-29T07:59:29.052Z"
   },
   {
    "duration": 8,
    "start_time": "2022-09-29T08:00:10.563Z"
   },
   {
    "duration": 123,
    "start_time": "2022-09-29T08:00:20.210Z"
   },
   {
    "duration": 124,
    "start_time": "2022-09-29T08:00:43.306Z"
   },
   {
    "duration": 153,
    "start_time": "2022-09-29T08:04:04.717Z"
   },
   {
    "duration": 3,
    "start_time": "2022-09-29T08:07:23.453Z"
   },
   {
    "duration": 5,
    "start_time": "2022-09-29T08:08:12.725Z"
   },
   {
    "duration": 6,
    "start_time": "2022-09-29T08:09:17.271Z"
   },
   {
    "duration": 5,
    "start_time": "2022-09-29T08:09:23.774Z"
   },
   {
    "duration": 151,
    "start_time": "2022-09-29T08:13:57.161Z"
   },
   {
    "duration": 241,
    "start_time": "2022-09-29T08:14:09.995Z"
   },
   {
    "duration": 160,
    "start_time": "2022-09-29T08:14:43.746Z"
   },
   {
    "duration": 156,
    "start_time": "2022-09-29T08:21:24.550Z"
   },
   {
    "duration": 161,
    "start_time": "2022-09-29T08:21:44.359Z"
   },
   {
    "duration": 6,
    "start_time": "2022-09-29T08:23:44.584Z"
   },
   {
    "duration": 4,
    "start_time": "2022-09-29T09:02:11.757Z"
   },
   {
    "duration": 9,
    "start_time": "2022-09-29T09:04:35.343Z"
   },
   {
    "duration": 4,
    "start_time": "2022-09-29T09:05:10.245Z"
   },
   {
    "duration": 10,
    "start_time": "2022-09-29T09:05:11.734Z"
   },
   {
    "duration": 232,
    "start_time": "2022-09-29T09:05:25.239Z"
   },
   {
    "duration": 8,
    "start_time": "2022-09-29T09:06:03.208Z"
   },
   {
    "duration": 3,
    "start_time": "2022-09-29T09:06:05.070Z"
   },
   {
    "duration": 251,
    "start_time": "2022-09-29T09:06:06.663Z"
   },
   {
    "duration": 4,
    "start_time": "2022-09-29T09:27:03.345Z"
   },
   {
    "duration": 203,
    "start_time": "2022-09-29T09:27:05.849Z"
   },
   {
    "duration": 215,
    "start_time": "2022-09-29T09:29:01.715Z"
   },
   {
    "duration": 230,
    "start_time": "2022-09-29T09:31:26.598Z"
   },
   {
    "duration": 5,
    "start_time": "2022-09-29T09:46:19.116Z"
   },
   {
    "duration": 8,
    "start_time": "2022-09-29T09:46:20.955Z"
   },
   {
    "duration": 3,
    "start_time": "2022-09-29T09:46:29.612Z"
   },
   {
    "duration": 214,
    "start_time": "2022-09-29T09:46:31.443Z"
   },
   {
    "duration": 270,
    "start_time": "2022-09-29T09:48:04.052Z"
   },
   {
    "duration": 5,
    "start_time": "2022-09-29T09:48:09.165Z"
   },
   {
    "duration": 317,
    "start_time": "2022-09-29T09:48:33.933Z"
   },
   {
    "duration": 5,
    "start_time": "2022-09-29T09:53:06.655Z"
   },
   {
    "duration": 9,
    "start_time": "2022-09-29T09:53:27.601Z"
   },
   {
    "duration": 14,
    "start_time": "2022-09-29T09:53:38.785Z"
   },
   {
    "duration": 4,
    "start_time": "2022-09-29T09:54:11.736Z"
   },
   {
    "duration": 18,
    "start_time": "2022-09-29T09:54:19.601Z"
   },
   {
    "duration": 10,
    "start_time": "2022-09-29T09:55:43.409Z"
   },
   {
    "duration": 19,
    "start_time": "2022-09-29T09:55:54.019Z"
   },
   {
    "duration": 8,
    "start_time": "2022-09-29T10:09:57.189Z"
   },
   {
    "duration": 14,
    "start_time": "2022-09-29T10:10:43.829Z"
   },
   {
    "duration": 14,
    "start_time": "2022-09-29T10:10:58.085Z"
   },
   {
    "duration": 146,
    "start_time": "2022-09-29T10:11:55.837Z"
   },
   {
    "duration": 16,
    "start_time": "2022-09-29T10:14:33.983Z"
   },
   {
    "duration": 166,
    "start_time": "2022-09-29T10:14:45.499Z"
   },
   {
    "duration": 144,
    "start_time": "2022-09-29T10:14:49.246Z"
   },
   {
    "duration": 6,
    "start_time": "2022-09-29T10:14:54.509Z"
   },
   {
    "duration": 7,
    "start_time": "2022-09-29T10:15:35.721Z"
   },
   {
    "duration": 17,
    "start_time": "2022-09-29T10:16:38.865Z"
   },
   {
    "duration": 15,
    "start_time": "2022-09-29T10:18:03.112Z"
   },
   {
    "duration": 132,
    "start_time": "2022-09-29T10:18:05.431Z"
   },
   {
    "duration": 135,
    "start_time": "2022-09-29T10:18:07.898Z"
   },
   {
    "duration": 6,
    "start_time": "2022-09-29T10:18:10.359Z"
   },
   {
    "duration": 11,
    "start_time": "2022-09-29T10:20:55.434Z"
   },
   {
    "duration": 70,
    "start_time": "2022-09-29T10:21:22.763Z"
   },
   {
    "duration": 74,
    "start_time": "2022-09-29T10:21:29.314Z"
   },
   {
    "duration": 131,
    "start_time": "2022-09-29T10:22:04.802Z"
   },
   {
    "duration": 135,
    "start_time": "2022-09-29T10:25:33.525Z"
   },
   {
    "duration": 6,
    "start_time": "2022-09-29T10:28:03.967Z"
   },
   {
    "duration": 6,
    "start_time": "2022-09-29T10:28:42.460Z"
   },
   {
    "duration": 18,
    "start_time": "2022-09-29T10:29:06.248Z"
   },
   {
    "duration": 21,
    "start_time": "2022-09-29T10:30:00.966Z"
   },
   {
    "duration": 245,
    "start_time": "2022-09-29T10:31:13.583Z"
   },
   {
    "duration": 533,
    "start_time": "2022-09-29T10:32:07.144Z"
   },
   {
    "duration": 43,
    "start_time": "2022-09-29T10:37:05.017Z"
   },
   {
    "duration": 42,
    "start_time": "2022-09-29T10:37:17.754Z"
   },
   {
    "duration": 41,
    "start_time": "2022-09-29T10:41:35.637Z"
   },
   {
    "duration": 67,
    "start_time": "2022-09-29T10:47:37.479Z"
   },
   {
    "duration": 53,
    "start_time": "2022-09-29T10:47:50.586Z"
   },
   {
    "duration": 46,
    "start_time": "2022-09-29T10:53:36.162Z"
   },
   {
    "duration": 21,
    "start_time": "2022-09-29T10:53:59.650Z"
   },
   {
    "duration": 19,
    "start_time": "2022-09-29T10:55:03.028Z"
   },
   {
    "duration": 21,
    "start_time": "2022-09-29T10:56:01.244Z"
   },
   {
    "duration": 7,
    "start_time": "2022-09-29T11:11:08.554Z"
   },
   {
    "duration": 6,
    "start_time": "2022-09-29T11:12:52.939Z"
   },
   {
    "duration": 10,
    "start_time": "2022-09-29T11:23:24.021Z"
   },
   {
    "duration": 46,
    "start_time": "2022-09-29T11:25:49.651Z"
   },
   {
    "duration": 11,
    "start_time": "2022-09-29T11:31:48.452Z"
   },
   {
    "duration": 10,
    "start_time": "2022-09-29T11:31:53.653Z"
   },
   {
    "duration": 53,
    "start_time": "2022-09-29T11:35:21.327Z"
   },
   {
    "duration": 991,
    "start_time": "2022-09-29T11:35:28.422Z"
   },
   {
    "duration": 11,
    "start_time": "2022-09-29T11:35:41.408Z"
   },
   {
    "duration": 22,
    "start_time": "2022-09-29T11:37:31.746Z"
   },
   {
    "duration": 34,
    "start_time": "2022-09-29T11:38:45.524Z"
   },
   {
    "duration": 1222,
    "start_time": "2022-09-29T12:04:20.301Z"
   },
   {
    "duration": 37,
    "start_time": "2022-09-29T12:04:21.525Z"
   },
   {
    "duration": 4,
    "start_time": "2022-09-29T12:04:21.563Z"
   },
   {
    "duration": 23,
    "start_time": "2022-09-29T12:04:21.569Z"
   },
   {
    "duration": 18,
    "start_time": "2022-09-29T12:04:21.594Z"
   },
   {
    "duration": 8,
    "start_time": "2022-09-29T12:04:21.614Z"
   },
   {
    "duration": 14,
    "start_time": "2022-09-29T12:04:21.624Z"
   },
   {
    "duration": 56,
    "start_time": "2022-09-29T12:04:21.639Z"
   },
   {
    "duration": 11,
    "start_time": "2022-09-29T12:04:21.697Z"
   },
   {
    "duration": 22,
    "start_time": "2022-09-29T12:04:21.710Z"
   },
   {
    "duration": 17,
    "start_time": "2022-09-29T12:04:21.734Z"
   },
   {
    "duration": 11,
    "start_time": "2022-09-29T12:04:21.753Z"
   },
   {
    "duration": 32,
    "start_time": "2022-09-29T12:04:21.766Z"
   },
   {
    "duration": 13,
    "start_time": "2022-09-29T12:04:21.802Z"
   },
   {
    "duration": 16,
    "start_time": "2022-09-29T12:04:21.817Z"
   },
   {
    "duration": 30,
    "start_time": "2022-09-29T12:04:21.835Z"
   },
   {
    "duration": 20,
    "start_time": "2022-09-29T12:04:21.868Z"
   },
   {
    "duration": 10,
    "start_time": "2022-09-29T12:04:21.891Z"
   },
   {
    "duration": 10,
    "start_time": "2022-09-29T12:04:21.903Z"
   },
   {
    "duration": 181,
    "start_time": "2022-09-29T12:04:21.915Z"
   },
   {
    "duration": 146,
    "start_time": "2022-09-29T12:04:22.098Z"
   },
   {
    "duration": 16,
    "start_time": "2022-09-29T12:04:22.246Z"
   },
   {
    "duration": 14,
    "start_time": "2022-09-29T12:04:22.263Z"
   },
   {
    "duration": 19,
    "start_time": "2022-09-29T12:04:22.279Z"
   },
   {
    "duration": 307,
    "start_time": "2022-09-29T12:04:22.301Z"
   },
   {
    "duration": 246,
    "start_time": "2022-09-29T12:04:22.610Z"
   },
   {
    "duration": 12,
    "start_time": "2022-09-29T12:04:22.858Z"
   },
   {
    "duration": 314,
    "start_time": "2022-09-29T12:04:22.872Z"
   },
   {
    "duration": 8,
    "start_time": "2022-09-29T12:04:23.188Z"
   },
   {
    "duration": 240,
    "start_time": "2022-09-29T12:04:23.198Z"
   },
   {
    "duration": 12,
    "start_time": "2022-09-29T12:04:23.440Z"
   },
   {
    "duration": 305,
    "start_time": "2022-09-29T12:04:23.453Z"
   },
   {
    "duration": 14,
    "start_time": "2022-09-29T12:04:23.760Z"
   },
   {
    "duration": 161,
    "start_time": "2022-09-29T12:04:23.775Z"
   },
   {
    "duration": 149,
    "start_time": "2022-09-29T12:04:23.938Z"
   },
   {
    "duration": 5,
    "start_time": "2022-09-29T12:04:24.089Z"
   },
   {
    "duration": 171,
    "start_time": "2022-09-29T12:04:24.095Z"
   },
   {
    "duration": 243,
    "start_time": "2022-09-29T12:04:24.268Z"
   },
   {
    "duration": 10,
    "start_time": "2022-09-29T12:04:24.513Z"
   },
   {
    "duration": 162,
    "start_time": "2022-09-29T12:04:24.525Z"
   },
   {
    "duration": 9,
    "start_time": "2022-09-29T12:04:24.692Z"
   },
   {
    "duration": 52,
    "start_time": "2022-09-29T12:04:24.703Z"
   },
   {
    "duration": 21,
    "start_time": "2022-09-29T12:04:24.757Z"
   },
   {
    "duration": 6,
    "start_time": "2022-09-29T12:04:24.780Z"
   },
   {
    "duration": 34,
    "start_time": "2022-09-29T12:04:24.788Z"
   },
   {
    "duration": 11,
    "start_time": "2022-09-29T12:04:24.824Z"
   },
   {
    "duration": 45,
    "start_time": "2022-09-29T12:04:24.836Z"
   },
   {
    "duration": 48,
    "start_time": "2022-09-29T12:04:24.883Z"
   },
   {
    "duration": 1400,
    "start_time": "2022-09-30T04:03:15.736Z"
   },
   {
    "duration": 75,
    "start_time": "2022-09-30T04:03:17.139Z"
   },
   {
    "duration": 4,
    "start_time": "2022-09-30T04:03:17.215Z"
   },
   {
    "duration": 14,
    "start_time": "2022-09-30T04:03:17.221Z"
   },
   {
    "duration": 14,
    "start_time": "2022-09-30T04:03:17.237Z"
   },
   {
    "duration": 8,
    "start_time": "2022-09-30T04:03:17.253Z"
   },
   {
    "duration": 21,
    "start_time": "2022-09-30T04:03:17.263Z"
   },
   {
    "duration": 100,
    "start_time": "2022-09-30T04:03:17.286Z"
   },
   {
    "duration": 13,
    "start_time": "2022-09-30T04:03:17.387Z"
   },
   {
    "duration": 10,
    "start_time": "2022-09-30T04:03:17.402Z"
   },
   {
    "duration": 13,
    "start_time": "2022-09-30T04:03:17.414Z"
   },
   {
    "duration": 9,
    "start_time": "2022-09-30T04:03:17.428Z"
   },
   {
    "duration": 61,
    "start_time": "2022-09-30T04:03:17.439Z"
   },
   {
    "duration": 11,
    "start_time": "2022-09-30T04:03:17.503Z"
   },
   {
    "duration": 8,
    "start_time": "2022-09-30T04:03:17.516Z"
   },
   {
    "duration": 15,
    "start_time": "2022-09-30T04:03:17.526Z"
   },
   {
    "duration": 18,
    "start_time": "2022-09-30T04:03:17.543Z"
   },
   {
    "duration": 8,
    "start_time": "2022-09-30T04:03:17.563Z"
   },
   {
    "duration": 7,
    "start_time": "2022-09-30T04:03:17.573Z"
   },
   {
    "duration": 187,
    "start_time": "2022-09-30T04:03:17.581Z"
   },
   {
    "duration": 134,
    "start_time": "2022-09-30T04:03:17.770Z"
   },
   {
    "duration": 14,
    "start_time": "2022-09-30T04:03:17.906Z"
   },
   {
    "duration": 10,
    "start_time": "2022-09-30T04:03:17.922Z"
   },
   {
    "duration": 6,
    "start_time": "2022-09-30T04:03:17.934Z"
   },
   {
    "duration": 315,
    "start_time": "2022-09-30T04:03:17.941Z"
   },
   {
    "duration": 230,
    "start_time": "2022-09-30T04:03:18.258Z"
   },
   {
    "duration": 12,
    "start_time": "2022-09-30T04:03:18.490Z"
   },
   {
    "duration": 415,
    "start_time": "2022-09-30T04:03:18.504Z"
   },
   {
    "duration": 8,
    "start_time": "2022-09-30T04:03:18.920Z"
   },
   {
    "duration": 238,
    "start_time": "2022-09-30T04:03:18.930Z"
   },
   {
    "duration": 12,
    "start_time": "2022-09-30T04:03:19.170Z"
   },
   {
    "duration": 292,
    "start_time": "2022-09-30T04:03:19.184Z"
   },
   {
    "duration": 13,
    "start_time": "2022-09-30T04:03:19.478Z"
   },
   {
    "duration": 149,
    "start_time": "2022-09-30T04:03:19.492Z"
   },
   {
    "duration": 148,
    "start_time": "2022-09-30T04:03:19.642Z"
   },
   {
    "duration": 5,
    "start_time": "2022-09-30T04:03:19.791Z"
   },
   {
    "duration": 162,
    "start_time": "2022-09-30T04:03:19.798Z"
   },
   {
    "duration": 251,
    "start_time": "2022-09-30T04:03:19.961Z"
   },
   {
    "duration": 5,
    "start_time": "2022-09-30T04:03:20.214Z"
   },
   {
    "duration": 151,
    "start_time": "2022-09-30T04:03:20.221Z"
   },
   {
    "duration": 9,
    "start_time": "2022-09-30T04:03:20.376Z"
   },
   {
    "duration": 65,
    "start_time": "2022-09-30T04:03:20.386Z"
   },
   {
    "duration": 18,
    "start_time": "2022-09-30T04:03:20.453Z"
   },
   {
    "duration": 14,
    "start_time": "2022-09-30T04:03:20.473Z"
   },
   {
    "duration": 16,
    "start_time": "2022-09-30T04:03:20.489Z"
   },
   {
    "duration": 15,
    "start_time": "2022-09-30T04:03:20.507Z"
   },
   {
    "duration": 49,
    "start_time": "2022-09-30T04:03:20.524Z"
   },
   {
    "duration": 23,
    "start_time": "2022-09-30T04:03:20.575Z"
   },
   {
    "duration": 1122,
    "start_time": "2022-09-30T04:37:14.407Z"
   },
   {
    "duration": 41,
    "start_time": "2022-09-30T04:37:15.532Z"
   },
   {
    "duration": 4,
    "start_time": "2022-09-30T04:37:15.575Z"
   },
   {
    "duration": 19,
    "start_time": "2022-09-30T04:37:15.581Z"
   },
   {
    "duration": 12,
    "start_time": "2022-09-30T04:37:15.602Z"
   },
   {
    "duration": 8,
    "start_time": "2022-09-30T04:37:15.616Z"
   },
   {
    "duration": 13,
    "start_time": "2022-09-30T04:37:15.626Z"
   },
   {
    "duration": 53,
    "start_time": "2022-09-30T04:37:15.640Z"
   },
   {
    "duration": 12,
    "start_time": "2022-09-30T04:37:15.695Z"
   },
   {
    "duration": 8,
    "start_time": "2022-09-30T04:37:15.710Z"
   },
   {
    "duration": 13,
    "start_time": "2022-09-30T04:37:15.720Z"
   },
   {
    "duration": 9,
    "start_time": "2022-09-30T04:37:15.735Z"
   },
   {
    "duration": 22,
    "start_time": "2022-09-30T04:37:15.746Z"
   },
   {
    "duration": 14,
    "start_time": "2022-09-30T04:37:15.770Z"
   },
   {
    "duration": 13,
    "start_time": "2022-09-30T04:37:15.785Z"
   },
   {
    "duration": 15,
    "start_time": "2022-09-30T04:37:15.800Z"
   },
   {
    "duration": 10,
    "start_time": "2022-09-30T04:37:15.817Z"
   },
   {
    "duration": 10,
    "start_time": "2022-09-30T04:37:15.829Z"
   },
   {
    "duration": 6,
    "start_time": "2022-09-30T04:37:15.855Z"
   },
   {
    "duration": 180,
    "start_time": "2022-09-30T04:37:15.863Z"
   },
   {
    "duration": 140,
    "start_time": "2022-09-30T04:37:16.045Z"
   },
   {
    "duration": 15,
    "start_time": "2022-09-30T04:37:16.186Z"
   },
   {
    "duration": 16,
    "start_time": "2022-09-30T04:37:16.203Z"
   },
   {
    "duration": 8,
    "start_time": "2022-09-30T04:37:16.221Z"
   },
   {
    "duration": 309,
    "start_time": "2022-09-30T04:37:16.231Z"
   },
   {
    "duration": 223,
    "start_time": "2022-09-30T04:37:16.542Z"
   },
   {
    "duration": 14,
    "start_time": "2022-09-30T04:37:16.767Z"
   },
   {
    "duration": 304,
    "start_time": "2022-09-30T04:37:16.785Z"
   },
   {
    "duration": 8,
    "start_time": "2022-09-30T04:37:17.091Z"
   },
   {
    "duration": 256,
    "start_time": "2022-09-30T04:37:17.102Z"
   },
   {
    "duration": 16,
    "start_time": "2022-09-30T04:37:17.360Z"
   },
   {
    "duration": 321,
    "start_time": "2022-09-30T04:37:17.378Z"
   },
   {
    "duration": 15,
    "start_time": "2022-09-30T04:37:17.701Z"
   },
   {
    "duration": 167,
    "start_time": "2022-09-30T04:37:17.718Z"
   },
   {
    "duration": 167,
    "start_time": "2022-09-30T04:37:17.887Z"
   },
   {
    "duration": 6,
    "start_time": "2022-09-30T04:37:18.056Z"
   },
   {
    "duration": 196,
    "start_time": "2022-09-30T04:37:18.064Z"
   },
   {
    "duration": 267,
    "start_time": "2022-09-30T04:37:18.262Z"
   },
   {
    "duration": 5,
    "start_time": "2022-09-30T04:37:18.531Z"
   },
   {
    "duration": 169,
    "start_time": "2022-09-30T04:37:18.538Z"
   },
   {
    "duration": 9,
    "start_time": "2022-09-30T04:37:18.709Z"
   },
   {
    "duration": 57,
    "start_time": "2022-09-30T04:37:18.720Z"
   },
   {
    "duration": 20,
    "start_time": "2022-09-30T04:37:18.779Z"
   },
   {
    "duration": 9,
    "start_time": "2022-09-30T04:37:18.801Z"
   },
   {
    "duration": 15,
    "start_time": "2022-09-30T04:37:18.812Z"
   },
   {
    "duration": 32,
    "start_time": "2022-09-30T04:37:18.829Z"
   },
   {
    "duration": 54,
    "start_time": "2022-09-30T04:37:18.863Z"
   },
   {
    "duration": 44,
    "start_time": "2022-09-30T04:37:18.919Z"
   },
   {
    "duration": 64,
    "start_time": "2022-09-30T11:13:34.599Z"
   },
   {
    "duration": 1316,
    "start_time": "2022-09-30T11:14:38.772Z"
   },
   {
    "duration": 76,
    "start_time": "2022-09-30T11:14:40.091Z"
   },
   {
    "duration": 4,
    "start_time": "2022-09-30T11:14:40.169Z"
   },
   {
    "duration": 18,
    "start_time": "2022-09-30T11:14:40.175Z"
   },
   {
    "duration": 51,
    "start_time": "2022-09-30T11:14:40.195Z"
   },
   {
    "duration": 11,
    "start_time": "2022-09-30T11:14:40.248Z"
   },
   {
    "duration": 18,
    "start_time": "2022-09-30T11:14:40.260Z"
   },
   {
    "duration": 99,
    "start_time": "2022-09-30T11:14:40.279Z"
   },
   {
    "duration": 11,
    "start_time": "2022-09-30T11:14:40.380Z"
   },
   {
    "duration": 7,
    "start_time": "2022-09-30T11:14:40.393Z"
   },
   {
    "duration": 12,
    "start_time": "2022-09-30T11:14:40.402Z"
   },
   {
    "duration": 5,
    "start_time": "2022-09-30T11:14:40.416Z"
   },
   {
    "duration": 60,
    "start_time": "2022-09-30T11:14:40.422Z"
   },
   {
    "duration": 10,
    "start_time": "2022-09-30T11:14:40.483Z"
   },
   {
    "duration": 6,
    "start_time": "2022-09-30T11:14:40.494Z"
   },
   {
    "duration": 15,
    "start_time": "2022-09-30T11:14:40.502Z"
   },
   {
    "duration": 10,
    "start_time": "2022-09-30T11:14:40.518Z"
   },
   {
    "duration": 9,
    "start_time": "2022-09-30T11:14:40.530Z"
   },
   {
    "duration": 6,
    "start_time": "2022-09-30T11:14:40.540Z"
   },
   {
    "duration": 177,
    "start_time": "2022-09-30T11:14:40.548Z"
   },
   {
    "duration": 136,
    "start_time": "2022-09-30T11:14:40.727Z"
   },
   {
    "duration": 13,
    "start_time": "2022-09-30T11:14:40.865Z"
   },
   {
    "duration": 9,
    "start_time": "2022-09-30T11:14:40.880Z"
   },
   {
    "duration": 11,
    "start_time": "2022-09-30T11:14:40.890Z"
   },
   {
    "duration": 347,
    "start_time": "2022-09-30T11:14:40.903Z"
   },
   {
    "duration": 275,
    "start_time": "2022-09-30T11:14:41.252Z"
   },
   {
    "duration": 14,
    "start_time": "2022-09-30T11:14:41.529Z"
   },
   {
    "duration": 321,
    "start_time": "2022-09-30T11:14:41.548Z"
   },
   {
    "duration": 8,
    "start_time": "2022-09-30T11:14:41.871Z"
   },
   {
    "duration": 273,
    "start_time": "2022-09-30T11:14:41.881Z"
   },
   {
    "duration": 14,
    "start_time": "2022-09-30T11:14:42.155Z"
   },
   {
    "duration": 342,
    "start_time": "2022-09-30T11:14:42.170Z"
   },
   {
    "duration": 11,
    "start_time": "2022-09-30T11:14:42.513Z"
   },
   {
    "duration": 127,
    "start_time": "2022-09-30T11:14:42.526Z"
   },
   {
    "duration": 130,
    "start_time": "2022-09-30T11:14:42.655Z"
   },
   {
    "duration": 5,
    "start_time": "2022-09-30T11:14:42.786Z"
   },
   {
    "duration": 147,
    "start_time": "2022-09-30T11:14:42.800Z"
   },
   {
    "duration": 202,
    "start_time": "2022-09-30T11:14:42.949Z"
   },
   {
    "duration": 7,
    "start_time": "2022-09-30T11:14:43.152Z"
   },
   {
    "duration": 141,
    "start_time": "2022-09-30T11:14:43.161Z"
   },
   {
    "duration": 8,
    "start_time": "2022-09-30T11:14:43.303Z"
   },
   {
    "duration": 60,
    "start_time": "2022-09-30T11:14:43.312Z"
   },
   {
    "duration": 30,
    "start_time": "2022-09-30T11:14:43.373Z"
   },
   {
    "duration": 5,
    "start_time": "2022-09-30T11:14:43.405Z"
   },
   {
    "duration": 21,
    "start_time": "2022-09-30T11:14:43.411Z"
   },
   {
    "duration": 16,
    "start_time": "2022-09-30T11:14:43.434Z"
   },
   {
    "duration": 73,
    "start_time": "2022-09-30T11:14:43.452Z"
   },
   {
    "duration": 22,
    "start_time": "2022-09-30T11:14:43.527Z"
   },
   {
    "duration": 4,
    "start_time": "2022-09-30T11:15:30.217Z"
   },
   {
    "duration": 12,
    "start_time": "2022-09-30T11:15:32.122Z"
   },
   {
    "duration": 59,
    "start_time": "2022-09-30T11:15:58.170Z"
   },
   {
    "duration": 103,
    "start_time": "2022-09-30T11:26:24.944Z"
   },
   {
    "duration": 195,
    "start_time": "2022-09-30T11:26:40.221Z"
   },
   {
    "duration": 8,
    "start_time": "2022-09-30T11:27:42.408Z"
   },
   {
    "duration": 7,
    "start_time": "2022-09-30T11:28:17.844Z"
   },
   {
    "duration": 10,
    "start_time": "2022-09-30T11:32:19.250Z"
   },
   {
    "duration": 6,
    "start_time": "2022-09-30T11:32:43.042Z"
   },
   {
    "duration": 9,
    "start_time": "2022-09-30T11:33:00.277Z"
   },
   {
    "duration": 11,
    "start_time": "2022-09-30T11:33:54.245Z"
   },
   {
    "duration": 13,
    "start_time": "2022-09-30T11:34:11.548Z"
   },
   {
    "duration": 944,
    "start_time": "2022-09-30T11:34:58.157Z"
   },
   {
    "duration": 6,
    "start_time": "2022-09-30T11:35:07.551Z"
   },
   {
    "duration": 8,
    "start_time": "2022-09-30T11:36:45.514Z"
   },
   {
    "duration": 8,
    "start_time": "2022-09-30T11:36:52.108Z"
   },
   {
    "duration": 8,
    "start_time": "2022-09-30T11:38:00.551Z"
   },
   {
    "duration": 11,
    "start_time": "2022-09-30T11:38:44.501Z"
   },
   {
    "duration": 136,
    "start_time": "2022-09-30T11:52:27.936Z"
   },
   {
    "duration": 132,
    "start_time": "2022-09-30T11:52:34.213Z"
   },
   {
    "duration": 41,
    "start_time": "2022-09-30T11:59:54.935Z"
   },
   {
    "duration": 17,
    "start_time": "2022-09-30T12:00:15.508Z"
   },
   {
    "duration": 35,
    "start_time": "2022-09-30T12:01:02.246Z"
   },
   {
    "duration": 21,
    "start_time": "2022-09-30T12:01:35.774Z"
   },
   {
    "duration": 7,
    "start_time": "2022-09-30T12:02:01.148Z"
   },
   {
    "duration": 4,
    "start_time": "2022-09-30T12:02:10.203Z"
   },
   {
    "duration": 6,
    "start_time": "2022-09-30T12:03:11.852Z"
   },
   {
    "duration": 11,
    "start_time": "2022-09-30T12:04:09.404Z"
   },
   {
    "duration": 6,
    "start_time": "2022-09-30T12:04:12.673Z"
   },
   {
    "duration": 66,
    "start_time": "2022-09-30T12:05:17.932Z"
   },
   {
    "duration": 53,
    "start_time": "2022-09-30T12:16:20.706Z"
   },
   {
    "duration": 48,
    "start_time": "2022-09-30T12:17:23.021Z"
   },
   {
    "duration": 1058,
    "start_time": "2022-10-01T07:05:13.450Z"
   },
   {
    "duration": 34,
    "start_time": "2022-10-01T07:05:14.510Z"
   },
   {
    "duration": 3,
    "start_time": "2022-10-01T07:05:14.546Z"
   },
   {
    "duration": 24,
    "start_time": "2022-10-01T07:05:14.551Z"
   },
   {
    "duration": 21,
    "start_time": "2022-10-01T07:05:14.577Z"
   },
   {
    "duration": 19,
    "start_time": "2022-10-01T07:05:14.600Z"
   },
   {
    "duration": 16,
    "start_time": "2022-10-01T07:05:14.621Z"
   },
   {
    "duration": 54,
    "start_time": "2022-10-01T07:05:14.638Z"
   },
   {
    "duration": 10,
    "start_time": "2022-10-01T07:05:14.693Z"
   },
   {
    "duration": 26,
    "start_time": "2022-10-01T07:05:14.706Z"
   },
   {
    "duration": 43,
    "start_time": "2022-10-01T07:05:14.733Z"
   },
   {
    "duration": 18,
    "start_time": "2022-10-01T07:05:14.777Z"
   },
   {
    "duration": 35,
    "start_time": "2022-10-01T07:05:14.797Z"
   },
   {
    "duration": 12,
    "start_time": "2022-10-01T07:05:14.834Z"
   },
   {
    "duration": 14,
    "start_time": "2022-10-01T07:05:14.848Z"
   },
   {
    "duration": 18,
    "start_time": "2022-10-01T07:05:14.864Z"
   },
   {
    "duration": 29,
    "start_time": "2022-10-01T07:05:14.883Z"
   },
   {
    "duration": 22,
    "start_time": "2022-10-01T07:05:14.914Z"
   },
   {
    "duration": 26,
    "start_time": "2022-10-01T07:05:14.937Z"
   },
   {
    "duration": 22,
    "start_time": "2022-10-01T07:05:14.964Z"
   },
   {
    "duration": 34,
    "start_time": "2022-10-01T07:05:14.988Z"
   },
   {
    "duration": 168,
    "start_time": "2022-10-01T07:05:15.024Z"
   },
   {
    "duration": 120,
    "start_time": "2022-10-01T07:05:15.194Z"
   },
   {
    "duration": 25,
    "start_time": "2022-10-01T07:05:15.316Z"
   },
   {
    "duration": 27,
    "start_time": "2022-10-01T07:05:15.343Z"
   },
   {
    "duration": 35,
    "start_time": "2022-10-01T07:05:15.371Z"
   },
   {
    "duration": 294,
    "start_time": "2022-10-01T07:05:15.407Z"
   },
   {
    "duration": 204,
    "start_time": "2022-10-01T07:05:15.705Z"
   },
   {
    "duration": 22,
    "start_time": "2022-10-01T07:05:15.911Z"
   },
   {
    "duration": 310,
    "start_time": "2022-10-01T07:05:15.935Z"
   },
   {
    "duration": 9,
    "start_time": "2022-10-01T07:05:16.247Z"
   },
   {
    "duration": 296,
    "start_time": "2022-10-01T07:05:16.257Z"
   },
   {
    "duration": 13,
    "start_time": "2022-10-01T07:05:16.555Z"
   },
   {
    "duration": 276,
    "start_time": "2022-10-01T07:05:16.569Z"
   },
   {
    "duration": 11,
    "start_time": "2022-10-01T07:05:16.847Z"
   },
   {
    "duration": 131,
    "start_time": "2022-10-01T07:05:16.859Z"
   },
   {
    "duration": 124,
    "start_time": "2022-10-01T07:05:16.992Z"
   },
   {
    "duration": 5,
    "start_time": "2022-10-01T07:05:17.117Z"
   },
   {
    "duration": 146,
    "start_time": "2022-10-01T07:05:17.123Z"
   },
   {
    "duration": 201,
    "start_time": "2022-10-01T07:05:17.270Z"
   },
   {
    "duration": 180,
    "start_time": "2022-10-01T07:05:17.473Z"
   },
   {
    "duration": 5,
    "start_time": "2022-10-01T07:05:17.655Z"
   },
   {
    "duration": 139,
    "start_time": "2022-10-01T07:05:17.661Z"
   },
   {
    "duration": 7,
    "start_time": "2022-10-01T07:05:17.801Z"
   },
   {
    "duration": 55,
    "start_time": "2022-10-01T07:05:17.809Z"
   },
   {
    "duration": 17,
    "start_time": "2022-10-01T07:05:17.866Z"
   },
   {
    "duration": 4,
    "start_time": "2022-10-01T07:05:17.885Z"
   },
   {
    "duration": 9,
    "start_time": "2022-10-01T07:05:17.891Z"
   },
   {
    "duration": 36,
    "start_time": "2022-10-01T07:05:17.901Z"
   },
   {
    "duration": 45,
    "start_time": "2022-10-01T07:05:17.938Z"
   },
   {
    "duration": 24,
    "start_time": "2022-10-01T07:05:17.985Z"
   },
   {
    "duration": 1077,
    "start_time": "2022-10-01T07:11:29.112Z"
   },
   {
    "duration": 36,
    "start_time": "2022-10-01T07:11:30.191Z"
   },
   {
    "duration": 3,
    "start_time": "2022-10-01T07:11:30.228Z"
   },
   {
    "duration": 22,
    "start_time": "2022-10-01T07:11:30.233Z"
   },
   {
    "duration": 20,
    "start_time": "2022-10-01T07:11:30.256Z"
   },
   {
    "duration": 20,
    "start_time": "2022-10-01T07:11:30.277Z"
   },
   {
    "duration": 23,
    "start_time": "2022-10-01T07:11:30.299Z"
   },
   {
    "duration": 60,
    "start_time": "2022-10-01T07:11:30.324Z"
   },
   {
    "duration": 10,
    "start_time": "2022-10-01T07:11:30.386Z"
   },
   {
    "duration": 21,
    "start_time": "2022-10-01T07:11:30.400Z"
   },
   {
    "duration": 16,
    "start_time": "2022-10-01T07:11:30.422Z"
   },
   {
    "duration": 16,
    "start_time": "2022-10-01T07:11:30.440Z"
   },
   {
    "duration": 24,
    "start_time": "2022-10-01T07:11:30.457Z"
   },
   {
    "duration": 14,
    "start_time": "2022-10-01T07:11:30.483Z"
   },
   {
    "duration": 13,
    "start_time": "2022-10-01T07:11:30.498Z"
   },
   {
    "duration": 35,
    "start_time": "2022-10-01T07:11:30.512Z"
   },
   {
    "duration": 41,
    "start_time": "2022-10-01T07:11:30.549Z"
   },
   {
    "duration": 33,
    "start_time": "2022-10-01T07:11:30.591Z"
   },
   {
    "duration": 27,
    "start_time": "2022-10-01T07:11:30.626Z"
   },
   {
    "duration": 27,
    "start_time": "2022-10-01T07:11:30.655Z"
   },
   {
    "duration": 45,
    "start_time": "2022-10-01T07:11:30.683Z"
   },
   {
    "duration": 181,
    "start_time": "2022-10-01T07:11:30.729Z"
   },
   {
    "duration": 124,
    "start_time": "2022-10-01T07:11:30.912Z"
   },
   {
    "duration": 15,
    "start_time": "2022-10-01T07:11:31.037Z"
   },
   {
    "duration": 40,
    "start_time": "2022-10-01T07:11:31.053Z"
   },
   {
    "duration": 17,
    "start_time": "2022-10-01T07:11:31.095Z"
   },
   {
    "duration": 295,
    "start_time": "2022-10-01T07:11:31.114Z"
   },
   {
    "duration": 190,
    "start_time": "2022-10-01T07:11:31.412Z"
   },
   {
    "duration": 10,
    "start_time": "2022-10-01T07:11:31.604Z"
   },
   {
    "duration": 311,
    "start_time": "2022-10-01T07:11:31.615Z"
   },
   {
    "duration": 7,
    "start_time": "2022-10-01T07:11:31.928Z"
   },
   {
    "duration": 213,
    "start_time": "2022-10-01T07:11:31.936Z"
   },
   {
    "duration": 11,
    "start_time": "2022-10-01T07:11:32.151Z"
   },
   {
    "duration": 305,
    "start_time": "2022-10-01T07:11:32.164Z"
   },
   {
    "duration": 12,
    "start_time": "2022-10-01T07:11:32.471Z"
   },
   {
    "duration": 135,
    "start_time": "2022-10-01T07:11:32.484Z"
   },
   {
    "duration": 131,
    "start_time": "2022-10-01T07:11:32.621Z"
   },
   {
    "duration": 5,
    "start_time": "2022-10-01T07:11:32.754Z"
   },
   {
    "duration": 141,
    "start_time": "2022-10-01T07:11:32.761Z"
   },
   {
    "duration": 206,
    "start_time": "2022-10-01T07:11:32.903Z"
   },
   {
    "duration": 140,
    "start_time": "2022-10-01T07:11:33.110Z"
   },
   {
    "duration": 4,
    "start_time": "2022-10-01T07:11:33.252Z"
   },
   {
    "duration": 137,
    "start_time": "2022-10-01T07:11:33.257Z"
   },
   {
    "duration": 7,
    "start_time": "2022-10-01T07:11:33.396Z"
   },
   {
    "duration": 54,
    "start_time": "2022-10-01T07:11:33.404Z"
   },
   {
    "duration": 16,
    "start_time": "2022-10-01T07:11:33.459Z"
   },
   {
    "duration": 5,
    "start_time": "2022-10-01T07:11:33.477Z"
   },
   {
    "duration": 9,
    "start_time": "2022-10-01T07:11:33.484Z"
   },
   {
    "duration": 8,
    "start_time": "2022-10-01T07:11:33.495Z"
   },
   {
    "duration": 69,
    "start_time": "2022-10-01T07:11:33.505Z"
   },
   {
    "duration": 18,
    "start_time": "2022-10-01T07:11:33.576Z"
   }
  ],
  "kernelspec": {
   "display_name": "Python 3 (ipykernel)",
   "language": "python",
   "name": "python3"
  },
  "language_info": {
   "codemirror_mode": {
    "name": "ipython",
    "version": 3
   },
   "file_extension": ".py",
   "mimetype": "text/x-python",
   "name": "python",
   "nbconvert_exporter": "python",
   "pygments_lexer": "ipython3",
   "version": "3.9.12"
  },
  "toc": {
   "base_numbering": 1,
   "nav_menu": {
    "height": "67px",
    "width": "218px"
   },
   "number_sections": true,
   "sideBar": true,
   "skip_h1_title": true,
   "title_cell": "Table of Contents",
   "title_sidebar": "Contents",
   "toc_cell": false,
   "toc_position": {
    "height": "calc(100% - 180px)",
    "left": "10px",
    "top": "150px",
    "width": "308.188px"
   },
   "toc_section_display": true,
   "toc_window_display": false
  }
 },
 "nbformat": 4,
 "nbformat_minor": 2
}
