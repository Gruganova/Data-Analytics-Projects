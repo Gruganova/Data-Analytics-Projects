{
 "cells": [
  {
   "cell_type": "markdown",
   "metadata": {
    "id": "E0vqbgi9ay0H"
   },
   "source": [
    "# Музыка больших городов"
   ]
  },
  {
   "cell_type": "markdown",
   "metadata": {
    "id": "VUC88oWjTJw2"
   },
   "source": [
    "На данных Яндекс.Музыки сравним поведение пользователей двух столиц.\n",
    "\n",
    "**Цель исследования** — проверить три гипотезы:\n",
    "1. Активность пользователей зависит от дня недели. Причём в Москве и Петербурге это проявляется по-разному.\n",
    "2. В понедельник утром в Москве преобладают одни жанры, а в Петербурге — другие. Так же и вечером пятницы преобладают разные жанры — в зависимости от города. \n",
    "3. Москва и Петербург предпочитают разные жанры музыки. В Москве чаще слушают поп-музыку, в Петербурге — русский рэп.\n",
    "\n",
    "**Ход исследования**\n",
    "\n",
    "Данные о поведении пользователей получим из предоставленного файла. О качестве данных ничего не известно. Поэтому перед проверкой гипотез понадобится обзор данных. \n",
    "\n",
    "Проверим данные на ошибки и оценим их влияние на исследование. Затем, на этапе предобработки поищем возможность исправить самые критичные ошибки данных.\n",
    " \n",
    "Таким образом, исследование пройдёт в три этапа:\n",
    " 1. Обзор данных.\n",
    " 2. Предобработка данных.\n",
    " 3. Проверка гипотез.\n",
    "\n"
   ]
  },
  {
   "cell_type": "markdown",
   "metadata": {
    "id": "Ml1hmfXC_Zcs"
   },
   "source": [
    "## Обзор данных\n",
    "\n",
    "Составим первое представление о данных Яндекс.Музыки."
   ]
  },
  {
   "cell_type": "markdown",
   "metadata": {
    "id": "57eAOGIz_Zcs",
    "tags": [
     "start_task"
    ]
   },
   "source": [
    "Импорт библиотек:"
   ]
  },
  {
   "cell_type": "code",
   "execution_count": 1,
   "metadata": {
    "id": "AXN7PHPN_Zcs"
   },
   "outputs": [],
   "source": [
    "import pandas as pd"
   ]
  },
  {
   "cell_type": "markdown",
   "metadata": {
    "id": "rDoOMd3uTqnZ",
    "tags": [
     "start_task"
    ]
   },
   "source": [
    "Выведем на экран первые десять строк таблицы:"
   ]
  },
  {
   "cell_type": "code",
   "execution_count": 4,
   "metadata": {
    "id": "oWTVX3gW_Zct"
   },
   "outputs": [
    {
     "data": {
      "text/html": [
       "<div>\n",
       "<style scoped>\n",
       "    .dataframe tbody tr th:only-of-type {\n",
       "        vertical-align: middle;\n",
       "    }\n",
       "\n",
       "    .dataframe tbody tr th {\n",
       "        vertical-align: top;\n",
       "    }\n",
       "\n",
       "    .dataframe thead th {\n",
       "        text-align: right;\n",
       "    }\n",
       "</style>\n",
       "<table border=\"1\" class=\"dataframe\">\n",
       "  <thead>\n",
       "    <tr style=\"text-align: right;\">\n",
       "      <th></th>\n",
       "      <th>userID</th>\n",
       "      <th>Track</th>\n",
       "      <th>artist</th>\n",
       "      <th>genre</th>\n",
       "      <th>City</th>\n",
       "      <th>time</th>\n",
       "      <th>Day</th>\n",
       "    </tr>\n",
       "  </thead>\n",
       "  <tbody>\n",
       "    <tr>\n",
       "      <th>0</th>\n",
       "      <td>FFB692EC</td>\n",
       "      <td>Kamigata To Boots</td>\n",
       "      <td>The Mass Missile</td>\n",
       "      <td>rock</td>\n",
       "      <td>Saint-Petersburg</td>\n",
       "      <td>20:28:33</td>\n",
       "      <td>Wednesday</td>\n",
       "    </tr>\n",
       "    <tr>\n",
       "      <th>1</th>\n",
       "      <td>55204538</td>\n",
       "      <td>Delayed Because of Accident</td>\n",
       "      <td>Andreas Rönnberg</td>\n",
       "      <td>rock</td>\n",
       "      <td>Moscow</td>\n",
       "      <td>14:07:09</td>\n",
       "      <td>Friday</td>\n",
       "    </tr>\n",
       "    <tr>\n",
       "      <th>2</th>\n",
       "      <td>20EC38</td>\n",
       "      <td>Funiculì funiculà</td>\n",
       "      <td>Mario Lanza</td>\n",
       "      <td>pop</td>\n",
       "      <td>Saint-Petersburg</td>\n",
       "      <td>20:58:07</td>\n",
       "      <td>Wednesday</td>\n",
       "    </tr>\n",
       "    <tr>\n",
       "      <th>3</th>\n",
       "      <td>A3DD03C9</td>\n",
       "      <td>Dragons in the Sunset</td>\n",
       "      <td>Fire + Ice</td>\n",
       "      <td>folk</td>\n",
       "      <td>Saint-Petersburg</td>\n",
       "      <td>08:37:09</td>\n",
       "      <td>Monday</td>\n",
       "    </tr>\n",
       "    <tr>\n",
       "      <th>4</th>\n",
       "      <td>E2DC1FAE</td>\n",
       "      <td>Soul People</td>\n",
       "      <td>Space Echo</td>\n",
       "      <td>dance</td>\n",
       "      <td>Moscow</td>\n",
       "      <td>08:34:34</td>\n",
       "      <td>Monday</td>\n",
       "    </tr>\n",
       "    <tr>\n",
       "      <th>5</th>\n",
       "      <td>842029A1</td>\n",
       "      <td>Преданная</td>\n",
       "      <td>IMPERVTOR</td>\n",
       "      <td>rusrap</td>\n",
       "      <td>Saint-Petersburg</td>\n",
       "      <td>13:09:41</td>\n",
       "      <td>Friday</td>\n",
       "    </tr>\n",
       "    <tr>\n",
       "      <th>6</th>\n",
       "      <td>4CB90AA5</td>\n",
       "      <td>True</td>\n",
       "      <td>Roman Messer</td>\n",
       "      <td>dance</td>\n",
       "      <td>Moscow</td>\n",
       "      <td>13:00:07</td>\n",
       "      <td>Wednesday</td>\n",
       "    </tr>\n",
       "    <tr>\n",
       "      <th>7</th>\n",
       "      <td>F03E1C1F</td>\n",
       "      <td>Feeling This Way</td>\n",
       "      <td>Polina Griffith</td>\n",
       "      <td>dance</td>\n",
       "      <td>Moscow</td>\n",
       "      <td>20:47:49</td>\n",
       "      <td>Wednesday</td>\n",
       "    </tr>\n",
       "    <tr>\n",
       "      <th>8</th>\n",
       "      <td>8FA1D3BE</td>\n",
       "      <td>И вновь продолжается бой</td>\n",
       "      <td>NaN</td>\n",
       "      <td>ruspop</td>\n",
       "      <td>Moscow</td>\n",
       "      <td>09:17:40</td>\n",
       "      <td>Friday</td>\n",
       "    </tr>\n",
       "    <tr>\n",
       "      <th>9</th>\n",
       "      <td>E772D5C0</td>\n",
       "      <td>Pessimist</td>\n",
       "      <td>NaN</td>\n",
       "      <td>dance</td>\n",
       "      <td>Saint-Petersburg</td>\n",
       "      <td>21:20:49</td>\n",
       "      <td>Wednesday</td>\n",
       "    </tr>\n",
       "  </tbody>\n",
       "</table>\n",
       "</div>"
      ],
      "text/plain": [
       "     userID                        Track            artist   genre  \\\n",
       "0  FFB692EC            Kamigata To Boots  The Mass Missile    rock   \n",
       "1  55204538  Delayed Because of Accident  Andreas Rönnberg    rock   \n",
       "2    20EC38            Funiculì funiculà       Mario Lanza     pop   \n",
       "3  A3DD03C9        Dragons in the Sunset        Fire + Ice    folk   \n",
       "4  E2DC1FAE                  Soul People        Space Echo   dance   \n",
       "5  842029A1                    Преданная         IMPERVTOR  rusrap   \n",
       "6  4CB90AA5                         True      Roman Messer   dance   \n",
       "7  F03E1C1F             Feeling This Way   Polina Griffith   dance   \n",
       "8  8FA1D3BE     И вновь продолжается бой               NaN  ruspop   \n",
       "9  E772D5C0                    Pessimist               NaN   dance   \n",
       "\n",
       "             City        time        Day  \n",
       "0  Saint-Petersburg  20:28:33  Wednesday  \n",
       "1            Moscow  14:07:09     Friday  \n",
       "2  Saint-Petersburg  20:58:07  Wednesday  \n",
       "3  Saint-Petersburg  08:37:09     Monday  \n",
       "4            Moscow  08:34:34     Monday  \n",
       "5  Saint-Petersburg  13:09:41     Friday  \n",
       "6            Moscow  13:00:07  Wednesday  \n",
       "7            Moscow  20:47:49  Wednesday  \n",
       "8            Moscow  09:17:40     Friday  \n",
       "9  Saint-Petersburg  21:20:49  Wednesday  "
      ]
     },
     "execution_count": 4,
     "metadata": {},
     "output_type": "execute_result"
    }
   ],
   "source": [
    "df.head(10)"
   ]
  },
  {
   "cell_type": "markdown",
   "metadata": {
    "id": "EO73Kwic_Zct",
    "tags": [
     "start_task"
    ]
   },
   "source": [
    "Получим общую информацию о таблице:"
   ]
  },
  {
   "cell_type": "code",
   "execution_count": 5,
   "metadata": {
    "id": "DSf2kIb-_Zct"
   },
   "outputs": [
    {
     "name": "stdout",
     "output_type": "stream",
     "text": [
      "<class 'pandas.core.frame.DataFrame'>\n",
      "RangeIndex: 65079 entries, 0 to 65078\n",
      "Data columns (total 7 columns):\n",
      " #   Column    Non-Null Count  Dtype \n",
      "---  ------    --------------  ----- \n",
      " 0     userID  65079 non-null  object\n",
      " 1   Track     63848 non-null  object\n",
      " 2   artist    57876 non-null  object\n",
      " 3   genre     63881 non-null  object\n",
      " 4     City    65079 non-null  object\n",
      " 5   time      65079 non-null  object\n",
      " 6   Day       65079 non-null  object\n",
      "dtypes: object(7)\n",
      "memory usage: 3.5+ MB\n"
     ]
    }
   ],
   "source": [
    "df.info()"
   ]
  },
  {
   "cell_type": "markdown",
   "metadata": {
    "id": "TaQ2Iwbr_Zct"
   },
   "source": [
    "Итак, в таблице семь столбцов. Тип данных во всех столбцах — `object`.\n",
    "\n",
    "Согласно документации к данным:\n",
    "* `userID` — идентификатор пользователя;\n",
    "* `Track` — название трека;  \n",
    "* `artist` — имя исполнителя;\n",
    "* `genre` — название жанра;\n",
    "* `City` — город пользователя;\n",
    "* `time` — время начала прослушивания;\n",
    "* `Day` — день недели.\n",
    "\n",
    "Количество значений в столбцах различается. Значит, в данных есть пропущенные значения."
   ]
  },
  {
   "cell_type": "markdown",
   "metadata": {
    "tags": [
     "start_task"
    ]
   },
   "source": [
    " названиях колонок видны три нарушения стиля:\n",
    "1. Строчные буквы сочетаются с прописными.\n",
    "2. Встречаются пробелы.\n",
    "3. Использован CamelCase"
   ]
  },
  {
   "cell_type": "markdown",
   "metadata": {
    "id": "MCB6-dXG_Zct"
   },
   "source": [
    "**Выводы**\n",
    "\n",
    "В каждой строке таблицы — данные о прослушанном треке. Часть колонок описывает саму композицию: название, исполнителя и жанр. Остальные данные рассказывают о пользователе: из какого он города, когда он слушал музыку. \n",
    "\n",
    "Предварительно можно утверждать, что, данных достаточно для проверки гипотез. Но встречаются пропуски в данных, а в названиях колонок — расхождения с хорошим стилем.\n",
    "\n",
    "Чтобы двигаться дальше, нужно устранить проблемы в данных."
   ]
  },
  {
   "cell_type": "markdown",
   "metadata": {
    "id": "SjYF6Ub9_Zct"
   },
   "source": [
    "## Предобработка данных\n",
    "Исправим стиль в заголовках столбцов, исключим пропуски. Затем проверим данные на дубликаты."
   ]
  },
  {
   "cell_type": "markdown",
   "metadata": {
    "id": "dIaKXr29_Zct",
    "tags": [
     "start_task"
    ]
   },
   "source": [
    "### Стиль заголовков\n",
    "\n",
    "Выведем на экран названия столбцов:"
   ]
  },
  {
   "cell_type": "code",
   "execution_count": 6,
   "metadata": {
    "id": "oKOTdF_Q_Zct"
   },
   "outputs": [
    {
     "data": {
      "text/plain": [
       "Index(['  userID', 'Track', 'artist', 'genre', '  City  ', 'time', 'Day'], dtype='object')"
      ]
     },
     "execution_count": 6,
     "metadata": {},
     "output_type": "execute_result"
    }
   ],
   "source": [
    "df.columns"
   ]
  },
  {
   "cell_type": "markdown",
   "metadata": {
    "id": "zj5534cv_Zct",
    "tags": [
     "start_task"
    ]
   },
   "source": [
    "Приведём названия к camel_case:"
   ]
  },
  {
   "cell_type": "code",
   "execution_count": 7,
   "metadata": {
    "id": "ISlFqs5y_Zct"
   },
   "outputs": [],
   "source": [
    "df = df.rename(columns = {\n",
    "    '  userID': 'user_id', \n",
    "    'Track': 'track', \n",
    "    '  City  ': 'city', \n",
    "    'Day': 'day'})"
   ]
  },
  {
   "cell_type": "markdown",
   "metadata": {
    "id": "1dqbh00J_Zct",
    "tags": [
     "start_task"
    ]
   },
   "source": [
    "Проверим результат. Для этого ещё раз выведем на экран названия столбцов:"
   ]
  },
  {
   "cell_type": "code",
   "execution_count": 8,
   "metadata": {
    "id": "d4NOAmTW_Zct"
   },
   "outputs": [
    {
     "data": {
      "text/plain": [
       "Index(['user_id', 'track', 'artist', 'genre', 'city', 'time', 'day'], dtype='object')"
      ]
     },
     "execution_count": 8,
     "metadata": {},
     "output_type": "execute_result"
    }
   ],
   "source": [
    "df.columns"
   ]
  },
  {
   "cell_type": "markdown",
   "metadata": {
    "id": "5ISfbcfY_Zct",
    "tags": [
     "start_task"
    ]
   },
   "source": [
    "### Пропуски значений\n",
    "\n",
    "Посчитаем, сколько в таблице пропущенных значений:"
   ]
  },
  {
   "cell_type": "code",
   "execution_count": 10,
   "metadata": {
    "id": "RskX29qr_Zct"
   },
   "outputs": [
    {
     "data": {
      "text/plain": [
       "user_id       0\n",
       "track      1231\n",
       "artist     7203\n",
       "genre      1198\n",
       "city          0\n",
       "time          0\n",
       "day           0\n",
       "dtype: int64"
      ]
     },
     "execution_count": 10,
     "metadata": {},
     "output_type": "execute_result"
    }
   ],
   "source": [
    "df.isna().sum()"
   ]
  },
  {
   "cell_type": "markdown",
   "metadata": {
    "id": "qubhgnlO_Zct"
   },
   "source": [
    "Не все пропущенные значения влияют на исследование. Так в `track` и `artist` пропуски не важны для вашей работы. Достаточно заменить их явными обозначениями.\n",
    "\n",
    "Но пропуски в `genre` могут помешать сравнению музыкальных вкусов в Москве и Санкт-Петербурге. На практике было бы правильно установить причину пропусков и восстановить данные. Такой возможности нет в данном проекте. Придётся:\n",
    "* заполнить и эти пропуски явными обозначениями,\n",
    "* оценить, насколько они повредят расчётам. "
   ]
  },
  {
   "cell_type": "markdown",
   "metadata": {
    "id": "fSv2laPA_Zct",
    "tags": [
     "start_task"
    ]
   },
   "source": [
    "Заменим пропущенные значения в столбцах `track`, `artist` и `genre` на строку `'unknown'`:"
   ]
  },
  {
   "cell_type": "code",
   "execution_count": 11,
   "metadata": {
    "id": "KplB5qWs_Zct"
   },
   "outputs": [],
   "source": [
    "columns_to_replace = ['track', 'artist', 'genre']\n",
    "for column in columns_to_replace:\n",
    "    df[column] = df[column].fillna('unknown')"
   ]
  },
  {
   "cell_type": "markdown",
   "metadata": {
    "id": "Ilsm-MZo_Zct",
    "tags": [
     "start_task"
    ]
   },
   "source": [
    "Убедимся, что в таблице не осталось пропусков."
   ]
  },
  {
   "cell_type": "code",
   "execution_count": 12,
   "metadata": {
    "id": "Tq4nYRX4_Zct"
   },
   "outputs": [
    {
     "data": {
      "text/plain": [
       "user_id    0\n",
       "track      0\n",
       "artist     0\n",
       "genre      0\n",
       "city       0\n",
       "time       0\n",
       "day        0\n",
       "dtype: int64"
      ]
     },
     "execution_count": 12,
     "metadata": {},
     "output_type": "execute_result"
    }
   ],
   "source": [
    "df.isna().sum()"
   ]
  },
  {
   "cell_type": "markdown",
   "metadata": {
    "id": "BWKRtBJ3_Zct",
    "tags": [
     "start_task"
    ]
   },
   "source": [
    "### Дубликаты\n",
    "\n",
    "Посчитаем явные дубликаты в таблице:"
   ]
  },
  {
   "cell_type": "code",
   "execution_count": 13,
   "metadata": {
    "id": "36eES_S0_Zct"
   },
   "outputs": [
    {
     "data": {
      "text/plain": [
       "3826"
      ]
     },
     "execution_count": 13,
     "metadata": {},
     "output_type": "execute_result"
    }
   ],
   "source": [
    "df.duplicated().sum()"
   ]
  },
  {
   "cell_type": "markdown",
   "metadata": {
    "id": "Ot25h6XR_Zct",
    "tags": [
     "start_task"
    ]
   },
   "source": [
    "Удалим явные дубликаты:"
   ]
  },
  {
   "cell_type": "code",
   "execution_count": 14,
   "metadata": {
    "id": "exFHq6tt_Zct"
   },
   "outputs": [],
   "source": [
    "df = df.drop_duplicates()"
   ]
  },
  {
   "cell_type": "markdown",
   "metadata": {
    "id": "Im2YwBEG_Zct",
    "tags": [
     "start_task"
    ]
   },
   "source": [
    "Ещё раз посчитаем явные дубликаты в таблице — убедимся, что полностью от них избавились:"
   ]
  },
  {
   "cell_type": "code",
   "execution_count": 15,
   "metadata": {
    "id": "-8PuNWQ0_Zct"
   },
   "outputs": [
    {
     "data": {
      "text/plain": [
       "0"
      ]
     },
     "execution_count": 15,
     "metadata": {},
     "output_type": "execute_result"
    }
   ],
   "source": [
    "df.duplicated().sum()"
   ]
  },
  {
   "cell_type": "markdown",
   "metadata": {
    "id": "QlFBsxAr_Zct"
   },
   "source": [
    "Теперь избавимся от неявных дубликатов в колонке `genre`. Например, название одного и того же жанра может быть записано немного по-разному. Такие ошибки тоже повлияют на результат исследования."
   ]
  },
  {
   "cell_type": "markdown",
   "metadata": {
    "id": "eSjWwsOh_Zct",
    "tags": [
     "start_task"
    ]
   },
   "source": [
    "Выведем на экран список уникальных названий жанров, отсортированный в алфавитном порядке:"
   ]
  },
  {
   "cell_type": "code",
   "execution_count": 16,
   "metadata": {
    "id": "JIUcqzZN_Zct"
   },
   "outputs": [
    {
     "data": {
      "text/plain": [
       "array(['acid', 'acoustic', 'action', 'adult', 'africa', 'afrikaans',\n",
       "       'alternative', 'alternativepunk', 'ambient', 'americana',\n",
       "       'animated', 'anime', 'arabesk', 'arabic', 'arena',\n",
       "       'argentinetango', 'art', 'audiobook', 'author', 'avantgarde',\n",
       "       'axé', 'baile', 'balkan', 'beats', 'bigroom', 'black', 'bluegrass',\n",
       "       'blues', 'bollywood', 'bossa', 'brazilian', 'breakbeat', 'breaks',\n",
       "       'broadway', 'cantautori', 'cantopop', 'canzone', 'caribbean',\n",
       "       'caucasian', 'celtic', 'chamber', 'chanson', 'children', 'chill',\n",
       "       'chinese', 'choral', 'christian', 'christmas', 'classical',\n",
       "       'classicmetal', 'club', 'colombian', 'comedy', 'conjazz',\n",
       "       'contemporary', 'country', 'cuban', 'dance', 'dancehall',\n",
       "       'dancepop', 'dark', 'death', 'deep', 'deutschrock', 'deutschspr',\n",
       "       'dirty', 'disco', 'dnb', 'documentary', 'downbeat', 'downtempo',\n",
       "       'drum', 'dub', 'dubstep', 'eastern', 'easy', 'electronic',\n",
       "       'electropop', 'emo', 'entehno', 'epicmetal', 'estrada', 'ethnic',\n",
       "       'eurofolk', 'european', 'experimental', 'extrememetal', 'fado',\n",
       "       'fairytail', 'film', 'fitness', 'flamenco', 'folk', 'folklore',\n",
       "       'folkmetal', 'folkrock', 'folktronica', 'forró', 'frankreich',\n",
       "       'französisch', 'french', 'funk', 'future', 'gangsta', 'garage',\n",
       "       'german', 'ghazal', 'gitarre', 'glitch', 'gospel', 'gothic',\n",
       "       'grime', 'grunge', 'gypsy', 'handsup', \"hard'n'heavy\", 'hardcore',\n",
       "       'hardstyle', 'hardtechno', 'hip', 'hip-hop', 'hiphop',\n",
       "       'historisch', 'holiday', 'hop', 'horror', 'house', 'hymn', 'idm',\n",
       "       'independent', 'indian', 'indie', 'indipop', 'industrial',\n",
       "       'inspirational', 'instrumental', 'international', 'irish', 'jam',\n",
       "       'japanese', 'jazz', 'jewish', 'jpop', 'jungle', 'k-pop',\n",
       "       'karadeniz', 'karaoke', 'kayokyoku', 'korean', 'laiko', 'latin',\n",
       "       'latino', 'leftfield', 'local', 'lounge', 'loungeelectronic',\n",
       "       'lovers', 'malaysian', 'mandopop', 'marschmusik', 'meditative',\n",
       "       'mediterranean', 'melodic', 'metal', 'metalcore', 'mexican',\n",
       "       'middle', 'minimal', 'miscellaneous', 'modern', 'mood', 'mpb',\n",
       "       'muslim', 'native', 'neoklassik', 'neue', 'new', 'newage',\n",
       "       'newwave', 'nu', 'nujazz', 'numetal', 'oceania', 'old', 'opera',\n",
       "       'orchestral', 'other', 'piano', 'podcasts', 'pop', 'popdance',\n",
       "       'popelectronic', 'popeurodance', 'poprussian', 'post',\n",
       "       'posthardcore', 'postrock', 'power', 'progmetal', 'progressive',\n",
       "       'psychedelic', 'punjabi', 'punk', 'quebecois', 'ragga', 'ram',\n",
       "       'rancheras', 'rap', 'rave', 'reggae', 'reggaeton', 'regional',\n",
       "       'relax', 'religious', 'retro', 'rhythm', 'rnb', 'rnr', 'rock',\n",
       "       'rockabilly', 'rockalternative', 'rockindie', 'rockother',\n",
       "       'romance', 'roots', 'ruspop', 'rusrap', 'rusrock', 'russian',\n",
       "       'salsa', 'samba', 'scenic', 'schlager', 'self', 'sertanejo',\n",
       "       'shanson', 'shoegazing', 'showtunes', 'singer', 'ska', 'skarock',\n",
       "       'slow', 'smooth', 'soft', 'soul', 'soulful', 'sound', 'soundtrack',\n",
       "       'southern', 'specialty', 'speech', 'spiritual', 'sport',\n",
       "       'stonerrock', 'surf', 'swing', 'synthpop', 'synthrock',\n",
       "       'sängerportrait', 'tango', 'tanzorchester', 'taraftar', 'tatar',\n",
       "       'tech', 'techno', 'teen', 'thrash', 'top', 'traditional',\n",
       "       'tradjazz', 'trance', 'tribal', 'trip', 'triphop', 'tropical',\n",
       "       'türk', 'türkçe', 'ukrrock', 'unknown', 'urban', 'uzbek',\n",
       "       'variété', 'vi', 'videogame', 'vocal', 'western', 'world',\n",
       "       'worldbeat', 'ïîï', 'электроника'], dtype=object)"
      ]
     },
     "execution_count": 16,
     "metadata": {},
     "output_type": "execute_result"
    }
   ],
   "source": [
    "df['genre'].sort_values().unique()"
   ]
  },
  {
   "cell_type": "markdown",
   "metadata": {
    "id": "qej-Qmuo_Zct",
    "tags": [
     "start_task"
    ]
   },
   "source": [
    "Обнаружены следующие неявные дубликаты:\n",
    "* *hip*,\n",
    "* *hop*,\n",
    "* *hip-hop*.\n",
    "\n",
    "Заменим дубликаты на `hiphop`:"
   ]
  },
  {
   "cell_type": "code",
   "execution_count": 17,
   "metadata": {
    "id": "ErNDkmns_Zct"
   },
   "outputs": [],
   "source": [
    "df['genre'] = df['genre'].replace(['hip', 'hop', 'hip-hop'], 'hiphop')"
   ]
  },
  {
   "cell_type": "markdown",
   "metadata": {
    "id": "zQKF16_RG15m",
    "tags": [
     "start_task"
    ]
   },
   "source": [
    "Проверим, что заменили неправильные названия:"
   ]
  },
  {
   "cell_type": "code",
   "execution_count": 18,
   "metadata": {
    "id": "wvixALnFG15m"
   },
   "outputs": [
    {
     "data": {
      "text/plain": [
       "array(['acid', 'acoustic', 'action', 'adult', 'africa', 'afrikaans',\n",
       "       'alternative', 'alternativepunk', 'ambient', 'americana',\n",
       "       'animated', 'anime', 'arabesk', 'arabic', 'arena',\n",
       "       'argentinetango', 'art', 'audiobook', 'author', 'avantgarde',\n",
       "       'axé', 'baile', 'balkan', 'beats', 'bigroom', 'black', 'bluegrass',\n",
       "       'blues', 'bollywood', 'bossa', 'brazilian', 'breakbeat', 'breaks',\n",
       "       'broadway', 'cantautori', 'cantopop', 'canzone', 'caribbean',\n",
       "       'caucasian', 'celtic', 'chamber', 'chanson', 'children', 'chill',\n",
       "       'chinese', 'choral', 'christian', 'christmas', 'classical',\n",
       "       'classicmetal', 'club', 'colombian', 'comedy', 'conjazz',\n",
       "       'contemporary', 'country', 'cuban', 'dance', 'dancehall',\n",
       "       'dancepop', 'dark', 'death', 'deep', 'deutschrock', 'deutschspr',\n",
       "       'dirty', 'disco', 'dnb', 'documentary', 'downbeat', 'downtempo',\n",
       "       'drum', 'dub', 'dubstep', 'eastern', 'easy', 'electronic',\n",
       "       'electropop', 'emo', 'entehno', 'epicmetal', 'estrada', 'ethnic',\n",
       "       'eurofolk', 'european', 'experimental', 'extrememetal', 'fado',\n",
       "       'fairytail', 'film', 'fitness', 'flamenco', 'folk', 'folklore',\n",
       "       'folkmetal', 'folkrock', 'folktronica', 'forró', 'frankreich',\n",
       "       'französisch', 'french', 'funk', 'future', 'gangsta', 'garage',\n",
       "       'german', 'ghazal', 'gitarre', 'glitch', 'gospel', 'gothic',\n",
       "       'grime', 'grunge', 'gypsy', 'handsup', \"hard'n'heavy\", 'hardcore',\n",
       "       'hardstyle', 'hardtechno', 'hiphop', 'historisch', 'holiday',\n",
       "       'horror', 'house', 'hymn', 'idm', 'independent', 'indian', 'indie',\n",
       "       'indipop', 'industrial', 'inspirational', 'instrumental',\n",
       "       'international', 'irish', 'jam', 'japanese', 'jazz', 'jewish',\n",
       "       'jpop', 'jungle', 'k-pop', 'karadeniz', 'karaoke', 'kayokyoku',\n",
       "       'korean', 'laiko', 'latin', 'latino', 'leftfield', 'local',\n",
       "       'lounge', 'loungeelectronic', 'lovers', 'malaysian', 'mandopop',\n",
       "       'marschmusik', 'meditative', 'mediterranean', 'melodic', 'metal',\n",
       "       'metalcore', 'mexican', 'middle', 'minimal', 'miscellaneous',\n",
       "       'modern', 'mood', 'mpb', 'muslim', 'native', 'neoklassik', 'neue',\n",
       "       'new', 'newage', 'newwave', 'nu', 'nujazz', 'numetal', 'oceania',\n",
       "       'old', 'opera', 'orchestral', 'other', 'piano', 'podcasts', 'pop',\n",
       "       'popdance', 'popelectronic', 'popeurodance', 'poprussian', 'post',\n",
       "       'posthardcore', 'postrock', 'power', 'progmetal', 'progressive',\n",
       "       'psychedelic', 'punjabi', 'punk', 'quebecois', 'ragga', 'ram',\n",
       "       'rancheras', 'rap', 'rave', 'reggae', 'reggaeton', 'regional',\n",
       "       'relax', 'religious', 'retro', 'rhythm', 'rnb', 'rnr', 'rock',\n",
       "       'rockabilly', 'rockalternative', 'rockindie', 'rockother',\n",
       "       'romance', 'roots', 'ruspop', 'rusrap', 'rusrock', 'russian',\n",
       "       'salsa', 'samba', 'scenic', 'schlager', 'self', 'sertanejo',\n",
       "       'shanson', 'shoegazing', 'showtunes', 'singer', 'ska', 'skarock',\n",
       "       'slow', 'smooth', 'soft', 'soul', 'soulful', 'sound', 'soundtrack',\n",
       "       'southern', 'specialty', 'speech', 'spiritual', 'sport',\n",
       "       'stonerrock', 'surf', 'swing', 'synthpop', 'synthrock',\n",
       "       'sängerportrait', 'tango', 'tanzorchester', 'taraftar', 'tatar',\n",
       "       'tech', 'techno', 'teen', 'thrash', 'top', 'traditional',\n",
       "       'tradjazz', 'trance', 'tribal', 'trip', 'triphop', 'tropical',\n",
       "       'türk', 'türkçe', 'ukrrock', 'unknown', 'urban', 'uzbek',\n",
       "       'variété', 'vi', 'videogame', 'vocal', 'western', 'world',\n",
       "       'worldbeat', 'ïîï', 'электроника'], dtype=object)"
      ]
     },
     "execution_count": 18,
     "metadata": {},
     "output_type": "execute_result"
    }
   ],
   "source": [
    "df['genre'].sort_values().unique()"
   ]
  },
  {
   "cell_type": "markdown",
   "metadata": {
    "id": "jz6a9-7HQUDd"
   },
   "source": [
    "**Выводы**\n",
    "\n",
    "Предобработка обнаружила три проблемы в данных:\n",
    "\n",
    "- нарушения в стиле заголовков,\n",
    "- пропущенные значения,\n",
    "- дубликаты — явные и неявные.\n",
    "\n",
    "Мы исправили заголовки, чтобы упростить работу с таблицей. Без дубликатов исследование станет более точным.\n",
    "\n",
    "Пропущенные значения заменили на `'unknown'`. Ещё предстоит увидеть, не повредят ли исследованию пропуски в колонке `genre`.\n",
    "\n",
    "Теперь можно перейти к проверке гипотез. "
   ]
  },
  {
   "cell_type": "markdown",
   "metadata": {
    "id": "WttZHXH0SqKk"
   },
   "source": [
    "## Проверка гипотез"
   ]
  },
  {
   "cell_type": "markdown",
   "metadata": {
    "id": "Im936VVi_Zcu"
   },
   "source": [
    "### Сравнение поведения пользователей двух столиц"
   ]
  },
  {
   "cell_type": "markdown",
   "metadata": {
    "id": "nwt_MuaL_Zcu"
   },
   "source": [
    "Первая гипотеза утверждает, что пользователи по-разному слушают музыку в Москве и Санкт-Петербурге. Проверим это предположение по данным о трёх днях недели — понедельнике, среде и пятнице. Для этого:\n",
    "\n",
    "* Разделим пользователей Москвы и Санкт-Петербурга\n",
    "* Сравним, сколько треков послушала каждая группа пользователей в понедельник, среду и пятницу.\n"
   ]
  },
  {
   "cell_type": "markdown",
   "metadata": {
    "id": "8Dw_YMmT_Zcu",
    "tags": [
     "start_task"
    ]
   },
   "source": [
    "Сначала выполните каждый из расчётов по отдельности. \n",
    "\n",
    "Оценим активность пользователей в каждом городе. Сгруппируем данные по городу и посчитаем прослушивания в каждой группе."
   ]
  },
  {
   "cell_type": "code",
   "execution_count": 19,
   "metadata": {
    "id": "0_Qs96oh_Zcu"
   },
   "outputs": [
    {
     "data": {
      "text/plain": [
       "city\n",
       "Moscow              42741\n",
       "Saint-Petersburg    18512\n",
       "Name: genre, dtype: int64"
      ]
     },
     "execution_count": 19,
     "metadata": {},
     "output_type": "execute_result"
    }
   ],
   "source": [
    "df.groupby('city')['genre'].count()"
   ]
  },
  {
   "cell_type": "markdown",
   "metadata": {
    "id": "dzli3w8o_Zcu",
    "tags": [
     "start_task"
    ]
   },
   "source": [
    "В Москве прослушиваний больше, чем в Петербурге. Из этого не следует, что московские пользователи чаще слушают музыку. Просто самих пользователей в Москве больше.\n",
    "\n",
    "Сгруппируем данные по дню недели и подсчитаем прослушивания в понедельник, среду и пятницу. Учтём, что в данных есть информация о прослушиваниях только за эти дни."
   ]
  },
  {
   "cell_type": "code",
   "execution_count": 20,
   "metadata": {
    "id": "uZMKjiJz_Zcu"
   },
   "outputs": [
    {
     "data": {
      "text/plain": [
       "day\n",
       "Friday       21840\n",
       "Monday       21354\n",
       "Wednesday    18059\n",
       "Name: genre, dtype: int64"
      ]
     },
     "execution_count": 20,
     "metadata": {},
     "output_type": "execute_result"
    }
   ],
   "source": [
    "df.groupby('day')['genre'].count()"
   ]
  },
  {
   "cell_type": "markdown",
   "metadata": {
    "id": "cC2tNrlL_Zcu"
   },
   "source": [
    "В среднем пользователи из двух городов менее активны по средам. Но картина может измениться, если рассмотреть каждый город в отдельности."
   ]
  },
  {
   "cell_type": "markdown",
   "metadata": {
    "id": "POzs8bGa_Zcu",
    "tags": [
     "start_task"
    ]
   },
   "source": [
    "Напишем функцию, которая объединит два эти расчёта.\n",
    "\n",
    "Создадим функцию `number_tracks()`, которая посчитает прослушивания для заданного дня и города. Ей понадобятся два параметра:\n",
    "* день недели,\n",
    "* название города.\n",
    "\n",
    "В функции сохраним в переменную строки исходной таблицы, у которых значение:\n",
    "  * в колонке `day` равно параметру `day`,\n",
    "  * в колонке `city` равно параметру `city`."
   ]
  },
  {
   "cell_type": "code",
   "execution_count": 21,
   "metadata": {
    "id": "Nz3GdQB1_Zcu"
   },
   "outputs": [],
   "source": [
    "def number_tracks (day, city):\n",
    "    track_list = df[df['day'] == day]\n",
    "    track_list = track_list[df['city'] == city]\n",
    "    return track_list['genre'].count()"
   ]
  },
  {
   "cell_type": "markdown",
   "metadata": {
    "id": "ytf7xFrFJQ2r",
    "tags": [
     "start_task"
    ]
   },
   "source": [
    "Вызовем функцию `number_tracks()` шесть раз, меняя значение параметров — так, чтобы получить данные для каждого города в каждый из трёх дней."
   ]
  },
  {
   "cell_type": "code",
   "execution_count": 22,
   "metadata": {
    "id": "rJcRATNQ_Zcu"
   },
   "outputs": [
    {
     "name": "stderr",
     "output_type": "stream",
     "text": [
      "C:\\Users\\Gruganova\\AppData\\Local\\Temp\\ipykernel_17356\\918360747.py:3: UserWarning: Boolean Series key will be reindexed to match DataFrame index.\n",
      "  track_list = track_list[df['city'] == city]\n"
     ]
    },
    {
     "data": {
      "text/plain": [
       "15740"
      ]
     },
     "execution_count": 22,
     "metadata": {},
     "output_type": "execute_result"
    }
   ],
   "source": [
    "# количество прослушиваний в Москве по понедельникам\n",
    "number_tracks('Monday', 'Moscow')"
   ]
  },
  {
   "cell_type": "code",
   "execution_count": 23,
   "metadata": {
    "id": "hq_ncZ5T_Zcu"
   },
   "outputs": [
    {
     "name": "stderr",
     "output_type": "stream",
     "text": [
      "C:\\Users\\Gruganova\\AppData\\Local\\Temp\\ipykernel_17356\\918360747.py:3: UserWarning: Boolean Series key will be reindexed to match DataFrame index.\n",
      "  track_list = track_list[df['city'] == city]\n"
     ]
    },
    {
     "data": {
      "text/plain": [
       "5614"
      ]
     },
     "execution_count": 23,
     "metadata": {},
     "output_type": "execute_result"
    }
   ],
   "source": [
    "# количество прослушиваний в Санкт-Петербурге по понедельникам\n",
    "number_tracks('Monday', 'Saint-Petersburg')"
   ]
  },
  {
   "cell_type": "code",
   "execution_count": 24,
   "metadata": {
    "deletable": false,
    "id": "_NTy2VPU_Zcu"
   },
   "outputs": [
    {
     "name": "stderr",
     "output_type": "stream",
     "text": [
      "C:\\Users\\Gruganova\\AppData\\Local\\Temp\\ipykernel_17356\\918360747.py:3: UserWarning: Boolean Series key will be reindexed to match DataFrame index.\n",
      "  track_list = track_list[df['city'] == city]\n"
     ]
    },
    {
     "data": {
      "text/plain": [
       "11056"
      ]
     },
     "execution_count": 24,
     "metadata": {},
     "output_type": "execute_result"
    }
   ],
   "source": [
    "# количество прослушиваний в Москве по средам\n",
    "number_tracks('Wednesday', 'Moscow')"
   ]
  },
  {
   "cell_type": "code",
   "execution_count": 25,
   "metadata": {
    "id": "j2y3TAwo_Zcu"
   },
   "outputs": [
    {
     "name": "stderr",
     "output_type": "stream",
     "text": [
      "C:\\Users\\Gruganova\\AppData\\Local\\Temp\\ipykernel_17356\\918360747.py:3: UserWarning: Boolean Series key will be reindexed to match DataFrame index.\n",
      "  track_list = track_list[df['city'] == city]\n"
     ]
    },
    {
     "data": {
      "text/plain": [
       "7003"
      ]
     },
     "execution_count": 25,
     "metadata": {},
     "output_type": "execute_result"
    }
   ],
   "source": [
    "# количество прослушиваний в Санкт-Петербурге по средам\n",
    "number_tracks('Wednesday', 'Saint-Petersburg')"
   ]
  },
  {
   "cell_type": "code",
   "execution_count": 26,
   "metadata": {
    "id": "vYDw5u_K_Zcu"
   },
   "outputs": [
    {
     "name": "stderr",
     "output_type": "stream",
     "text": [
      "C:\\Users\\Gruganova\\AppData\\Local\\Temp\\ipykernel_17356\\918360747.py:3: UserWarning: Boolean Series key will be reindexed to match DataFrame index.\n",
      "  track_list = track_list[df['city'] == city]\n"
     ]
    },
    {
     "data": {
      "text/plain": [
       "15945"
      ]
     },
     "execution_count": 26,
     "metadata": {},
     "output_type": "execute_result"
    }
   ],
   "source": [
    "# количество прослушиваний в Москве по пятницам\n",
    "number_tracks('Friday', 'Moscow')"
   ]
  },
  {
   "cell_type": "code",
   "execution_count": 27,
   "metadata": {
    "id": "8_yzFtW3_Zcu"
   },
   "outputs": [
    {
     "name": "stderr",
     "output_type": "stream",
     "text": [
      "C:\\Users\\Gruganova\\AppData\\Local\\Temp\\ipykernel_17356\\918360747.py:3: UserWarning: Boolean Series key will be reindexed to match DataFrame index.\n",
      "  track_list = track_list[df['city'] == city]\n"
     ]
    },
    {
     "data": {
      "text/plain": [
       "5895"
      ]
     },
     "execution_count": 27,
     "metadata": {},
     "output_type": "execute_result"
    }
   ],
   "source": [
    "# количество прослушиваний в Санкт-Петербурге по пятницам\n",
    "number_tracks('Friday', 'Saint-Petersburg')"
   ]
  },
  {
   "cell_type": "markdown",
   "metadata": {
    "id": "7QXffbO-_Zcu",
    "tags": [
     "start_task"
    ]
   },
   "source": [
    "Создадим таблицу, где\n",
    "* названия колонок — `['city', 'monday', 'wednesday', 'friday']`;\n",
    "* данные — результаты, которые вы получили с помощью `number_tracks`."
   ]
  },
  {
   "cell_type": "code",
   "execution_count": 28,
   "metadata": {
    "id": "APAcLpOr_Zcu"
   },
   "outputs": [
    {
     "data": {
      "text/html": [
       "<div>\n",
       "<style scoped>\n",
       "    .dataframe tbody tr th:only-of-type {\n",
       "        vertical-align: middle;\n",
       "    }\n",
       "\n",
       "    .dataframe tbody tr th {\n",
       "        vertical-align: top;\n",
       "    }\n",
       "\n",
       "    .dataframe thead th {\n",
       "        text-align: right;\n",
       "    }\n",
       "</style>\n",
       "<table border=\"1\" class=\"dataframe\">\n",
       "  <thead>\n",
       "    <tr style=\"text-align: right;\">\n",
       "      <th></th>\n",
       "      <th>city</th>\n",
       "      <th>monday</th>\n",
       "      <th>wednesday</th>\n",
       "      <th>friday</th>\n",
       "    </tr>\n",
       "  </thead>\n",
       "  <tbody>\n",
       "    <tr>\n",
       "      <th>0</th>\n",
       "      <td>Москва</td>\n",
       "      <td>15740</td>\n",
       "      <td>11056</td>\n",
       "      <td>15945</td>\n",
       "    </tr>\n",
       "    <tr>\n",
       "      <th>1</th>\n",
       "      <td>Санкт-Петербург</td>\n",
       "      <td>5614</td>\n",
       "      <td>7003</td>\n",
       "      <td>5895</td>\n",
       "    </tr>\n",
       "  </tbody>\n",
       "</table>\n",
       "</div>"
      ],
      "text/plain": [
       "              city monday wednesday friday\n",
       "0           Москва  15740     11056  15945\n",
       "1  Санкт-Петербург   5614      7003   5895"
      ]
     },
     "execution_count": 28,
     "metadata": {},
     "output_type": "execute_result"
    }
   ],
   "source": [
    "columns = ['city', 'monday', 'wednesday', 'friday']\n",
    "data = [['Москва', '15740', '11056', '15945'], ['Санкт-Петербург', '5614', '7003', '5895']]\n",
    "info = pd.DataFrame(data = data, columns = columns)\n",
    "info"
   ]
  },
  {
   "cell_type": "markdown",
   "metadata": {
    "id": "-EgPIHYu_Zcu"
   },
   "source": [
    "**Выводы**\n",
    "\n",
    "Данные показывают разницу поведения пользователей:\n",
    "\n",
    "- В Москве пик прослушиваний приходится на понедельник и пятницу, а в среду заметен спад.\n",
    "- В Петербурге, наоборот, больше слушают музыку по средам. Активность в понедельник и пятницу здесь почти в равной мере уступает среде.\n",
    "\n",
    "Значит, данные говорят в пользу первой гипотезы."
   ]
  },
  {
   "cell_type": "markdown",
   "metadata": {
    "id": "atZAxtq4_Zcu"
   },
   "source": [
    "### Музыка в начале и в конце недели"
   ]
  },
  {
   "cell_type": "markdown",
   "metadata": {
    "id": "eXrQqXFH_Zcu"
   },
   "source": [
    "Согласно второй гипотезе, утром в понедельник в Москве преобладают одни жанры, а в Петербурге — другие. Так же и вечером пятницы преобладают разные жанры — в зависимости от города."
   ]
  },
  {
   "cell_type": "markdown",
   "metadata": {
    "id": "S8UcW6Hw_Zcu",
    "tags": [
     "start_task"
    ]
   },
   "source": [
    "Сохраним таблицы с данными в две переменные:\n",
    "* по Москве — в `moscow_general`;\n",
    "* по Санкт-Петербургу — в `spb_general`."
   ]
  },
  {
   "cell_type": "code",
   "execution_count": 29,
   "metadata": {
    "id": "qeaFfM_P_Zcu"
   },
   "outputs": [],
   "source": [
    "moscow_general = df[df['city'] == 'Moscow']"
   ]
  },
  {
   "cell_type": "code",
   "execution_count": 30,
   "metadata": {
    "id": "ORaVRKto_Zcu"
   },
   "outputs": [],
   "source": [
    "spb_general = df[df['city'] == 'Saint-Petersburg']"
   ]
  },
  {
   "cell_type": "markdown",
   "metadata": {
    "id": "MEJV-CX2_Zcu",
    "tags": [
     "start_task"
    ]
   },
   "source": [
    "Создадим функцию `genre_weekday()` с четырьмя параметрами:\n",
    "* таблица (датафрейм) с данными,\n",
    "* день недели,\n",
    "* начальная временная метка в формате 'hh:mm', \n",
    "* последняя временная метка в формате 'hh:mm'.\n",
    "\n",
    "Функция должна вернуть информацию о топ-10 жанров тех треков, которые прослушивали в указанный день, в промежутке между двумя отметками времени."
   ]
  },
  {
   "cell_type": "code",
   "execution_count": 31,
   "metadata": {
    "id": "laJT9BYl_Zcu"
   },
   "outputs": [],
   "source": [
    "def genre_weekday(df, day, time1, time2):\n",
    "    genre_df = df[df['day'] == day] # ваш код здесь\n",
    "    genre_df = genre_df[genre_df['time'] < time2] # ваш код здесь\n",
    "    genre_df = genre_df[genre_df['time'] > time1] # ваш код здесь\n",
    "    genre_df_grouped = genre_df.groupby('genre')['genre'].count() # ваш код здесь\n",
    "    genre_df_sorted = genre_df_grouped.sort_values(ascending=False) # ваш код здесь\n",
    "    return genre_df_sorted[:10]"
   ]
  },
  {
   "cell_type": "markdown",
   "metadata": {
    "id": "la2s2_PF_Zcu",
    "tags": [
     "start_task"
    ]
   },
   "source": [
    "Cравним результаты функции `genre_weekday()` для Москвы и Санкт-Петербурга в понедельник утром (с 7:00 до 11:00) и в пятницу вечером (с 17:00 до 23:00):"
   ]
  },
  {
   "cell_type": "code",
   "execution_count": 32,
   "metadata": {
    "id": "yz7itPUQ_Zcu"
   },
   "outputs": [
    {
     "data": {
      "text/plain": [
       "genre\n",
       "pop            781\n",
       "dance          549\n",
       "electronic     480\n",
       "rock           474\n",
       "hiphop         286\n",
       "ruspop         186\n",
       "world          181\n",
       "rusrap         175\n",
       "alternative    164\n",
       "unknown        161\n",
       "Name: genre, dtype: int64"
      ]
     },
     "execution_count": 32,
     "metadata": {},
     "output_type": "execute_result"
    }
   ],
   "source": [
    "# вызов функции для утра понедельника в Москве\n",
    "genre_weekday(moscow_general, 'Monday', '07:00', '11:00')"
   ]
  },
  {
   "cell_type": "code",
   "execution_count": 33,
   "metadata": {
    "id": "kwUcHPdy_Zcu"
   },
   "outputs": [
    {
     "data": {
      "text/plain": [
       "genre\n",
       "pop            218\n",
       "dance          182\n",
       "rock           162\n",
       "electronic     147\n",
       "hiphop          80\n",
       "ruspop          64\n",
       "alternative     58\n",
       "rusrap          55\n",
       "jazz            44\n",
       "classical       40\n",
       "Name: genre, dtype: int64"
      ]
     },
     "execution_count": 33,
     "metadata": {},
     "output_type": "execute_result"
    }
   ],
   "source": [
    "# вызов функции для утра понедельника в Петербурге (вместо df — таблица spb_general)\n",
    "genre_weekday(spb_general, 'Monday', '07:00', '11:00')"
   ]
  },
  {
   "cell_type": "code",
   "execution_count": 34,
   "metadata": {
    "id": "EzXVRE1o_Zcu"
   },
   "outputs": [
    {
     "data": {
      "text/plain": [
       "genre\n",
       "pop            713\n",
       "rock           517\n",
       "dance          495\n",
       "electronic     482\n",
       "hiphop         273\n",
       "world          208\n",
       "ruspop         170\n",
       "alternative    163\n",
       "classical      163\n",
       "rusrap         142\n",
       "Name: genre, dtype: int64"
      ]
     },
     "execution_count": 34,
     "metadata": {},
     "output_type": "execute_result"
    }
   ],
   "source": [
    "# вызов функции для вечера пятницы в Москве\n",
    "genre_weekday(moscow_general, 'Friday', '17:00', '23:00')"
   ]
  },
  {
   "cell_type": "code",
   "execution_count": 35,
   "metadata": {
    "id": "JZaEKu5v_Zcu"
   },
   "outputs": [
    {
     "data": {
      "text/plain": [
       "genre\n",
       "pop            256\n",
       "electronic     216\n",
       "rock           216\n",
       "dance          210\n",
       "hiphop          97\n",
       "alternative     63\n",
       "jazz            61\n",
       "classical       60\n",
       "rusrap          59\n",
       "world           54\n",
       "Name: genre, dtype: int64"
      ]
     },
     "execution_count": 35,
     "metadata": {},
     "output_type": "execute_result"
    }
   ],
   "source": [
    "# вызов функции для вечера пятницы в Петербурге\n",
    "genre_weekday(spb_general, 'Friday', '17:00', '23:00')"
   ]
  },
  {
   "cell_type": "markdown",
   "metadata": {
    "id": "wrCe4MNX_Zcu"
   },
   "source": [
    "**Выводы**\n",
    "\n",
    "Если сравнить топ-10 жанров в понедельник утром, можно сделать такие выводы:\n",
    "\n",
    "1. В Москве и Петербурге слушают похожую музыку. Единственное отличие — в московский рейтинг вошёл жанр “world”, а в петербургский — джаз и классика.\n",
    "\n",
    "2. В Москве пропущенных значений оказалось так много, что значение `'unknown'` заняло десятое место среди самых популярных жанров. Значит, пропущенные значения занимают существенную долю в данных и угрожают достоверности исследования.\n",
    "\n",
    "Вечер пятницы не меняет эту картину. Некоторые жанры поднимаются немного выше, другие спускаются, но в целом топ-10 остаётся тем же самым.\n",
    "\n",
    "Таким образом, вторая гипотеза подтвердилась лишь частично:\n",
    "* Пользователи слушают похожую музыку в начале недели и в конце.\n",
    "* Разница между Москвой и Петербургом не слишком выражена. В Москве чаще слушают русскую популярную музыку, в Петербурге — джаз.\n",
    "\n",
    "Однако пропуски в данных ставят под сомнение этот результат. В Москве их так много, что рейтинг топ-10 мог бы выглядеть иначе, если бы не утерянные  данные о жанрах."
   ]
  },
  {
   "cell_type": "markdown",
   "metadata": {
    "id": "JolODAqr_Zcu"
   },
   "source": [
    "### Жанровые предпочтения в Москве и Петербурге\n",
    "\n",
    "Гипотеза: Петербург — столица рэпа, музыку этого жанра там слушают чаще, чем в Москве.  А Москва — город контрастов, в котором, тем не менее, преобладает поп-музыка."
   ]
  },
  {
   "cell_type": "markdown",
   "metadata": {
    "id": "DlegSvaT_Zcu",
    "tags": [
     "start_task"
    ]
   },
   "source": [
    "Сгруппируем таблицу `moscow_general` по жанру и посчитаем прослушивания треков каждого жанра методом `count()`. Затем отсортируем результат в порядке убывания и сохраните его в таблице `moscow_genres`."
   ]
  },
  {
   "cell_type": "code",
   "execution_count": 36,
   "metadata": {
    "id": "r19lIPke_Zcu"
   },
   "outputs": [],
   "source": [
    "moscow_genres = moscow_general.groupby('genre')['genre'].count().sort_values(ascending = False)"
   ]
  },
  {
   "cell_type": "markdown",
   "metadata": {
    "id": "6kMuomxTiIr8",
    "tags": [
     "start_task"
    ]
   },
   "source": [
    "Выведем на экран первые десять строк `moscow_genres`:"
   ]
  },
  {
   "cell_type": "code",
   "execution_count": 37,
   "metadata": {
    "id": "WhCSooF8_Zcv"
   },
   "outputs": [
    {
     "data": {
      "text/plain": [
       "genre\n",
       "pop            5892\n",
       "dance          4435\n",
       "rock           3965\n",
       "electronic     3786\n",
       "hiphop         2096\n",
       "classical      1616\n",
       "world          1432\n",
       "alternative    1379\n",
       "ruspop         1372\n",
       "rusrap         1161\n",
       "Name: genre, dtype: int64"
      ]
     },
     "execution_count": 37,
     "metadata": {},
     "output_type": "execute_result"
    }
   ],
   "source": [
    "moscow_genres.head(10)"
   ]
  },
  {
   "cell_type": "markdown",
   "metadata": {
    "id": "cnPG2vnN_Zcv",
    "tags": [
     "start_task"
    ]
   },
   "source": [
    "Повторим то же и для Петербурга:"
   ]
  },
  {
   "cell_type": "code",
   "execution_count": 38,
   "metadata": {
    "id": "gluLIpE7_Zcv"
   },
   "outputs": [],
   "source": [
    "spb_genres = spb_general.groupby('genre')['genre'].count().sort_values(ascending = False)"
   ]
  },
  {
   "cell_type": "markdown",
   "metadata": {
    "id": "5Doha_ODgyQ8",
    "tags": [
     "start_task"
    ]
   },
   "source": [
    "Выведите на экран первые десять строк `spb_genres`:"
   ]
  },
  {
   "cell_type": "code",
   "execution_count": 39,
   "metadata": {
    "id": "uaGJHjVU_Zcv"
   },
   "outputs": [
    {
     "data": {
      "text/plain": [
       "genre\n",
       "pop            2431\n",
       "dance          1932\n",
       "rock           1879\n",
       "electronic     1736\n",
       "hiphop          960\n",
       "alternative     649\n",
       "classical       646\n",
       "rusrap          564\n",
       "ruspop          538\n",
       "world           515\n",
       "Name: genre, dtype: int64"
      ]
     },
     "execution_count": 39,
     "metadata": {},
     "output_type": "execute_result"
    }
   ],
   "source": [
    "spb_genres.head(10)"
   ]
  },
  {
   "cell_type": "markdown",
   "metadata": {
    "id": "RY51YJYu_Zcv"
   },
   "source": [
    "**Выводы**"
   ]
  },
  {
   "cell_type": "markdown",
   "metadata": {
    "id": "nVhnJEm__Zcv"
   },
   "source": [
    "Гипотеза частично подтвердилась:\n",
    "* Поп-музыка — самый популярный жанр в Москве, как и предполагала гипотеза. Более того, в топ-10 жанров встречается близкий жанр — русская популярная музыка.\n",
    "* Вопреки ожиданиям, рэп одинаково популярен в Москве и Петербурге. \n"
   ]
  },
  {
   "cell_type": "markdown",
   "metadata": {
    "id": "ykKQ0N65_Zcv"
   },
   "source": [
    "## Итоги исследования"
   ]
  },
  {
   "cell_type": "markdown",
   "metadata": {
    "id": "tjUwbHb3_Zcv"
   },
   "source": [
    "Мы проверили три гипотезы и установили:\n",
    "\n",
    "1. День недели по-разному влияет на активность пользователей в Москве и Петербурге. \n",
    "\n",
    "Первая гипотеза полностью подтвердилась.\n",
    "\n",
    "2. Музыкальные предпочтения не сильно меняются в течение недели — будь то Москва или Петербург. Небольшие различия заметны в начале недели, по понедельникам:\n",
    "* в Москве слушают музыку жанра “world”,\n",
    "* в Петербурге — джаз и классику.\n",
    "\n",
    "Таким образом, вторая гипотеза подтвердилась лишь отчасти. Этот результат мог оказаться иным, если бы не пропуски в данных.\n",
    "\n",
    "3. Во вкусах пользователей Москвы и Петербурга больше общего чем различий. Вопреки ожиданиям, предпочтения жанров в Петербурге напоминают московские.\n",
    "\n",
    "Третья гипотеза не подтвердилась. Если различия в предпочтениях и существуют, на основной массе пользователей они незаметны."
   ]
  }
 ],
 "metadata": {
  "ExecuteTimeLog": [
   {
    "duration": 107,
    "start_time": "2022-06-06T11:34:09.254Z"
   },
   {
    "duration": 18,
    "start_time": "2022-06-06T11:34:16.048Z"
   },
   {
    "duration": 556,
    "start_time": "2022-06-06T11:34:42.532Z"
   },
   {
    "duration": 484,
    "start_time": "2022-06-06T11:35:02.503Z"
   },
   {
    "duration": 531,
    "start_time": "2022-06-06T11:35:02.997Z"
   },
   {
    "duration": 7,
    "start_time": "2022-06-06T11:35:03.535Z"
   },
   {
    "duration": 43,
    "start_time": "2022-06-06T11:35:03.546Z"
   },
   {
    "duration": 33,
    "start_time": "2022-06-06T11:35:03.591Z"
   },
   {
    "duration": 67,
    "start_time": "2022-06-06T11:35:03.627Z"
   },
   {
    "duration": 22,
    "start_time": "2022-06-06T11:35:03.696Z"
   },
   {
    "duration": 45,
    "start_time": "2022-06-06T11:35:03.723Z"
   },
   {
    "duration": 11,
    "start_time": "2022-06-06T11:35:03.770Z"
   },
   {
    "duration": 16,
    "start_time": "2022-06-06T11:35:03.784Z"
   },
   {
    "duration": 9,
    "start_time": "2022-06-06T11:35:03.802Z"
   },
   {
    "duration": 54,
    "start_time": "2022-06-06T11:35:03.813Z"
   },
   {
    "duration": 10,
    "start_time": "2022-06-06T11:35:03.869Z"
   },
   {
    "duration": 9,
    "start_time": "2022-06-06T11:35:03.881Z"
   },
   {
    "duration": 6,
    "start_time": "2022-06-06T11:35:03.892Z"
   },
   {
    "duration": 18,
    "start_time": "2022-06-06T11:35:03.901Z"
   },
   {
    "duration": 60,
    "start_time": "2022-06-06T11:35:03.922Z"
   },
   {
    "duration": 12,
    "start_time": "2022-06-06T11:35:03.984Z"
   },
   {
    "duration": 12,
    "start_time": "2022-06-06T11:35:03.998Z"
   },
   {
    "duration": 42,
    "start_time": "2022-06-06T11:35:04.012Z"
   },
   {
    "duration": 21,
    "start_time": "2022-06-06T11:35:04.060Z"
   },
   {
    "duration": 10,
    "start_time": "2022-06-06T11:35:04.083Z"
   },
   {
    "duration": 8,
    "start_time": "2022-06-06T11:35:04.095Z"
   },
   {
    "duration": 6,
    "start_time": "2022-06-06T11:35:04.106Z"
   },
   {
    "duration": 51,
    "start_time": "2022-06-06T11:35:04.115Z"
   },
   {
    "duration": 8,
    "start_time": "2022-06-06T11:35:04.168Z"
   },
   {
    "duration": 10,
    "start_time": "2022-06-06T11:35:04.178Z"
   },
   {
    "duration": 4,
    "start_time": "2022-06-06T11:35:04.193Z"
   },
   {
    "duration": 8,
    "start_time": "2022-06-06T11:35:04.200Z"
   },
   {
    "duration": 11,
    "start_time": "2022-06-06T11:35:04.210Z"
   },
   {
    "duration": 0,
    "start_time": "2022-06-06T11:35:04.223Z"
   },
   {
    "duration": 0,
    "start_time": "2022-06-06T11:35:04.224Z"
   },
   {
    "duration": 0,
    "start_time": "2022-06-06T11:35:04.225Z"
   },
   {
    "duration": 0,
    "start_time": "2022-06-06T11:35:04.226Z"
   },
   {
    "duration": 0,
    "start_time": "2022-06-06T11:35:04.227Z"
   },
   {
    "duration": 0,
    "start_time": "2022-06-06T11:35:04.227Z"
   },
   {
    "duration": 0,
    "start_time": "2022-06-06T11:35:04.228Z"
   },
   {
    "duration": 0,
    "start_time": "2022-06-06T11:35:04.228Z"
   },
   {
    "duration": 4,
    "start_time": "2022-06-06T11:35:36.140Z"
   },
   {
    "duration": 217,
    "start_time": "2022-06-06T11:35:36.145Z"
   },
   {
    "duration": 3,
    "start_time": "2022-06-06T11:35:36.365Z"
   },
   {
    "duration": 14,
    "start_time": "2022-06-06T11:35:36.370Z"
   },
   {
    "duration": 8,
    "start_time": "2022-06-06T11:35:36.386Z"
   },
   {
    "duration": 9,
    "start_time": "2022-06-06T11:35:36.395Z"
   },
   {
    "duration": 6,
    "start_time": "2022-06-06T11:35:36.405Z"
   },
   {
    "duration": 13,
    "start_time": "2022-06-06T11:35:36.413Z"
   },
   {
    "duration": 31,
    "start_time": "2022-06-06T11:35:36.430Z"
   },
   {
    "duration": 7,
    "start_time": "2022-06-06T11:35:36.463Z"
   },
   {
    "duration": 6,
    "start_time": "2022-06-06T11:35:36.473Z"
   },
   {
    "duration": 10,
    "start_time": "2022-06-06T11:35:36.481Z"
   },
   {
    "duration": 7,
    "start_time": "2022-06-06T11:35:36.493Z"
   },
   {
    "duration": 9,
    "start_time": "2022-06-06T11:35:36.502Z"
   },
   {
    "duration": 8,
    "start_time": "2022-06-06T11:35:36.513Z"
   },
   {
    "duration": 38,
    "start_time": "2022-06-06T11:35:36.526Z"
   },
   {
    "duration": 6,
    "start_time": "2022-06-06T11:35:36.566Z"
   },
   {
    "duration": 6,
    "start_time": "2022-06-06T11:35:36.574Z"
   },
   {
    "duration": 8,
    "start_time": "2022-06-06T11:35:36.582Z"
   },
   {
    "duration": 8,
    "start_time": "2022-06-06T11:35:36.592Z"
   },
   {
    "duration": 7,
    "start_time": "2022-06-06T11:35:36.603Z"
   },
   {
    "duration": 6,
    "start_time": "2022-06-06T11:35:36.612Z"
   },
   {
    "duration": 6,
    "start_time": "2022-06-06T11:35:36.620Z"
   },
   {
    "duration": 34,
    "start_time": "2022-06-06T11:35:36.628Z"
   },
   {
    "duration": 9,
    "start_time": "2022-06-06T11:35:36.664Z"
   },
   {
    "duration": 6,
    "start_time": "2022-06-06T11:35:36.675Z"
   },
   {
    "duration": 7,
    "start_time": "2022-06-06T11:35:36.682Z"
   },
   {
    "duration": 6,
    "start_time": "2022-06-06T11:35:36.690Z"
   },
   {
    "duration": 4,
    "start_time": "2022-06-06T11:35:36.699Z"
   },
   {
    "duration": 9,
    "start_time": "2022-06-06T11:35:36.705Z"
   },
   {
    "duration": 0,
    "start_time": "2022-06-06T11:35:36.716Z"
   },
   {
    "duration": 0,
    "start_time": "2022-06-06T11:35:36.718Z"
   },
   {
    "duration": 0,
    "start_time": "2022-06-06T11:35:36.719Z"
   },
   {
    "duration": 0,
    "start_time": "2022-06-06T11:35:36.720Z"
   },
   {
    "duration": 0,
    "start_time": "2022-06-06T11:35:36.721Z"
   },
   {
    "duration": 0,
    "start_time": "2022-06-06T11:35:36.722Z"
   },
   {
    "duration": 0,
    "start_time": "2022-06-06T11:35:36.723Z"
   },
   {
    "duration": 0,
    "start_time": "2022-06-06T11:35:36.724Z"
   },
   {
    "duration": 89,
    "start_time": "2022-06-06T11:36:36.488Z"
   },
   {
    "duration": 25,
    "start_time": "2022-06-06T11:36:42.679Z"
   },
   {
    "duration": 7,
    "start_time": "2022-06-06T11:38:25.609Z"
   },
   {
    "duration": 7,
    "start_time": "2022-06-06T11:38:28.615Z"
   },
   {
    "duration": 66,
    "start_time": "2022-06-06T11:39:27.774Z"
   },
   {
    "duration": 669,
    "start_time": "2022-06-06T11:42:06.419Z"
   },
   {
    "duration": 215,
    "start_time": "2022-06-06T11:42:10.360Z"
   },
   {
    "duration": 52,
    "start_time": "2022-06-06T11:42:27.378Z"
   },
   {
    "duration": 49,
    "start_time": "2022-06-06T11:46:29.922Z"
   },
   {
    "duration": 4,
    "start_time": "2022-06-06T11:46:38.389Z"
   },
   {
    "duration": 28,
    "start_time": "2022-06-06T11:50:39.718Z"
   },
   {
    "duration": 58,
    "start_time": "2022-06-06T11:52:32.023Z"
   },
   {
    "duration": 52,
    "start_time": "2022-06-06T11:52:58.581Z"
   },
   {
    "duration": 11,
    "start_time": "2022-06-06T11:59:51.092Z"
   },
   {
    "duration": 12,
    "start_time": "2022-06-06T12:00:03.499Z"
   },
   {
    "duration": 102,
    "start_time": "2022-06-06T12:00:56.774Z"
   },
   {
    "duration": 3,
    "start_time": "2022-06-06T12:01:17.006Z"
   },
   {
    "duration": 10,
    "start_time": "2022-06-06T12:01:49.347Z"
   },
   {
    "duration": 9,
    "start_time": "2022-06-06T12:02:39.587Z"
   },
   {
    "duration": 117,
    "start_time": "2022-06-06T12:03:08.692Z"
   },
   {
    "duration": 10,
    "start_time": "2022-06-06T12:03:39.479Z"
   },
   {
    "duration": 9,
    "start_time": "2022-06-06T12:03:49.581Z"
   },
   {
    "duration": 20,
    "start_time": "2022-06-06T12:03:52.653Z"
   },
   {
    "duration": 547,
    "start_time": "2022-06-06T12:04:11.946Z"
   },
   {
    "duration": 297,
    "start_time": "2022-06-06T12:04:12.499Z"
   },
   {
    "duration": 14,
    "start_time": "2022-06-06T12:04:12.802Z"
   },
   {
    "duration": 175,
    "start_time": "2022-06-06T12:04:12.819Z"
   },
   {
    "duration": 66,
    "start_time": "2022-06-06T12:04:13.003Z"
   },
   {
    "duration": 95,
    "start_time": "2022-06-06T12:04:13.071Z"
   },
   {
    "duration": 62,
    "start_time": "2022-06-06T12:04:13.168Z"
   },
   {
    "duration": 71,
    "start_time": "2022-06-06T12:04:13.234Z"
   },
   {
    "duration": 131,
    "start_time": "2022-06-06T12:04:13.307Z"
   },
   {
    "duration": 38,
    "start_time": "2022-06-06T12:04:13.452Z"
   },
   {
    "duration": 50,
    "start_time": "2022-06-06T12:04:13.494Z"
   },
   {
    "duration": 68,
    "start_time": "2022-06-06T12:04:13.546Z"
   },
   {
    "duration": 63,
    "start_time": "2022-06-06T12:04:13.616Z"
   },
   {
    "duration": 20,
    "start_time": "2022-06-06T12:04:13.681Z"
   },
   {
    "duration": 52,
    "start_time": "2022-06-06T12:04:13.705Z"
   },
   {
    "duration": 29,
    "start_time": "2022-06-06T12:04:13.766Z"
   },
   {
    "duration": 23,
    "start_time": "2022-06-06T12:04:13.797Z"
   },
   {
    "duration": 53,
    "start_time": "2022-06-06T12:04:13.829Z"
   },
   {
    "duration": 12,
    "start_time": "2022-06-06T12:04:13.884Z"
   },
   {
    "duration": 10,
    "start_time": "2022-06-06T12:04:13.899Z"
   },
   {
    "duration": 10,
    "start_time": "2022-06-06T12:04:13.911Z"
   },
   {
    "duration": 27,
    "start_time": "2022-06-06T12:04:13.924Z"
   },
   {
    "duration": 53,
    "start_time": "2022-06-06T12:04:13.954Z"
   },
   {
    "duration": 9,
    "start_time": "2022-06-06T12:04:14.010Z"
   },
   {
    "duration": 62,
    "start_time": "2022-06-06T12:04:14.027Z"
   },
   {
    "duration": 7,
    "start_time": "2022-06-06T12:04:14.092Z"
   },
   {
    "duration": 11,
    "start_time": "2022-06-06T12:04:14.102Z"
   },
   {
    "duration": 46,
    "start_time": "2022-06-06T12:04:14.118Z"
   },
   {
    "duration": 21,
    "start_time": "2022-06-06T12:04:14.167Z"
   },
   {
    "duration": 11,
    "start_time": "2022-06-06T12:04:14.191Z"
   },
   {
    "duration": 0,
    "start_time": "2022-06-06T12:04:14.207Z"
   },
   {
    "duration": 0,
    "start_time": "2022-06-06T12:04:14.208Z"
   },
   {
    "duration": 0,
    "start_time": "2022-06-06T12:04:14.210Z"
   },
   {
    "duration": 0,
    "start_time": "2022-06-06T12:04:14.212Z"
   },
   {
    "duration": 0,
    "start_time": "2022-06-06T12:04:14.213Z"
   },
   {
    "duration": 0,
    "start_time": "2022-06-06T12:04:14.214Z"
   },
   {
    "duration": 0,
    "start_time": "2022-06-06T12:04:14.216Z"
   },
   {
    "duration": 0,
    "start_time": "2022-06-06T12:04:14.218Z"
   },
   {
    "duration": 19,
    "start_time": "2022-06-06T12:05:01.621Z"
   },
   {
    "duration": 93,
    "start_time": "2022-06-06T12:05:26.906Z"
   },
   {
    "duration": 118,
    "start_time": "2022-06-06T12:10:04.399Z"
   },
   {
    "duration": 659,
    "start_time": "2022-06-06T12:10:29.970Z"
   },
   {
    "duration": 451,
    "start_time": "2022-06-06T12:10:30.636Z"
   },
   {
    "duration": 17,
    "start_time": "2022-06-06T12:10:31.094Z"
   },
   {
    "duration": 159,
    "start_time": "2022-06-06T12:10:31.117Z"
   },
   {
    "duration": 67,
    "start_time": "2022-06-06T12:10:31.284Z"
   },
   {
    "duration": 145,
    "start_time": "2022-06-06T12:10:31.360Z"
   },
   {
    "duration": 63,
    "start_time": "2022-06-06T12:10:31.508Z"
   },
   {
    "duration": 117,
    "start_time": "2022-06-06T12:10:31.573Z"
   },
   {
    "duration": 70,
    "start_time": "2022-06-06T12:10:31.693Z"
   },
   {
    "duration": 129,
    "start_time": "2022-06-06T12:10:31.766Z"
   },
   {
    "duration": 71,
    "start_time": "2022-06-06T12:10:31.902Z"
   },
   {
    "duration": 238,
    "start_time": "2022-06-06T12:10:31.975Z"
   },
   {
    "duration": 105,
    "start_time": "2022-06-06T12:10:32.215Z"
   },
   {
    "duration": 100,
    "start_time": "2022-06-06T12:10:32.324Z"
   },
   {
    "duration": 3,
    "start_time": "2022-06-06T12:10:32.426Z"
   },
   {
    "duration": 4,
    "start_time": "2022-06-06T12:10:32.431Z"
   },
   {
    "duration": 24,
    "start_time": "2022-06-06T12:10:32.438Z"
   },
   {
    "duration": 23,
    "start_time": "2022-06-06T12:10:32.467Z"
   },
   {
    "duration": 91,
    "start_time": "2022-06-06T12:10:32.493Z"
   },
   {
    "duration": 27,
    "start_time": "2022-06-06T12:10:32.587Z"
   },
   {
    "duration": 66,
    "start_time": "2022-06-06T12:10:32.616Z"
   },
   {
    "duration": 24,
    "start_time": "2022-06-06T12:10:32.684Z"
   },
   {
    "duration": 76,
    "start_time": "2022-06-06T12:10:32.713Z"
   },
   {
    "duration": 11,
    "start_time": "2022-06-06T12:10:32.793Z"
   },
   {
    "duration": 13,
    "start_time": "2022-06-06T12:10:32.807Z"
   },
   {
    "duration": 85,
    "start_time": "2022-06-06T12:10:32.823Z"
   },
   {
    "duration": 15,
    "start_time": "2022-06-06T12:10:32.910Z"
   },
   {
    "duration": 60,
    "start_time": "2022-06-06T12:10:32.932Z"
   },
   {
    "duration": 11,
    "start_time": "2022-06-06T12:10:32.994Z"
   },
   {
    "duration": 11,
    "start_time": "2022-06-06T12:10:33.009Z"
   },
   {
    "duration": 0,
    "start_time": "2022-06-06T12:10:33.022Z"
   },
   {
    "duration": 0,
    "start_time": "2022-06-06T12:10:33.023Z"
   },
   {
    "duration": 0,
    "start_time": "2022-06-06T12:10:33.025Z"
   },
   {
    "duration": 0,
    "start_time": "2022-06-06T12:10:33.030Z"
   },
   {
    "duration": 0,
    "start_time": "2022-06-06T12:10:33.032Z"
   },
   {
    "duration": 0,
    "start_time": "2022-06-06T12:10:33.033Z"
   },
   {
    "duration": 0,
    "start_time": "2022-06-06T12:10:33.035Z"
   },
   {
    "duration": 0,
    "start_time": "2022-06-06T12:10:33.036Z"
   },
   {
    "duration": 163,
    "start_time": "2022-06-06T12:16:06.395Z"
   },
   {
    "duration": 13,
    "start_time": "2022-06-06T12:16:17.185Z"
   },
   {
    "duration": 14,
    "start_time": "2022-06-06T12:18:57.939Z"
   },
   {
    "duration": 601,
    "start_time": "2022-06-06T12:19:07.498Z"
   },
   {
    "duration": 291,
    "start_time": "2022-06-06T12:19:08.102Z"
   },
   {
    "duration": 16,
    "start_time": "2022-06-06T12:19:08.400Z"
   },
   {
    "duration": 95,
    "start_time": "2022-06-06T12:19:08.423Z"
   },
   {
    "duration": 13,
    "start_time": "2022-06-06T12:19:08.523Z"
   },
   {
    "duration": 18,
    "start_time": "2022-06-06T12:19:08.540Z"
   },
   {
    "duration": 57,
    "start_time": "2022-06-06T12:19:08.561Z"
   },
   {
    "duration": 30,
    "start_time": "2022-06-06T12:19:08.620Z"
   },
   {
    "duration": 55,
    "start_time": "2022-06-06T12:19:08.651Z"
   },
   {
    "duration": 60,
    "start_time": "2022-06-06T12:19:08.708Z"
   },
   {
    "duration": 62,
    "start_time": "2022-06-06T12:19:08.770Z"
   },
   {
    "duration": 166,
    "start_time": "2022-06-06T12:19:08.834Z"
   },
   {
    "duration": 114,
    "start_time": "2022-06-06T12:19:09.006Z"
   },
   {
    "duration": 105,
    "start_time": "2022-06-06T12:19:09.127Z"
   },
   {
    "duration": 129,
    "start_time": "2022-06-06T12:19:09.238Z"
   },
   {
    "duration": 0,
    "start_time": "2022-06-06T12:19:09.373Z"
   },
   {
    "duration": 0,
    "start_time": "2022-06-06T12:19:09.378Z"
   },
   {
    "duration": 0,
    "start_time": "2022-06-06T12:19:09.383Z"
   },
   {
    "duration": 0,
    "start_time": "2022-06-06T12:19:09.388Z"
   },
   {
    "duration": 0,
    "start_time": "2022-06-06T12:19:09.393Z"
   },
   {
    "duration": 0,
    "start_time": "2022-06-06T12:19:09.398Z"
   },
   {
    "duration": 0,
    "start_time": "2022-06-06T12:19:09.401Z"
   },
   {
    "duration": 0,
    "start_time": "2022-06-06T12:19:09.406Z"
   },
   {
    "duration": 0,
    "start_time": "2022-06-06T12:19:09.407Z"
   },
   {
    "duration": 0,
    "start_time": "2022-06-06T12:19:09.409Z"
   },
   {
    "duration": 0,
    "start_time": "2022-06-06T12:19:09.411Z"
   },
   {
    "duration": 0,
    "start_time": "2022-06-06T12:19:09.423Z"
   },
   {
    "duration": 0,
    "start_time": "2022-06-06T12:19:09.424Z"
   },
   {
    "duration": 0,
    "start_time": "2022-06-06T12:19:09.425Z"
   },
   {
    "duration": 0,
    "start_time": "2022-06-06T12:19:09.426Z"
   },
   {
    "duration": 0,
    "start_time": "2022-06-06T12:19:09.427Z"
   },
   {
    "duration": 0,
    "start_time": "2022-06-06T12:19:09.429Z"
   },
   {
    "duration": 0,
    "start_time": "2022-06-06T12:19:09.430Z"
   },
   {
    "duration": 0,
    "start_time": "2022-06-06T12:19:09.431Z"
   },
   {
    "duration": 0,
    "start_time": "2022-06-06T12:19:09.432Z"
   },
   {
    "duration": 0,
    "start_time": "2022-06-06T12:19:09.434Z"
   },
   {
    "duration": 0,
    "start_time": "2022-06-06T12:19:09.435Z"
   },
   {
    "duration": 0,
    "start_time": "2022-06-06T12:19:09.436Z"
   },
   {
    "duration": 15,
    "start_time": "2022-06-06T12:20:38.074Z"
   },
   {
    "duration": 12,
    "start_time": "2022-06-06T12:21:10.065Z"
   },
   {
    "duration": 15,
    "start_time": "2022-06-06T12:21:19.900Z"
   },
   {
    "duration": 9,
    "start_time": "2022-06-06T12:22:57.893Z"
   },
   {
    "duration": 24,
    "start_time": "2022-06-06T12:26:36.475Z"
   },
   {
    "duration": 452,
    "start_time": "2022-06-06T12:34:37.286Z"
   },
   {
    "duration": 425,
    "start_time": "2022-06-06T12:34:37.748Z"
   },
   {
    "duration": 14,
    "start_time": "2022-06-06T12:34:38.179Z"
   },
   {
    "duration": 60,
    "start_time": "2022-06-06T12:34:38.196Z"
   },
   {
    "duration": 36,
    "start_time": "2022-06-06T12:34:38.258Z"
   },
   {
    "duration": 5,
    "start_time": "2022-06-06T12:34:38.297Z"
   },
   {
    "duration": 34,
    "start_time": "2022-06-06T12:34:38.304Z"
   },
   {
    "duration": 65,
    "start_time": "2022-06-06T12:34:38.340Z"
   },
   {
    "duration": 43,
    "start_time": "2022-06-06T12:34:38.407Z"
   },
   {
    "duration": 62,
    "start_time": "2022-06-06T12:34:38.453Z"
   },
   {
    "duration": 51,
    "start_time": "2022-06-06T12:34:38.518Z"
   },
   {
    "duration": 90,
    "start_time": "2022-06-06T12:34:38.571Z"
   },
   {
    "duration": 96,
    "start_time": "2022-06-06T12:34:38.663Z"
   },
   {
    "duration": 88,
    "start_time": "2022-06-06T12:34:38.761Z"
   },
   {
    "duration": 79,
    "start_time": "2022-06-06T12:34:38.851Z"
   },
   {
    "duration": 25,
    "start_time": "2022-06-06T12:34:38.936Z"
   },
   {
    "duration": 83,
    "start_time": "2022-06-06T12:34:38.962Z"
   },
   {
    "duration": 41,
    "start_time": "2022-06-06T12:34:39.047Z"
   },
   {
    "duration": 19,
    "start_time": "2022-06-06T12:34:39.091Z"
   },
   {
    "duration": 14,
    "start_time": "2022-06-06T12:34:39.112Z"
   },
   {
    "duration": 69,
    "start_time": "2022-06-06T12:34:39.130Z"
   },
   {
    "duration": 7,
    "start_time": "2022-06-06T12:34:39.202Z"
   },
   {
    "duration": 8,
    "start_time": "2022-06-06T12:34:39.211Z"
   },
   {
    "duration": 67,
    "start_time": "2022-06-06T12:34:39.222Z"
   },
   {
    "duration": 15,
    "start_time": "2022-06-06T12:34:39.294Z"
   },
   {
    "duration": 11,
    "start_time": "2022-06-06T12:34:39.311Z"
   },
   {
    "duration": 32,
    "start_time": "2022-06-06T12:34:39.324Z"
   },
   {
    "duration": 27,
    "start_time": "2022-06-06T12:34:39.363Z"
   },
   {
    "duration": 17,
    "start_time": "2022-06-06T12:34:39.392Z"
   },
   {
    "duration": 8,
    "start_time": "2022-06-06T12:34:39.411Z"
   },
   {
    "duration": 0,
    "start_time": "2022-06-06T12:34:39.423Z"
   },
   {
    "duration": 0,
    "start_time": "2022-06-06T12:34:39.426Z"
   },
   {
    "duration": 0,
    "start_time": "2022-06-06T12:34:39.428Z"
   },
   {
    "duration": 0,
    "start_time": "2022-06-06T12:34:39.429Z"
   },
   {
    "duration": 0,
    "start_time": "2022-06-06T12:34:39.432Z"
   },
   {
    "duration": 0,
    "start_time": "2022-06-06T12:34:39.434Z"
   },
   {
    "duration": 0,
    "start_time": "2022-06-06T12:34:39.436Z"
   },
   {
    "duration": 0,
    "start_time": "2022-06-06T12:34:39.437Z"
   },
   {
    "duration": 93,
    "start_time": "2022-06-06T12:36:16.382Z"
   },
   {
    "duration": 84,
    "start_time": "2022-06-06T12:36:21.488Z"
   },
   {
    "duration": 21,
    "start_time": "2022-06-06T12:38:13.822Z"
   },
   {
    "duration": 508,
    "start_time": "2022-06-06T12:38:22.939Z"
   },
   {
    "duration": 294,
    "start_time": "2022-06-06T12:38:23.459Z"
   },
   {
    "duration": 12,
    "start_time": "2022-06-06T12:38:23.761Z"
   },
   {
    "duration": 220,
    "start_time": "2022-06-06T12:38:23.774Z"
   },
   {
    "duration": 85,
    "start_time": "2022-06-06T12:38:24.003Z"
   },
   {
    "duration": 14,
    "start_time": "2022-06-06T12:38:24.098Z"
   },
   {
    "duration": 23,
    "start_time": "2022-06-06T12:38:24.114Z"
   },
   {
    "duration": 33,
    "start_time": "2022-06-06T12:38:24.139Z"
   },
   {
    "duration": 51,
    "start_time": "2022-06-06T12:38:24.181Z"
   },
   {
    "duration": 112,
    "start_time": "2022-06-06T12:38:24.235Z"
   },
   {
    "duration": 89,
    "start_time": "2022-06-06T12:38:24.353Z"
   },
   {
    "duration": 159,
    "start_time": "2022-06-06T12:38:24.452Z"
   },
   {
    "duration": 102,
    "start_time": "2022-06-06T12:38:24.613Z"
   },
   {
    "duration": 86,
    "start_time": "2022-06-06T12:38:24.718Z"
   },
   {
    "duration": 92,
    "start_time": "2022-06-06T12:38:24.806Z"
   },
   {
    "duration": 17,
    "start_time": "2022-06-06T12:38:24.903Z"
   },
   {
    "duration": 133,
    "start_time": "2022-06-06T12:38:24.922Z"
   },
   {
    "duration": 0,
    "start_time": "2022-06-06T12:38:25.057Z"
   },
   {
    "duration": 0,
    "start_time": "2022-06-06T12:38:25.061Z"
   },
   {
    "duration": 0,
    "start_time": "2022-06-06T12:38:25.062Z"
   },
   {
    "duration": 0,
    "start_time": "2022-06-06T12:38:25.063Z"
   },
   {
    "duration": 0,
    "start_time": "2022-06-06T12:38:25.064Z"
   },
   {
    "duration": 0,
    "start_time": "2022-06-06T12:38:25.065Z"
   },
   {
    "duration": 0,
    "start_time": "2022-06-06T12:38:25.066Z"
   },
   {
    "duration": 0,
    "start_time": "2022-06-06T12:38:25.068Z"
   },
   {
    "duration": 0,
    "start_time": "2022-06-06T12:38:25.069Z"
   },
   {
    "duration": 0,
    "start_time": "2022-06-06T12:38:25.077Z"
   },
   {
    "duration": 0,
    "start_time": "2022-06-06T12:38:25.078Z"
   },
   {
    "duration": 0,
    "start_time": "2022-06-06T12:38:25.080Z"
   },
   {
    "duration": 0,
    "start_time": "2022-06-06T12:38:25.081Z"
   },
   {
    "duration": 0,
    "start_time": "2022-06-06T12:38:25.084Z"
   },
   {
    "duration": 0,
    "start_time": "2022-06-06T12:38:25.086Z"
   },
   {
    "duration": 0,
    "start_time": "2022-06-06T12:38:25.087Z"
   },
   {
    "duration": 0,
    "start_time": "2022-06-06T12:38:25.089Z"
   },
   {
    "duration": 0,
    "start_time": "2022-06-06T12:38:25.093Z"
   },
   {
    "duration": 0,
    "start_time": "2022-06-06T12:38:25.099Z"
   },
   {
    "duration": 0,
    "start_time": "2022-06-06T12:38:25.100Z"
   },
   {
    "duration": 0,
    "start_time": "2022-06-06T12:38:25.102Z"
   },
   {
    "duration": 64,
    "start_time": "2022-06-06T12:38:45.347Z"
   },
   {
    "duration": 75,
    "start_time": "2022-06-06T12:41:56.819Z"
   },
   {
    "duration": 59,
    "start_time": "2022-06-06T12:42:30.589Z"
   },
   {
    "duration": 10,
    "start_time": "2022-06-06T12:43:38.615Z"
   },
   {
    "duration": 4,
    "start_time": "2022-06-06T12:51:33.449Z"
   },
   {
    "duration": 41,
    "start_time": "2022-06-06T12:54:46.366Z"
   },
   {
    "duration": 523,
    "start_time": "2022-06-06T12:55:02.967Z"
   },
   {
    "duration": 371,
    "start_time": "2022-06-06T12:55:03.492Z"
   },
   {
    "duration": 9,
    "start_time": "2022-06-06T12:55:03.865Z"
   },
   {
    "duration": 73,
    "start_time": "2022-06-06T12:55:03.877Z"
   },
   {
    "duration": 3,
    "start_time": "2022-06-06T12:55:03.965Z"
   },
   {
    "duration": 25,
    "start_time": "2022-06-06T12:55:03.970Z"
   },
   {
    "duration": 29,
    "start_time": "2022-06-06T12:55:03.997Z"
   },
   {
    "duration": 45,
    "start_time": "2022-06-06T12:55:04.034Z"
   },
   {
    "duration": 55,
    "start_time": "2022-06-06T12:55:04.081Z"
   },
   {
    "duration": 51,
    "start_time": "2022-06-06T12:55:04.140Z"
   },
   {
    "duration": 38,
    "start_time": "2022-06-06T12:55:04.194Z"
   },
   {
    "duration": 121,
    "start_time": "2022-06-06T12:55:04.234Z"
   },
   {
    "duration": 109,
    "start_time": "2022-06-06T12:55:04.358Z"
   },
   {
    "duration": 95,
    "start_time": "2022-06-06T12:55:04.473Z"
   },
   {
    "duration": 74,
    "start_time": "2022-06-06T12:55:04.574Z"
   },
   {
    "duration": 23,
    "start_time": "2022-06-06T12:55:04.651Z"
   },
   {
    "duration": 93,
    "start_time": "2022-06-06T12:55:04.676Z"
   },
   {
    "duration": 17,
    "start_time": "2022-06-06T12:55:04.771Z"
   },
   {
    "duration": 22,
    "start_time": "2022-06-06T12:55:04.790Z"
   },
   {
    "duration": 4,
    "start_time": "2022-06-06T12:55:04.814Z"
   },
   {
    "duration": 48,
    "start_time": "2022-06-06T12:55:04.822Z"
   },
   {
    "duration": 0,
    "start_time": "2022-06-06T12:55:04.872Z"
   },
   {
    "duration": 0,
    "start_time": "2022-06-06T12:55:04.873Z"
   },
   {
    "duration": 0,
    "start_time": "2022-06-06T12:55:04.875Z"
   },
   {
    "duration": 0,
    "start_time": "2022-06-06T12:55:04.876Z"
   },
   {
    "duration": 0,
    "start_time": "2022-06-06T12:55:04.877Z"
   },
   {
    "duration": 0,
    "start_time": "2022-06-06T12:55:04.878Z"
   },
   {
    "duration": 0,
    "start_time": "2022-06-06T12:55:04.879Z"
   },
   {
    "duration": 0,
    "start_time": "2022-06-06T12:55:04.881Z"
   },
   {
    "duration": 0,
    "start_time": "2022-06-06T12:55:04.883Z"
   },
   {
    "duration": 0,
    "start_time": "2022-06-06T12:55:04.884Z"
   },
   {
    "duration": 0,
    "start_time": "2022-06-06T12:55:04.885Z"
   },
   {
    "duration": 0,
    "start_time": "2022-06-06T12:55:04.887Z"
   },
   {
    "duration": 1,
    "start_time": "2022-06-06T12:55:04.888Z"
   },
   {
    "duration": 0,
    "start_time": "2022-06-06T12:55:04.890Z"
   },
   {
    "duration": 0,
    "start_time": "2022-06-06T12:55:04.892Z"
   },
   {
    "duration": 0,
    "start_time": "2022-06-06T12:55:04.893Z"
   },
   {
    "duration": 0,
    "start_time": "2022-06-06T12:55:04.895Z"
   },
   {
    "duration": 55,
    "start_time": "2022-06-06T12:55:26.502Z"
   },
   {
    "duration": 484,
    "start_time": "2022-06-06T12:55:47.882Z"
   },
   {
    "duration": 206,
    "start_time": "2022-06-06T12:55:48.370Z"
   },
   {
    "duration": 9,
    "start_time": "2022-06-06T12:55:48.578Z"
   },
   {
    "duration": 63,
    "start_time": "2022-06-06T12:55:48.589Z"
   },
   {
    "duration": 8,
    "start_time": "2022-06-06T12:55:48.655Z"
   },
   {
    "duration": 10,
    "start_time": "2022-06-06T12:55:48.666Z"
   },
   {
    "duration": 24,
    "start_time": "2022-06-06T12:55:48.677Z"
   },
   {
    "duration": 14,
    "start_time": "2022-06-06T12:55:48.703Z"
   },
   {
    "duration": 41,
    "start_time": "2022-06-06T12:55:48.719Z"
   },
   {
    "duration": 22,
    "start_time": "2022-06-06T12:55:48.765Z"
   },
   {
    "duration": 37,
    "start_time": "2022-06-06T12:55:48.790Z"
   },
   {
    "duration": 133,
    "start_time": "2022-06-06T12:55:48.828Z"
   },
   {
    "duration": 128,
    "start_time": "2022-06-06T12:55:48.964Z"
   },
   {
    "duration": 81,
    "start_time": "2022-06-06T12:55:49.095Z"
   },
   {
    "duration": 79,
    "start_time": "2022-06-06T12:55:49.178Z"
   },
   {
    "duration": 17,
    "start_time": "2022-06-06T12:55:49.268Z"
   },
   {
    "duration": 48,
    "start_time": "2022-06-06T12:55:49.287Z"
   },
   {
    "duration": 19,
    "start_time": "2022-06-06T12:55:49.337Z"
   },
   {
    "duration": 29,
    "start_time": "2022-06-06T12:55:49.360Z"
   },
   {
    "duration": 6,
    "start_time": "2022-06-06T12:55:49.391Z"
   },
   {
    "duration": 61,
    "start_time": "2022-06-06T12:55:49.399Z"
   },
   {
    "duration": 3,
    "start_time": "2022-06-06T12:55:49.462Z"
   },
   {
    "duration": 12,
    "start_time": "2022-06-06T12:55:49.467Z"
   },
   {
    "duration": 10,
    "start_time": "2022-06-06T12:55:49.481Z"
   },
   {
    "duration": 7,
    "start_time": "2022-06-06T12:55:49.494Z"
   },
   {
    "duration": 11,
    "start_time": "2022-06-06T12:55:49.502Z"
   },
   {
    "duration": 39,
    "start_time": "2022-06-06T12:55:49.516Z"
   },
   {
    "duration": 22,
    "start_time": "2022-06-06T12:55:49.560Z"
   },
   {
    "duration": 11,
    "start_time": "2022-06-06T12:55:49.584Z"
   },
   {
    "duration": 15,
    "start_time": "2022-06-06T12:55:49.600Z"
   },
   {
    "duration": 0,
    "start_time": "2022-06-06T12:55:49.617Z"
   },
   {
    "duration": 0,
    "start_time": "2022-06-06T12:55:49.620Z"
   },
   {
    "duration": 0,
    "start_time": "2022-06-06T12:55:49.621Z"
   },
   {
    "duration": 0,
    "start_time": "2022-06-06T12:55:49.622Z"
   },
   {
    "duration": 0,
    "start_time": "2022-06-06T12:55:49.623Z"
   },
   {
    "duration": 0,
    "start_time": "2022-06-06T12:55:49.625Z"
   },
   {
    "duration": 0,
    "start_time": "2022-06-06T12:55:49.625Z"
   },
   {
    "duration": 0,
    "start_time": "2022-06-06T12:55:49.635Z"
   },
   {
    "duration": 27,
    "start_time": "2022-06-06T12:56:19.582Z"
   },
   {
    "duration": 31,
    "start_time": "2022-06-06T12:58:11.354Z"
   },
   {
    "duration": 34,
    "start_time": "2022-06-06T12:58:26.598Z"
   },
   {
    "duration": 31,
    "start_time": "2022-06-06T12:58:49.079Z"
   },
   {
    "duration": 32,
    "start_time": "2022-06-06T12:59:03.259Z"
   },
   {
    "duration": 155,
    "start_time": "2022-06-06T13:04:26.318Z"
   },
   {
    "duration": 13,
    "start_time": "2022-06-06T13:05:01.554Z"
   },
   {
    "duration": 77,
    "start_time": "2022-06-06T13:07:15.401Z"
   },
   {
    "duration": 11,
    "start_time": "2022-06-06T13:07:52.710Z"
   },
   {
    "duration": 14,
    "start_time": "2022-06-06T13:09:20.811Z"
   },
   {
    "duration": 12,
    "start_time": "2022-06-06T13:09:47.363Z"
   },
   {
    "duration": 575,
    "start_time": "2022-06-06T13:10:18.817Z"
   },
   {
    "duration": 371,
    "start_time": "2022-06-06T13:10:19.400Z"
   },
   {
    "duration": 11,
    "start_time": "2022-06-06T13:10:19.776Z"
   },
   {
    "duration": 69,
    "start_time": "2022-06-06T13:10:19.789Z"
   },
   {
    "duration": 42,
    "start_time": "2022-06-06T13:10:19.859Z"
   },
   {
    "duration": 15,
    "start_time": "2022-06-06T13:10:19.905Z"
   },
   {
    "duration": 85,
    "start_time": "2022-06-06T13:10:19.922Z"
   },
   {
    "duration": 35,
    "start_time": "2022-06-06T13:10:20.009Z"
   },
   {
    "duration": 69,
    "start_time": "2022-06-06T13:10:20.051Z"
   },
   {
    "duration": 79,
    "start_time": "2022-06-06T13:10:20.123Z"
   },
   {
    "duration": 97,
    "start_time": "2022-06-06T13:10:20.205Z"
   },
   {
    "duration": 114,
    "start_time": "2022-06-06T13:10:20.305Z"
   },
   {
    "duration": 106,
    "start_time": "2022-06-06T13:10:20.421Z"
   },
   {
    "duration": 84,
    "start_time": "2022-06-06T13:10:20.533Z"
   },
   {
    "duration": 84,
    "start_time": "2022-06-06T13:10:20.625Z"
   },
   {
    "duration": 17,
    "start_time": "2022-06-06T13:10:20.711Z"
   },
   {
    "duration": 136,
    "start_time": "2022-06-06T13:10:20.734Z"
   },
   {
    "duration": 12,
    "start_time": "2022-06-06T13:10:20.871Z"
   },
   {
    "duration": 43,
    "start_time": "2022-06-06T13:10:20.884Z"
   },
   {
    "duration": 48,
    "start_time": "2022-06-06T13:10:20.929Z"
   },
   {
    "duration": 73,
    "start_time": "2022-06-06T13:10:20.979Z"
   },
   {
    "duration": 38,
    "start_time": "2022-06-06T13:10:21.055Z"
   },
   {
    "duration": 52,
    "start_time": "2022-06-06T13:10:21.095Z"
   },
   {
    "duration": 40,
    "start_time": "2022-06-06T13:10:21.154Z"
   },
   {
    "duration": 47,
    "start_time": "2022-06-06T13:10:21.196Z"
   },
   {
    "duration": 33,
    "start_time": "2022-06-06T13:10:21.261Z"
   },
   {
    "duration": 103,
    "start_time": "2022-06-06T13:10:21.296Z"
   },
   {
    "duration": 0,
    "start_time": "2022-06-06T13:10:21.401Z"
   },
   {
    "duration": 0,
    "start_time": "2022-06-06T13:10:21.403Z"
   },
   {
    "duration": 0,
    "start_time": "2022-06-06T13:10:21.405Z"
   },
   {
    "duration": 0,
    "start_time": "2022-06-06T13:10:21.406Z"
   },
   {
    "duration": 0,
    "start_time": "2022-06-06T13:10:21.408Z"
   },
   {
    "duration": 0,
    "start_time": "2022-06-06T13:10:21.409Z"
   },
   {
    "duration": 0,
    "start_time": "2022-06-06T13:10:21.426Z"
   },
   {
    "duration": 0,
    "start_time": "2022-06-06T13:10:21.427Z"
   },
   {
    "duration": 0,
    "start_time": "2022-06-06T13:10:21.431Z"
   },
   {
    "duration": 0,
    "start_time": "2022-06-06T13:10:21.433Z"
   },
   {
    "duration": 0,
    "start_time": "2022-06-06T13:10:21.433Z"
   },
   {
    "duration": 18,
    "start_time": "2022-06-06T13:11:49.226Z"
   },
   {
    "duration": 13,
    "start_time": "2022-06-06T13:12:50.592Z"
   },
   {
    "duration": 18,
    "start_time": "2022-06-06T13:14:08.542Z"
   },
   {
    "duration": 14,
    "start_time": "2022-06-06T13:14:21.541Z"
   },
   {
    "duration": 6,
    "start_time": "2022-06-06T13:27:00.855Z"
   },
   {
    "duration": 8,
    "start_time": "2022-06-06T13:27:03.953Z"
   },
   {
    "duration": 415,
    "start_time": "2022-06-06T13:38:33.468Z"
   },
   {
    "duration": 204,
    "start_time": "2022-06-06T13:38:33.885Z"
   },
   {
    "duration": 8,
    "start_time": "2022-06-06T13:38:34.090Z"
   },
   {
    "duration": 63,
    "start_time": "2022-06-06T13:38:34.100Z"
   },
   {
    "duration": 9,
    "start_time": "2022-06-06T13:38:34.168Z"
   },
   {
    "duration": 11,
    "start_time": "2022-06-06T13:38:34.179Z"
   },
   {
    "duration": 20,
    "start_time": "2022-06-06T13:38:34.192Z"
   },
   {
    "duration": 15,
    "start_time": "2022-06-06T13:38:34.214Z"
   },
   {
    "duration": 61,
    "start_time": "2022-06-06T13:38:34.231Z"
   },
   {
    "duration": 39,
    "start_time": "2022-06-06T13:38:34.295Z"
   },
   {
    "duration": 46,
    "start_time": "2022-06-06T13:38:34.338Z"
   },
   {
    "duration": 89,
    "start_time": "2022-06-06T13:38:34.386Z"
   },
   {
    "duration": 110,
    "start_time": "2022-06-06T13:38:34.477Z"
   },
   {
    "duration": 112,
    "start_time": "2022-06-06T13:38:34.590Z"
   },
   {
    "duration": 65,
    "start_time": "2022-06-06T13:38:34.704Z"
   },
   {
    "duration": 12,
    "start_time": "2022-06-06T13:38:34.771Z"
   },
   {
    "duration": 74,
    "start_time": "2022-06-06T13:38:34.785Z"
   },
   {
    "duration": 15,
    "start_time": "2022-06-06T13:38:34.862Z"
   },
   {
    "duration": 15,
    "start_time": "2022-06-06T13:38:34.879Z"
   },
   {
    "duration": 15,
    "start_time": "2022-06-06T13:38:34.896Z"
   },
   {
    "duration": 55,
    "start_time": "2022-06-06T13:38:34.913Z"
   },
   {
    "duration": 19,
    "start_time": "2022-06-06T13:38:34.970Z"
   },
   {
    "duration": 39,
    "start_time": "2022-06-06T13:38:34.991Z"
   },
   {
    "duration": 31,
    "start_time": "2022-06-06T13:38:35.033Z"
   },
   {
    "duration": 33,
    "start_time": "2022-06-06T13:38:35.065Z"
   },
   {
    "duration": 33,
    "start_time": "2022-06-06T13:38:35.100Z"
   },
   {
    "duration": 15,
    "start_time": "2022-06-06T13:38:35.135Z"
   },
   {
    "duration": 25,
    "start_time": "2022-06-06T13:38:35.154Z"
   },
   {
    "duration": 11,
    "start_time": "2022-06-06T13:38:35.181Z"
   },
   {
    "duration": 10,
    "start_time": "2022-06-06T13:38:35.193Z"
   },
   {
    "duration": 9,
    "start_time": "2022-06-06T13:38:35.205Z"
   },
   {
    "duration": 5,
    "start_time": "2022-06-06T13:38:35.216Z"
   },
   {
    "duration": 41,
    "start_time": "2022-06-06T13:38:35.223Z"
   },
   {
    "duration": 8,
    "start_time": "2022-06-06T13:38:35.265Z"
   },
   {
    "duration": 6,
    "start_time": "2022-06-06T13:38:35.275Z"
   },
   {
    "duration": 16,
    "start_time": "2022-06-06T13:38:35.282Z"
   },
   {
    "duration": 8,
    "start_time": "2022-06-06T13:38:35.301Z"
   },
   {
    "duration": 40,
    "start_time": "2022-06-06T13:38:35.311Z"
   },
   {
    "duration": 4,
    "start_time": "2022-06-06T13:39:16.712Z"
   },
   {
    "duration": 19,
    "start_time": "2022-06-06T13:44:54.655Z"
   },
   {
    "duration": 429,
    "start_time": "2022-06-06T13:45:26.520Z"
   },
   {
    "duration": 186,
    "start_time": "2022-06-06T13:45:26.951Z"
   },
   {
    "duration": 12,
    "start_time": "2022-06-06T13:45:27.139Z"
   },
   {
    "duration": 29,
    "start_time": "2022-06-06T13:45:27.163Z"
   },
   {
    "duration": 3,
    "start_time": "2022-06-06T13:45:27.195Z"
   },
   {
    "duration": 11,
    "start_time": "2022-06-06T13:45:27.201Z"
   },
   {
    "duration": 28,
    "start_time": "2022-06-06T13:45:27.213Z"
   },
   {
    "duration": 9,
    "start_time": "2022-06-06T13:45:27.250Z"
   },
   {
    "duration": 24,
    "start_time": "2022-06-06T13:45:27.260Z"
   },
   {
    "duration": 20,
    "start_time": "2022-06-06T13:45:27.286Z"
   },
   {
    "duration": 30,
    "start_time": "2022-06-06T13:45:27.307Z"
   },
   {
    "duration": 84,
    "start_time": "2022-06-06T13:45:27.342Z"
   },
   {
    "duration": 77,
    "start_time": "2022-06-06T13:45:27.427Z"
   },
   {
    "duration": 73,
    "start_time": "2022-06-06T13:45:27.507Z"
   },
   {
    "duration": 80,
    "start_time": "2022-06-06T13:45:27.582Z"
   },
   {
    "duration": 18,
    "start_time": "2022-06-06T13:45:27.663Z"
   },
   {
    "duration": 47,
    "start_time": "2022-06-06T13:45:27.683Z"
   },
   {
    "duration": 16,
    "start_time": "2022-06-06T13:45:27.739Z"
   },
   {
    "duration": 15,
    "start_time": "2022-06-06T13:45:27.757Z"
   },
   {
    "duration": 3,
    "start_time": "2022-06-06T13:45:27.774Z"
   },
   {
    "duration": 32,
    "start_time": "2022-06-06T13:45:27.779Z"
   },
   {
    "duration": 32,
    "start_time": "2022-06-06T13:45:27.812Z"
   },
   {
    "duration": 32,
    "start_time": "2022-06-06T13:45:27.849Z"
   },
   {
    "duration": 15,
    "start_time": "2022-06-06T13:45:27.883Z"
   },
   {
    "duration": 18,
    "start_time": "2022-06-06T13:45:27.900Z"
   },
   {
    "duration": 27,
    "start_time": "2022-06-06T13:45:27.919Z"
   },
   {
    "duration": 27,
    "start_time": "2022-06-06T13:45:27.948Z"
   },
   {
    "duration": 18,
    "start_time": "2022-06-06T13:45:27.977Z"
   },
   {
    "duration": 11,
    "start_time": "2022-06-06T13:45:27.997Z"
   },
   {
    "duration": 5,
    "start_time": "2022-06-06T13:45:28.009Z"
   },
   {
    "duration": 30,
    "start_time": "2022-06-06T13:45:28.016Z"
   },
   {
    "duration": 16,
    "start_time": "2022-06-06T13:45:28.047Z"
   },
   {
    "duration": 6,
    "start_time": "2022-06-06T13:45:28.064Z"
   },
   {
    "duration": 7,
    "start_time": "2022-06-06T13:45:28.071Z"
   },
   {
    "duration": 5,
    "start_time": "2022-06-06T13:45:28.079Z"
   },
   {
    "duration": 8,
    "start_time": "2022-06-06T13:45:28.085Z"
   },
   {
    "duration": 8,
    "start_time": "2022-06-06T13:45:28.094Z"
   },
   {
    "duration": 6,
    "start_time": "2022-06-06T13:45:28.103Z"
   },
   {
    "duration": 11,
    "start_time": "2022-06-06T13:45:50.088Z"
   },
   {
    "duration": 20,
    "start_time": "2022-06-06T13:46:44.360Z"
   },
   {
    "duration": 15,
    "start_time": "2022-06-06T13:47:01.877Z"
   },
   {
    "duration": 9,
    "start_time": "2022-06-06T13:49:58.010Z"
   },
   {
    "duration": 433,
    "start_time": "2022-06-06T13:51:18.254Z"
   },
   {
    "duration": 205,
    "start_time": "2022-06-06T13:51:18.689Z"
   },
   {
    "duration": 8,
    "start_time": "2022-06-06T13:51:18.896Z"
   },
   {
    "duration": 51,
    "start_time": "2022-06-06T13:51:18.905Z"
   },
   {
    "duration": 9,
    "start_time": "2022-06-06T13:51:18.964Z"
   },
   {
    "duration": 10,
    "start_time": "2022-06-06T13:51:18.974Z"
   },
   {
    "duration": 19,
    "start_time": "2022-06-06T13:51:18.985Z"
   },
   {
    "duration": 12,
    "start_time": "2022-06-06T13:51:19.006Z"
   },
   {
    "duration": 58,
    "start_time": "2022-06-06T13:51:19.020Z"
   },
   {
    "duration": 22,
    "start_time": "2022-06-06T13:51:19.079Z"
   },
   {
    "duration": 37,
    "start_time": "2022-06-06T13:51:19.103Z"
   },
   {
    "duration": 89,
    "start_time": "2022-06-06T13:51:19.145Z"
   },
   {
    "duration": 80,
    "start_time": "2022-06-06T13:51:19.236Z"
   },
   {
    "duration": 75,
    "start_time": "2022-06-06T13:51:19.323Z"
   },
   {
    "duration": 63,
    "start_time": "2022-06-06T13:51:19.400Z"
   },
   {
    "duration": 11,
    "start_time": "2022-06-06T13:51:19.465Z"
   },
   {
    "duration": 59,
    "start_time": "2022-06-06T13:51:19.478Z"
   },
   {
    "duration": 16,
    "start_time": "2022-06-06T13:51:19.538Z"
   },
   {
    "duration": 11,
    "start_time": "2022-06-06T13:51:19.559Z"
   },
   {
    "duration": 4,
    "start_time": "2022-06-06T13:51:19.571Z"
   },
   {
    "duration": 34,
    "start_time": "2022-06-06T13:51:19.576Z"
   },
   {
    "duration": 46,
    "start_time": "2022-06-06T13:51:19.611Z"
   },
   {
    "duration": 25,
    "start_time": "2022-06-06T13:51:19.659Z"
   },
   {
    "duration": 25,
    "start_time": "2022-06-06T13:51:19.686Z"
   },
   {
    "duration": 40,
    "start_time": "2022-06-06T13:51:19.726Z"
   },
   {
    "duration": 24,
    "start_time": "2022-06-06T13:51:19.768Z"
   },
   {
    "duration": 12,
    "start_time": "2022-06-06T13:51:19.794Z"
   },
   {
    "duration": 19,
    "start_time": "2022-06-06T13:51:19.824Z"
   },
   {
    "duration": 20,
    "start_time": "2022-06-06T13:51:19.845Z"
   },
   {
    "duration": 5,
    "start_time": "2022-06-06T13:51:19.866Z"
   },
   {
    "duration": 21,
    "start_time": "2022-06-06T13:51:19.873Z"
   },
   {
    "duration": 14,
    "start_time": "2022-06-06T13:51:19.896Z"
   },
   {
    "duration": 56,
    "start_time": "2022-06-06T13:51:19.911Z"
   },
   {
    "duration": 22,
    "start_time": "2022-06-06T13:51:19.971Z"
   },
   {
    "duration": 12,
    "start_time": "2022-06-06T13:51:19.995Z"
   },
   {
    "duration": 5,
    "start_time": "2022-06-06T13:51:20.008Z"
   },
   {
    "duration": 58,
    "start_time": "2022-06-06T13:51:20.014Z"
   },
   {
    "duration": 7,
    "start_time": "2022-06-06T13:51:20.074Z"
   },
   {
    "duration": 428,
    "start_time": "2022-06-06T13:52:07.051Z"
   },
   {
    "duration": 193,
    "start_time": "2022-06-06T13:52:07.482Z"
   },
   {
    "duration": 9,
    "start_time": "2022-06-06T13:52:07.677Z"
   },
   {
    "duration": 42,
    "start_time": "2022-06-06T13:52:07.688Z"
   },
   {
    "duration": 2,
    "start_time": "2022-06-06T13:52:07.733Z"
   },
   {
    "duration": 25,
    "start_time": "2022-06-06T13:52:07.738Z"
   },
   {
    "duration": 20,
    "start_time": "2022-06-06T13:52:07.764Z"
   },
   {
    "duration": 5,
    "start_time": "2022-06-06T13:52:07.786Z"
   },
   {
    "duration": 24,
    "start_time": "2022-06-06T13:52:07.793Z"
   },
   {
    "duration": 35,
    "start_time": "2022-06-06T13:52:07.819Z"
   },
   {
    "duration": 31,
    "start_time": "2022-06-06T13:52:07.856Z"
   },
   {
    "duration": 87,
    "start_time": "2022-06-06T13:52:07.889Z"
   },
   {
    "duration": 87,
    "start_time": "2022-06-06T13:52:07.978Z"
   },
   {
    "duration": 75,
    "start_time": "2022-06-06T13:52:08.068Z"
   },
   {
    "duration": 44,
    "start_time": "2022-06-06T13:52:08.145Z"
   },
   {
    "duration": 12,
    "start_time": "2022-06-06T13:52:08.190Z"
   },
   {
    "duration": 67,
    "start_time": "2022-06-06T13:52:08.203Z"
   },
   {
    "duration": 10,
    "start_time": "2022-06-06T13:52:08.271Z"
   },
   {
    "duration": 13,
    "start_time": "2022-06-06T13:52:08.283Z"
   },
   {
    "duration": 3,
    "start_time": "2022-06-06T13:52:08.298Z"
   },
   {
    "duration": 56,
    "start_time": "2022-06-06T13:52:08.303Z"
   },
   {
    "duration": 18,
    "start_time": "2022-06-06T13:52:08.361Z"
   },
   {
    "duration": 18,
    "start_time": "2022-06-06T13:52:08.381Z"
   },
   {
    "duration": 35,
    "start_time": "2022-06-06T13:52:08.423Z"
   },
   {
    "duration": 24,
    "start_time": "2022-06-06T13:52:08.460Z"
   },
   {
    "duration": 58,
    "start_time": "2022-06-06T13:52:08.486Z"
   },
   {
    "duration": 15,
    "start_time": "2022-06-06T13:52:08.546Z"
   },
   {
    "duration": 13,
    "start_time": "2022-06-06T13:52:08.563Z"
   },
   {
    "duration": 9,
    "start_time": "2022-06-06T13:52:08.578Z"
   },
   {
    "duration": 6,
    "start_time": "2022-06-06T13:52:08.589Z"
   },
   {
    "duration": 40,
    "start_time": "2022-06-06T13:52:08.596Z"
   },
   {
    "duration": 16,
    "start_time": "2022-06-06T13:52:08.639Z"
   },
   {
    "duration": 20,
    "start_time": "2022-06-06T13:52:08.657Z"
   },
   {
    "duration": 13,
    "start_time": "2022-06-06T13:52:08.678Z"
   },
   {
    "duration": 9,
    "start_time": "2022-06-06T13:52:08.693Z"
   },
   {
    "duration": 3,
    "start_time": "2022-06-06T13:52:08.703Z"
   },
   {
    "duration": 19,
    "start_time": "2022-06-06T13:52:08.725Z"
   },
   {
    "duration": 21,
    "start_time": "2022-06-06T13:52:08.746Z"
   },
   {
    "duration": 12,
    "start_time": "2022-06-06T13:52:19.247Z"
   },
   {
    "duration": 4,
    "start_time": "2022-06-06T13:55:24.752Z"
   },
   {
    "duration": 421,
    "start_time": "2022-06-06T13:55:49.743Z"
   },
   {
    "duration": 192,
    "start_time": "2022-06-06T13:55:50.166Z"
   },
   {
    "duration": 8,
    "start_time": "2022-06-06T13:55:50.359Z"
   },
   {
    "duration": 28,
    "start_time": "2022-06-06T13:55:50.369Z"
   },
   {
    "duration": 3,
    "start_time": "2022-06-06T13:55:50.398Z"
   },
   {
    "duration": 37,
    "start_time": "2022-06-06T13:55:50.402Z"
   },
   {
    "duration": 24,
    "start_time": "2022-06-06T13:55:50.443Z"
   },
   {
    "duration": 10,
    "start_time": "2022-06-06T13:55:50.469Z"
   },
   {
    "duration": 24,
    "start_time": "2022-06-06T13:55:50.480Z"
   },
   {
    "duration": 20,
    "start_time": "2022-06-06T13:55:50.507Z"
   },
   {
    "duration": 31,
    "start_time": "2022-06-06T13:55:50.531Z"
   },
   {
    "duration": 75,
    "start_time": "2022-06-06T13:55:50.564Z"
   },
   {
    "duration": 72,
    "start_time": "2022-06-06T13:55:50.641Z"
   },
   {
    "duration": 75,
    "start_time": "2022-06-06T13:55:50.715Z"
   },
   {
    "duration": 63,
    "start_time": "2022-06-06T13:55:50.791Z"
   },
   {
    "duration": 11,
    "start_time": "2022-06-06T13:55:50.860Z"
   },
   {
    "duration": 61,
    "start_time": "2022-06-06T13:55:50.872Z"
   },
   {
    "duration": 15,
    "start_time": "2022-06-06T13:55:50.942Z"
   },
   {
    "duration": 12,
    "start_time": "2022-06-06T13:55:50.958Z"
   },
   {
    "duration": 10,
    "start_time": "2022-06-06T13:55:50.971Z"
   },
   {
    "duration": 34,
    "start_time": "2022-06-06T13:55:50.982Z"
   },
   {
    "duration": 22,
    "start_time": "2022-06-06T13:55:51.018Z"
   },
   {
    "duration": 41,
    "start_time": "2022-06-06T13:55:51.042Z"
   },
   {
    "duration": 16,
    "start_time": "2022-06-06T13:55:51.085Z"
   },
   {
    "duration": 38,
    "start_time": "2022-06-06T13:55:51.102Z"
   },
   {
    "duration": 32,
    "start_time": "2022-06-06T13:55:51.142Z"
   },
   {
    "duration": 10,
    "start_time": "2022-06-06T13:55:51.175Z"
   },
   {
    "duration": 18,
    "start_time": "2022-06-06T13:55:51.188Z"
   },
   {
    "duration": 10,
    "start_time": "2022-06-06T13:55:51.207Z"
   },
   {
    "duration": 25,
    "start_time": "2022-06-06T13:55:51.229Z"
   },
   {
    "duration": 25,
    "start_time": "2022-06-06T13:55:51.255Z"
   },
   {
    "duration": 11,
    "start_time": "2022-06-06T13:55:51.281Z"
   },
   {
    "duration": 17,
    "start_time": "2022-06-06T13:55:51.294Z"
   },
   {
    "duration": 16,
    "start_time": "2022-06-06T13:55:51.313Z"
   },
   {
    "duration": 36,
    "start_time": "2022-06-06T13:55:51.333Z"
   },
   {
    "duration": 9,
    "start_time": "2022-06-06T13:55:51.371Z"
   },
   {
    "duration": 6,
    "start_time": "2022-06-06T13:55:51.382Z"
   },
   {
    "duration": 7,
    "start_time": "2022-06-06T13:55:51.390Z"
   },
   {
    "duration": 10,
    "start_time": "2022-06-06T13:56:54.942Z"
   },
   {
    "duration": 4,
    "start_time": "2022-06-06T13:57:17.096Z"
   }
  ],
  "colab": {
   "collapsed_sections": [
    "E0vqbgi9ay0H",
    "VUC88oWjTJw2"
   ],
   "name": "yandex_music_project_2021.2.ipynb",
   "provenance": []
  },
  "kernelspec": {
   "display_name": "Python 3 (ipykernel)",
   "language": "python",
   "name": "python3"
  },
  "language_info": {
   "codemirror_mode": {
    "name": "ipython",
    "version": 3
   },
   "file_extension": ".py",
   "mimetype": "text/x-python",
   "name": "python",
   "nbconvert_exporter": "python",
   "pygments_lexer": "ipython3",
   "version": "3.9.12"
  },
  "toc": {
   "base_numbering": 1,
   "nav_menu": {
    "height": "215px",
    "width": "403px"
   },
   "number_sections": true,
   "sideBar": true,
   "skip_h1_title": true,
   "title_cell": "Table of Contents",
   "title_sidebar": "Contents",
   "toc_cell": false,
   "toc_position": {
    "height": "calc(100% - 180px)",
    "left": "10px",
    "top": "150px",
    "width": "285.825px"
   },
   "toc_section_display": true,
   "toc_window_display": false
  }
 },
 "nbformat": 4,
 "nbformat_minor": 1
}
