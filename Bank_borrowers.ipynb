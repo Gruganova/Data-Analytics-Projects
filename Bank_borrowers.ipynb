{
 "cells": [
  {
   "cell_type": "markdown",
   "id": "1c74d2fd",
   "metadata": {},
   "source": [
    "# Исследование надёжности заёмщиков"
   ]
  },
  {
   "cell_type": "markdown",
   "id": "a21ab62e",
   "metadata": {},
   "source": [
    "**Цель проекта:**\n",
    "\n",
    "Определить критерии надёжности заёмщиков в зависимости от их статуса в разрезе критериев.\n",
    "\n",
    "**Задачи проекта**:\n",
    "\n",
    "Произвести анализ различных категорий клиентов, выявить в каждой категории наиболее и наименее платёжеспособных групп."
   ]
  },
  {
   "cell_type": "markdown",
   "id": "e7a14c31",
   "metadata": {
    "id": "e7a14c31"
   },
   "source": [
    "Импорт библиотек:"
   ]
  },
  {
   "cell_type": "code",
   "execution_count": 1,
   "id": "7bcf75c9",
   "metadata": {
    "id": "7bcf75c9"
   },
   "outputs": [],
   "source": [
    "import pandas as pd\n",
    "import seaborn"
   ]
  },
  {
   "cell_type": "markdown",
   "id": "b8038fe3",
   "metadata": {
    "id": "b8038fe3"
   },
   "source": [
    "Выведем первые 20 строчек датафрейма `data` на экран:"
   ]
  },
  {
   "cell_type": "code",
   "execution_count": 3,
   "id": "2a7cab99",
   "metadata": {
    "id": "2a7cab99",
    "outputId": "1a8f3ef2-d323-4ec2-ddf7-89670b5944c4"
   },
   "outputs": [
    {
     "data": {
      "text/html": [
       "<div>\n",
       "<style scoped>\n",
       "    .dataframe tbody tr th:only-of-type {\n",
       "        vertical-align: middle;\n",
       "    }\n",
       "\n",
       "    .dataframe tbody tr th {\n",
       "        vertical-align: top;\n",
       "    }\n",
       "\n",
       "    .dataframe thead th {\n",
       "        text-align: right;\n",
       "    }\n",
       "</style>\n",
       "<table border=\"1\" class=\"dataframe\">\n",
       "  <thead>\n",
       "    <tr style=\"text-align: right;\">\n",
       "      <th></th>\n",
       "      <th>children</th>\n",
       "      <th>days_employed</th>\n",
       "      <th>dob_years</th>\n",
       "      <th>education</th>\n",
       "      <th>education_id</th>\n",
       "      <th>family_status</th>\n",
       "      <th>family_status_id</th>\n",
       "      <th>gender</th>\n",
       "      <th>income_type</th>\n",
       "      <th>debt</th>\n",
       "      <th>total_income</th>\n",
       "      <th>purpose</th>\n",
       "    </tr>\n",
       "  </thead>\n",
       "  <tbody>\n",
       "    <tr>\n",
       "      <th>0</th>\n",
       "      <td>1</td>\n",
       "      <td>-8437.673028</td>\n",
       "      <td>42</td>\n",
       "      <td>высшее</td>\n",
       "      <td>0</td>\n",
       "      <td>женат / замужем</td>\n",
       "      <td>0</td>\n",
       "      <td>F</td>\n",
       "      <td>сотрудник</td>\n",
       "      <td>0</td>\n",
       "      <td>253875.639453</td>\n",
       "      <td>покупка жилья</td>\n",
       "    </tr>\n",
       "    <tr>\n",
       "      <th>1</th>\n",
       "      <td>1</td>\n",
       "      <td>-4024.803754</td>\n",
       "      <td>36</td>\n",
       "      <td>среднее</td>\n",
       "      <td>1</td>\n",
       "      <td>женат / замужем</td>\n",
       "      <td>0</td>\n",
       "      <td>F</td>\n",
       "      <td>сотрудник</td>\n",
       "      <td>0</td>\n",
       "      <td>112080.014102</td>\n",
       "      <td>приобретение автомобиля</td>\n",
       "    </tr>\n",
       "    <tr>\n",
       "      <th>2</th>\n",
       "      <td>0</td>\n",
       "      <td>-5623.422610</td>\n",
       "      <td>33</td>\n",
       "      <td>Среднее</td>\n",
       "      <td>1</td>\n",
       "      <td>женат / замужем</td>\n",
       "      <td>0</td>\n",
       "      <td>M</td>\n",
       "      <td>сотрудник</td>\n",
       "      <td>0</td>\n",
       "      <td>145885.952297</td>\n",
       "      <td>покупка жилья</td>\n",
       "    </tr>\n",
       "    <tr>\n",
       "      <th>3</th>\n",
       "      <td>3</td>\n",
       "      <td>-4124.747207</td>\n",
       "      <td>32</td>\n",
       "      <td>среднее</td>\n",
       "      <td>1</td>\n",
       "      <td>женат / замужем</td>\n",
       "      <td>0</td>\n",
       "      <td>M</td>\n",
       "      <td>сотрудник</td>\n",
       "      <td>0</td>\n",
       "      <td>267628.550329</td>\n",
       "      <td>дополнительное образование</td>\n",
       "    </tr>\n",
       "    <tr>\n",
       "      <th>4</th>\n",
       "      <td>0</td>\n",
       "      <td>340266.072047</td>\n",
       "      <td>53</td>\n",
       "      <td>среднее</td>\n",
       "      <td>1</td>\n",
       "      <td>гражданский брак</td>\n",
       "      <td>1</td>\n",
       "      <td>F</td>\n",
       "      <td>пенсионер</td>\n",
       "      <td>0</td>\n",
       "      <td>158616.077870</td>\n",
       "      <td>сыграть свадьбу</td>\n",
       "    </tr>\n",
       "    <tr>\n",
       "      <th>5</th>\n",
       "      <td>0</td>\n",
       "      <td>-926.185831</td>\n",
       "      <td>27</td>\n",
       "      <td>высшее</td>\n",
       "      <td>0</td>\n",
       "      <td>гражданский брак</td>\n",
       "      <td>1</td>\n",
       "      <td>M</td>\n",
       "      <td>компаньон</td>\n",
       "      <td>0</td>\n",
       "      <td>255763.565419</td>\n",
       "      <td>покупка жилья</td>\n",
       "    </tr>\n",
       "    <tr>\n",
       "      <th>6</th>\n",
       "      <td>0</td>\n",
       "      <td>-2879.202052</td>\n",
       "      <td>43</td>\n",
       "      <td>высшее</td>\n",
       "      <td>0</td>\n",
       "      <td>женат / замужем</td>\n",
       "      <td>0</td>\n",
       "      <td>F</td>\n",
       "      <td>компаньон</td>\n",
       "      <td>0</td>\n",
       "      <td>240525.971920</td>\n",
       "      <td>операции с жильем</td>\n",
       "    </tr>\n",
       "    <tr>\n",
       "      <th>7</th>\n",
       "      <td>0</td>\n",
       "      <td>-152.779569</td>\n",
       "      <td>50</td>\n",
       "      <td>СРЕДНЕЕ</td>\n",
       "      <td>1</td>\n",
       "      <td>женат / замужем</td>\n",
       "      <td>0</td>\n",
       "      <td>M</td>\n",
       "      <td>сотрудник</td>\n",
       "      <td>0</td>\n",
       "      <td>135823.934197</td>\n",
       "      <td>образование</td>\n",
       "    </tr>\n",
       "    <tr>\n",
       "      <th>8</th>\n",
       "      <td>2</td>\n",
       "      <td>-6929.865299</td>\n",
       "      <td>35</td>\n",
       "      <td>ВЫСШЕЕ</td>\n",
       "      <td>0</td>\n",
       "      <td>гражданский брак</td>\n",
       "      <td>1</td>\n",
       "      <td>F</td>\n",
       "      <td>сотрудник</td>\n",
       "      <td>0</td>\n",
       "      <td>95856.832424</td>\n",
       "      <td>на проведение свадьбы</td>\n",
       "    </tr>\n",
       "    <tr>\n",
       "      <th>9</th>\n",
       "      <td>0</td>\n",
       "      <td>-2188.756445</td>\n",
       "      <td>41</td>\n",
       "      <td>среднее</td>\n",
       "      <td>1</td>\n",
       "      <td>женат / замужем</td>\n",
       "      <td>0</td>\n",
       "      <td>M</td>\n",
       "      <td>сотрудник</td>\n",
       "      <td>0</td>\n",
       "      <td>144425.938277</td>\n",
       "      <td>покупка жилья для семьи</td>\n",
       "    </tr>\n",
       "    <tr>\n",
       "      <th>10</th>\n",
       "      <td>2</td>\n",
       "      <td>-4171.483647</td>\n",
       "      <td>36</td>\n",
       "      <td>высшее</td>\n",
       "      <td>0</td>\n",
       "      <td>женат / замужем</td>\n",
       "      <td>0</td>\n",
       "      <td>M</td>\n",
       "      <td>компаньон</td>\n",
       "      <td>0</td>\n",
       "      <td>113943.491460</td>\n",
       "      <td>покупка недвижимости</td>\n",
       "    </tr>\n",
       "    <tr>\n",
       "      <th>11</th>\n",
       "      <td>0</td>\n",
       "      <td>-792.701887</td>\n",
       "      <td>40</td>\n",
       "      <td>среднее</td>\n",
       "      <td>1</td>\n",
       "      <td>женат / замужем</td>\n",
       "      <td>0</td>\n",
       "      <td>F</td>\n",
       "      <td>сотрудник</td>\n",
       "      <td>0</td>\n",
       "      <td>77069.234271</td>\n",
       "      <td>покупка коммерческой недвижимости</td>\n",
       "    </tr>\n",
       "    <tr>\n",
       "      <th>12</th>\n",
       "      <td>0</td>\n",
       "      <td>NaN</td>\n",
       "      <td>65</td>\n",
       "      <td>среднее</td>\n",
       "      <td>1</td>\n",
       "      <td>гражданский брак</td>\n",
       "      <td>1</td>\n",
       "      <td>M</td>\n",
       "      <td>пенсионер</td>\n",
       "      <td>0</td>\n",
       "      <td>NaN</td>\n",
       "      <td>сыграть свадьбу</td>\n",
       "    </tr>\n",
       "    <tr>\n",
       "      <th>13</th>\n",
       "      <td>0</td>\n",
       "      <td>-1846.641941</td>\n",
       "      <td>54</td>\n",
       "      <td>неоконченное высшее</td>\n",
       "      <td>2</td>\n",
       "      <td>женат / замужем</td>\n",
       "      <td>0</td>\n",
       "      <td>F</td>\n",
       "      <td>сотрудник</td>\n",
       "      <td>0</td>\n",
       "      <td>130458.228857</td>\n",
       "      <td>приобретение автомобиля</td>\n",
       "    </tr>\n",
       "    <tr>\n",
       "      <th>14</th>\n",
       "      <td>0</td>\n",
       "      <td>-1844.956182</td>\n",
       "      <td>56</td>\n",
       "      <td>высшее</td>\n",
       "      <td>0</td>\n",
       "      <td>гражданский брак</td>\n",
       "      <td>1</td>\n",
       "      <td>F</td>\n",
       "      <td>компаньон</td>\n",
       "      <td>1</td>\n",
       "      <td>165127.911772</td>\n",
       "      <td>покупка жилой недвижимости</td>\n",
       "    </tr>\n",
       "    <tr>\n",
       "      <th>15</th>\n",
       "      <td>1</td>\n",
       "      <td>-972.364419</td>\n",
       "      <td>26</td>\n",
       "      <td>среднее</td>\n",
       "      <td>1</td>\n",
       "      <td>женат / замужем</td>\n",
       "      <td>0</td>\n",
       "      <td>F</td>\n",
       "      <td>сотрудник</td>\n",
       "      <td>0</td>\n",
       "      <td>116820.904450</td>\n",
       "      <td>строительство собственной недвижимости</td>\n",
       "    </tr>\n",
       "    <tr>\n",
       "      <th>16</th>\n",
       "      <td>0</td>\n",
       "      <td>-1719.934226</td>\n",
       "      <td>35</td>\n",
       "      <td>среднее</td>\n",
       "      <td>1</td>\n",
       "      <td>женат / замужем</td>\n",
       "      <td>0</td>\n",
       "      <td>F</td>\n",
       "      <td>сотрудник</td>\n",
       "      <td>0</td>\n",
       "      <td>289202.704229</td>\n",
       "      <td>недвижимость</td>\n",
       "    </tr>\n",
       "    <tr>\n",
       "      <th>17</th>\n",
       "      <td>0</td>\n",
       "      <td>-2369.999720</td>\n",
       "      <td>33</td>\n",
       "      <td>высшее</td>\n",
       "      <td>0</td>\n",
       "      <td>гражданский брак</td>\n",
       "      <td>1</td>\n",
       "      <td>M</td>\n",
       "      <td>сотрудник</td>\n",
       "      <td>0</td>\n",
       "      <td>90410.586745</td>\n",
       "      <td>строительство недвижимости</td>\n",
       "    </tr>\n",
       "    <tr>\n",
       "      <th>18</th>\n",
       "      <td>0</td>\n",
       "      <td>400281.136913</td>\n",
       "      <td>53</td>\n",
       "      <td>среднее</td>\n",
       "      <td>1</td>\n",
       "      <td>вдовец / вдова</td>\n",
       "      <td>2</td>\n",
       "      <td>F</td>\n",
       "      <td>пенсионер</td>\n",
       "      <td>0</td>\n",
       "      <td>56823.777243</td>\n",
       "      <td>на покупку подержанного автомобиля</td>\n",
       "    </tr>\n",
       "    <tr>\n",
       "      <th>19</th>\n",
       "      <td>0</td>\n",
       "      <td>-10038.818549</td>\n",
       "      <td>48</td>\n",
       "      <td>СРЕДНЕЕ</td>\n",
       "      <td>1</td>\n",
       "      <td>в разводе</td>\n",
       "      <td>3</td>\n",
       "      <td>F</td>\n",
       "      <td>сотрудник</td>\n",
       "      <td>0</td>\n",
       "      <td>242831.107982</td>\n",
       "      <td>на покупку своего автомобиля</td>\n",
       "    </tr>\n",
       "  </tbody>\n",
       "</table>\n",
       "</div>"
      ],
      "text/plain": [
       "    children  days_employed  dob_years            education  education_id  \\\n",
       "0          1   -8437.673028         42               высшее             0   \n",
       "1          1   -4024.803754         36              среднее             1   \n",
       "2          0   -5623.422610         33              Среднее             1   \n",
       "3          3   -4124.747207         32              среднее             1   \n",
       "4          0  340266.072047         53              среднее             1   \n",
       "5          0    -926.185831         27               высшее             0   \n",
       "6          0   -2879.202052         43               высшее             0   \n",
       "7          0    -152.779569         50              СРЕДНЕЕ             1   \n",
       "8          2   -6929.865299         35               ВЫСШЕЕ             0   \n",
       "9          0   -2188.756445         41              среднее             1   \n",
       "10         2   -4171.483647         36               высшее             0   \n",
       "11         0    -792.701887         40              среднее             1   \n",
       "12         0            NaN         65              среднее             1   \n",
       "13         0   -1846.641941         54  неоконченное высшее             2   \n",
       "14         0   -1844.956182         56               высшее             0   \n",
       "15         1    -972.364419         26              среднее             1   \n",
       "16         0   -1719.934226         35              среднее             1   \n",
       "17         0   -2369.999720         33               высшее             0   \n",
       "18         0  400281.136913         53              среднее             1   \n",
       "19         0  -10038.818549         48              СРЕДНЕЕ             1   \n",
       "\n",
       "       family_status  family_status_id gender income_type  debt  \\\n",
       "0    женат / замужем                 0      F   сотрудник     0   \n",
       "1    женат / замужем                 0      F   сотрудник     0   \n",
       "2    женат / замужем                 0      M   сотрудник     0   \n",
       "3    женат / замужем                 0      M   сотрудник     0   \n",
       "4   гражданский брак                 1      F   пенсионер     0   \n",
       "5   гражданский брак                 1      M   компаньон     0   \n",
       "6    женат / замужем                 0      F   компаньон     0   \n",
       "7    женат / замужем                 0      M   сотрудник     0   \n",
       "8   гражданский брак                 1      F   сотрудник     0   \n",
       "9    женат / замужем                 0      M   сотрудник     0   \n",
       "10   женат / замужем                 0      M   компаньон     0   \n",
       "11   женат / замужем                 0      F   сотрудник     0   \n",
       "12  гражданский брак                 1      M   пенсионер     0   \n",
       "13   женат / замужем                 0      F   сотрудник     0   \n",
       "14  гражданский брак                 1      F   компаньон     1   \n",
       "15   женат / замужем                 0      F   сотрудник     0   \n",
       "16   женат / замужем                 0      F   сотрудник     0   \n",
       "17  гражданский брак                 1      M   сотрудник     0   \n",
       "18    вдовец / вдова                 2      F   пенсионер     0   \n",
       "19         в разводе                 3      F   сотрудник     0   \n",
       "\n",
       "     total_income                                 purpose  \n",
       "0   253875.639453                           покупка жилья  \n",
       "1   112080.014102                 приобретение автомобиля  \n",
       "2   145885.952297                           покупка жилья  \n",
       "3   267628.550329              дополнительное образование  \n",
       "4   158616.077870                         сыграть свадьбу  \n",
       "5   255763.565419                           покупка жилья  \n",
       "6   240525.971920                       операции с жильем  \n",
       "7   135823.934197                             образование  \n",
       "8    95856.832424                   на проведение свадьбы  \n",
       "9   144425.938277                 покупка жилья для семьи  \n",
       "10  113943.491460                    покупка недвижимости  \n",
       "11   77069.234271       покупка коммерческой недвижимости  \n",
       "12            NaN                         сыграть свадьбу  \n",
       "13  130458.228857                 приобретение автомобиля  \n",
       "14  165127.911772              покупка жилой недвижимости  \n",
       "15  116820.904450  строительство собственной недвижимости  \n",
       "16  289202.704229                            недвижимость  \n",
       "17   90410.586745              строительство недвижимости  \n",
       "18   56823.777243      на покупку подержанного автомобиля  \n",
       "19  242831.107982            на покупку своего автомобиля  "
      ]
     },
     "execution_count": 3,
     "metadata": {},
     "output_type": "execute_result"
    }
   ],
   "source": [
    "data.head(20)"
   ]
  },
  {
   "cell_type": "markdown",
   "id": "1c12e233",
   "metadata": {
    "id": "1c12e233"
   },
   "source": [
    "Выведем основную информацию о датафрейме:"
   ]
  },
  {
   "cell_type": "code",
   "execution_count": 4,
   "id": "2b757bca",
   "metadata": {
    "id": "2b757bca",
    "outputId": "15376089-8dad-46c9-b520-c05248d43158"
   },
   "outputs": [
    {
     "name": "stdout",
     "output_type": "stream",
     "text": [
      "<class 'pandas.core.frame.DataFrame'>\n",
      "RangeIndex: 21525 entries, 0 to 21524\n",
      "Data columns (total 12 columns):\n",
      " #   Column            Non-Null Count  Dtype  \n",
      "---  ------            --------------  -----  \n",
      " 0   children          21525 non-null  int64  \n",
      " 1   days_employed     19351 non-null  float64\n",
      " 2   dob_years         21525 non-null  int64  \n",
      " 3   education         21525 non-null  object \n",
      " 4   education_id      21525 non-null  int64  \n",
      " 5   family_status     21525 non-null  object \n",
      " 6   family_status_id  21525 non-null  int64  \n",
      " 7   gender            21525 non-null  object \n",
      " 8   income_type       21525 non-null  object \n",
      " 9   debt              21525 non-null  int64  \n",
      " 10  total_income      19351 non-null  float64\n",
      " 11  purpose           21525 non-null  object \n",
      "dtypes: float64(2), int64(5), object(5)\n",
      "memory usage: 2.0+ MB\n"
     ]
    }
   ],
   "source": [
    "data.info()"
   ]
  },
  {
   "cell_type": "markdown",
   "id": "333ec665",
   "metadata": {
    "id": "333ec665"
   },
   "source": [
    "## Предобработка данных"
   ]
  },
  {
   "cell_type": "markdown",
   "id": "02d92d53",
   "metadata": {
    "id": "02d92d53"
   },
   "source": [
    "### Удаление пропусков"
   ]
  },
  {
   "cell_type": "markdown",
   "id": "cd84967c",
   "metadata": {
    "id": "cd84967c"
   },
   "source": [
    "Выведем количество пропущенных значений для каждого столбца:"
   ]
  },
  {
   "cell_type": "code",
   "execution_count": 5,
   "id": "7f9b2309",
   "metadata": {
    "id": "7f9b2309",
    "outputId": "81f4d817-781c-465c-ed15-91ce4446810d"
   },
   "outputs": [
    {
     "data": {
      "text/plain": [
       "children               0\n",
       "days_employed       2174\n",
       "dob_years              0\n",
       "education              0\n",
       "education_id           0\n",
       "family_status          0\n",
       "family_status_id       0\n",
       "gender                 0\n",
       "income_type            0\n",
       "debt                   0\n",
       "total_income        2174\n",
       "purpose                0\n",
       "dtype: int64"
      ]
     },
     "execution_count": 5,
     "metadata": {},
     "output_type": "execute_result"
    }
   ],
   "source": [
    "data.isna().sum()"
   ]
  },
  {
   "cell_type": "markdown",
   "id": "db86e27b",
   "metadata": {
    "id": "db86e27b"
   },
   "source": [
    "В двух столбцах есть пропущенные значения. Один из них — `days_employed`. Пропуски в этом столбце обработаем далее. Другой столбец с пропущенными значениями — `total_income` — хранит данные о доходах. На сумму дохода сильнее всего влияет тип занятости, поэтому заполнить пропуски в этом столбце нужно медианным значением по каждому типу из столбца `income_type`. Например, у человека с типом занятости `сотрудник` пропуск в столбце `total_income` должен быть заполнен медианным доходом среди всех записей с тем же типом:"
   ]
  },
  {
   "cell_type": "code",
   "execution_count": 6,
   "id": "42006a93",
   "metadata": {
    "id": "42006a93"
   },
   "outputs": [],
   "source": [
    "for t in data['income_type'].unique():\n",
    "    data.loc[(data['income_type'] == t) & (data['total_income'].isna()), 'total_income'] = \\\n",
    "    data.loc[(data['income_type'] == t), 'total_income'].median()"
   ]
  },
  {
   "cell_type": "markdown",
   "id": "89da5ece",
   "metadata": {
    "id": "89da5ece"
   },
   "source": [
    "### Обработка аномальных значений"
   ]
  },
  {
   "cell_type": "markdown",
   "id": "57964554",
   "metadata": {
    "id": "57964554"
   },
   "source": [
    "В данных могут встречаться артефакты (аномалии) — значения, которые не отражают действительность и появились по какой-то ошибке. Таким артефактом будет отрицательное количество дней трудового стажа в столбце `days_employed`. Для реальных данных это нормально. Обработаем значения в этом столбце: заменим все отрицательные значения положительными:"
   ]
  },
  {
   "cell_type": "code",
   "execution_count": 7,
   "id": "f6f055bf",
   "metadata": {
    "id": "f6f055bf"
   },
   "outputs": [],
   "source": [
    "data['days_employed'] = data['days_employed'].abs()"
   ]
  },
  {
   "cell_type": "markdown",
   "id": "6107dd2f",
   "metadata": {
    "id": "6107dd2f"
   },
   "source": [
    "Для каждого типа занятости выведем медианное значение трудового стажа `days_employed` в днях:"
   ]
  },
  {
   "cell_type": "code",
   "execution_count": 8,
   "id": "85a5faf6",
   "metadata": {
    "id": "85a5faf6",
    "outputId": "801ef80e-522b-4668-f34e-565af7432bcf"
   },
   "outputs": [
    {
     "data": {
      "text/plain": [
       "income_type\n",
       "безработный        366413.652744\n",
       "в декрете            3296.759962\n",
       "госслужащий          2689.368353\n",
       "компаньон            1547.382223\n",
       "пенсионер          365213.306266\n",
       "предприниматель       520.848083\n",
       "сотрудник            1574.202821\n",
       "студент               578.751554\n",
       "Name: days_employed, dtype: float64"
      ]
     },
     "execution_count": 8,
     "metadata": {},
     "output_type": "execute_result"
    }
   ],
   "source": [
    "data.groupby('income_type')['days_employed'].agg('median')"
   ]
  },
  {
   "cell_type": "markdown",
   "id": "38d1a030",
   "metadata": {
    "id": "38d1a030"
   },
   "source": [
    "У двух типов (безработные и пенсионеры) получатся аномально большие значения. Исправить такие значения сложно, поэтому оставьте их как есть. Тем более этот столбец не понадобится вам для исследования."
   ]
  },
  {
   "cell_type": "markdown",
   "id": "d8a9f147",
   "metadata": {
    "id": "d8a9f147"
   },
   "source": [
    "Выведем перечень уникальных значений столбца `children`:"
   ]
  },
  {
   "cell_type": "code",
   "execution_count": 9,
   "id": "ef5056eb",
   "metadata": {
    "id": "ef5056eb",
    "outputId": "6975b15c-7f95-4697-d16d-a0c79b657b03"
   },
   "outputs": [
    {
     "data": {
      "text/plain": [
       "array([ 1,  0,  3,  2, -1,  4, 20,  5], dtype=int64)"
      ]
     },
     "execution_count": 9,
     "metadata": {},
     "output_type": "execute_result"
    }
   ],
   "source": [
    "data['children'].unique()"
   ]
  },
  {
   "cell_type": "markdown",
   "id": "40b9ebf2",
   "metadata": {
    "id": "40b9ebf2"
   },
   "source": [
    "В столбце `children` есть два аномальных значения. Удалим строки, в которых встречаются такие аномальные значения из датафрейма `data`:"
   ]
  },
  {
   "cell_type": "code",
   "execution_count": 10,
   "id": "3ff9801d",
   "metadata": {
    "id": "3ff9801d"
   },
   "outputs": [],
   "source": [
    "data = data[(data['children'] != -1) & (data['children'] != 20)]"
   ]
  },
  {
   "cell_type": "markdown",
   "id": "bbc4d0ce",
   "metadata": {
    "id": "bbc4d0ce"
   },
   "source": [
    "Ещё раз выведем перечень уникальных значений столбца `children`, чтобы убедиться, что артефакты удалены:"
   ]
  },
  {
   "cell_type": "code",
   "execution_count": 11,
   "id": "ad4fa8b7",
   "metadata": {
    "id": "ad4fa8b7",
    "outputId": "b2097101-d49d-44d9-901b-32a65c9463d1"
   },
   "outputs": [
    {
     "data": {
      "text/plain": [
       "array([1, 0, 3, 2, 4, 5], dtype=int64)"
      ]
     },
     "execution_count": 11,
     "metadata": {},
     "output_type": "execute_result"
    }
   ],
   "source": [
    "data['children'].unique()"
   ]
  },
  {
   "cell_type": "markdown",
   "id": "f4ea573f",
   "metadata": {
    "id": "f4ea573f"
   },
   "source": [
    "Заполним пропуски в столбце `days_employed` медианными значениями по каждого типа занятости `income_type`:"
   ]
  },
  {
   "cell_type": "code",
   "execution_count": 12,
   "id": "af6b1a7e",
   "metadata": {
    "id": "af6b1a7e"
   },
   "outputs": [],
   "source": [
    "for t in data['income_type'].unique():\n",
    "    data.loc[(data['income_type'] == t) & (data['days_employed'].isna()), 'days_employed'] = \\\n",
    "    data.loc[(data['income_type'] == t), 'days_employed'].median()"
   ]
  },
  {
   "cell_type": "markdown",
   "id": "2753f40d",
   "metadata": {
    "id": "2753f40d"
   },
   "source": [
    "Убедимся, что все пропуски заполнены. Проверим себя и ещё раз выведем количество пропущенных значений для каждого столбца с помощью двух методов:"
   ]
  },
  {
   "cell_type": "code",
   "execution_count": 13,
   "id": "55f78bc2",
   "metadata": {
    "id": "55f78bc2",
    "outputId": "8da1e4e1-358e-4e87-98c9-f261bce0a7b2"
   },
   "outputs": [
    {
     "data": {
      "text/plain": [
       "children            0\n",
       "days_employed       0\n",
       "dob_years           0\n",
       "education           0\n",
       "education_id        0\n",
       "family_status       0\n",
       "family_status_id    0\n",
       "gender              0\n",
       "income_type         0\n",
       "debt                0\n",
       "total_income        0\n",
       "purpose             0\n",
       "dtype: int64"
      ]
     },
     "execution_count": 13,
     "metadata": {},
     "output_type": "execute_result"
    }
   ],
   "source": [
    "data.isna().sum()"
   ]
  },
  {
   "cell_type": "markdown",
   "id": "ddc81e43",
   "metadata": {
    "id": "ddc81e43"
   },
   "source": [
    "### Изменение типов данных"
   ]
  },
  {
   "cell_type": "markdown",
   "id": "42d19d24",
   "metadata": {
    "id": "42d19d24"
   },
   "source": [
    "Заменим вещественный тип данных в столбце `total_income` на целочисленный:"
   ]
  },
  {
   "cell_type": "code",
   "execution_count": 14,
   "id": "920b65ad",
   "metadata": {
    "id": "920b65ad"
   },
   "outputs": [],
   "source": [
    "data['total_income'] = data['total_income'].astype(int)"
   ]
  },
  {
   "cell_type": "markdown",
   "id": "80c420ba",
   "metadata": {
    "id": "80c420ba"
   },
   "source": [
    "### Обработка дубликатов"
   ]
  },
  {
   "cell_type": "markdown",
   "id": "dc587695",
   "metadata": {
    "id": "dc587695"
   },
   "source": [
    "Выведем на экран количество строк-дубликатов в данных. Если такие строки присутствуют, удалим их."
   ]
  },
  {
   "cell_type": "code",
   "execution_count": 15,
   "id": "3ee445e4",
   "metadata": {
    "id": "3ee445e4",
    "outputId": "9684deba-1934-42d1-99e1-cda61740f822"
   },
   "outputs": [
    {
     "data": {
      "text/plain": [
       "54"
      ]
     },
     "execution_count": 15,
     "metadata": {},
     "output_type": "execute_result"
    }
   ],
   "source": [
    "data.duplicated().sum()"
   ]
  },
  {
   "cell_type": "code",
   "execution_count": 16,
   "id": "8575fe05",
   "metadata": {
    "id": "8575fe05"
   },
   "outputs": [],
   "source": [
    "data = data.drop_duplicates()"
   ]
  },
  {
   "cell_type": "markdown",
   "id": "9771a76c",
   "metadata": {
    "id": "9771a76c"
   },
   "source": [
    "Обработаем неявные дубликаты в столбце `education`. В этом столбце есть одни и те же значения, но записанные по-разному: с использованием заглавных и строчных букв. Приведем их к нижнему регистру. Проверим остальные столбцы."
   ]
  },
  {
   "cell_type": "code",
   "execution_count": 17,
   "id": "a9f8e2bf",
   "metadata": {
    "id": "a9f8e2bf"
   },
   "outputs": [],
   "source": [
    "data['education'] = data['education'].str.lower()"
   ]
  },
  {
   "cell_type": "markdown",
   "id": "9904cf55",
   "metadata": {
    "id": "9904cf55"
   },
   "source": [
    "### Категоризация данных"
   ]
  },
  {
   "cell_type": "markdown",
   "id": "72fcc8a2",
   "metadata": {
    "id": "72fcc8a2"
   },
   "source": [
    "На основании диапазонов, указанных ниже, создадим в датафрейме `data` столбец `total_income_category` с категориями:\n",
    "\n",
    "- 0–30000 — `'E'`;\n",
    "- 30001–50000 — `'D'`;\n",
    "- 50001–200000 — `'C'`;\n",
    "- 200001–1000000 — `'B'`;\n",
    "- 1000001 и выше — `'A'`.\n",
    "\n",
    "\n",
    "Например, кредитополучателю с доходом 25000 назначим категорию `'E'`, а клиенту, получающему 235000, — `'B'`. Используем собственную функцию с именем `categorize_income()`:"
   ]
  },
  {
   "cell_type": "code",
   "execution_count": 18,
   "id": "e1771346",
   "metadata": {
    "id": "e1771346"
   },
   "outputs": [],
   "source": [
    "def categorize_income(income):\n",
    "    if 0 <= income <= 30000:\n",
    "        return 'E'\n",
    "    elif 30001 <= income <= 50000:\n",
    "        return 'D'\n",
    "    elif 50001 <= income <= 200000:\n",
    "        return 'C'\n",
    "    elif 200001 <= income <= 1000000:\n",
    "        return 'B'\n",
    "    elif income >= 1000001:\n",
    "        return 'A'"
   ]
  },
  {
   "cell_type": "code",
   "execution_count": 19,
   "id": "d5f3586d",
   "metadata": {
    "id": "d5f3586d"
   },
   "outputs": [],
   "source": [
    "data['total_income_category'] = data['total_income'].apply(categorize_income)"
   ]
  },
  {
   "cell_type": "markdown",
   "id": "dde49b5c",
   "metadata": {
    "id": "dde49b5c"
   },
   "source": [
    "Выведем на экран перечень уникальных целей взятия кредита из столбца `purpose`:"
   ]
  },
  {
   "cell_type": "code",
   "execution_count": 20,
   "id": "f67ce9b3",
   "metadata": {
    "id": "f67ce9b3",
    "outputId": "673c12d9-7d7e-4ae0-9812-c622c89dd244"
   },
   "outputs": [
    {
     "data": {
      "text/plain": [
       "array(['покупка жилья', 'приобретение автомобиля',\n",
       "       'дополнительное образование', 'сыграть свадьбу',\n",
       "       'операции с жильем', 'образование', 'на проведение свадьбы',\n",
       "       'покупка жилья для семьи', 'покупка недвижимости',\n",
       "       'покупка коммерческой недвижимости', 'покупка жилой недвижимости',\n",
       "       'строительство собственной недвижимости', 'недвижимость',\n",
       "       'строительство недвижимости', 'на покупку подержанного автомобиля',\n",
       "       'на покупку своего автомобиля',\n",
       "       'операции с коммерческой недвижимостью',\n",
       "       'строительство жилой недвижимости', 'жилье',\n",
       "       'операции со своей недвижимостью', 'автомобили',\n",
       "       'заняться образованием', 'сделка с подержанным автомобилем',\n",
       "       'получение образования', 'автомобиль', 'свадьба',\n",
       "       'получение дополнительного образования', 'покупка своего жилья',\n",
       "       'операции с недвижимостью', 'получение высшего образования',\n",
       "       'свой автомобиль', 'сделка с автомобилем',\n",
       "       'профильное образование', 'высшее образование',\n",
       "       'покупка жилья для сдачи', 'на покупку автомобиля', 'ремонт жилью',\n",
       "       'заняться высшим образованием'], dtype=object)"
      ]
     },
     "execution_count": 20,
     "metadata": {},
     "output_type": "execute_result"
    }
   ],
   "source": [
    "data['purpose'].unique()"
   ]
  },
  {
   "cell_type": "markdown",
   "id": "85d0aef0",
   "metadata": {
    "id": "85d0aef0"
   },
   "source": [
    "Создадим функцию, которая на основании данных из столбца `purpose` сформирует новый столбец `purpose_category`, в который войдут следующие категории:\n",
    "\n",
    "- `'операции с автомобилем'`,\n",
    "- `'операции с недвижимостью'`,\n",
    "- `'проведение свадьбы'`,\n",
    "- `'получение образования'`.\n",
    "\n",
    "Например, если в столбце `purpose` находится подстрока `'на покупку автомобиля'`, то в столбце `purpose_category` должна появиться строка `'операции с автомобилем'`."
   ]
  },
  {
   "cell_type": "code",
   "execution_count": 21,
   "id": "e149fab4",
   "metadata": {
    "id": "e149fab4"
   },
   "outputs": [],
   "source": [
    "def categorize_purpose(row):\n",
    "    try:\n",
    "        if 'автом' in row:\n",
    "            return 'операции с автомобилем'\n",
    "        elif 'жил' in row or 'недвиж' in row:\n",
    "            return 'операции с недвижимостью'\n",
    "        elif 'свад' in row:\n",
    "            return 'проведение свадьбы'\n",
    "        elif 'образов' in row:\n",
    "            return 'получение образования'\n",
    "    except:\n",
    "        return 'нет категории'"
   ]
  },
  {
   "cell_type": "code",
   "execution_count": 22,
   "id": "bf36e69b",
   "metadata": {
    "id": "bf36e69b"
   },
   "outputs": [],
   "source": [
    "data['purpose_category'] = data['purpose'].apply(categorize_purpose)"
   ]
  },
  {
   "cell_type": "markdown",
   "id": "09b242bf",
   "metadata": {
    "id": "09b242bf"
   },
   "source": [
    "## Исследование данных"
   ]
  },
  {
   "cell_type": "markdown",
   "id": "c5d66278",
   "metadata": {
    "id": "c5d66278"
   },
   "source": [
    "**Есть ли зависимость между количеством детей и возвратом кредита в срок?**"
   ]
  },
  {
   "cell_type": "markdown",
   "id": "f9a2ab75",
   "metadata": {},
   "source": [
    "Подсчёт клиентов в разрезе различного количества детей "
   ]
  },
  {
   "cell_type": "code",
   "execution_count": 23,
   "id": "2cacfc4a",
   "metadata": {
    "id": "2cacfc4a"
   },
   "outputs": [
    {
     "data": {
      "text/plain": [
       "children\n",
       "0    14107\n",
       "1     4809\n",
       "2     2052\n",
       "3      330\n",
       "4       41\n",
       "5        9\n",
       "Name: debt, dtype: int64"
      ]
     },
     "execution_count": 23,
     "metadata": {},
     "output_type": "execute_result"
    }
   ],
   "source": [
    "debitors_by_children = data.groupby('children')['debt'].count()\n",
    "debitors_by_children"
   ]
  },
  {
   "cell_type": "markdown",
   "id": "c2bf865f",
   "metadata": {},
   "source": [
    "Расчёт вероятности задолженности внутри групп"
   ]
  },
  {
   "cell_type": "code",
   "execution_count": 24,
   "id": "4261eddf",
   "metadata": {},
   "outputs": [
    {
     "data": {
      "text/html": [
       "<div>\n",
       "<style scoped>\n",
       "    .dataframe tbody tr th:only-of-type {\n",
       "        vertical-align: middle;\n",
       "    }\n",
       "\n",
       "    .dataframe tbody tr th {\n",
       "        vertical-align: top;\n",
       "    }\n",
       "\n",
       "    .dataframe thead th {\n",
       "        text-align: right;\n",
       "    }\n",
       "</style>\n",
       "<table border=\"1\" class=\"dataframe\">\n",
       "  <thead>\n",
       "    <tr style=\"text-align: right;\">\n",
       "      <th>debt</th>\n",
       "      <th>0</th>\n",
       "      <th>1</th>\n",
       "      <th>rate</th>\n",
       "    </tr>\n",
       "    <tr>\n",
       "      <th>children</th>\n",
       "      <th></th>\n",
       "      <th></th>\n",
       "      <th></th>\n",
       "    </tr>\n",
       "  </thead>\n",
       "  <tbody>\n",
       "    <tr>\n",
       "      <th>0</th>\n",
       "      <td>13044.0</td>\n",
       "      <td>1063.0</td>\n",
       "      <td>0.075353</td>\n",
       "    </tr>\n",
       "    <tr>\n",
       "      <th>1</th>\n",
       "      <td>4365.0</td>\n",
       "      <td>444.0</td>\n",
       "      <td>0.092327</td>\n",
       "    </tr>\n",
       "    <tr>\n",
       "      <th>2</th>\n",
       "      <td>1858.0</td>\n",
       "      <td>194.0</td>\n",
       "      <td>0.094542</td>\n",
       "    </tr>\n",
       "    <tr>\n",
       "      <th>3</th>\n",
       "      <td>303.0</td>\n",
       "      <td>27.0</td>\n",
       "      <td>0.081818</td>\n",
       "    </tr>\n",
       "    <tr>\n",
       "      <th>4</th>\n",
       "      <td>37.0</td>\n",
       "      <td>4.0</td>\n",
       "      <td>0.097561</td>\n",
       "    </tr>\n",
       "    <tr>\n",
       "      <th>5</th>\n",
       "      <td>9.0</td>\n",
       "      <td>NaN</td>\n",
       "      <td>NaN</td>\n",
       "    </tr>\n",
       "  </tbody>\n",
       "</table>\n",
       "</div>"
      ],
      "text/plain": [
       "debt            0       1      rate\n",
       "children                           \n",
       "0         13044.0  1063.0  0.075353\n",
       "1          4365.0   444.0  0.092327\n",
       "2          1858.0   194.0  0.094542\n",
       "3           303.0    27.0  0.081818\n",
       "4            37.0     4.0  0.097561\n",
       "5             9.0     NaN       NaN"
      ]
     },
     "execution_count": 24,
     "metadata": {},
     "output_type": "execute_result"
    }
   ],
   "source": [
    "children_pivot = data.pivot_table(index = 'children', columns = 'debt', values = 'total_income', aggfunc = 'count')\n",
    "children_pivot['rate'] = children_pivot[1] / debitors_by_children\n",
    "children_pivot"
   ]
  },
  {
   "cell_type": "markdown",
   "id": "5a833947",
   "metadata": {},
   "source": [
    "Вывод столбчатой диаграммы для отображения результатов зависимости между количеством детей и возвратом кредита в срок"
   ]
  },
  {
   "cell_type": "code",
   "execution_count": 25,
   "id": "b7f6b33a",
   "metadata": {},
   "outputs": [
    {
     "data": {
      "text/plain": [
       "Text(0, 0.5, 'Количество клиентов с задолженностью')"
      ]
     },
     "execution_count": 25,
     "metadata": {},
     "output_type": "execute_result"
    },
    {
     "data": {
      "image/png": "[encoded data removed]",
      "text/plain": [
       "<Figure size 432x288 with 1 Axes>"
      ]
     },
     "metadata": {
      "needs_background": "light"
     },
     "output_type": "display_data"
    }
   ],
   "source": [
    "children_barplot = seaborn.barplot(x = [0, 1, 2, 3, 4, 5], y = data.groupby('children')['debt'].count())\n",
    "children_barplot.axes.set_title('Зависимость между количеством детей и возвратом кредита в срок')\n",
    "children_barplot.set_xlabel('Количество детей')\n",
    "children_barplot.set_ylabel('Количество клиентов с задолженностью')"
   ]
  },
  {
   "cell_type": "markdown",
   "id": "7aea189a",
   "metadata": {},
   "source": [
    "Вывод столбчатой диаграммы для отображения результатов вероятности задолженности среди групп"
   ]
  },
  {
   "cell_type": "code",
   "execution_count": 26,
   "id": "8de506ee",
   "metadata": {},
   "outputs": [
    {
     "data": {
      "text/plain": [
       "Text(0, 0.5, 'Доля клиентов с задолженностью')"
      ]
     },
     "execution_count": 26,
     "metadata": {},
     "output_type": "execute_result"
    },
    {
     "data": {
      "image/png": "[encoded data removed]",
      "text/plain": [
       "<Figure size 432x288 with 1 Axes>"
      ]
     },
     "metadata": {
      "needs_background": "light"
     },
     "output_type": "display_data"
    }
   ],
   "source": [
    "children_pivot_barplot = seaborn.barplot(x = [0, 1, 2, 3, 4, 5], y = children_pivot['rate'])\n",
    "children_pivot_barplot.axes.set_title('Вероятность задолженности среди групп клиентов с разным количеством детей')\n",
    "children_pivot_barplot.set_xlabel('Количество детей')\n",
    "children_pivot_barplot.set_ylabel('Доля клиентов с задолженностью')\n"
   ]
  },
  {
   "cell_type": "markdown",
   "id": "3a6b99ec",
   "metadata": {
    "id": "3a6b99ec"
   },
   "source": [
    "**Вывод:** Диаграмма наглядно отображает чёткую зависимость между количеством детей в семье клиента и возвратом кредита в срок - среди клиентов выборки наибольшее количество \"должников\" не имеют детей, а чем больше детей в семье - тем меньше вероятность возниновения задолженности по кредиту. \n",
    "\n",
    "Таким образом, чем больше детей в семье клиента, тем он более платёжеспособен."
   ]
  },
  {
   "cell_type": "markdown",
   "id": "97be82ca",
   "metadata": {
    "id": "97be82ca"
   },
   "source": [
    "**Есть ли зависимость между семейным положением и возвратом кредита в срок?**"
   ]
  },
  {
   "cell_type": "markdown",
   "id": "7a36d454",
   "metadata": {},
   "source": [
    "Подсчёт клиентов, имевших задолженность по выплате кредитов, в разрезе клиентов с разным семейным положением"
   ]
  },
  {
   "cell_type": "code",
   "execution_count": 27,
   "id": "2bb121c9",
   "metadata": {},
   "outputs": [
    {
     "data": {
      "text/plain": [
       "family_status_id\n",
       "0    12266\n",
       "1     4146\n",
       "2      951\n",
       "3     1189\n",
       "4     2796\n",
       "Name: debt, dtype: int64"
      ]
     },
     "execution_count": 27,
     "metadata": {},
     "output_type": "execute_result"
    }
   ],
   "source": [
    "debitors_by_family_status = data.groupby('family_status_id')['debt'].count()\n",
    "debitors_by_family_status"
   ]
  },
  {
   "cell_type": "markdown",
   "id": "a9297cde",
   "metadata": {},
   "source": [
    "Расчёт вероятности задолженности внутри групп"
   ]
  },
  {
   "cell_type": "code",
   "execution_count": 28,
   "id": "61e28559",
   "metadata": {},
   "outputs": [
    {
     "data": {
      "text/html": [
       "<div>\n",
       "<style scoped>\n",
       "    .dataframe tbody tr th:only-of-type {\n",
       "        vertical-align: middle;\n",
       "    }\n",
       "\n",
       "    .dataframe tbody tr th {\n",
       "        vertical-align: top;\n",
       "    }\n",
       "\n",
       "    .dataframe thead th {\n",
       "        text-align: right;\n",
       "    }\n",
       "</style>\n",
       "<table border=\"1\" class=\"dataframe\">\n",
       "  <thead>\n",
       "    <tr style=\"text-align: right;\">\n",
       "      <th>debt</th>\n",
       "      <th>0</th>\n",
       "      <th>1</th>\n",
       "      <th>rate</th>\n",
       "    </tr>\n",
       "    <tr>\n",
       "      <th>family_status_id</th>\n",
       "      <th></th>\n",
       "      <th></th>\n",
       "      <th></th>\n",
       "    </tr>\n",
       "  </thead>\n",
       "  <tbody>\n",
       "    <tr>\n",
       "      <th>0</th>\n",
       "      <td>11339</td>\n",
       "      <td>927</td>\n",
       "      <td>0.075575</td>\n",
       "    </tr>\n",
       "    <tr>\n",
       "      <th>1</th>\n",
       "      <td>3761</td>\n",
       "      <td>385</td>\n",
       "      <td>0.092861</td>\n",
       "    </tr>\n",
       "    <tr>\n",
       "      <th>2</th>\n",
       "      <td>888</td>\n",
       "      <td>63</td>\n",
       "      <td>0.066246</td>\n",
       "    </tr>\n",
       "    <tr>\n",
       "      <th>3</th>\n",
       "      <td>1105</td>\n",
       "      <td>84</td>\n",
       "      <td>0.070648</td>\n",
       "    </tr>\n",
       "    <tr>\n",
       "      <th>4</th>\n",
       "      <td>2523</td>\n",
       "      <td>273</td>\n",
       "      <td>0.097639</td>\n",
       "    </tr>\n",
       "  </tbody>\n",
       "</table>\n",
       "</div>"
      ],
      "text/plain": [
       "debt                  0    1      rate\n",
       "family_status_id                      \n",
       "0                 11339  927  0.075575\n",
       "1                  3761  385  0.092861\n",
       "2                   888   63  0.066246\n",
       "3                  1105   84  0.070648\n",
       "4                  2523  273  0.097639"
      ]
     },
     "execution_count": 28,
     "metadata": {},
     "output_type": "execute_result"
    }
   ],
   "source": [
    "family_status_pivot = data.pivot_table(index = 'family_status_id', columns = 'debt', values = 'total_income', aggfunc = 'count')\n",
    "family_status_pivot['rate'] = family_status_pivot[1] / debitors_by_family_status\n",
    "family_status_pivot"
   ]
  },
  {
   "cell_type": "markdown",
   "id": "d8762b68",
   "metadata": {},
   "source": [
    "Вывод столбчатой диаграммы для отображения результатов зависимости между семейным положением и возвратом кредита в срок"
   ]
  },
  {
   "cell_type": "code",
   "execution_count": 29,
   "id": "5a83d10f",
   "metadata": {},
   "outputs": [
    {
     "data": {
      "text/plain": [
       "Text(0, 0.5, 'Количество клиентов с задолженностью')"
      ]
     },
     "execution_count": 29,
     "metadata": {},
     "output_type": "execute_result"
    },
    {
     "data": {
      "image/png": "[encoded data removed]",
      "text/plain": [
       "<Figure size 432x288 with 1 Axes>"
      ]
     },
     "metadata": {
      "needs_background": "light"
     },
     "output_type": "display_data"
    }
   ],
   "source": [
    "family_status_barplot = seaborn.barplot(x = [0, 1, 2, 3, 4], y = data.groupby('family_status_id')['debt'].count())\n",
    "family_status_barplot.axes.set_title('Зависимость между семейным положением и возвратом кредита в срок')\n",
    "family_status_barplot.set_xlabel('Индекс семейного положения')\n",
    "family_status_barplot.set_ylabel('Количество клиентов с задолженностью')"
   ]
  },
  {
   "cell_type": "markdown",
   "id": "ea33b846",
   "metadata": {},
   "source": [
    "Cоответствие семейного положения и индекса семейного положения"
   ]
  },
  {
   "cell_type": "code",
   "execution_count": 30,
   "id": "dc3f7ee8",
   "metadata": {
    "id": "dc3f7ee8"
   },
   "outputs": [
    {
     "data": {
      "text/html": [
       "<div>\n",
       "<style scoped>\n",
       "    .dataframe tbody tr th:only-of-type {\n",
       "        vertical-align: middle;\n",
       "    }\n",
       "\n",
       "    .dataframe tbody tr th {\n",
       "        vertical-align: top;\n",
       "    }\n",
       "\n",
       "    .dataframe thead th {\n",
       "        text-align: right;\n",
       "    }\n",
       "</style>\n",
       "<table border=\"1\" class=\"dataframe\">\n",
       "  <thead>\n",
       "    <tr style=\"text-align: right;\">\n",
       "      <th></th>\n",
       "      <th>family_status</th>\n",
       "      <th>family_status_id</th>\n",
       "    </tr>\n",
       "  </thead>\n",
       "  <tbody>\n",
       "    <tr>\n",
       "      <th>0</th>\n",
       "      <td>женат / замужем</td>\n",
       "      <td>0</td>\n",
       "    </tr>\n",
       "    <tr>\n",
       "      <th>4</th>\n",
       "      <td>гражданский брак</td>\n",
       "      <td>1</td>\n",
       "    </tr>\n",
       "    <tr>\n",
       "      <th>18</th>\n",
       "      <td>вдовец / вдова</td>\n",
       "      <td>2</td>\n",
       "    </tr>\n",
       "    <tr>\n",
       "      <th>19</th>\n",
       "      <td>в разводе</td>\n",
       "      <td>3</td>\n",
       "    </tr>\n",
       "    <tr>\n",
       "      <th>24</th>\n",
       "      <td>Не женат / не замужем</td>\n",
       "      <td>4</td>\n",
       "    </tr>\n",
       "  </tbody>\n",
       "</table>\n",
       "</div>"
      ],
      "text/plain": [
       "            family_status  family_status_id\n",
       "0         женат / замужем                 0\n",
       "4        гражданский брак                 1\n",
       "18         вдовец / вдова                 2\n",
       "19              в разводе                 3\n",
       "24  Не женат / не замужем                 4"
      ]
     },
     "execution_count": 30,
     "metadata": {},
     "output_type": "execute_result"
    }
   ],
   "source": [
    "data[['family_status', 'family_status_id']].drop_duplicates()"
   ]
  },
  {
   "cell_type": "markdown",
   "id": "d13dbdde",
   "metadata": {},
   "source": [
    "Вывод столбчатой диаграммы для отображения результатов вероятности задолженности среди групп"
   ]
  },
  {
   "cell_type": "code",
   "execution_count": 31,
   "id": "ab1912ff",
   "metadata": {},
   "outputs": [
    {
     "data": {
      "text/plain": [
       "Text(0, 0.5, 'Доля клиентов с задолженностью')"
      ]
     },
     "execution_count": 31,
     "metadata": {},
     "output_type": "execute_result"
    },
    {
     "data": {
      "image/png": "[encoded data removed]",
      "text/plain": [
       "<Figure size 432x288 with 1 Axes>"
      ]
     },
     "metadata": {
      "needs_background": "light"
     },
     "output_type": "display_data"
    }
   ],
   "source": [
    "family_status_pivot_barplot = seaborn.barplot(x = [0, 1, 2, 3, 4], y = family_status_pivot['rate'])\n",
    "family_status_pivot_barplot.axes.set_title('Вероятность задолженности среди групп клиентов с разным семейным положением')\n",
    "family_status_pivot_barplot.set_xlabel('Индекс семейного положения')\n",
    "family_status_pivot_barplot.set_ylabel('Доля клиентов с задолженностью')"
   ]
  },
  {
   "cell_type": "markdown",
   "id": "1cef7837",
   "metadata": {
    "id": "1cef7837"
   },
   "source": [
    "**Вывод:** исходя из данной диаграммы можно с уверенностью сказать, что превалирующее количество клиентов, имеющих задолженность по выплате кредитов, являются семейными людьми (в статусе женат/замужем). Среди групп клиентов остальных статусов наименьшее количество \"должников\" являются вдовами/вдовцами или находятся в разводе. Среди неженатых/незамужних клиентов и клиентов, состоящих в гражданском браке, \"должников\" больше в 3 и 4 раза соответственно. \n",
    "\n",
    "Наименее платёжеспособными клиентами являются являются женатые клиенты, а наиболее - вдовы/вдовцы и находящиеся в разводе."
   ]
  },
  {
   "cell_type": "markdown",
   "id": "1e8b2fca",
   "metadata": {
    "id": "1e8b2fca"
   },
   "source": [
    "**Есть ли зависимость между уровнем дохода и возвратом кредита в срок?**"
   ]
  },
  {
   "cell_type": "markdown",
   "id": "e13f0bad",
   "metadata": {
    "id": "cd7e3720"
   },
   "source": [
    "Подсчёт клиентов, имевших задолженность по выплате кредитов, в разрезе клиентов, имеющих разный уровень дохода"
   ]
  },
  {
   "cell_type": "code",
   "execution_count": 32,
   "id": "d6c1011d",
   "metadata": {},
   "outputs": [
    {
     "data": {
      "text/plain": [
       "total_income_category\n",
       "A       25\n",
       "B     5014\n",
       "C    15938\n",
       "D      349\n",
       "E       22\n",
       "Name: debt, dtype: int64"
      ]
     },
     "execution_count": 32,
     "metadata": {},
     "output_type": "execute_result"
    }
   ],
   "source": [
    "income_debitors = data.groupby('total_income_category')['debt'].count()\n",
    "income_debitors"
   ]
  },
  {
   "cell_type": "markdown",
   "id": "d98b49d5",
   "metadata": {},
   "source": [
    "Расчёт вероятности задолженности внутри групп"
   ]
  },
  {
   "cell_type": "code",
   "execution_count": 33,
   "id": "67a11120",
   "metadata": {},
   "outputs": [
    {
     "data": {
      "text/html": [
       "<div>\n",
       "<style scoped>\n",
       "    .dataframe tbody tr th:only-of-type {\n",
       "        vertical-align: middle;\n",
       "    }\n",
       "\n",
       "    .dataframe tbody tr th {\n",
       "        vertical-align: top;\n",
       "    }\n",
       "\n",
       "    .dataframe thead th {\n",
       "        text-align: right;\n",
       "    }\n",
       "</style>\n",
       "<table border=\"1\" class=\"dataframe\">\n",
       "  <thead>\n",
       "    <tr style=\"text-align: right;\">\n",
       "      <th>debt</th>\n",
       "      <th>0</th>\n",
       "      <th>1</th>\n",
       "      <th>rate</th>\n",
       "    </tr>\n",
       "    <tr>\n",
       "      <th>total_income_category</th>\n",
       "      <th></th>\n",
       "      <th></th>\n",
       "      <th></th>\n",
       "    </tr>\n",
       "  </thead>\n",
       "  <tbody>\n",
       "    <tr>\n",
       "      <th>A</th>\n",
       "      <td>23</td>\n",
       "      <td>2</td>\n",
       "      <td>0.080000</td>\n",
       "    </tr>\n",
       "    <tr>\n",
       "      <th>B</th>\n",
       "      <td>4660</td>\n",
       "      <td>354</td>\n",
       "      <td>0.070602</td>\n",
       "    </tr>\n",
       "    <tr>\n",
       "      <th>C</th>\n",
       "      <td>14585</td>\n",
       "      <td>1353</td>\n",
       "      <td>0.084891</td>\n",
       "    </tr>\n",
       "    <tr>\n",
       "      <th>D</th>\n",
       "      <td>328</td>\n",
       "      <td>21</td>\n",
       "      <td>0.060172</td>\n",
       "    </tr>\n",
       "    <tr>\n",
       "      <th>E</th>\n",
       "      <td>20</td>\n",
       "      <td>2</td>\n",
       "      <td>0.090909</td>\n",
       "    </tr>\n",
       "  </tbody>\n",
       "</table>\n",
       "</div>"
      ],
      "text/plain": [
       "debt                       0     1      rate\n",
       "total_income_category                       \n",
       "A                         23     2  0.080000\n",
       "B                       4660   354  0.070602\n",
       "C                      14585  1353  0.084891\n",
       "D                        328    21  0.060172\n",
       "E                         20     2  0.090909"
      ]
     },
     "execution_count": 33,
     "metadata": {},
     "output_type": "execute_result"
    }
   ],
   "source": [
    "income_debitors_pivot = data.pivot_table(index = 'total_income_category', columns = 'debt', values = 'total_income', aggfunc = 'count')\n",
    "income_debitors_pivot['rate'] = income_debitors_pivot[1] / income_debitors\n",
    "income_debitors_pivot"
   ]
  },
  {
   "cell_type": "markdown",
   "id": "08599468",
   "metadata": {},
   "source": [
    "Вывод столбчатой диаграммы для отображения результатов зависимости между уровнем дохода и возвратом кредита в срок"
   ]
  },
  {
   "cell_type": "code",
   "execution_count": 34,
   "id": "23302ef3",
   "metadata": {},
   "outputs": [
    {
     "data": {
      "text/plain": [
       "Text(0, 0.5, 'Количество клиентов с задолженностью')"
      ]
     },
     "execution_count": 34,
     "metadata": {},
     "output_type": "execute_result"
    },
    {
     "data": {
      "image/png": "[encoded data removed]",
      "text/plain": [
       "<Figure size 432x288 with 1 Axes>"
      ]
     },
     "metadata": {
      "needs_background": "light"
     },
     "output_type": "display_data"
    }
   ],
   "source": [
    "income_barplot = seaborn.barplot(x = ['A', 'B', 'C', 'D', 'E'], y = data.groupby('total_income_category')['debt'].count())\n",
    "income_barplot.axes.set_title('Зависимость между уровнем дохода и возвратом кредита в срок')\n",
    "income_barplot.set_xlabel('Уровень дохода')\n",
    "income_barplot.set_ylabel('Количество клиентов с задолженностью')"
   ]
  },
  {
   "cell_type": "markdown",
   "id": "7e8a8631",
   "metadata": {},
   "source": [
    "Категории клиентов по уровню дохода:\n",
    "- 0–30000 — `'E'`;\n",
    "- 30001–50000 — `'D'`;\n",
    "- 50001–200000 — `'C'`;\n",
    "- 200001–1000000 — `'B'`;\n",
    "- 1000001 и выше — `'A'`."
   ]
  },
  {
   "cell_type": "markdown",
   "id": "d9fee5cc",
   "metadata": {},
   "source": [
    "Вывод столбчатой диаграммы для отображения результатов вероятности задолженности среди групп"
   ]
  },
  {
   "cell_type": "code",
   "execution_count": 35,
   "id": "5c1577f2",
   "metadata": {},
   "outputs": [
    {
     "data": {
      "text/plain": [
       "Text(0, 0.5, 'Доля клиентов с задолженностью')"
      ]
     },
     "execution_count": 35,
     "metadata": {},
     "output_type": "execute_result"
    },
    {
     "data": {
      "image/png": "[encoded data removed]",
      "text/plain": [
       "<Figure size 432x288 with 1 Axes>"
      ]
     },
     "metadata": {
      "needs_background": "light"
     },
     "output_type": "display_data"
    }
   ],
   "source": [
    "income_debitors_pivot_barplot = seaborn.barplot(x = ['A', 'B', 'C', 'D', 'E'], y = income_debitors_pivot['rate'])\n",
    "income_debitors_pivot_barplot.axes.set_title('Вероятность задолженности среди групп клиентов с разным уровнем дохода')\n",
    "income_debitors_pivot_barplot.set_xlabel('Уровень дохода')\n",
    "income_debitors_pivot_barplot.set_ylabel('Доля клиентов с задолженностью')"
   ]
  },
  {
   "cell_type": "markdown",
   "id": "e8593def",
   "metadata": {
    "deletable": false,
    "id": "e8593def"
   },
   "source": [
    "**Вывод:** На основании данной диаграммы мы видим, что количество клиентов, имеющих задолженность по выплате кредита, является пиковой в категории дохода 'C' - это категория с доходом от 50 0001 до 200 000 руб. Клиенты с данным уровнем дохода являются наименее платёжеспособными.\n",
    "\n",
    "В три раза меньше доля должников в категории 'B' - это категория с доходом от 200 001 до 1 000 000 руб.\n",
    "\n",
    "При этом доля должников категорий 'A', 'D' и 'E' незначительна (категории с доходом до 50 000 руб. и свыше 1 000 000 руб.) - данные категории являются наиблее платёжеспособными."
   ]
  },
  {
   "cell_type": "markdown",
   "id": "99ecbd1f",
   "metadata": {
    "id": "99ecbd1f"
   },
   "source": [
    "**Как разные цели кредита влияют на его возврат в срок?**"
   ]
  },
  {
   "cell_type": "markdown",
   "id": "9180bf4d",
   "metadata": {
    "id": "2b687290"
   },
   "source": [
    "Подсчёт клиентов, имевших задолженность по выплате кредитов, в разрезе клиентов, имеющих разные цели кредитования"
   ]
  },
  {
   "cell_type": "code",
   "execution_count": 36,
   "id": "01d82476",
   "metadata": {},
   "outputs": [
    {
     "data": {
      "text/plain": [
       "purpose_category\n",
       "операции с автомобилем       4281\n",
       "операции с недвижимостью    10754\n",
       "получение образования        3989\n",
       "проведение свадьбы           2324\n",
       "Name: debt, dtype: int64"
      ]
     },
     "execution_count": 36,
     "metadata": {},
     "output_type": "execute_result"
    }
   ],
   "source": [
    "purpose_debitors = data.groupby('purpose_category')['debt'].count()\n",
    "purpose_debitors"
   ]
  },
  {
   "cell_type": "markdown",
   "id": "6858dc3f",
   "metadata": {},
   "source": [
    "Расчёт вероятности задолженности внутри групп"
   ]
  },
  {
   "cell_type": "code",
   "execution_count": 37,
   "id": "08515628",
   "metadata": {},
   "outputs": [
    {
     "data": {
      "text/html": [
       "<div>\n",
       "<style scoped>\n",
       "    .dataframe tbody tr th:only-of-type {\n",
       "        vertical-align: middle;\n",
       "    }\n",
       "\n",
       "    .dataframe tbody tr th {\n",
       "        vertical-align: top;\n",
       "    }\n",
       "\n",
       "    .dataframe thead th {\n",
       "        text-align: right;\n",
       "    }\n",
       "</style>\n",
       "<table border=\"1\" class=\"dataframe\">\n",
       "  <thead>\n",
       "    <tr style=\"text-align: right;\">\n",
       "      <th>debt</th>\n",
       "      <th>0</th>\n",
       "      <th>1</th>\n",
       "      <th>rate</th>\n",
       "    </tr>\n",
       "    <tr>\n",
       "      <th>purpose_category</th>\n",
       "      <th></th>\n",
       "      <th></th>\n",
       "      <th></th>\n",
       "    </tr>\n",
       "  </thead>\n",
       "  <tbody>\n",
       "    <tr>\n",
       "      <th>операции с автомобилем</th>\n",
       "      <td>3881</td>\n",
       "      <td>400</td>\n",
       "      <td>0.093436</td>\n",
       "    </tr>\n",
       "    <tr>\n",
       "      <th>операции с недвижимостью</th>\n",
       "      <td>9974</td>\n",
       "      <td>780</td>\n",
       "      <td>0.072531</td>\n",
       "    </tr>\n",
       "    <tr>\n",
       "      <th>получение образования</th>\n",
       "      <td>3620</td>\n",
       "      <td>369</td>\n",
       "      <td>0.092504</td>\n",
       "    </tr>\n",
       "    <tr>\n",
       "      <th>проведение свадьбы</th>\n",
       "      <td>2141</td>\n",
       "      <td>183</td>\n",
       "      <td>0.078744</td>\n",
       "    </tr>\n",
       "  </tbody>\n",
       "</table>\n",
       "</div>"
      ],
      "text/plain": [
       "debt                         0    1      rate\n",
       "purpose_category                             \n",
       "операции с автомобилем    3881  400  0.093436\n",
       "операции с недвижимостью  9974  780  0.072531\n",
       "получение образования     3620  369  0.092504\n",
       "проведение свадьбы        2141  183  0.078744"
      ]
     },
     "execution_count": 37,
     "metadata": {},
     "output_type": "execute_result"
    }
   ],
   "source": [
    "purpose_debitors_pivot = data.pivot_table(index = 'purpose_category', columns = 'debt', values = 'total_income', aggfunc = 'count')\n",
    "purpose_debitors_pivot['rate'] = purpose_debitors_pivot[1] / purpose_debitors\n",
    "purpose_debitors_pivot"
   ]
  },
  {
   "cell_type": "markdown",
   "id": "60f379ad",
   "metadata": {},
   "source": [
    "Вывод столбчатой диаграммы для наглядного отображения результатов"
   ]
  },
  {
   "cell_type": "code",
   "execution_count": 38,
   "id": "cc7e513f",
   "metadata": {},
   "outputs": [
    {
     "data": {
      "text/plain": [
       "Text(0.5, 0, 'Количество клиентов с задолженностью')"
      ]
     },
     "execution_count": 38,
     "metadata": {},
     "output_type": "execute_result"
    },
    {
     "data": {
      "image/png": "[encoded data removed]",
      "text/plain": [
       "<Figure size 432x288 with 1 Axes>"
      ]
     },
     "metadata": {
      "needs_background": "light"
     },
     "output_type": "display_data"
    }
   ],
   "source": [
    "purpose_barplot = seaborn.barplot(x = data.groupby('purpose_category')['debt'].count(), y = ['операции с автомобилем', 'операции с недвижимостью', 'получение образования', 'проведение свадьбы'])\n",
    "purpose_barplot.axes.set_title('Зависимость между целью кредита и возвратом кредита в срок')\n",
    "purpose_barplot.set_xlabel('Количество клиентов с задолженностью')"
   ]
  },
  {
   "cell_type": "markdown",
   "id": "df58b066",
   "metadata": {},
   "source": [
    "Вывод столбчатой диаграммы для отображения результатов вероятности задолженности среди групп"
   ]
  },
  {
   "cell_type": "code",
   "execution_count": 39,
   "id": "9b227d5c",
   "metadata": {},
   "outputs": [
    {
     "data": {
      "text/plain": [
       "Text(0.5, 0, 'Доля клиентов с задолженностью')"
      ]
     },
     "execution_count": 39,
     "metadata": {},
     "output_type": "execute_result"
    },
    {
     "data": {
      "image/png": "[encoded data removed]",
      "text/plain": [
       "<Figure size 432x288 with 1 Axes>"
      ]
     },
     "metadata": {
      "needs_background": "light"
     },
     "output_type": "display_data"
    }
   ],
   "source": [
    "purpose_debitors_pivot_barplot = seaborn.barplot(x = purpose_debitors_pivot['rate'], y = ['операции с автомобилем', 'операции с недвижимостью', 'получение образования', 'проведение свадьбы'])\n",
    "purpose_debitors_pivot_barplot.axes.set_title('Зависимость между целью кредита и возвратом кредита в срок')\n",
    "purpose_debitors_pivot_barplot.set_xlabel('Доля клиентов с задолженностью')"
   ]
  },
  {
   "cell_type": "markdown",
   "id": "b4bb2ce6",
   "metadata": {
    "id": "b4bb2ce6"
   },
   "source": [
    "**Вывод:** Из диаграммы выше следует, что кредиты, взятые на цели операций с недвижимостью, клиенты чаще не возвращают в срок, чем кредиты, взятые на другие цели - здесь количество клиентов, имеющих задолженность, значительно больше.\n",
    "\n",
    "По кредитам, взятым для проведения свадьбы, количество должников наименьшее.\n",
    "\n",
    "В два раза больше задолженностей по кредитам, взятым для целей проведения операций с автомобилями и получения образования."
   ]
  },
  {
   "cell_type": "markdown",
   "id": "09c3ac4c",
   "metadata": {
    "id": "09c3ac4c"
   },
   "source": [
    "**Возможные причины появления пропусков в исходных данных.**"
   ]
  },
  {
   "cell_type": "markdown",
   "id": "9da2ceda",
   "metadata": {
    "id": "9da2ceda"
   },
   "source": [
    "Причины могут быть следующими:\n",
    "1. Ошибки при выгрузке данных;\n",
    "2. Ошибки при преобразовании данных из одного типа в другой;\n",
    "3. Ошибки при внесении данных в базы сотрудниками банка (невнесение данных);\n",
    "4. Непредоставление данных клиентами;\n",
    "5. Отсутствие данных как таковых.\n",
    "\n",
    "Однако, учитывая, что пропуски данных относятся к трудовому стажу и ежемесячному доходу, вероятность причин №№ 4 и 5 крайне низка, т.к. без этих данных банк вряд ли выдаст кредит клиенту."
   ]
  },
  {
   "cell_type": "markdown",
   "id": "7b0487d6",
   "metadata": {
    "id": "7b0487d6"
   },
   "source": [
    "**Почему заполнить пропуски медианным значением — лучшее решение для количественных переменных.**"
   ]
  },
  {
   "cell_type": "markdown",
   "id": "7ecf2b8e",
   "metadata": {
    "id": "7ecf2b8e"
   },
   "source": [
    "При заполнении пропусков средним значением можно сильно исказить результаты исследования, т.к. в данных могут встречаться аномальные значения, значительным образом влияющие непосредственно на средние значения даже при небольшом их количестве. Медианное значение отражает более объективную информацию, поскольку ровно по половине значений будет меньше и больше медианы."
   ]
  },
  {
   "cell_type": "markdown",
   "id": "6db5255a",
   "metadata": {
    "id": "6db5255a"
   },
   "source": [
    "## Общий вывод."
   ]
  },
  {
   "cell_type": "markdown",
   "id": "bad65432",
   "metadata": {
    "id": "bad65432"
   },
   "source": [
    "Результаты проведённого исследования показывают, что платёжеспособность клиентов банка на основании предоставленных данных зависит от нескольких факторов - семейного положения, количества детей, уровня дохода, цели кредита. \n",
    "\n",
    "Для каждого из факторов существуют явно выделющиеся категории клиентов как с наиболее низкой платёжеспособностью, а именно:\n",
    "1. Клиенты, не имеющие детей;\n",
    "2. Клиенты, состоящие в браке;\n",
    "3. Клиенты, имеющие средний уровень дохода (от 50 001 руб. до 200 000 руб.);\n",
    "4. Клиенты, берущие кредиты для осуществления операций с недвижимостью;\n",
    "\n",
    "Так и категории наиболее платёжеспособных клиентов:\n",
    "1. Семьи с большим количеством детей (от 3-х и более);\n",
    "2. Клиенты, находящиеся в разводе и вдовы/вдовцы;\n",
    "3. Клиенты, имеющие уровень дохода до 50 000 руб. и свыше 1 000 000 руб.;\n",
    "4. Клиенты, берущие кредиты для проведения свадеб.\n",
    "\n",
    "Таким образом, рассматривая совокупность данных о потенциальном клиенте в разрезе результатов проведённого анализа можно довольно точно оценить уровень его платёжеспособности."
   ]
  }
 ],
 "metadata": {
  "ExecuteTimeLog": [
   {
    "duration": 76,
    "start_time": "2022-06-16T07:30:33.131Z"
   },
   {
    "duration": 601,
    "start_time": "2022-06-16T07:30:42.478Z"
   },
   {
    "duration": 40,
    "start_time": "2022-06-16T07:30:43.082Z"
   },
   {
    "duration": 17,
    "start_time": "2022-06-16T07:30:43.124Z"
   },
   {
    "duration": 27,
    "start_time": "2022-06-16T07:30:43.145Z"
   },
   {
    "duration": 72,
    "start_time": "2022-06-16T07:30:43.174Z"
   },
   {
    "duration": 6,
    "start_time": "2022-06-16T07:30:43.248Z"
   },
   {
    "duration": 50,
    "start_time": "2022-06-16T07:30:43.257Z"
   },
   {
    "duration": 15,
    "start_time": "2022-06-16T07:30:43.309Z"
   },
   {
    "duration": 16,
    "start_time": "2022-06-16T07:30:43.327Z"
   },
   {
    "duration": 21,
    "start_time": "2022-06-16T07:30:43.348Z"
   },
   {
    "duration": 76,
    "start_time": "2022-06-16T07:30:43.371Z"
   },
   {
    "duration": 15,
    "start_time": "2022-06-16T07:30:43.448Z"
   },
   {
    "duration": 30,
    "start_time": "2022-06-16T07:30:43.467Z"
   },
   {
    "duration": 37,
    "start_time": "2022-06-16T07:30:43.499Z"
   },
   {
    "duration": 19,
    "start_time": "2022-06-16T07:30:43.537Z"
   },
   {
    "duration": 26,
    "start_time": "2022-06-16T07:30:43.558Z"
   },
   {
    "duration": 6,
    "start_time": "2022-06-16T07:30:43.587Z"
   },
   {
    "duration": 21,
    "start_time": "2022-06-16T07:30:43.595Z"
   },
   {
    "duration": 11,
    "start_time": "2022-06-16T07:30:43.619Z"
   },
   {
    "duration": 9,
    "start_time": "2022-06-16T07:30:43.633Z"
   },
   {
    "duration": 91,
    "start_time": "2022-06-16T07:30:43.643Z"
   },
   {
    "duration": 17,
    "start_time": "2022-06-16T07:30:43.736Z"
   },
   {
    "duration": 42,
    "start_time": "2022-06-16T07:30:43.755Z"
   },
   {
    "duration": 16,
    "start_time": "2022-06-16T07:30:43.801Z"
   },
   {
    "duration": 9,
    "start_time": "2022-06-16T07:30:43.820Z"
   },
   {
    "duration": 5,
    "start_time": "2022-06-16T07:30:48.648Z"
   },
   {
    "duration": 489,
    "start_time": "2022-06-16T07:31:09.824Z"
   },
   {
    "duration": 27,
    "start_time": "2022-06-16T07:31:10.316Z"
   },
   {
    "duration": 32,
    "start_time": "2022-06-16T07:31:10.345Z"
   },
   {
    "duration": 13,
    "start_time": "2022-06-16T07:31:10.381Z"
   },
   {
    "duration": 45,
    "start_time": "2022-06-16T07:31:10.395Z"
   },
   {
    "duration": 21,
    "start_time": "2022-06-16T07:31:10.441Z"
   },
   {
    "duration": 34,
    "start_time": "2022-06-16T07:31:10.463Z"
   },
   {
    "duration": 6,
    "start_time": "2022-06-16T07:31:10.500Z"
   },
   {
    "duration": 10,
    "start_time": "2022-06-16T07:31:10.508Z"
   },
   {
    "duration": 7,
    "start_time": "2022-06-16T07:31:10.520Z"
   },
   {
    "duration": 60,
    "start_time": "2022-06-16T07:31:10.529Z"
   },
   {
    "duration": 10,
    "start_time": "2022-06-16T07:31:10.591Z"
   },
   {
    "duration": 8,
    "start_time": "2022-06-16T07:31:10.603Z"
   },
   {
    "duration": 21,
    "start_time": "2022-06-16T07:31:10.613Z"
   },
   {
    "duration": 46,
    "start_time": "2022-06-16T07:31:10.636Z"
   },
   {
    "duration": 16,
    "start_time": "2022-06-16T07:31:10.684Z"
   },
   {
    "duration": 6,
    "start_time": "2022-06-16T07:31:10.702Z"
   },
   {
    "duration": 15,
    "start_time": "2022-06-16T07:31:10.710Z"
   },
   {
    "duration": 10,
    "start_time": "2022-06-16T07:31:10.727Z"
   },
   {
    "duration": 14,
    "start_time": "2022-06-16T07:31:10.763Z"
   },
   {
    "duration": 14,
    "start_time": "2022-06-16T07:31:10.780Z"
   },
   {
    "duration": 3,
    "start_time": "2022-06-16T07:31:10.797Z"
   },
   {
    "duration": 9,
    "start_time": "2022-06-16T07:31:10.802Z"
   },
   {
    "duration": 8,
    "start_time": "2022-06-16T07:31:10.813Z"
   },
   {
    "duration": 4,
    "start_time": "2022-06-16T07:31:10.823Z"
   },
   {
    "duration": 5,
    "start_time": "2022-06-16T07:31:45.477Z"
   },
   {
    "duration": 19,
    "start_time": "2022-06-16T07:32:00.778Z"
   },
   {
    "duration": 20,
    "start_time": "2022-06-16T07:34:18.633Z"
   },
   {
    "duration": 5,
    "start_time": "2022-06-16T07:36:19.486Z"
   },
   {
    "duration": 35,
    "start_time": "2022-06-16T07:39:54.111Z"
   },
   {
    "duration": 1147,
    "start_time": "2022-06-16T07:47:00.392Z"
   },
   {
    "duration": 6,
    "start_time": "2022-06-16T07:48:06.221Z"
   },
   {
    "duration": 8,
    "start_time": "2022-06-16T07:48:17.521Z"
   },
   {
    "duration": 7,
    "start_time": "2022-06-16T07:48:24.809Z"
   },
   {
    "duration": 113,
    "start_time": "2022-06-16T07:50:00.457Z"
   },
   {
    "duration": 136,
    "start_time": "2022-06-16T07:53:31.285Z"
   },
   {
    "duration": 16,
    "start_time": "2022-06-16T07:56:09.269Z"
   },
   {
    "duration": 638,
    "start_time": "2022-06-16T07:57:01.817Z"
   },
   {
    "duration": 25,
    "start_time": "2022-06-16T07:57:02.457Z"
   },
   {
    "duration": 19,
    "start_time": "2022-06-16T07:57:02.484Z"
   },
   {
    "duration": 32,
    "start_time": "2022-06-16T07:57:02.504Z"
   },
   {
    "duration": 46,
    "start_time": "2022-06-16T07:57:02.538Z"
   },
   {
    "duration": 5,
    "start_time": "2022-06-16T07:57:02.586Z"
   },
   {
    "duration": 14,
    "start_time": "2022-06-16T07:57:02.592Z"
   },
   {
    "duration": 5,
    "start_time": "2022-06-16T07:57:02.608Z"
   },
   {
    "duration": 10,
    "start_time": "2022-06-16T07:57:02.614Z"
   },
   {
    "duration": 4,
    "start_time": "2022-06-16T07:57:02.626Z"
   },
   {
    "duration": 36,
    "start_time": "2022-06-16T07:57:02.659Z"
   },
   {
    "duration": 11,
    "start_time": "2022-06-16T07:57:02.697Z"
   },
   {
    "duration": 6,
    "start_time": "2022-06-16T07:57:02.709Z"
   },
   {
    "duration": 52,
    "start_time": "2022-06-16T07:57:02.718Z"
   },
   {
    "duration": 19,
    "start_time": "2022-06-16T07:57:02.772Z"
   },
   {
    "duration": 13,
    "start_time": "2022-06-16T07:57:02.792Z"
   },
   {
    "duration": 11,
    "start_time": "2022-06-16T07:57:02.806Z"
   },
   {
    "duration": 44,
    "start_time": "2022-06-16T07:57:02.819Z"
   },
   {
    "duration": 9,
    "start_time": "2022-06-16T07:57:02.865Z"
   },
   {
    "duration": 4,
    "start_time": "2022-06-16T07:57:02.876Z"
   },
   {
    "duration": 14,
    "start_time": "2022-06-16T07:57:02.882Z"
   },
   {
    "duration": 19,
    "start_time": "2022-06-16T07:57:02.898Z"
   },
   {
    "duration": 3,
    "start_time": "2022-06-16T07:57:02.919Z"
   },
   {
    "duration": 35,
    "start_time": "2022-06-16T07:57:02.924Z"
   },
   {
    "duration": 3,
    "start_time": "2022-06-16T07:57:02.961Z"
   },
   {
    "duration": 499,
    "start_time": "2022-06-16T07:57:22.766Z"
   },
   {
    "duration": 34,
    "start_time": "2022-06-16T07:57:23.268Z"
   },
   {
    "duration": 18,
    "start_time": "2022-06-16T07:57:23.304Z"
   },
   {
    "duration": 13,
    "start_time": "2022-06-16T07:57:23.325Z"
   },
   {
    "duration": 49,
    "start_time": "2022-06-16T07:57:23.360Z"
   },
   {
    "duration": 3,
    "start_time": "2022-06-16T07:57:23.411Z"
   },
   {
    "duration": 12,
    "start_time": "2022-06-16T07:57:23.416Z"
   },
   {
    "duration": 30,
    "start_time": "2022-06-16T07:57:23.430Z"
   },
   {
    "duration": 7,
    "start_time": "2022-06-16T07:57:23.462Z"
   },
   {
    "duration": 6,
    "start_time": "2022-06-16T07:57:23.472Z"
   },
   {
    "duration": 41,
    "start_time": "2022-06-16T07:57:23.480Z"
   },
   {
    "duration": 36,
    "start_time": "2022-06-16T07:57:23.522Z"
   },
   {
    "duration": 4,
    "start_time": "2022-06-16T07:57:23.560Z"
   },
   {
    "duration": 27,
    "start_time": "2022-06-16T07:57:23.566Z"
   },
   {
    "duration": 29,
    "start_time": "2022-06-16T07:57:23.596Z"
   },
   {
    "duration": 42,
    "start_time": "2022-06-16T07:57:23.628Z"
   },
   {
    "duration": 5,
    "start_time": "2022-06-16T07:57:23.673Z"
   },
   {
    "duration": 34,
    "start_time": "2022-06-16T07:57:23.681Z"
   },
   {
    "duration": 15,
    "start_time": "2022-06-16T07:57:23.718Z"
   },
   {
    "duration": 26,
    "start_time": "2022-06-16T07:57:23.736Z"
   },
   {
    "duration": 32,
    "start_time": "2022-06-16T07:57:23.764Z"
   },
   {
    "duration": 16,
    "start_time": "2022-06-16T07:57:23.799Z"
   },
   {
    "duration": 7,
    "start_time": "2022-06-16T07:57:23.820Z"
   },
   {
    "duration": 5,
    "start_time": "2022-06-16T07:57:23.829Z"
   },
   {
    "duration": 5,
    "start_time": "2022-06-16T07:57:23.835Z"
   },
   {
    "duration": 7,
    "start_time": "2022-06-16T07:58:33.034Z"
   },
   {
    "duration": 42,
    "start_time": "2022-06-16T07:59:32.200Z"
   },
   {
    "duration": 986,
    "start_time": "2022-06-16T08:01:05.713Z"
   },
   {
    "duration": 606,
    "start_time": "2022-06-16T08:10:25.486Z"
   },
   {
    "duration": 24,
    "start_time": "2022-06-16T08:10:43.446Z"
   },
   {
    "duration": 18,
    "start_time": "2022-06-16T08:11:03.410Z"
   },
   {
    "duration": 12,
    "start_time": "2022-06-16T08:11:15.504Z"
   },
   {
    "duration": 13,
    "start_time": "2022-06-16T08:11:30.087Z"
   },
   {
    "duration": 8,
    "start_time": "2022-06-16T08:11:58.865Z"
   },
   {
    "duration": 5,
    "start_time": "2022-06-16T08:12:00.735Z"
   },
   {
    "duration": 10,
    "start_time": "2022-06-16T08:12:02.439Z"
   },
   {
    "duration": 15,
    "start_time": "2022-06-16T08:18:58.874Z"
   },
   {
    "duration": 539,
    "start_time": "2022-06-16T08:19:23.832Z"
   },
   {
    "duration": 24,
    "start_time": "2022-06-16T08:19:24.374Z"
   },
   {
    "duration": 20,
    "start_time": "2022-06-16T08:19:24.400Z"
   },
   {
    "duration": 13,
    "start_time": "2022-06-16T08:19:24.423Z"
   },
   {
    "duration": 39,
    "start_time": "2022-06-16T08:19:24.459Z"
   },
   {
    "duration": 4,
    "start_time": "2022-06-16T08:19:24.500Z"
   },
   {
    "duration": 12,
    "start_time": "2022-06-16T08:19:24.506Z"
   },
   {
    "duration": 5,
    "start_time": "2022-06-16T08:19:24.520Z"
   },
   {
    "duration": 37,
    "start_time": "2022-06-16T08:19:24.526Z"
   },
   {
    "duration": 4,
    "start_time": "2022-06-16T08:19:24.567Z"
   },
   {
    "duration": 38,
    "start_time": "2022-06-16T08:19:24.573Z"
   },
   {
    "duration": 45,
    "start_time": "2022-06-16T08:19:24.613Z"
   },
   {
    "duration": 5,
    "start_time": "2022-06-16T08:19:24.660Z"
   },
   {
    "duration": 32,
    "start_time": "2022-06-16T08:19:24.667Z"
   },
   {
    "duration": 19,
    "start_time": "2022-06-16T08:19:24.701Z"
   },
   {
    "duration": 36,
    "start_time": "2022-06-16T08:19:24.722Z"
   },
   {
    "duration": 5,
    "start_time": "2022-06-16T08:19:24.760Z"
   },
   {
    "duration": 27,
    "start_time": "2022-06-16T08:19:24.767Z"
   },
   {
    "duration": 9,
    "start_time": "2022-06-16T08:19:24.797Z"
   },
   {
    "duration": 5,
    "start_time": "2022-06-16T08:19:24.808Z"
   },
   {
    "duration": 19,
    "start_time": "2022-06-16T08:19:24.815Z"
   },
   {
    "duration": 23,
    "start_time": "2022-06-16T08:19:24.837Z"
   },
   {
    "duration": 893,
    "start_time": "2022-06-16T08:19:24.862Z"
   },
   {
    "duration": 18,
    "start_time": "2022-06-16T08:19:25.759Z"
   },
   {
    "duration": 3,
    "start_time": "2022-06-16T08:19:25.779Z"
   },
   {
    "duration": 14,
    "start_time": "2022-06-16T08:19:25.784Z"
   },
   {
    "duration": 9,
    "start_time": "2022-06-16T08:20:37.801Z"
   },
   {
    "duration": 120,
    "start_time": "2022-06-16T08:21:27.877Z"
   },
   {
    "duration": 39,
    "start_time": "2022-06-16T08:42:51.443Z"
   },
   {
    "duration": 7,
    "start_time": "2022-06-16T08:43:19.908Z"
   },
   {
    "duration": 151,
    "start_time": "2022-06-16T08:44:23.244Z"
   },
   {
    "duration": 9,
    "start_time": "2022-06-16T08:51:42.948Z"
   },
   {
    "duration": 151,
    "start_time": "2022-06-16T08:52:49.592Z"
   },
   {
    "duration": 130,
    "start_time": "2022-06-16T08:52:58.905Z"
   },
   {
    "duration": 22,
    "start_time": "2022-06-16T08:53:31.390Z"
   },
   {
    "duration": 163,
    "start_time": "2022-06-16T08:53:44.432Z"
   },
   {
    "duration": 119,
    "start_time": "2022-06-16T08:53:54.130Z"
   },
   {
    "duration": 16,
    "start_time": "2022-06-16T08:54:24.207Z"
   },
   {
    "duration": 139,
    "start_time": "2022-06-16T08:54:32.256Z"
   },
   {
    "duration": 37,
    "start_time": "2022-06-16T08:55:09.831Z"
   },
   {
    "duration": 141,
    "start_time": "2022-06-16T08:55:24.326Z"
   },
   {
    "duration": 485,
    "start_time": "2022-06-16T11:35:23.387Z"
   },
   {
    "duration": 20,
    "start_time": "2022-06-16T11:35:23.873Z"
   },
   {
    "duration": 31,
    "start_time": "2022-06-16T11:35:23.894Z"
   },
   {
    "duration": 8,
    "start_time": "2022-06-16T11:35:23.927Z"
   },
   {
    "duration": 44,
    "start_time": "2022-06-16T11:35:23.936Z"
   },
   {
    "duration": 2,
    "start_time": "2022-06-16T11:35:23.982Z"
   },
   {
    "duration": 12,
    "start_time": "2022-06-16T11:35:23.986Z"
   },
   {
    "duration": 22,
    "start_time": "2022-06-16T11:35:23.999Z"
   },
   {
    "duration": 18,
    "start_time": "2022-06-16T11:35:24.023Z"
   },
   {
    "duration": 23,
    "start_time": "2022-06-16T11:35:24.043Z"
   },
   {
    "duration": 36,
    "start_time": "2022-06-16T11:35:24.068Z"
   },
   {
    "duration": 8,
    "start_time": "2022-06-16T11:35:24.106Z"
   },
   {
    "duration": 5,
    "start_time": "2022-06-16T11:35:24.115Z"
   },
   {
    "duration": 36,
    "start_time": "2022-06-16T11:35:24.121Z"
   },
   {
    "duration": 16,
    "start_time": "2022-06-16T11:35:24.159Z"
   },
   {
    "duration": 20,
    "start_time": "2022-06-16T11:35:24.176Z"
   },
   {
    "duration": 30,
    "start_time": "2022-06-16T11:35:24.198Z"
   },
   {
    "duration": 30,
    "start_time": "2022-06-16T11:35:24.229Z"
   },
   {
    "duration": 19,
    "start_time": "2022-06-16T11:35:24.261Z"
   },
   {
    "duration": 18,
    "start_time": "2022-06-16T11:35:24.281Z"
   },
   {
    "duration": 32,
    "start_time": "2022-06-16T11:35:24.300Z"
   },
   {
    "duration": 12,
    "start_time": "2022-06-16T11:35:24.334Z"
   },
   {
    "duration": 889,
    "start_time": "2022-06-16T11:35:24.347Z"
   },
   {
    "duration": 16,
    "start_time": "2022-06-16T11:35:25.238Z"
   },
   {
    "duration": 12,
    "start_time": "2022-06-16T11:35:25.256Z"
   },
   {
    "duration": 106,
    "start_time": "2022-06-16T11:35:25.269Z"
   },
   {
    "duration": 14,
    "start_time": "2022-06-16T11:35:25.377Z"
   },
   {
    "duration": 125,
    "start_time": "2022-06-16T11:35:25.393Z"
   },
   {
    "duration": 6,
    "start_time": "2022-06-16T11:35:25.520Z"
   },
   {
    "duration": 122,
    "start_time": "2022-06-16T11:35:25.528Z"
   },
   {
    "duration": 1729,
    "start_time": "2022-06-16T12:29:50.372Z"
   },
   {
    "duration": 21,
    "start_time": "2022-06-16T12:29:52.103Z"
   },
   {
    "duration": 31,
    "start_time": "2022-06-16T12:29:52.126Z"
   },
   {
    "duration": 20,
    "start_time": "2022-06-16T12:29:52.159Z"
   },
   {
    "duration": 82,
    "start_time": "2022-06-16T12:29:52.182Z"
   },
   {
    "duration": 4,
    "start_time": "2022-06-16T12:29:52.267Z"
   },
   {
    "duration": 18,
    "start_time": "2022-06-16T12:29:52.273Z"
   },
   {
    "duration": 7,
    "start_time": "2022-06-16T12:29:52.294Z"
   },
   {
    "duration": 17,
    "start_time": "2022-06-16T12:29:52.302Z"
   },
   {
    "duration": 17,
    "start_time": "2022-06-16T12:29:52.321Z"
   },
   {
    "duration": 44,
    "start_time": "2022-06-16T12:29:52.340Z"
   },
   {
    "duration": 17,
    "start_time": "2022-06-16T12:29:52.386Z"
   },
   {
    "duration": 15,
    "start_time": "2022-06-16T12:29:52.404Z"
   },
   {
    "duration": 38,
    "start_time": "2022-06-16T12:29:52.422Z"
   },
   {
    "duration": 47,
    "start_time": "2022-06-16T12:29:52.462Z"
   },
   {
    "duration": 16,
    "start_time": "2022-06-16T12:29:52.511Z"
   },
   {
    "duration": 12,
    "start_time": "2022-06-16T12:29:52.530Z"
   },
   {
    "duration": 15,
    "start_time": "2022-06-16T12:29:52.544Z"
   },
   {
    "duration": 10,
    "start_time": "2022-06-16T12:29:52.561Z"
   },
   {
    "duration": 27,
    "start_time": "2022-06-16T12:29:52.573Z"
   },
   {
    "duration": 15,
    "start_time": "2022-06-16T12:29:52.602Z"
   },
   {
    "duration": 12,
    "start_time": "2022-06-16T12:29:52.620Z"
   },
   {
    "duration": 162,
    "start_time": "2022-06-16T12:29:52.635Z"
   },
   {
    "duration": 15,
    "start_time": "2022-06-16T12:29:52.798Z"
   },
   {
    "duration": 86,
    "start_time": "2022-06-16T12:29:52.814Z"
   },
   {
    "duration": 155,
    "start_time": "2022-06-16T12:29:52.902Z"
   },
   {
    "duration": 8,
    "start_time": "2022-06-16T12:29:53.059Z"
   },
   {
    "duration": 162,
    "start_time": "2022-06-16T12:29:53.071Z"
   },
   {
    "duration": 9,
    "start_time": "2022-06-16T12:29:53.239Z"
   },
   {
    "duration": 229,
    "start_time": "2022-06-16T12:29:53.249Z"
   },
   {
    "duration": 19,
    "start_time": "2022-06-16T12:31:50.389Z"
   },
   {
    "duration": 8,
    "start_time": "2022-06-16T12:34:17.970Z"
   },
   {
    "duration": 23,
    "start_time": "2022-06-16T12:34:47.363Z"
   },
   {
    "duration": 7,
    "start_time": "2022-06-16T12:35:11.767Z"
   },
   {
    "duration": 5,
    "start_time": "2022-06-16T12:35:29.928Z"
   },
   {
    "duration": 37,
    "start_time": "2022-06-16T12:35:52.809Z"
   },
   {
    "duration": 22,
    "start_time": "2022-06-16T12:35:57.371Z"
   },
   {
    "duration": 23,
    "start_time": "2022-06-16T12:36:02.360Z"
   },
   {
    "duration": 6,
    "start_time": "2022-06-16T12:36:49.766Z"
   },
   {
    "duration": 30,
    "start_time": "2022-06-16T12:37:58.298Z"
   },
   {
    "duration": 8,
    "start_time": "2022-06-16T12:38:04.058Z"
   },
   {
    "duration": 188,
    "start_time": "2022-06-16T12:42:30.555Z"
   },
   {
    "duration": 160,
    "start_time": "2022-06-16T12:42:46.164Z"
   },
   {
    "duration": 1316,
    "start_time": "2022-06-16T12:42:52.463Z"
   },
   {
    "duration": 27,
    "start_time": "2022-06-16T12:42:53.782Z"
   },
   {
    "duration": 23,
    "start_time": "2022-06-16T12:42:53.812Z"
   },
   {
    "duration": 16,
    "start_time": "2022-06-16T12:42:53.837Z"
   },
   {
    "duration": 78,
    "start_time": "2022-06-16T12:42:53.856Z"
   },
   {
    "duration": 4,
    "start_time": "2022-06-16T12:42:53.937Z"
   },
   {
    "duration": 18,
    "start_time": "2022-06-16T12:42:53.944Z"
   },
   {
    "duration": 5,
    "start_time": "2022-06-16T12:42:53.964Z"
   },
   {
    "duration": 29,
    "start_time": "2022-06-16T12:42:53.971Z"
   },
   {
    "duration": 16,
    "start_time": "2022-06-16T12:42:54.002Z"
   },
   {
    "duration": 55,
    "start_time": "2022-06-16T12:42:54.020Z"
   },
   {
    "duration": 24,
    "start_time": "2022-06-16T12:42:54.078Z"
   },
   {
    "duration": 6,
    "start_time": "2022-06-16T12:42:54.104Z"
   },
   {
    "duration": 30,
    "start_time": "2022-06-16T12:42:54.114Z"
   },
   {
    "duration": 48,
    "start_time": "2022-06-16T12:42:54.147Z"
   },
   {
    "duration": 14,
    "start_time": "2022-06-16T12:42:54.197Z"
   },
   {
    "duration": 9,
    "start_time": "2022-06-16T12:42:54.214Z"
   },
   {
    "duration": 22,
    "start_time": "2022-06-16T12:42:54.225Z"
   },
   {
    "duration": 22,
    "start_time": "2022-06-16T12:42:54.250Z"
   },
   {
    "duration": 24,
    "start_time": "2022-06-16T12:42:54.274Z"
   },
   {
    "duration": 16,
    "start_time": "2022-06-16T12:42:54.300Z"
   },
   {
    "duration": 11,
    "start_time": "2022-06-16T12:42:54.318Z"
   },
   {
    "duration": 11,
    "start_time": "2022-06-16T12:42:54.331Z"
   },
   {
    "duration": 164,
    "start_time": "2022-06-16T12:42:54.345Z"
   },
   {
    "duration": 19,
    "start_time": "2022-06-16T12:42:54.511Z"
   },
   {
    "duration": 9,
    "start_time": "2022-06-16T12:42:54.533Z"
   },
   {
    "duration": 194,
    "start_time": "2022-06-16T12:42:54.544Z"
   },
   {
    "duration": 10,
    "start_time": "2022-06-16T12:42:54.740Z"
   },
   {
    "duration": 156,
    "start_time": "2022-06-16T12:42:54.752Z"
   },
   {
    "duration": 9,
    "start_time": "2022-06-16T12:42:54.910Z"
   },
   {
    "duration": 157,
    "start_time": "2022-06-16T12:42:54.921Z"
   },
   {
    "duration": 209,
    "start_time": "2022-06-16T12:44:30.191Z"
   },
   {
    "duration": 282,
    "start_time": "2022-06-16T12:47:46.341Z"
   },
   {
    "duration": 162,
    "start_time": "2022-06-16T12:48:08.181Z"
   },
   {
    "duration": 142,
    "start_time": "2022-06-16T12:49:48.446Z"
   },
   {
    "duration": 130,
    "start_time": "2022-06-16T12:50:44.890Z"
   },
   {
    "duration": 296,
    "start_time": "2022-06-16T12:54:09.017Z"
   },
   {
    "duration": 147,
    "start_time": "2022-06-16T12:54:37.356Z"
   },
   {
    "duration": 214,
    "start_time": "2022-06-16T12:55:47.948Z"
   },
   {
    "duration": 10,
    "start_time": "2022-06-16T12:58:05.012Z"
   },
   {
    "duration": 5,
    "start_time": "2022-06-16T12:58:13.447Z"
   },
   {
    "duration": 8,
    "start_time": "2022-06-16T12:58:21.809Z"
   },
   {
    "duration": 21,
    "start_time": "2022-06-16T12:58:25.105Z"
   },
   {
    "duration": 1282,
    "start_time": "2022-06-16T12:59:14.275Z"
   },
   {
    "duration": 22,
    "start_time": "2022-06-16T12:59:15.560Z"
   },
   {
    "duration": 26,
    "start_time": "2022-06-16T12:59:15.584Z"
   },
   {
    "duration": 11,
    "start_time": "2022-06-16T12:59:15.613Z"
   },
   {
    "duration": 44,
    "start_time": "2022-06-16T12:59:15.626Z"
   },
   {
    "duration": 4,
    "start_time": "2022-06-16T12:59:15.672Z"
   },
   {
    "duration": 8,
    "start_time": "2022-06-16T12:59:15.695Z"
   },
   {
    "duration": 11,
    "start_time": "2022-06-16T12:59:15.704Z"
   },
   {
    "duration": 9,
    "start_time": "2022-06-16T12:59:15.717Z"
   },
   {
    "duration": 5,
    "start_time": "2022-06-16T12:59:15.729Z"
   },
   {
    "duration": 68,
    "start_time": "2022-06-16T12:59:15.736Z"
   },
   {
    "duration": 12,
    "start_time": "2022-06-16T12:59:15.806Z"
   },
   {
    "duration": 5,
    "start_time": "2022-06-16T12:59:15.820Z"
   },
   {
    "duration": 26,
    "start_time": "2022-06-16T12:59:15.827Z"
   },
   {
    "duration": 43,
    "start_time": "2022-06-16T12:59:15.855Z"
   },
   {
    "duration": 13,
    "start_time": "2022-06-16T12:59:15.900Z"
   },
   {
    "duration": 22,
    "start_time": "2022-06-16T12:59:15.915Z"
   },
   {
    "duration": 18,
    "start_time": "2022-06-16T12:59:15.939Z"
   },
   {
    "duration": 16,
    "start_time": "2022-06-16T12:59:15.959Z"
   },
   {
    "duration": 4,
    "start_time": "2022-06-16T12:59:15.978Z"
   },
   {
    "duration": 20,
    "start_time": "2022-06-16T12:59:15.984Z"
   },
   {
    "duration": 34,
    "start_time": "2022-06-16T12:59:16.008Z"
   },
   {
    "duration": 22,
    "start_time": "2022-06-16T12:59:16.044Z"
   },
   {
    "duration": 260,
    "start_time": "2022-06-16T12:59:16.068Z"
   },
   {
    "duration": 21,
    "start_time": "2022-06-16T12:59:16.331Z"
   },
   {
    "duration": 8,
    "start_time": "2022-06-16T12:59:16.354Z"
   },
   {
    "duration": 165,
    "start_time": "2022-06-16T12:59:16.365Z"
   },
   {
    "duration": 0,
    "start_time": "2022-06-16T12:59:16.532Z"
   },
   {
    "duration": 0,
    "start_time": "2022-06-16T12:59:16.534Z"
   },
   {
    "duration": 0,
    "start_time": "2022-06-16T12:59:16.535Z"
   },
   {
    "duration": 0,
    "start_time": "2022-06-16T12:59:16.536Z"
   },
   {
    "duration": 0,
    "start_time": "2022-06-16T12:59:16.538Z"
   },
   {
    "duration": 7,
    "start_time": "2022-06-16T13:01:06.081Z"
   },
   {
    "duration": 155,
    "start_time": "2022-06-16T13:01:15.112Z"
   },
   {
    "duration": 131,
    "start_time": "2022-06-16T13:03:56.730Z"
   },
   {
    "duration": 181,
    "start_time": "2022-06-16T13:04:17.360Z"
   },
   {
    "duration": 1205,
    "start_time": "2022-06-16T13:05:23.854Z"
   },
   {
    "duration": 21,
    "start_time": "2022-06-16T13:05:25.061Z"
   },
   {
    "duration": 18,
    "start_time": "2022-06-16T13:05:25.083Z"
   },
   {
    "duration": 10,
    "start_time": "2022-06-16T13:05:25.104Z"
   },
   {
    "duration": 40,
    "start_time": "2022-06-16T13:05:25.116Z"
   },
   {
    "duration": 4,
    "start_time": "2022-06-16T13:05:25.158Z"
   },
   {
    "duration": 32,
    "start_time": "2022-06-16T13:05:25.163Z"
   },
   {
    "duration": 4,
    "start_time": "2022-06-16T13:05:25.197Z"
   },
   {
    "duration": 9,
    "start_time": "2022-06-16T13:05:25.203Z"
   },
   {
    "duration": 7,
    "start_time": "2022-06-16T13:05:25.215Z"
   },
   {
    "duration": 77,
    "start_time": "2022-06-16T13:05:25.224Z"
   },
   {
    "duration": 11,
    "start_time": "2022-06-16T13:05:25.303Z"
   },
   {
    "duration": 9,
    "start_time": "2022-06-16T13:05:25.315Z"
   },
   {
    "duration": 22,
    "start_time": "2022-06-16T13:05:25.325Z"
   },
   {
    "duration": 17,
    "start_time": "2022-06-16T13:05:25.349Z"
   },
   {
    "duration": 35,
    "start_time": "2022-06-16T13:05:25.368Z"
   },
   {
    "duration": 7,
    "start_time": "2022-06-16T13:05:25.405Z"
   },
   {
    "duration": 13,
    "start_time": "2022-06-16T13:05:25.413Z"
   },
   {
    "duration": 5,
    "start_time": "2022-06-16T13:05:25.428Z"
   },
   {
    "duration": 7,
    "start_time": "2022-06-16T13:05:25.435Z"
   },
   {
    "duration": 14,
    "start_time": "2022-06-16T13:05:25.444Z"
   },
   {
    "duration": 9,
    "start_time": "2022-06-16T13:05:25.460Z"
   },
   {
    "duration": 6,
    "start_time": "2022-06-16T13:05:25.495Z"
   },
   {
    "duration": 183,
    "start_time": "2022-06-16T13:05:25.503Z"
   },
   {
    "duration": 7,
    "start_time": "2022-06-16T13:05:25.695Z"
   },
   {
    "duration": 13,
    "start_time": "2022-06-16T13:05:25.704Z"
   },
   {
    "duration": 164,
    "start_time": "2022-06-16T13:05:25.719Z"
   },
   {
    "duration": 22,
    "start_time": "2022-06-16T13:05:25.886Z"
   },
   {
    "duration": 7,
    "start_time": "2022-06-16T13:05:25.910Z"
   },
   {
    "duration": 160,
    "start_time": "2022-06-16T13:05:25.919Z"
   },
   {
    "duration": 17,
    "start_time": "2022-06-16T13:05:26.081Z"
   },
   {
    "duration": 159,
    "start_time": "2022-06-16T13:05:26.102Z"
   },
   {
    "duration": 8,
    "start_time": "2022-06-16T13:09:16.603Z"
   },
   {
    "duration": 7,
    "start_time": "2022-06-16T13:10:02.406Z"
   },
   {
    "duration": 152,
    "start_time": "2022-06-16T13:11:28.466Z"
   },
   {
    "duration": 9,
    "start_time": "2022-06-16T13:12:23.893Z"
   },
   {
    "duration": 6,
    "start_time": "2022-06-16T13:14:23.536Z"
   },
   {
    "duration": 174,
    "start_time": "2022-06-16T13:16:33.889Z"
   },
   {
    "duration": 27,
    "start_time": "2022-06-16T13:26:58.104Z"
   },
   {
    "duration": 111,
    "start_time": "2022-06-16T13:34:53.580Z"
   },
   {
    "duration": 6,
    "start_time": "2022-06-16T13:34:58.612Z"
   },
   {
    "duration": 5,
    "start_time": "2022-06-16T13:36:16.293Z"
   },
   {
    "duration": 9,
    "start_time": "2022-06-16T13:36:22.075Z"
   },
   {
    "duration": 9,
    "start_time": "2022-06-16T13:36:35.649Z"
   },
   {
    "duration": 8,
    "start_time": "2022-06-16T13:36:45.392Z"
   },
   {
    "duration": 12,
    "start_time": "2022-06-16T13:37:09.955Z"
   },
   {
    "duration": 14,
    "start_time": "2022-06-16T13:37:18.125Z"
   },
   {
    "duration": 7,
    "start_time": "2022-06-16T13:38:30.209Z"
   },
   {
    "duration": 19,
    "start_time": "2022-06-16T13:40:10.503Z"
   },
   {
    "duration": 13,
    "start_time": "2022-06-16T13:40:31.457Z"
   },
   {
    "duration": 6,
    "start_time": "2022-06-16T13:40:53.357Z"
   },
   {
    "duration": 21,
    "start_time": "2022-06-16T13:41:01.796Z"
   },
   {
    "duration": 18,
    "start_time": "2022-06-16T13:41:26.015Z"
   },
   {
    "duration": 8,
    "start_time": "2022-06-16T13:41:28.862Z"
   },
   {
    "duration": 7,
    "start_time": "2022-06-16T13:42:19.982Z"
   },
   {
    "duration": 5,
    "start_time": "2022-06-16T13:42:22.193Z"
   },
   {
    "duration": 4,
    "start_time": "2022-06-16T13:46:57.084Z"
   },
   {
    "duration": 10,
    "start_time": "2022-06-16T13:47:01.017Z"
   },
   {
    "duration": 6,
    "start_time": "2022-06-16T13:47:13.052Z"
   },
   {
    "duration": 8,
    "start_time": "2022-06-16T13:47:20.953Z"
   },
   {
    "duration": 31,
    "start_time": "2022-06-16T13:48:40.389Z"
   },
   {
    "duration": 7,
    "start_time": "2022-06-16T13:52:29.135Z"
   },
   {
    "duration": 9,
    "start_time": "2022-06-16T13:52:33.256Z"
   },
   {
    "duration": 8,
    "start_time": "2022-06-16T13:54:07.424Z"
   },
   {
    "duration": 16,
    "start_time": "2022-06-16T13:54:12.253Z"
   },
   {
    "duration": 26,
    "start_time": "2022-06-16T13:56:44.418Z"
   },
   {
    "duration": 13,
    "start_time": "2022-06-16T13:56:56.118Z"
   },
   {
    "duration": 11,
    "start_time": "2022-06-16T13:57:03.183Z"
   },
   {
    "duration": 15,
    "start_time": "2022-06-16T13:57:11.720Z"
   },
   {
    "duration": 15,
    "start_time": "2022-06-16T13:57:33.748Z"
   },
   {
    "duration": 17,
    "start_time": "2022-06-16T14:01:46.169Z"
   },
   {
    "duration": 16,
    "start_time": "2022-06-16T14:02:49.314Z"
   },
   {
    "duration": 14,
    "start_time": "2022-06-16T14:03:43.714Z"
   },
   {
    "duration": 1290,
    "start_time": "2022-06-16T14:03:59.549Z"
   },
   {
    "duration": 21,
    "start_time": "2022-06-16T14:04:00.841Z"
   },
   {
    "duration": 20,
    "start_time": "2022-06-16T14:04:00.864Z"
   },
   {
    "duration": 11,
    "start_time": "2022-06-16T14:04:00.895Z"
   },
   {
    "duration": 44,
    "start_time": "2022-06-16T14:04:00.908Z"
   },
   {
    "duration": 5,
    "start_time": "2022-06-16T14:04:00.954Z"
   },
   {
    "duration": 28,
    "start_time": "2022-06-16T14:04:00.960Z"
   },
   {
    "duration": 5,
    "start_time": "2022-06-16T14:04:00.993Z"
   },
   {
    "duration": 20,
    "start_time": "2022-06-16T14:04:01.001Z"
   },
   {
    "duration": 23,
    "start_time": "2022-06-16T14:04:01.025Z"
   },
   {
    "duration": 57,
    "start_time": "2022-06-16T14:04:01.051Z"
   },
   {
    "duration": 16,
    "start_time": "2022-06-16T14:04:01.110Z"
   },
   {
    "duration": 17,
    "start_time": "2022-06-16T14:04:01.128Z"
   },
   {
    "duration": 40,
    "start_time": "2022-06-16T14:04:01.147Z"
   },
   {
    "duration": 45,
    "start_time": "2022-06-16T14:04:01.190Z"
   },
   {
    "duration": 18,
    "start_time": "2022-06-16T14:04:01.237Z"
   },
   {
    "duration": 23,
    "start_time": "2022-06-16T14:04:01.258Z"
   },
   {
    "duration": 45,
    "start_time": "2022-06-16T14:04:01.283Z"
   },
   {
    "duration": 42,
    "start_time": "2022-06-16T14:04:01.330Z"
   },
   {
    "duration": 18,
    "start_time": "2022-06-16T14:04:01.375Z"
   },
   {
    "duration": 35,
    "start_time": "2022-06-16T14:04:01.395Z"
   },
   {
    "duration": 33,
    "start_time": "2022-06-16T14:04:01.433Z"
   },
   {
    "duration": 37,
    "start_time": "2022-06-16T14:04:01.468Z"
   },
   {
    "duration": 179,
    "start_time": "2022-06-16T14:04:01.507Z"
   },
   {
    "duration": 10,
    "start_time": "2022-06-16T14:04:01.689Z"
   },
   {
    "duration": 17,
    "start_time": "2022-06-16T14:04:01.701Z"
   },
   {
    "duration": 182,
    "start_time": "2022-06-16T14:04:01.720Z"
   },
   {
    "duration": 20,
    "start_time": "2022-06-16T14:04:01.905Z"
   },
   {
    "duration": 15,
    "start_time": "2022-06-16T14:04:01.927Z"
   },
   {
    "duration": 40,
    "start_time": "2022-06-16T14:04:01.944Z"
   },
   {
    "duration": 211,
    "start_time": "2022-06-16T14:04:01.993Z"
   },
   {
    "duration": 11,
    "start_time": "2022-06-16T14:04:02.206Z"
   },
   {
    "duration": 31,
    "start_time": "2022-06-16T14:04:02.218Z"
   },
   {
    "duration": 161,
    "start_time": "2022-06-16T14:04:02.252Z"
   },
   {
    "duration": 15,
    "start_time": "2022-06-16T14:04:26.643Z"
   },
   {
    "duration": 15,
    "start_time": "2022-06-16T14:04:43.763Z"
   },
   {
    "duration": 1191,
    "start_time": "2022-06-16T14:05:07.142Z"
   },
   {
    "duration": 26,
    "start_time": "2022-06-16T14:05:08.335Z"
   },
   {
    "duration": 40,
    "start_time": "2022-06-16T14:05:08.362Z"
   },
   {
    "duration": 16,
    "start_time": "2022-06-16T14:05:08.404Z"
   },
   {
    "duration": 34,
    "start_time": "2022-06-16T14:05:08.422Z"
   },
   {
    "duration": 4,
    "start_time": "2022-06-16T14:05:08.458Z"
   },
   {
    "duration": 36,
    "start_time": "2022-06-16T14:05:08.463Z"
   },
   {
    "duration": 4,
    "start_time": "2022-06-16T14:05:08.501Z"
   },
   {
    "duration": 9,
    "start_time": "2022-06-16T14:05:08.507Z"
   },
   {
    "duration": 12,
    "start_time": "2022-06-16T14:05:08.518Z"
   },
   {
    "duration": 36,
    "start_time": "2022-06-16T14:05:08.531Z"
   },
   {
    "duration": 29,
    "start_time": "2022-06-16T14:05:08.569Z"
   },
   {
    "duration": 6,
    "start_time": "2022-06-16T14:05:08.600Z"
   },
   {
    "duration": 23,
    "start_time": "2022-06-16T14:05:08.609Z"
   },
   {
    "duration": 17,
    "start_time": "2022-06-16T14:05:08.634Z"
   },
   {
    "duration": 11,
    "start_time": "2022-06-16T14:05:08.652Z"
   },
   {
    "duration": 31,
    "start_time": "2022-06-16T14:05:08.665Z"
   },
   {
    "duration": 19,
    "start_time": "2022-06-16T14:05:08.698Z"
   },
   {
    "duration": 9,
    "start_time": "2022-06-16T14:05:08.720Z"
   },
   {
    "duration": 7,
    "start_time": "2022-06-16T14:05:08.731Z"
   },
   {
    "duration": 18,
    "start_time": "2022-06-16T14:05:08.739Z"
   },
   {
    "duration": 40,
    "start_time": "2022-06-16T14:05:08.758Z"
   },
   {
    "duration": 243,
    "start_time": "2022-06-16T14:05:08.800Z"
   },
   {
    "duration": 20,
    "start_time": "2022-06-16T14:05:09.048Z"
   },
   {
    "duration": 189,
    "start_time": "2022-06-16T14:05:09.070Z"
   },
   {
    "duration": 17,
    "start_time": "2022-06-16T14:05:09.261Z"
   },
   {
    "duration": 19,
    "start_time": "2022-06-16T14:05:09.280Z"
   },
   {
    "duration": 13,
    "start_time": "2022-06-16T14:05:09.301Z"
   },
   {
    "duration": 169,
    "start_time": "2022-06-16T14:05:09.316Z"
   },
   {
    "duration": 13,
    "start_time": "2022-06-16T14:05:09.487Z"
   },
   {
    "duration": 7,
    "start_time": "2022-06-16T14:05:09.501Z"
   },
   {
    "duration": 177,
    "start_time": "2022-06-16T14:05:09.510Z"
   },
   {
    "duration": 105,
    "start_time": "2022-06-16T14:07:07.071Z"
   },
   {
    "duration": 13,
    "start_time": "2022-06-16T14:07:13.593Z"
   },
   {
    "duration": 13,
    "start_time": "2022-06-16T14:08:37.854Z"
   },
   {
    "duration": 13,
    "start_time": "2022-06-16T14:13:31.132Z"
   },
   {
    "duration": 13,
    "start_time": "2022-06-16T14:13:46.336Z"
   },
   {
    "duration": 14,
    "start_time": "2022-06-16T14:13:55.210Z"
   },
   {
    "duration": 15,
    "start_time": "2022-06-16T14:14:45.909Z"
   },
   {
    "duration": 13,
    "start_time": "2022-06-16T14:14:52.517Z"
   },
   {
    "duration": 8,
    "start_time": "2022-06-16T14:18:17.440Z"
   },
   {
    "duration": 6,
    "start_time": "2022-06-16T14:19:33.878Z"
   },
   {
    "duration": 8,
    "start_time": "2022-06-16T14:28:44.562Z"
   },
   {
    "duration": 6,
    "start_time": "2022-06-16T14:29:03.877Z"
   },
   {
    "duration": 6,
    "start_time": "2022-06-16T14:29:40.977Z"
   },
   {
    "duration": 4,
    "start_time": "2022-06-16T14:30:29.291Z"
   },
   {
    "duration": 6,
    "start_time": "2022-06-16T14:30:36.986Z"
   },
   {
    "duration": 10,
    "start_time": "2022-06-16T14:31:06.554Z"
   },
   {
    "duration": 7,
    "start_time": "2022-06-16T14:31:29.340Z"
   },
   {
    "duration": 1949,
    "start_time": "2022-06-17T06:42:23.100Z"
   },
   {
    "duration": 29,
    "start_time": "2022-06-17T06:42:25.056Z"
   },
   {
    "duration": 24,
    "start_time": "2022-06-17T06:42:25.087Z"
   },
   {
    "duration": 21,
    "start_time": "2022-06-17T06:42:25.115Z"
   },
   {
    "duration": 94,
    "start_time": "2022-06-17T06:42:25.138Z"
   },
   {
    "duration": 22,
    "start_time": "2022-06-17T06:42:25.238Z"
   },
   {
    "duration": 26,
    "start_time": "2022-06-17T06:42:25.267Z"
   },
   {
    "duration": 10,
    "start_time": "2022-06-17T06:42:25.299Z"
   },
   {
    "duration": 27,
    "start_time": "2022-06-17T06:42:25.311Z"
   },
   {
    "duration": 22,
    "start_time": "2022-06-17T06:42:25.343Z"
   },
   {
    "duration": 47,
    "start_time": "2022-06-17T06:42:25.367Z"
   },
   {
    "duration": 22,
    "start_time": "2022-06-17T06:42:25.415Z"
   },
   {
    "duration": 9,
    "start_time": "2022-06-17T06:42:25.449Z"
   },
   {
    "duration": 39,
    "start_time": "2022-06-17T06:42:25.472Z"
   },
   {
    "duration": 31,
    "start_time": "2022-06-17T06:42:25.513Z"
   },
   {
    "duration": 19,
    "start_time": "2022-06-17T06:42:25.546Z"
   },
   {
    "duration": 23,
    "start_time": "2022-06-17T06:42:25.567Z"
   },
   {
    "duration": 26,
    "start_time": "2022-06-17T06:42:25.592Z"
   },
   {
    "duration": 11,
    "start_time": "2022-06-17T06:42:25.620Z"
   },
   {
    "duration": 34,
    "start_time": "2022-06-17T06:42:25.635Z"
   },
   {
    "duration": 15,
    "start_time": "2022-06-17T06:42:25.672Z"
   },
   {
    "duration": 16,
    "start_time": "2022-06-17T06:42:25.689Z"
   },
   {
    "duration": 9,
    "start_time": "2022-06-17T06:42:25.707Z"
   },
   {
    "duration": 224,
    "start_time": "2022-06-17T06:42:25.718Z"
   },
   {
    "duration": 15,
    "start_time": "2022-06-17T06:42:25.947Z"
   },
   {
    "duration": 19,
    "start_time": "2022-06-17T06:42:25.965Z"
   },
   {
    "duration": 175,
    "start_time": "2022-06-17T06:42:25.986Z"
   },
   {
    "duration": 20,
    "start_time": "2022-06-17T06:42:26.168Z"
   },
   {
    "duration": 22,
    "start_time": "2022-06-17T06:42:26.191Z"
   },
   {
    "duration": 10,
    "start_time": "2022-06-17T06:42:26.216Z"
   },
   {
    "duration": 212,
    "start_time": "2022-06-17T06:42:26.231Z"
   },
   {
    "duration": 17,
    "start_time": "2022-06-17T06:42:26.448Z"
   },
   {
    "duration": 32,
    "start_time": "2022-06-17T06:42:26.467Z"
   },
   {
    "duration": 189,
    "start_time": "2022-06-17T06:42:26.501Z"
   },
   {
    "duration": 20,
    "start_time": "2022-06-17T06:46:09.043Z"
   },
   {
    "duration": 70,
    "start_time": "2022-06-17T07:06:19.295Z"
   },
   {
    "duration": 22,
    "start_time": "2022-06-17T07:06:24.527Z"
   },
   {
    "duration": 22,
    "start_time": "2022-06-17T07:07:49.113Z"
   },
   {
    "duration": 16,
    "start_time": "2022-06-17T07:08:00.521Z"
   },
   {
    "duration": 42,
    "start_time": "2022-06-17T12:43:19.297Z"
   },
   {
    "duration": 1249,
    "start_time": "2022-06-17T12:43:38.508Z"
   },
   {
    "duration": 18,
    "start_time": "2022-06-17T12:43:39.758Z"
   },
   {
    "duration": 14,
    "start_time": "2022-06-17T12:43:39.777Z"
   },
   {
    "duration": 7,
    "start_time": "2022-06-17T12:43:39.793Z"
   },
   {
    "duration": 29,
    "start_time": "2022-06-17T12:43:39.802Z"
   },
   {
    "duration": 3,
    "start_time": "2022-06-17T12:43:39.832Z"
   },
   {
    "duration": 9,
    "start_time": "2022-06-17T12:43:39.836Z"
   },
   {
    "duration": 5,
    "start_time": "2022-06-17T12:43:39.846Z"
   },
   {
    "duration": 7,
    "start_time": "2022-06-17T12:43:39.852Z"
   },
   {
    "duration": 4,
    "start_time": "2022-06-17T12:43:39.861Z"
   },
   {
    "duration": 48,
    "start_time": "2022-06-17T12:43:39.866Z"
   },
   {
    "duration": 8,
    "start_time": "2022-06-17T12:43:39.916Z"
   },
   {
    "duration": 4,
    "start_time": "2022-06-17T12:43:39.925Z"
   },
   {
    "duration": 19,
    "start_time": "2022-06-17T12:43:39.930Z"
   },
   {
    "duration": 15,
    "start_time": "2022-06-17T12:43:39.950Z"
   },
   {
    "duration": 9,
    "start_time": "2022-06-17T12:43:39.966Z"
   },
   {
    "duration": 19,
    "start_time": "2022-06-17T12:43:39.976Z"
   },
   {
    "duration": 14,
    "start_time": "2022-06-17T12:43:39.996Z"
   },
   {
    "duration": 6,
    "start_time": "2022-06-17T12:43:40.011Z"
   },
   {
    "duration": 30,
    "start_time": "2022-06-17T12:43:40.018Z"
   },
   {
    "duration": 29,
    "start_time": "2022-06-17T12:43:40.050Z"
   },
   {
    "duration": 6,
    "start_time": "2022-06-17T12:43:40.081Z"
   },
   {
    "duration": 17,
    "start_time": "2022-06-17T12:43:40.089Z"
   },
   {
    "duration": 134,
    "start_time": "2022-06-17T12:43:40.107Z"
   },
   {
    "duration": 102,
    "start_time": "2022-06-17T12:43:40.243Z"
   },
   {
    "duration": 0,
    "start_time": "2022-06-17T12:43:40.346Z"
   },
   {
    "duration": 0,
    "start_time": "2022-06-17T12:43:40.348Z"
   },
   {
    "duration": 0,
    "start_time": "2022-06-17T12:43:40.349Z"
   },
   {
    "duration": 0,
    "start_time": "2022-06-17T12:43:40.350Z"
   },
   {
    "duration": 0,
    "start_time": "2022-06-17T12:43:40.350Z"
   },
   {
    "duration": 0,
    "start_time": "2022-06-17T12:43:40.352Z"
   },
   {
    "duration": 0,
    "start_time": "2022-06-17T12:43:40.353Z"
   },
   {
    "duration": 0,
    "start_time": "2022-06-17T12:43:40.354Z"
   },
   {
    "duration": 1,
    "start_time": "2022-06-17T12:43:40.354Z"
   },
   {
    "duration": 0,
    "start_time": "2022-06-17T12:43:40.356Z"
   },
   {
    "duration": 16,
    "start_time": "2022-06-17T12:44:49.881Z"
   },
   {
    "duration": 13,
    "start_time": "2022-06-17T12:45:20.649Z"
   },
   {
    "duration": 10,
    "start_time": "2022-06-17T12:48:43.941Z"
   },
   {
    "duration": 15,
    "start_time": "2022-06-17T12:51:24.333Z"
   },
   {
    "duration": 14,
    "start_time": "2022-06-17T12:55:52.912Z"
   },
   {
    "duration": 12,
    "start_time": "2022-06-17T12:56:09.425Z"
   },
   {
    "duration": 17,
    "start_time": "2022-06-17T12:56:47.798Z"
   },
   {
    "duration": 10,
    "start_time": "2022-06-17T13:00:18.037Z"
   },
   {
    "duration": 5,
    "start_time": "2022-06-17T13:00:24.033Z"
   },
   {
    "duration": 4,
    "start_time": "2022-06-17T13:00:48.733Z"
   },
   {
    "duration": 375,
    "start_time": "2022-06-17T13:01:57.637Z"
   },
   {
    "duration": 367,
    "start_time": "2022-06-17T13:02:43.482Z"
   },
   {
    "duration": 18,
    "start_time": "2022-06-17T13:02:50.385Z"
   },
   {
    "duration": 11,
    "start_time": "2022-06-17T13:03:15.070Z"
   },
   {
    "duration": 17,
    "start_time": "2022-06-17T13:03:20.904Z"
   },
   {
    "duration": 35,
    "start_time": "2022-06-17T13:05:20.669Z"
   },
   {
    "duration": 28,
    "start_time": "2022-06-17T13:05:36.475Z"
   },
   {
    "duration": 100,
    "start_time": "2022-06-17T13:05:41.948Z"
   },
   {
    "duration": 139,
    "start_time": "2022-06-17T13:07:27.972Z"
   },
   {
    "duration": 17,
    "start_time": "2022-06-17T13:11:19.846Z"
   },
   {
    "duration": 5,
    "start_time": "2022-06-17T13:11:30.577Z"
   },
   {
    "duration": 15,
    "start_time": "2022-06-17T13:11:33.152Z"
   },
   {
    "duration": 1058,
    "start_time": "2022-06-17T13:11:41.759Z"
   },
   {
    "duration": 17,
    "start_time": "2022-06-17T13:11:42.818Z"
   },
   {
    "duration": 13,
    "start_time": "2022-06-17T13:11:42.836Z"
   },
   {
    "duration": 8,
    "start_time": "2022-06-17T13:11:42.850Z"
   },
   {
    "duration": 47,
    "start_time": "2022-06-17T13:11:42.859Z"
   },
   {
    "duration": 4,
    "start_time": "2022-06-17T13:11:42.907Z"
   },
   {
    "duration": 13,
    "start_time": "2022-06-17T13:11:42.912Z"
   },
   {
    "duration": 5,
    "start_time": "2022-06-17T13:11:42.926Z"
   },
   {
    "duration": 9,
    "start_time": "2022-06-17T13:11:42.932Z"
   },
   {
    "duration": 3,
    "start_time": "2022-06-17T13:11:42.943Z"
   },
   {
    "duration": 30,
    "start_time": "2022-06-17T13:11:42.947Z"
   },
   {
    "duration": 22,
    "start_time": "2022-06-17T13:11:42.978Z"
   },
   {
    "duration": 4,
    "start_time": "2022-06-17T13:11:43.001Z"
   },
   {
    "duration": 18,
    "start_time": "2022-06-17T13:11:43.006Z"
   },
   {
    "duration": 13,
    "start_time": "2022-06-17T13:11:43.026Z"
   },
   {
    "duration": 9,
    "start_time": "2022-06-17T13:11:43.040Z"
   },
   {
    "duration": 9,
    "start_time": "2022-06-17T13:11:43.051Z"
   },
   {
    "duration": 10,
    "start_time": "2022-06-17T13:11:43.061Z"
   },
   {
    "duration": 23,
    "start_time": "2022-06-17T13:11:43.073Z"
   },
   {
    "duration": 3,
    "start_time": "2022-06-17T13:11:43.098Z"
   },
   {
    "duration": 10,
    "start_time": "2022-06-17T13:11:43.103Z"
   },
   {
    "duration": 9,
    "start_time": "2022-06-17T13:11:43.115Z"
   },
   {
    "duration": 23,
    "start_time": "2022-06-17T13:11:43.125Z"
   },
   {
    "duration": 141,
    "start_time": "2022-06-17T13:11:43.150Z"
   },
   {
    "duration": 129,
    "start_time": "2022-06-17T13:11:43.294Z"
   },
   {
    "duration": 5,
    "start_time": "2022-06-17T13:11:43.425Z"
   },
   {
    "duration": 23,
    "start_time": "2022-06-17T13:11:43.431Z"
   },
   {
    "duration": 126,
    "start_time": "2022-06-17T13:11:43.458Z"
   },
   {
    "duration": 17,
    "start_time": "2022-06-17T13:11:43.585Z"
   },
   {
    "duration": 5,
    "start_time": "2022-06-17T13:11:43.603Z"
   },
   {
    "duration": 5,
    "start_time": "2022-06-17T13:11:43.609Z"
   },
   {
    "duration": 142,
    "start_time": "2022-06-17T13:11:43.615Z"
   },
   {
    "duration": 8,
    "start_time": "2022-06-17T13:11:43.759Z"
   },
   {
    "duration": 9,
    "start_time": "2022-06-17T13:11:43.769Z"
   },
   {
    "duration": 141,
    "start_time": "2022-06-17T13:11:43.779Z"
   },
   {
    "duration": 94,
    "start_time": "2022-06-17T13:14:14.893Z"
   },
   {
    "duration": 1111,
    "start_time": "2022-06-17T13:15:41.734Z"
   },
   {
    "duration": 18,
    "start_time": "2022-06-17T13:15:42.847Z"
   },
   {
    "duration": 22,
    "start_time": "2022-06-17T13:15:42.867Z"
   },
   {
    "duration": 21,
    "start_time": "2022-06-17T13:15:42.890Z"
   },
   {
    "duration": 35,
    "start_time": "2022-06-17T13:15:42.912Z"
   },
   {
    "duration": 3,
    "start_time": "2022-06-17T13:15:42.949Z"
   },
   {
    "duration": 20,
    "start_time": "2022-06-17T13:15:42.953Z"
   },
   {
    "duration": 16,
    "start_time": "2022-06-17T13:15:42.975Z"
   },
   {
    "duration": 19,
    "start_time": "2022-06-17T13:15:42.993Z"
   },
   {
    "duration": 21,
    "start_time": "2022-06-17T13:15:43.015Z"
   },
   {
    "duration": 40,
    "start_time": "2022-06-17T13:15:43.038Z"
   },
   {
    "duration": 8,
    "start_time": "2022-06-17T13:15:43.079Z"
   },
   {
    "duration": 29,
    "start_time": "2022-06-17T13:15:43.088Z"
   },
   {
    "duration": 26,
    "start_time": "2022-06-17T13:15:43.119Z"
   },
   {
    "duration": 15,
    "start_time": "2022-06-17T13:15:43.146Z"
   },
   {
    "duration": 9,
    "start_time": "2022-06-17T13:15:43.162Z"
   },
   {
    "duration": 11,
    "start_time": "2022-06-17T13:15:43.173Z"
   },
   {
    "duration": 11,
    "start_time": "2022-06-17T13:15:43.185Z"
   },
   {
    "duration": 5,
    "start_time": "2022-06-17T13:15:43.198Z"
   },
   {
    "duration": 6,
    "start_time": "2022-06-17T13:15:43.204Z"
   },
   {
    "duration": 10,
    "start_time": "2022-06-17T13:15:43.212Z"
   },
   {
    "duration": 19,
    "start_time": "2022-06-17T13:15:43.224Z"
   },
   {
    "duration": 22,
    "start_time": "2022-06-17T13:15:43.245Z"
   },
   {
    "duration": 139,
    "start_time": "2022-06-17T13:15:43.269Z"
   },
   {
    "duration": 155,
    "start_time": "2022-06-17T13:15:43.410Z"
   },
   {
    "duration": 7,
    "start_time": "2022-06-17T13:15:43.566Z"
   },
   {
    "duration": 30,
    "start_time": "2022-06-17T13:15:43.574Z"
   },
   {
    "duration": 146,
    "start_time": "2022-06-17T13:15:43.607Z"
   },
   {
    "duration": 11,
    "start_time": "2022-06-17T13:15:43.755Z"
   },
   {
    "duration": 127,
    "start_time": "2022-06-17T13:15:43.767Z"
   },
   {
    "duration": 0,
    "start_time": "2022-06-17T13:15:43.896Z"
   },
   {
    "duration": 0,
    "start_time": "2022-06-17T13:15:43.897Z"
   },
   {
    "duration": 0,
    "start_time": "2022-06-17T13:15:43.898Z"
   },
   {
    "duration": 0,
    "start_time": "2022-06-17T13:15:43.899Z"
   },
   {
    "duration": 0,
    "start_time": "2022-06-17T13:15:43.900Z"
   },
   {
    "duration": 0,
    "start_time": "2022-06-17T13:15:43.900Z"
   },
   {
    "duration": 89,
    "start_time": "2022-06-17T13:16:48.489Z"
   },
   {
    "duration": 982,
    "start_time": "2022-06-17T13:16:54.255Z"
   },
   {
    "duration": 17,
    "start_time": "2022-06-17T13:16:55.239Z"
   },
   {
    "duration": 12,
    "start_time": "2022-06-17T13:16:55.257Z"
   },
   {
    "duration": 9,
    "start_time": "2022-06-17T13:16:55.271Z"
   },
   {
    "duration": 28,
    "start_time": "2022-06-17T13:16:55.294Z"
   },
   {
    "duration": 4,
    "start_time": "2022-06-17T13:16:55.324Z"
   },
   {
    "duration": 10,
    "start_time": "2022-06-17T13:16:55.329Z"
   },
   {
    "duration": 5,
    "start_time": "2022-06-17T13:16:55.341Z"
   },
   {
    "duration": 7,
    "start_time": "2022-06-17T13:16:55.348Z"
   },
   {
    "duration": 4,
    "start_time": "2022-06-17T13:16:55.358Z"
   },
   {
    "duration": 53,
    "start_time": "2022-06-17T13:16:55.363Z"
   },
   {
    "duration": 7,
    "start_time": "2022-06-17T13:16:55.418Z"
   },
   {
    "duration": 4,
    "start_time": "2022-06-17T13:16:55.427Z"
   },
   {
    "duration": 22,
    "start_time": "2022-06-17T13:16:55.433Z"
   },
   {
    "duration": 14,
    "start_time": "2022-06-17T13:16:55.457Z"
   },
   {
    "duration": 25,
    "start_time": "2022-06-17T13:16:55.472Z"
   },
   {
    "duration": 5,
    "start_time": "2022-06-17T13:16:55.498Z"
   },
   {
    "duration": 14,
    "start_time": "2022-06-17T13:16:55.504Z"
   },
   {
    "duration": 6,
    "start_time": "2022-06-17T13:16:55.520Z"
   },
   {
    "duration": 6,
    "start_time": "2022-06-17T13:16:55.527Z"
   },
   {
    "duration": 15,
    "start_time": "2022-06-17T13:16:55.534Z"
   },
   {
    "duration": 5,
    "start_time": "2022-06-17T13:16:55.550Z"
   },
   {
    "duration": 39,
    "start_time": "2022-06-17T13:16:55.556Z"
   },
   {
    "duration": 151,
    "start_time": "2022-06-17T13:16:55.597Z"
   },
   {
    "duration": 141,
    "start_time": "2022-06-17T13:16:55.749Z"
   },
   {
    "duration": 5,
    "start_time": "2022-06-17T13:16:55.894Z"
   },
   {
    "duration": 26,
    "start_time": "2022-06-17T13:16:55.901Z"
   },
   {
    "duration": 131,
    "start_time": "2022-06-17T13:16:55.930Z"
   },
   {
    "duration": 9,
    "start_time": "2022-06-17T13:16:56.063Z"
   },
   {
    "duration": 103,
    "start_time": "2022-06-17T13:16:56.074Z"
   },
   {
    "duration": 6,
    "start_time": "2022-06-17T13:16:56.179Z"
   },
   {
    "duration": 11,
    "start_time": "2022-06-17T13:16:56.187Z"
   },
   {
    "duration": 129,
    "start_time": "2022-06-17T13:16:56.199Z"
   },
   {
    "duration": 6,
    "start_time": "2022-06-17T13:16:56.329Z"
   },
   {
    "duration": 4,
    "start_time": "2022-06-17T13:16:56.337Z"
   },
   {
    "duration": 124,
    "start_time": "2022-06-17T13:16:56.342Z"
   },
   {
    "duration": 114,
    "start_time": "2022-06-17T13:31:19.926Z"
   },
   {
    "duration": 125,
    "start_time": "2022-06-17T13:31:34.085Z"
   },
   {
    "duration": 144,
    "start_time": "2022-06-17T13:32:14.085Z"
   },
   {
    "duration": 19,
    "start_time": "2022-06-17T13:33:56.917Z"
   },
   {
    "duration": 196,
    "start_time": "2022-06-17T13:36:12.269Z"
   },
   {
    "duration": 17,
    "start_time": "2022-06-17T13:37:23.455Z"
   },
   {
    "duration": 19,
    "start_time": "2022-06-17T13:38:11.448Z"
   },
   {
    "duration": 122,
    "start_time": "2022-06-17T13:39:47.128Z"
   },
   {
    "duration": 120,
    "start_time": "2022-06-17T13:40:19.603Z"
   },
   {
    "duration": 128,
    "start_time": "2022-06-17T13:40:29.323Z"
   },
   {
    "duration": 115,
    "start_time": "2022-06-17T13:40:36.979Z"
   },
   {
    "duration": 1423,
    "start_time": "2022-06-18T10:46:31.987Z"
   },
   {
    "duration": 18,
    "start_time": "2022-06-18T10:46:33.412Z"
   },
   {
    "duration": 15,
    "start_time": "2022-06-18T10:46:33.431Z"
   },
   {
    "duration": 9,
    "start_time": "2022-06-18T10:46:33.448Z"
   },
   {
    "duration": 35,
    "start_time": "2022-06-18T10:46:33.459Z"
   },
   {
    "duration": 3,
    "start_time": "2022-06-18T10:46:33.496Z"
   },
   {
    "duration": 13,
    "start_time": "2022-06-18T10:46:33.501Z"
   },
   {
    "duration": 9,
    "start_time": "2022-06-18T10:46:33.515Z"
   },
   {
    "duration": 12,
    "start_time": "2022-06-18T10:46:33.525Z"
   },
   {
    "duration": 20,
    "start_time": "2022-06-18T10:46:33.540Z"
   },
   {
    "duration": 43,
    "start_time": "2022-06-18T10:46:33.562Z"
   },
   {
    "duration": 9,
    "start_time": "2022-06-18T10:46:33.607Z"
   },
   {
    "duration": 6,
    "start_time": "2022-06-18T10:46:33.618Z"
   },
   {
    "duration": 41,
    "start_time": "2022-06-18T10:46:33.625Z"
   },
   {
    "duration": 18,
    "start_time": "2022-06-18T10:46:33.669Z"
   },
   {
    "duration": 13,
    "start_time": "2022-06-18T10:46:33.689Z"
   },
   {
    "duration": 18,
    "start_time": "2022-06-18T10:46:33.704Z"
   },
   {
    "duration": 17,
    "start_time": "2022-06-18T10:46:33.724Z"
   },
   {
    "duration": 8,
    "start_time": "2022-06-18T10:46:33.743Z"
   },
   {
    "duration": 4,
    "start_time": "2022-06-18T10:46:33.759Z"
   },
   {
    "duration": 13,
    "start_time": "2022-06-18T10:46:33.765Z"
   },
   {
    "duration": 11,
    "start_time": "2022-06-18T10:46:33.780Z"
   },
   {
    "duration": 30,
    "start_time": "2022-06-18T10:46:33.793Z"
   },
   {
    "duration": 171,
    "start_time": "2022-06-18T10:46:33.825Z"
   },
   {
    "duration": 170,
    "start_time": "2022-06-18T10:46:33.999Z"
   },
   {
    "duration": 7,
    "start_time": "2022-06-18T10:46:34.170Z"
   },
   {
    "duration": 21,
    "start_time": "2022-06-18T10:46:34.178Z"
   },
   {
    "duration": 174,
    "start_time": "2022-06-18T10:46:34.204Z"
   },
   {
    "duration": 15,
    "start_time": "2022-06-18T10:46:34.380Z"
   },
   {
    "duration": 150,
    "start_time": "2022-06-18T10:46:34.397Z"
   },
   {
    "duration": 16,
    "start_time": "2022-06-18T10:46:34.548Z"
   },
   {
    "duration": 22,
    "start_time": "2022-06-18T10:46:34.565Z"
   },
   {
    "duration": 177,
    "start_time": "2022-06-18T10:46:34.589Z"
   },
   {
    "duration": 144,
    "start_time": "2022-06-18T10:46:34.769Z"
   },
   {
    "duration": 7,
    "start_time": "2022-06-18T10:46:34.915Z"
   },
   {
    "duration": 20,
    "start_time": "2022-06-18T10:46:34.924Z"
   },
   {
    "duration": 146,
    "start_time": "2022-06-18T10:46:34.958Z"
   },
   {
    "duration": 120,
    "start_time": "2022-06-18T10:46:35.105Z"
   }
  ],
  "colab": {
   "name": "dpp_template_part2.ipynb",
   "provenance": []
  },
  "kernelspec": {
   "display_name": "Python 3 (ipykernel)",
   "language": "python",
   "name": "python3"
  },
  "language_info": {
   "codemirror_mode": {
    "name": "ipython",
    "version": 3
   },
   "file_extension": ".py",
   "mimetype": "text/x-python",
   "name": "python",
   "nbconvert_exporter": "python",
   "pygments_lexer": "ipython3",
   "version": "3.9.12"
  },
  "toc": {
   "base_numbering": 1,
   "nav_menu": {},
   "number_sections": true,
   "sideBar": true,
   "skip_h1_title": true,
   "title_cell": "Table of Contents",
   "title_sidebar": "Contents",
   "toc_cell": false,
   "toc_position": {},
   "toc_section_display": true,
   "toc_window_display": false
  }
 },
 "nbformat": 4,
 "nbformat_minor": 5
}
